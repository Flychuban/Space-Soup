{
  "nbformat": 4,
  "nbformat_minor": 0,
  "metadata": {
    "colab": {
      "provenance": [],
      "authorship_tag": "ABX9TyN3NvwsncVdwd5ZTlAmnNmy",
      "include_colab_link": true
    },
    "kernelspec": {
      "name": "python3",
      "display_name": "Python 3"
    },
    "language_info": {
      "name": "python"
    },
    "widgets": {
      "application/vnd.jupyter.widget-state+json": {
        "c585406a225f4f0ca53f64b148f95cc2": {
          "model_module": "@jupyter-widgets/controls",
          "model_name": "HBoxModel",
          "model_module_version": "1.5.0",
          "state": {
            "_dom_classes": [],
            "_model_module": "@jupyter-widgets/controls",
            "_model_module_version": "1.5.0",
            "_model_name": "HBoxModel",
            "_view_count": null,
            "_view_module": "@jupyter-widgets/controls",
            "_view_module_version": "1.5.0",
            "_view_name": "HBoxView",
            "box_style": "",
            "children": [
              "IPY_MODEL_4fa3b833f30040d6aefbab6dfa304f5b",
              "IPY_MODEL_340c74d7892a42409c1dc673f608a98f",
              "IPY_MODEL_3531b1e2175d4143b664ae6aa8189c21"
            ],
            "layout": "IPY_MODEL_835656da593b4b1588753d4fb8907273"
          }
        },
        "4fa3b833f30040d6aefbab6dfa304f5b": {
          "model_module": "@jupyter-widgets/controls",
          "model_name": "HTMLModel",
          "model_module_version": "1.5.0",
          "state": {
            "_dom_classes": [],
            "_model_module": "@jupyter-widgets/controls",
            "_model_module_version": "1.5.0",
            "_model_name": "HTMLModel",
            "_view_count": null,
            "_view_module": "@jupyter-widgets/controls",
            "_view_module_version": "1.5.0",
            "_view_name": "HTMLView",
            "description": "",
            "description_tooltip": null,
            "layout": "IPY_MODEL_bbeaa147deeb464492c0636e411bf0be",
            "placeholder": "​",
            "style": "IPY_MODEL_aa28ca1fd88a4289aa18b11dff237f54",
            "value": "Downloading (…)lve/main/config.json: 100%"
          }
        },
        "340c74d7892a42409c1dc673f608a98f": {
          "model_module": "@jupyter-widgets/controls",
          "model_name": "FloatProgressModel",
          "model_module_version": "1.5.0",
          "state": {
            "_dom_classes": [],
            "_model_module": "@jupyter-widgets/controls",
            "_model_module_version": "1.5.0",
            "_model_name": "FloatProgressModel",
            "_view_count": null,
            "_view_module": "@jupyter-widgets/controls",
            "_view_module_version": "1.5.0",
            "_view_name": "ProgressView",
            "bar_style": "success",
            "description": "",
            "description_tooltip": null,
            "layout": "IPY_MODEL_631e4556c2bc49e8a7a61a0307370e07",
            "max": 1802,
            "min": 0,
            "orientation": "horizontal",
            "style": "IPY_MODEL_9147f3302c9742e7a11e26a1aa71f093",
            "value": 1802
          }
        },
        "3531b1e2175d4143b664ae6aa8189c21": {
          "model_module": "@jupyter-widgets/controls",
          "model_name": "HTMLModel",
          "model_module_version": "1.5.0",
          "state": {
            "_dom_classes": [],
            "_model_module": "@jupyter-widgets/controls",
            "_model_module_version": "1.5.0",
            "_model_name": "HTMLModel",
            "_view_count": null,
            "_view_module": "@jupyter-widgets/controls",
            "_view_module_version": "1.5.0",
            "_view_name": "HTMLView",
            "description": "",
            "description_tooltip": null,
            "layout": "IPY_MODEL_79dfd92fff254e62854c4dd15bd7b8e4",
            "placeholder": "​",
            "style": "IPY_MODEL_7d9121880b494035829a1c77234ffed4",
            "value": " 1.80k/1.80k [00:00&lt;00:00, 28.2kB/s]"
          }
        },
        "835656da593b4b1588753d4fb8907273": {
          "model_module": "@jupyter-widgets/base",
          "model_name": "LayoutModel",
          "model_module_version": "1.2.0",
          "state": {
            "_model_module": "@jupyter-widgets/base",
            "_model_module_version": "1.2.0",
            "_model_name": "LayoutModel",
            "_view_count": null,
            "_view_module": "@jupyter-widgets/base",
            "_view_module_version": "1.2.0",
            "_view_name": "LayoutView",
            "align_content": null,
            "align_items": null,
            "align_self": null,
            "border": null,
            "bottom": null,
            "display": null,
            "flex": null,
            "flex_flow": null,
            "grid_area": null,
            "grid_auto_columns": null,
            "grid_auto_flow": null,
            "grid_auto_rows": null,
            "grid_column": null,
            "grid_gap": null,
            "grid_row": null,
            "grid_template_areas": null,
            "grid_template_columns": null,
            "grid_template_rows": null,
            "height": null,
            "justify_content": null,
            "justify_items": null,
            "left": null,
            "margin": null,
            "max_height": null,
            "max_width": null,
            "min_height": null,
            "min_width": null,
            "object_fit": null,
            "object_position": null,
            "order": null,
            "overflow": null,
            "overflow_x": null,
            "overflow_y": null,
            "padding": null,
            "right": null,
            "top": null,
            "visibility": null,
            "width": null
          }
        },
        "bbeaa147deeb464492c0636e411bf0be": {
          "model_module": "@jupyter-widgets/base",
          "model_name": "LayoutModel",
          "model_module_version": "1.2.0",
          "state": {
            "_model_module": "@jupyter-widgets/base",
            "_model_module_version": "1.2.0",
            "_model_name": "LayoutModel",
            "_view_count": null,
            "_view_module": "@jupyter-widgets/base",
            "_view_module_version": "1.2.0",
            "_view_name": "LayoutView",
            "align_content": null,
            "align_items": null,
            "align_self": null,
            "border": null,
            "bottom": null,
            "display": null,
            "flex": null,
            "flex_flow": null,
            "grid_area": null,
            "grid_auto_columns": null,
            "grid_auto_flow": null,
            "grid_auto_rows": null,
            "grid_column": null,
            "grid_gap": null,
            "grid_row": null,
            "grid_template_areas": null,
            "grid_template_columns": null,
            "grid_template_rows": null,
            "height": null,
            "justify_content": null,
            "justify_items": null,
            "left": null,
            "margin": null,
            "max_height": null,
            "max_width": null,
            "min_height": null,
            "min_width": null,
            "object_fit": null,
            "object_position": null,
            "order": null,
            "overflow": null,
            "overflow_x": null,
            "overflow_y": null,
            "padding": null,
            "right": null,
            "top": null,
            "visibility": null,
            "width": null
          }
        },
        "aa28ca1fd88a4289aa18b11dff237f54": {
          "model_module": "@jupyter-widgets/controls",
          "model_name": "DescriptionStyleModel",
          "model_module_version": "1.5.0",
          "state": {
            "_model_module": "@jupyter-widgets/controls",
            "_model_module_version": "1.5.0",
            "_model_name": "DescriptionStyleModel",
            "_view_count": null,
            "_view_module": "@jupyter-widgets/base",
            "_view_module_version": "1.2.0",
            "_view_name": "StyleView",
            "description_width": ""
          }
        },
        "631e4556c2bc49e8a7a61a0307370e07": {
          "model_module": "@jupyter-widgets/base",
          "model_name": "LayoutModel",
          "model_module_version": "1.2.0",
          "state": {
            "_model_module": "@jupyter-widgets/base",
            "_model_module_version": "1.2.0",
            "_model_name": "LayoutModel",
            "_view_count": null,
            "_view_module": "@jupyter-widgets/base",
            "_view_module_version": "1.2.0",
            "_view_name": "LayoutView",
            "align_content": null,
            "align_items": null,
            "align_self": null,
            "border": null,
            "bottom": null,
            "display": null,
            "flex": null,
            "flex_flow": null,
            "grid_area": null,
            "grid_auto_columns": null,
            "grid_auto_flow": null,
            "grid_auto_rows": null,
            "grid_column": null,
            "grid_gap": null,
            "grid_row": null,
            "grid_template_areas": null,
            "grid_template_columns": null,
            "grid_template_rows": null,
            "height": null,
            "justify_content": null,
            "justify_items": null,
            "left": null,
            "margin": null,
            "max_height": null,
            "max_width": null,
            "min_height": null,
            "min_width": null,
            "object_fit": null,
            "object_position": null,
            "order": null,
            "overflow": null,
            "overflow_x": null,
            "overflow_y": null,
            "padding": null,
            "right": null,
            "top": null,
            "visibility": null,
            "width": null
          }
        },
        "9147f3302c9742e7a11e26a1aa71f093": {
          "model_module": "@jupyter-widgets/controls",
          "model_name": "ProgressStyleModel",
          "model_module_version": "1.5.0",
          "state": {
            "_model_module": "@jupyter-widgets/controls",
            "_model_module_version": "1.5.0",
            "_model_name": "ProgressStyleModel",
            "_view_count": null,
            "_view_module": "@jupyter-widgets/base",
            "_view_module_version": "1.2.0",
            "_view_name": "StyleView",
            "bar_color": null,
            "description_width": ""
          }
        },
        "79dfd92fff254e62854c4dd15bd7b8e4": {
          "model_module": "@jupyter-widgets/base",
          "model_name": "LayoutModel",
          "model_module_version": "1.2.0",
          "state": {
            "_model_module": "@jupyter-widgets/base",
            "_model_module_version": "1.2.0",
            "_model_name": "LayoutModel",
            "_view_count": null,
            "_view_module": "@jupyter-widgets/base",
            "_view_module_version": "1.2.0",
            "_view_name": "LayoutView",
            "align_content": null,
            "align_items": null,
            "align_self": null,
            "border": null,
            "bottom": null,
            "display": null,
            "flex": null,
            "flex_flow": null,
            "grid_area": null,
            "grid_auto_columns": null,
            "grid_auto_flow": null,
            "grid_auto_rows": null,
            "grid_column": null,
            "grid_gap": null,
            "grid_row": null,
            "grid_template_areas": null,
            "grid_template_columns": null,
            "grid_template_rows": null,
            "height": null,
            "justify_content": null,
            "justify_items": null,
            "left": null,
            "margin": null,
            "max_height": null,
            "max_width": null,
            "min_height": null,
            "min_width": null,
            "object_fit": null,
            "object_position": null,
            "order": null,
            "overflow": null,
            "overflow_x": null,
            "overflow_y": null,
            "padding": null,
            "right": null,
            "top": null,
            "visibility": null,
            "width": null
          }
        },
        "7d9121880b494035829a1c77234ffed4": {
          "model_module": "@jupyter-widgets/controls",
          "model_name": "DescriptionStyleModel",
          "model_module_version": "1.5.0",
          "state": {
            "_model_module": "@jupyter-widgets/controls",
            "_model_module_version": "1.5.0",
            "_model_name": "DescriptionStyleModel",
            "_view_count": null,
            "_view_module": "@jupyter-widgets/base",
            "_view_module_version": "1.2.0",
            "_view_name": "StyleView",
            "description_width": ""
          }
        },
        "39ed02e02909456ab4b64010f3a335d9": {
          "model_module": "@jupyter-widgets/controls",
          "model_name": "HBoxModel",
          "model_module_version": "1.5.0",
          "state": {
            "_dom_classes": [],
            "_model_module": "@jupyter-widgets/controls",
            "_model_module_version": "1.5.0",
            "_model_name": "HBoxModel",
            "_view_count": null,
            "_view_module": "@jupyter-widgets/controls",
            "_view_module_version": "1.5.0",
            "_view_name": "HBoxView",
            "box_style": "",
            "children": [
              "IPY_MODEL_29aca2991fb5467fb2c68f3cf68b1c3a",
              "IPY_MODEL_4fc0996954fc47acb9529335bc389f9f",
              "IPY_MODEL_6d92b981c23e4c18bc1044b083097b6d"
            ],
            "layout": "IPY_MODEL_d280e5003bce4b699ea61a5095ae82d9"
          }
        },
        "29aca2991fb5467fb2c68f3cf68b1c3a": {
          "model_module": "@jupyter-widgets/controls",
          "model_name": "HTMLModel",
          "model_module_version": "1.5.0",
          "state": {
            "_dom_classes": [],
            "_model_module": "@jupyter-widgets/controls",
            "_model_module_version": "1.5.0",
            "_model_name": "HTMLModel",
            "_view_count": null,
            "_view_module": "@jupyter-widgets/controls",
            "_view_module_version": "1.5.0",
            "_view_name": "HTMLView",
            "description": "",
            "description_tooltip": null,
            "layout": "IPY_MODEL_865ad7fd2d6e40c8a28d99595a0d7549",
            "placeholder": "​",
            "style": "IPY_MODEL_2ce5d165946c41ba92463ce7671b1f3e",
            "value": "Downloading pytorch_model.bin: 100%"
          }
        },
        "4fc0996954fc47acb9529335bc389f9f": {
          "model_module": "@jupyter-widgets/controls",
          "model_name": "FloatProgressModel",
          "model_module_version": "1.5.0",
          "state": {
            "_dom_classes": [],
            "_model_module": "@jupyter-widgets/controls",
            "_model_module_version": "1.5.0",
            "_model_name": "FloatProgressModel",
            "_view_count": null,
            "_view_module": "@jupyter-widgets/controls",
            "_view_module_version": "1.5.0",
            "_view_name": "ProgressView",
            "bar_style": "success",
            "description": "",
            "description_tooltip": null,
            "layout": "IPY_MODEL_5fcd94e00f194a238ad7fc9f5c079e1b",
            "max": 1222317369,
            "min": 0,
            "orientation": "horizontal",
            "style": "IPY_MODEL_7756c2ba725d4ab19a02c4c9cbb2fdf1",
            "value": 1222317369
          }
        },
        "6d92b981c23e4c18bc1044b083097b6d": {
          "model_module": "@jupyter-widgets/controls",
          "model_name": "HTMLModel",
          "model_module_version": "1.5.0",
          "state": {
            "_dom_classes": [],
            "_model_module": "@jupyter-widgets/controls",
            "_model_module_version": "1.5.0",
            "_model_name": "HTMLModel",
            "_view_count": null,
            "_view_module": "@jupyter-widgets/controls",
            "_view_module_version": "1.5.0",
            "_view_name": "HTMLView",
            "description": "",
            "description_tooltip": null,
            "layout": "IPY_MODEL_87d6b6b5ed40432d98a2d4207a787070",
            "placeholder": "​",
            "style": "IPY_MODEL_289b9ff1ffb648369ad4df5d5cffda60",
            "value": " 1.22G/1.22G [00:09&lt;00:00, 111MB/s]"
          }
        },
        "d280e5003bce4b699ea61a5095ae82d9": {
          "model_module": "@jupyter-widgets/base",
          "model_name": "LayoutModel",
          "model_module_version": "1.2.0",
          "state": {
            "_model_module": "@jupyter-widgets/base",
            "_model_module_version": "1.2.0",
            "_model_name": "LayoutModel",
            "_view_count": null,
            "_view_module": "@jupyter-widgets/base",
            "_view_module_version": "1.2.0",
            "_view_name": "LayoutView",
            "align_content": null,
            "align_items": null,
            "align_self": null,
            "border": null,
            "bottom": null,
            "display": null,
            "flex": null,
            "flex_flow": null,
            "grid_area": null,
            "grid_auto_columns": null,
            "grid_auto_flow": null,
            "grid_auto_rows": null,
            "grid_column": null,
            "grid_gap": null,
            "grid_row": null,
            "grid_template_areas": null,
            "grid_template_columns": null,
            "grid_template_rows": null,
            "height": null,
            "justify_content": null,
            "justify_items": null,
            "left": null,
            "margin": null,
            "max_height": null,
            "max_width": null,
            "min_height": null,
            "min_width": null,
            "object_fit": null,
            "object_position": null,
            "order": null,
            "overflow": null,
            "overflow_x": null,
            "overflow_y": null,
            "padding": null,
            "right": null,
            "top": null,
            "visibility": null,
            "width": null
          }
        },
        "865ad7fd2d6e40c8a28d99595a0d7549": {
          "model_module": "@jupyter-widgets/base",
          "model_name": "LayoutModel",
          "model_module_version": "1.2.0",
          "state": {
            "_model_module": "@jupyter-widgets/base",
            "_model_module_version": "1.2.0",
            "_model_name": "LayoutModel",
            "_view_count": null,
            "_view_module": "@jupyter-widgets/base",
            "_view_module_version": "1.2.0",
            "_view_name": "LayoutView",
            "align_content": null,
            "align_items": null,
            "align_self": null,
            "border": null,
            "bottom": null,
            "display": null,
            "flex": null,
            "flex_flow": null,
            "grid_area": null,
            "grid_auto_columns": null,
            "grid_auto_flow": null,
            "grid_auto_rows": null,
            "grid_column": null,
            "grid_gap": null,
            "grid_row": null,
            "grid_template_areas": null,
            "grid_template_columns": null,
            "grid_template_rows": null,
            "height": null,
            "justify_content": null,
            "justify_items": null,
            "left": null,
            "margin": null,
            "max_height": null,
            "max_width": null,
            "min_height": null,
            "min_width": null,
            "object_fit": null,
            "object_position": null,
            "order": null,
            "overflow": null,
            "overflow_x": null,
            "overflow_y": null,
            "padding": null,
            "right": null,
            "top": null,
            "visibility": null,
            "width": null
          }
        },
        "2ce5d165946c41ba92463ce7671b1f3e": {
          "model_module": "@jupyter-widgets/controls",
          "model_name": "DescriptionStyleModel",
          "model_module_version": "1.5.0",
          "state": {
            "_model_module": "@jupyter-widgets/controls",
            "_model_module_version": "1.5.0",
            "_model_name": "DescriptionStyleModel",
            "_view_count": null,
            "_view_module": "@jupyter-widgets/base",
            "_view_module_version": "1.2.0",
            "_view_name": "StyleView",
            "description_width": ""
          }
        },
        "5fcd94e00f194a238ad7fc9f5c079e1b": {
          "model_module": "@jupyter-widgets/base",
          "model_name": "LayoutModel",
          "model_module_version": "1.2.0",
          "state": {
            "_model_module": "@jupyter-widgets/base",
            "_model_module_version": "1.2.0",
            "_model_name": "LayoutModel",
            "_view_count": null,
            "_view_module": "@jupyter-widgets/base",
            "_view_module_version": "1.2.0",
            "_view_name": "LayoutView",
            "align_content": null,
            "align_items": null,
            "align_self": null,
            "border": null,
            "bottom": null,
            "display": null,
            "flex": null,
            "flex_flow": null,
            "grid_area": null,
            "grid_auto_columns": null,
            "grid_auto_flow": null,
            "grid_auto_rows": null,
            "grid_column": null,
            "grid_gap": null,
            "grid_row": null,
            "grid_template_areas": null,
            "grid_template_columns": null,
            "grid_template_rows": null,
            "height": null,
            "justify_content": null,
            "justify_items": null,
            "left": null,
            "margin": null,
            "max_height": null,
            "max_width": null,
            "min_height": null,
            "min_width": null,
            "object_fit": null,
            "object_position": null,
            "order": null,
            "overflow": null,
            "overflow_x": null,
            "overflow_y": null,
            "padding": null,
            "right": null,
            "top": null,
            "visibility": null,
            "width": null
          }
        },
        "7756c2ba725d4ab19a02c4c9cbb2fdf1": {
          "model_module": "@jupyter-widgets/controls",
          "model_name": "ProgressStyleModel",
          "model_module_version": "1.5.0",
          "state": {
            "_model_module": "@jupyter-widgets/controls",
            "_model_module_version": "1.5.0",
            "_model_name": "ProgressStyleModel",
            "_view_count": null,
            "_view_module": "@jupyter-widgets/base",
            "_view_module_version": "1.2.0",
            "_view_name": "StyleView",
            "bar_color": null,
            "description_width": ""
          }
        },
        "87d6b6b5ed40432d98a2d4207a787070": {
          "model_module": "@jupyter-widgets/base",
          "model_name": "LayoutModel",
          "model_module_version": "1.2.0",
          "state": {
            "_model_module": "@jupyter-widgets/base",
            "_model_module_version": "1.2.0",
            "_model_name": "LayoutModel",
            "_view_count": null,
            "_view_module": "@jupyter-widgets/base",
            "_view_module_version": "1.2.0",
            "_view_name": "LayoutView",
            "align_content": null,
            "align_items": null,
            "align_self": null,
            "border": null,
            "bottom": null,
            "display": null,
            "flex": null,
            "flex_flow": null,
            "grid_area": null,
            "grid_auto_columns": null,
            "grid_auto_flow": null,
            "grid_auto_rows": null,
            "grid_column": null,
            "grid_gap": null,
            "grid_row": null,
            "grid_template_areas": null,
            "grid_template_columns": null,
            "grid_template_rows": null,
            "height": null,
            "justify_content": null,
            "justify_items": null,
            "left": null,
            "margin": null,
            "max_height": null,
            "max_width": null,
            "min_height": null,
            "min_width": null,
            "object_fit": null,
            "object_position": null,
            "order": null,
            "overflow": null,
            "overflow_x": null,
            "overflow_y": null,
            "padding": null,
            "right": null,
            "top": null,
            "visibility": null,
            "width": null
          }
        },
        "289b9ff1ffb648369ad4df5d5cffda60": {
          "model_module": "@jupyter-widgets/controls",
          "model_name": "DescriptionStyleModel",
          "model_module_version": "1.5.0",
          "state": {
            "_model_module": "@jupyter-widgets/controls",
            "_model_module_version": "1.5.0",
            "_model_name": "DescriptionStyleModel",
            "_view_count": null,
            "_view_module": "@jupyter-widgets/base",
            "_view_module_version": "1.2.0",
            "_view_name": "StyleView",
            "description_width": ""
          }
        },
        "58b3895e70c443f4bd653f574cfbeaf7": {
          "model_module": "@jupyter-widgets/controls",
          "model_name": "HBoxModel",
          "model_module_version": "1.5.0",
          "state": {
            "_dom_classes": [],
            "_model_module": "@jupyter-widgets/controls",
            "_model_module_version": "1.5.0",
            "_model_name": "HBoxModel",
            "_view_count": null,
            "_view_module": "@jupyter-widgets/controls",
            "_view_module_version": "1.5.0",
            "_view_name": "HBoxView",
            "box_style": "",
            "children": [
              "IPY_MODEL_9cbcecb460a14445ad471270490bce02",
              "IPY_MODEL_26e178cfc6664c05ae9dee6a7d54b7e2",
              "IPY_MODEL_1d3f189784604b4c86164ad1fa0ba1e5"
            ],
            "layout": "IPY_MODEL_9d7b85333e504f819d782ccd1e4d1191"
          }
        },
        "9cbcecb460a14445ad471270490bce02": {
          "model_module": "@jupyter-widgets/controls",
          "model_name": "HTMLModel",
          "model_module_version": "1.5.0",
          "state": {
            "_dom_classes": [],
            "_model_module": "@jupyter-widgets/controls",
            "_model_module_version": "1.5.0",
            "_model_name": "HTMLModel",
            "_view_count": null,
            "_view_module": "@jupyter-widgets/controls",
            "_view_module_version": "1.5.0",
            "_view_name": "HTMLView",
            "description": "",
            "description_tooltip": null,
            "layout": "IPY_MODEL_9626a01131cc42a2ad361dc48536b4c9",
            "placeholder": "​",
            "style": "IPY_MODEL_f0094619587443058887a8cbd227c930",
            "value": "Downloading (…)okenizer_config.json: 100%"
          }
        },
        "26e178cfc6664c05ae9dee6a7d54b7e2": {
          "model_module": "@jupyter-widgets/controls",
          "model_name": "FloatProgressModel",
          "model_module_version": "1.5.0",
          "state": {
            "_dom_classes": [],
            "_model_module": "@jupyter-widgets/controls",
            "_model_module_version": "1.5.0",
            "_model_name": "FloatProgressModel",
            "_view_count": null,
            "_view_module": "@jupyter-widgets/controls",
            "_view_module_version": "1.5.0",
            "_view_name": "ProgressView",
            "bar_style": "success",
            "description": "",
            "description_tooltip": null,
            "layout": "IPY_MODEL_a3a10d71c14a41c0851526929672ebb2",
            "max": 26,
            "min": 0,
            "orientation": "horizontal",
            "style": "IPY_MODEL_a8a307c438c44525b04f592dfaab7927",
            "value": 26
          }
        },
        "1d3f189784604b4c86164ad1fa0ba1e5": {
          "model_module": "@jupyter-widgets/controls",
          "model_name": "HTMLModel",
          "model_module_version": "1.5.0",
          "state": {
            "_dom_classes": [],
            "_model_module": "@jupyter-widgets/controls",
            "_model_module_version": "1.5.0",
            "_model_name": "HTMLModel",
            "_view_count": null,
            "_view_module": "@jupyter-widgets/controls",
            "_view_module_version": "1.5.0",
            "_view_name": "HTMLView",
            "description": "",
            "description_tooltip": null,
            "layout": "IPY_MODEL_c43d6bb529884f1bab1c70cbc4dc6dab",
            "placeholder": "​",
            "style": "IPY_MODEL_4df9ce2734b24e48a80f0407e91f6181",
            "value": " 26.0/26.0 [00:00&lt;00:00, 1.02kB/s]"
          }
        },
        "9d7b85333e504f819d782ccd1e4d1191": {
          "model_module": "@jupyter-widgets/base",
          "model_name": "LayoutModel",
          "model_module_version": "1.2.0",
          "state": {
            "_model_module": "@jupyter-widgets/base",
            "_model_module_version": "1.2.0",
            "_model_name": "LayoutModel",
            "_view_count": null,
            "_view_module": "@jupyter-widgets/base",
            "_view_module_version": "1.2.0",
            "_view_name": "LayoutView",
            "align_content": null,
            "align_items": null,
            "align_self": null,
            "border": null,
            "bottom": null,
            "display": null,
            "flex": null,
            "flex_flow": null,
            "grid_area": null,
            "grid_auto_columns": null,
            "grid_auto_flow": null,
            "grid_auto_rows": null,
            "grid_column": null,
            "grid_gap": null,
            "grid_row": null,
            "grid_template_areas": null,
            "grid_template_columns": null,
            "grid_template_rows": null,
            "height": null,
            "justify_content": null,
            "justify_items": null,
            "left": null,
            "margin": null,
            "max_height": null,
            "max_width": null,
            "min_height": null,
            "min_width": null,
            "object_fit": null,
            "object_position": null,
            "order": null,
            "overflow": null,
            "overflow_x": null,
            "overflow_y": null,
            "padding": null,
            "right": null,
            "top": null,
            "visibility": null,
            "width": null
          }
        },
        "9626a01131cc42a2ad361dc48536b4c9": {
          "model_module": "@jupyter-widgets/base",
          "model_name": "LayoutModel",
          "model_module_version": "1.2.0",
          "state": {
            "_model_module": "@jupyter-widgets/base",
            "_model_module_version": "1.2.0",
            "_model_name": "LayoutModel",
            "_view_count": null,
            "_view_module": "@jupyter-widgets/base",
            "_view_module_version": "1.2.0",
            "_view_name": "LayoutView",
            "align_content": null,
            "align_items": null,
            "align_self": null,
            "border": null,
            "bottom": null,
            "display": null,
            "flex": null,
            "flex_flow": null,
            "grid_area": null,
            "grid_auto_columns": null,
            "grid_auto_flow": null,
            "grid_auto_rows": null,
            "grid_column": null,
            "grid_gap": null,
            "grid_row": null,
            "grid_template_areas": null,
            "grid_template_columns": null,
            "grid_template_rows": null,
            "height": null,
            "justify_content": null,
            "justify_items": null,
            "left": null,
            "margin": null,
            "max_height": null,
            "max_width": null,
            "min_height": null,
            "min_width": null,
            "object_fit": null,
            "object_position": null,
            "order": null,
            "overflow": null,
            "overflow_x": null,
            "overflow_y": null,
            "padding": null,
            "right": null,
            "top": null,
            "visibility": null,
            "width": null
          }
        },
        "f0094619587443058887a8cbd227c930": {
          "model_module": "@jupyter-widgets/controls",
          "model_name": "DescriptionStyleModel",
          "model_module_version": "1.5.0",
          "state": {
            "_model_module": "@jupyter-widgets/controls",
            "_model_module_version": "1.5.0",
            "_model_name": "DescriptionStyleModel",
            "_view_count": null,
            "_view_module": "@jupyter-widgets/base",
            "_view_module_version": "1.2.0",
            "_view_name": "StyleView",
            "description_width": ""
          }
        },
        "a3a10d71c14a41c0851526929672ebb2": {
          "model_module": "@jupyter-widgets/base",
          "model_name": "LayoutModel",
          "model_module_version": "1.2.0",
          "state": {
            "_model_module": "@jupyter-widgets/base",
            "_model_module_version": "1.2.0",
            "_model_name": "LayoutModel",
            "_view_count": null,
            "_view_module": "@jupyter-widgets/base",
            "_view_module_version": "1.2.0",
            "_view_name": "LayoutView",
            "align_content": null,
            "align_items": null,
            "align_self": null,
            "border": null,
            "bottom": null,
            "display": null,
            "flex": null,
            "flex_flow": null,
            "grid_area": null,
            "grid_auto_columns": null,
            "grid_auto_flow": null,
            "grid_auto_rows": null,
            "grid_column": null,
            "grid_gap": null,
            "grid_row": null,
            "grid_template_areas": null,
            "grid_template_columns": null,
            "grid_template_rows": null,
            "height": null,
            "justify_content": null,
            "justify_items": null,
            "left": null,
            "margin": null,
            "max_height": null,
            "max_width": null,
            "min_height": null,
            "min_width": null,
            "object_fit": null,
            "object_position": null,
            "order": null,
            "overflow": null,
            "overflow_x": null,
            "overflow_y": null,
            "padding": null,
            "right": null,
            "top": null,
            "visibility": null,
            "width": null
          }
        },
        "a8a307c438c44525b04f592dfaab7927": {
          "model_module": "@jupyter-widgets/controls",
          "model_name": "ProgressStyleModel",
          "model_module_version": "1.5.0",
          "state": {
            "_model_module": "@jupyter-widgets/controls",
            "_model_module_version": "1.5.0",
            "_model_name": "ProgressStyleModel",
            "_view_count": null,
            "_view_module": "@jupyter-widgets/base",
            "_view_module_version": "1.2.0",
            "_view_name": "StyleView",
            "bar_color": null,
            "description_width": ""
          }
        },
        "c43d6bb529884f1bab1c70cbc4dc6dab": {
          "model_module": "@jupyter-widgets/base",
          "model_name": "LayoutModel",
          "model_module_version": "1.2.0",
          "state": {
            "_model_module": "@jupyter-widgets/base",
            "_model_module_version": "1.2.0",
            "_model_name": "LayoutModel",
            "_view_count": null,
            "_view_module": "@jupyter-widgets/base",
            "_view_module_version": "1.2.0",
            "_view_name": "LayoutView",
            "align_content": null,
            "align_items": null,
            "align_self": null,
            "border": null,
            "bottom": null,
            "display": null,
            "flex": null,
            "flex_flow": null,
            "grid_area": null,
            "grid_auto_columns": null,
            "grid_auto_flow": null,
            "grid_auto_rows": null,
            "grid_column": null,
            "grid_gap": null,
            "grid_row": null,
            "grid_template_areas": null,
            "grid_template_columns": null,
            "grid_template_rows": null,
            "height": null,
            "justify_content": null,
            "justify_items": null,
            "left": null,
            "margin": null,
            "max_height": null,
            "max_width": null,
            "min_height": null,
            "min_width": null,
            "object_fit": null,
            "object_position": null,
            "order": null,
            "overflow": null,
            "overflow_x": null,
            "overflow_y": null,
            "padding": null,
            "right": null,
            "top": null,
            "visibility": null,
            "width": null
          }
        },
        "4df9ce2734b24e48a80f0407e91f6181": {
          "model_module": "@jupyter-widgets/controls",
          "model_name": "DescriptionStyleModel",
          "model_module_version": "1.5.0",
          "state": {
            "_model_module": "@jupyter-widgets/controls",
            "_model_module_version": "1.5.0",
            "_model_name": "DescriptionStyleModel",
            "_view_count": null,
            "_view_module": "@jupyter-widgets/base",
            "_view_module_version": "1.2.0",
            "_view_name": "StyleView",
            "description_width": ""
          }
        },
        "d5145cd821b5411493bf3d95f7860b94": {
          "model_module": "@jupyter-widgets/controls",
          "model_name": "HBoxModel",
          "model_module_version": "1.5.0",
          "state": {
            "_dom_classes": [],
            "_model_module": "@jupyter-widgets/controls",
            "_model_module_version": "1.5.0",
            "_model_name": "HBoxModel",
            "_view_count": null,
            "_view_module": "@jupyter-widgets/controls",
            "_view_module_version": "1.5.0",
            "_view_name": "HBoxView",
            "box_style": "",
            "children": [
              "IPY_MODEL_1a5df245e7f2420c8b32bb9eaf7fd951",
              "IPY_MODEL_1e83eaeba3a343598dc0486c81b27332",
              "IPY_MODEL_c98023ca9e1e438f9b4988de01aab6ed"
            ],
            "layout": "IPY_MODEL_d547192aba5b4f02bb15c5301565f835"
          }
        },
        "1a5df245e7f2420c8b32bb9eaf7fd951": {
          "model_module": "@jupyter-widgets/controls",
          "model_name": "HTMLModel",
          "model_module_version": "1.5.0",
          "state": {
            "_dom_classes": [],
            "_model_module": "@jupyter-widgets/controls",
            "_model_module_version": "1.5.0",
            "_model_name": "HTMLModel",
            "_view_count": null,
            "_view_module": "@jupyter-widgets/controls",
            "_view_module_version": "1.5.0",
            "_view_name": "HTMLView",
            "description": "",
            "description_tooltip": null,
            "layout": "IPY_MODEL_e5d57637b0ee498a85e6ccd099087b6d",
            "placeholder": "​",
            "style": "IPY_MODEL_991819a52d734b40b86b1e55c2d25769",
            "value": "Downloading (…)olve/main/vocab.json: 100%"
          }
        },
        "1e83eaeba3a343598dc0486c81b27332": {
          "model_module": "@jupyter-widgets/controls",
          "model_name": "FloatProgressModel",
          "model_module_version": "1.5.0",
          "state": {
            "_dom_classes": [],
            "_model_module": "@jupyter-widgets/controls",
            "_model_module_version": "1.5.0",
            "_model_name": "FloatProgressModel",
            "_view_count": null,
            "_view_module": "@jupyter-widgets/controls",
            "_view_module_version": "1.5.0",
            "_view_name": "ProgressView",
            "bar_style": "success",
            "description": "",
            "description_tooltip": null,
            "layout": "IPY_MODEL_4981e4f16c01462faac1cedc297cfc39",
            "max": 898822,
            "min": 0,
            "orientation": "horizontal",
            "style": "IPY_MODEL_16b415116d48453c8d7d651fac02c231",
            "value": 898822
          }
        },
        "c98023ca9e1e438f9b4988de01aab6ed": {
          "model_module": "@jupyter-widgets/controls",
          "model_name": "HTMLModel",
          "model_module_version": "1.5.0",
          "state": {
            "_dom_classes": [],
            "_model_module": "@jupyter-widgets/controls",
            "_model_module_version": "1.5.0",
            "_model_name": "HTMLModel",
            "_view_count": null,
            "_view_module": "@jupyter-widgets/controls",
            "_view_module_version": "1.5.0",
            "_view_name": "HTMLView",
            "description": "",
            "description_tooltip": null,
            "layout": "IPY_MODEL_b359df88b78e4f51b5a00bcc7833cb2c",
            "placeholder": "​",
            "style": "IPY_MODEL_978577be74144f78aeb9e300878ae8cf",
            "value": " 899k/899k [00:00&lt;00:00, 23.2MB/s]"
          }
        },
        "d547192aba5b4f02bb15c5301565f835": {
          "model_module": "@jupyter-widgets/base",
          "model_name": "LayoutModel",
          "model_module_version": "1.2.0",
          "state": {
            "_model_module": "@jupyter-widgets/base",
            "_model_module_version": "1.2.0",
            "_model_name": "LayoutModel",
            "_view_count": null,
            "_view_module": "@jupyter-widgets/base",
            "_view_module_version": "1.2.0",
            "_view_name": "LayoutView",
            "align_content": null,
            "align_items": null,
            "align_self": null,
            "border": null,
            "bottom": null,
            "display": null,
            "flex": null,
            "flex_flow": null,
            "grid_area": null,
            "grid_auto_columns": null,
            "grid_auto_flow": null,
            "grid_auto_rows": null,
            "grid_column": null,
            "grid_gap": null,
            "grid_row": null,
            "grid_template_areas": null,
            "grid_template_columns": null,
            "grid_template_rows": null,
            "height": null,
            "justify_content": null,
            "justify_items": null,
            "left": null,
            "margin": null,
            "max_height": null,
            "max_width": null,
            "min_height": null,
            "min_width": null,
            "object_fit": null,
            "object_position": null,
            "order": null,
            "overflow": null,
            "overflow_x": null,
            "overflow_y": null,
            "padding": null,
            "right": null,
            "top": null,
            "visibility": null,
            "width": null
          }
        },
        "e5d57637b0ee498a85e6ccd099087b6d": {
          "model_module": "@jupyter-widgets/base",
          "model_name": "LayoutModel",
          "model_module_version": "1.2.0",
          "state": {
            "_model_module": "@jupyter-widgets/base",
            "_model_module_version": "1.2.0",
            "_model_name": "LayoutModel",
            "_view_count": null,
            "_view_module": "@jupyter-widgets/base",
            "_view_module_version": "1.2.0",
            "_view_name": "LayoutView",
            "align_content": null,
            "align_items": null,
            "align_self": null,
            "border": null,
            "bottom": null,
            "display": null,
            "flex": null,
            "flex_flow": null,
            "grid_area": null,
            "grid_auto_columns": null,
            "grid_auto_flow": null,
            "grid_auto_rows": null,
            "grid_column": null,
            "grid_gap": null,
            "grid_row": null,
            "grid_template_areas": null,
            "grid_template_columns": null,
            "grid_template_rows": null,
            "height": null,
            "justify_content": null,
            "justify_items": null,
            "left": null,
            "margin": null,
            "max_height": null,
            "max_width": null,
            "min_height": null,
            "min_width": null,
            "object_fit": null,
            "object_position": null,
            "order": null,
            "overflow": null,
            "overflow_x": null,
            "overflow_y": null,
            "padding": null,
            "right": null,
            "top": null,
            "visibility": null,
            "width": null
          }
        },
        "991819a52d734b40b86b1e55c2d25769": {
          "model_module": "@jupyter-widgets/controls",
          "model_name": "DescriptionStyleModel",
          "model_module_version": "1.5.0",
          "state": {
            "_model_module": "@jupyter-widgets/controls",
            "_model_module_version": "1.5.0",
            "_model_name": "DescriptionStyleModel",
            "_view_count": null,
            "_view_module": "@jupyter-widgets/base",
            "_view_module_version": "1.2.0",
            "_view_name": "StyleView",
            "description_width": ""
          }
        },
        "4981e4f16c01462faac1cedc297cfc39": {
          "model_module": "@jupyter-widgets/base",
          "model_name": "LayoutModel",
          "model_module_version": "1.2.0",
          "state": {
            "_model_module": "@jupyter-widgets/base",
            "_model_module_version": "1.2.0",
            "_model_name": "LayoutModel",
            "_view_count": null,
            "_view_module": "@jupyter-widgets/base",
            "_view_module_version": "1.2.0",
            "_view_name": "LayoutView",
            "align_content": null,
            "align_items": null,
            "align_self": null,
            "border": null,
            "bottom": null,
            "display": null,
            "flex": null,
            "flex_flow": null,
            "grid_area": null,
            "grid_auto_columns": null,
            "grid_auto_flow": null,
            "grid_auto_rows": null,
            "grid_column": null,
            "grid_gap": null,
            "grid_row": null,
            "grid_template_areas": null,
            "grid_template_columns": null,
            "grid_template_rows": null,
            "height": null,
            "justify_content": null,
            "justify_items": null,
            "left": null,
            "margin": null,
            "max_height": null,
            "max_width": null,
            "min_height": null,
            "min_width": null,
            "object_fit": null,
            "object_position": null,
            "order": null,
            "overflow": null,
            "overflow_x": null,
            "overflow_y": null,
            "padding": null,
            "right": null,
            "top": null,
            "visibility": null,
            "width": null
          }
        },
        "16b415116d48453c8d7d651fac02c231": {
          "model_module": "@jupyter-widgets/controls",
          "model_name": "ProgressStyleModel",
          "model_module_version": "1.5.0",
          "state": {
            "_model_module": "@jupyter-widgets/controls",
            "_model_module_version": "1.5.0",
            "_model_name": "ProgressStyleModel",
            "_view_count": null,
            "_view_module": "@jupyter-widgets/base",
            "_view_module_version": "1.2.0",
            "_view_name": "StyleView",
            "bar_color": null,
            "description_width": ""
          }
        },
        "b359df88b78e4f51b5a00bcc7833cb2c": {
          "model_module": "@jupyter-widgets/base",
          "model_name": "LayoutModel",
          "model_module_version": "1.2.0",
          "state": {
            "_model_module": "@jupyter-widgets/base",
            "_model_module_version": "1.2.0",
            "_model_name": "LayoutModel",
            "_view_count": null,
            "_view_module": "@jupyter-widgets/base",
            "_view_module_version": "1.2.0",
            "_view_name": "LayoutView",
            "align_content": null,
            "align_items": null,
            "align_self": null,
            "border": null,
            "bottom": null,
            "display": null,
            "flex": null,
            "flex_flow": null,
            "grid_area": null,
            "grid_auto_columns": null,
            "grid_auto_flow": null,
            "grid_auto_rows": null,
            "grid_column": null,
            "grid_gap": null,
            "grid_row": null,
            "grid_template_areas": null,
            "grid_template_columns": null,
            "grid_template_rows": null,
            "height": null,
            "justify_content": null,
            "justify_items": null,
            "left": null,
            "margin": null,
            "max_height": null,
            "max_width": null,
            "min_height": null,
            "min_width": null,
            "object_fit": null,
            "object_position": null,
            "order": null,
            "overflow": null,
            "overflow_x": null,
            "overflow_y": null,
            "padding": null,
            "right": null,
            "top": null,
            "visibility": null,
            "width": null
          }
        },
        "978577be74144f78aeb9e300878ae8cf": {
          "model_module": "@jupyter-widgets/controls",
          "model_name": "DescriptionStyleModel",
          "model_module_version": "1.5.0",
          "state": {
            "_model_module": "@jupyter-widgets/controls",
            "_model_module_version": "1.5.0",
            "_model_name": "DescriptionStyleModel",
            "_view_count": null,
            "_view_module": "@jupyter-widgets/base",
            "_view_module_version": "1.2.0",
            "_view_name": "StyleView",
            "description_width": ""
          }
        },
        "b2514ad61d784100af4c778c09ff671c": {
          "model_module": "@jupyter-widgets/controls",
          "model_name": "HBoxModel",
          "model_module_version": "1.5.0",
          "state": {
            "_dom_classes": [],
            "_model_module": "@jupyter-widgets/controls",
            "_model_module_version": "1.5.0",
            "_model_name": "HBoxModel",
            "_view_count": null,
            "_view_module": "@jupyter-widgets/controls",
            "_view_module_version": "1.5.0",
            "_view_name": "HBoxView",
            "box_style": "",
            "children": [
              "IPY_MODEL_059d2475b5d14eaf82bad0cabc141df3",
              "IPY_MODEL_5bbaddc7af44400490f0ee5a9a365276",
              "IPY_MODEL_8e74fa8dfa144db393587aeb9871ebde"
            ],
            "layout": "IPY_MODEL_5237f30bf3d74c94a60f266394f07740"
          }
        },
        "059d2475b5d14eaf82bad0cabc141df3": {
          "model_module": "@jupyter-widgets/controls",
          "model_name": "HTMLModel",
          "model_module_version": "1.5.0",
          "state": {
            "_dom_classes": [],
            "_model_module": "@jupyter-widgets/controls",
            "_model_module_version": "1.5.0",
            "_model_name": "HTMLModel",
            "_view_count": null,
            "_view_module": "@jupyter-widgets/controls",
            "_view_module_version": "1.5.0",
            "_view_name": "HTMLView",
            "description": "",
            "description_tooltip": null,
            "layout": "IPY_MODEL_266c0bde0478454ea1ddac48e2a62c02",
            "placeholder": "​",
            "style": "IPY_MODEL_a8c0bd66d9514d4388a8638305f06ae0",
            "value": "Downloading (…)olve/main/merges.txt: 100%"
          }
        },
        "5bbaddc7af44400490f0ee5a9a365276": {
          "model_module": "@jupyter-widgets/controls",
          "model_name": "FloatProgressModel",
          "model_module_version": "1.5.0",
          "state": {
            "_dom_classes": [],
            "_model_module": "@jupyter-widgets/controls",
            "_model_module_version": "1.5.0",
            "_model_name": "FloatProgressModel",
            "_view_count": null,
            "_view_module": "@jupyter-widgets/controls",
            "_view_module_version": "1.5.0",
            "_view_name": "ProgressView",
            "bar_style": "success",
            "description": "",
            "description_tooltip": null,
            "layout": "IPY_MODEL_66ca181313bd40adb5525d02c322c7d6",
            "max": 456318,
            "min": 0,
            "orientation": "horizontal",
            "style": "IPY_MODEL_0f9d34a68a434c3ea39551fb6c1159f9",
            "value": 456318
          }
        },
        "8e74fa8dfa144db393587aeb9871ebde": {
          "model_module": "@jupyter-widgets/controls",
          "model_name": "HTMLModel",
          "model_module_version": "1.5.0",
          "state": {
            "_dom_classes": [],
            "_model_module": "@jupyter-widgets/controls",
            "_model_module_version": "1.5.0",
            "_model_name": "HTMLModel",
            "_view_count": null,
            "_view_module": "@jupyter-widgets/controls",
            "_view_module_version": "1.5.0",
            "_view_name": "HTMLView",
            "description": "",
            "description_tooltip": null,
            "layout": "IPY_MODEL_b3c549e9dbd645478438823e10c5dbbd",
            "placeholder": "​",
            "style": "IPY_MODEL_48979efb68e84509a88bf4304b8e2434",
            "value": " 456k/456k [00:00&lt;00:00, 23.6MB/s]"
          }
        },
        "5237f30bf3d74c94a60f266394f07740": {
          "model_module": "@jupyter-widgets/base",
          "model_name": "LayoutModel",
          "model_module_version": "1.2.0",
          "state": {
            "_model_module": "@jupyter-widgets/base",
            "_model_module_version": "1.2.0",
            "_model_name": "LayoutModel",
            "_view_count": null,
            "_view_module": "@jupyter-widgets/base",
            "_view_module_version": "1.2.0",
            "_view_name": "LayoutView",
            "align_content": null,
            "align_items": null,
            "align_self": null,
            "border": null,
            "bottom": null,
            "display": null,
            "flex": null,
            "flex_flow": null,
            "grid_area": null,
            "grid_auto_columns": null,
            "grid_auto_flow": null,
            "grid_auto_rows": null,
            "grid_column": null,
            "grid_gap": null,
            "grid_row": null,
            "grid_template_areas": null,
            "grid_template_columns": null,
            "grid_template_rows": null,
            "height": null,
            "justify_content": null,
            "justify_items": null,
            "left": null,
            "margin": null,
            "max_height": null,
            "max_width": null,
            "min_height": null,
            "min_width": null,
            "object_fit": null,
            "object_position": null,
            "order": null,
            "overflow": null,
            "overflow_x": null,
            "overflow_y": null,
            "padding": null,
            "right": null,
            "top": null,
            "visibility": null,
            "width": null
          }
        },
        "266c0bde0478454ea1ddac48e2a62c02": {
          "model_module": "@jupyter-widgets/base",
          "model_name": "LayoutModel",
          "model_module_version": "1.2.0",
          "state": {
            "_model_module": "@jupyter-widgets/base",
            "_model_module_version": "1.2.0",
            "_model_name": "LayoutModel",
            "_view_count": null,
            "_view_module": "@jupyter-widgets/base",
            "_view_module_version": "1.2.0",
            "_view_name": "LayoutView",
            "align_content": null,
            "align_items": null,
            "align_self": null,
            "border": null,
            "bottom": null,
            "display": null,
            "flex": null,
            "flex_flow": null,
            "grid_area": null,
            "grid_auto_columns": null,
            "grid_auto_flow": null,
            "grid_auto_rows": null,
            "grid_column": null,
            "grid_gap": null,
            "grid_row": null,
            "grid_template_areas": null,
            "grid_template_columns": null,
            "grid_template_rows": null,
            "height": null,
            "justify_content": null,
            "justify_items": null,
            "left": null,
            "margin": null,
            "max_height": null,
            "max_width": null,
            "min_height": null,
            "min_width": null,
            "object_fit": null,
            "object_position": null,
            "order": null,
            "overflow": null,
            "overflow_x": null,
            "overflow_y": null,
            "padding": null,
            "right": null,
            "top": null,
            "visibility": null,
            "width": null
          }
        },
        "a8c0bd66d9514d4388a8638305f06ae0": {
          "model_module": "@jupyter-widgets/controls",
          "model_name": "DescriptionStyleModel",
          "model_module_version": "1.5.0",
          "state": {
            "_model_module": "@jupyter-widgets/controls",
            "_model_module_version": "1.5.0",
            "_model_name": "DescriptionStyleModel",
            "_view_count": null,
            "_view_module": "@jupyter-widgets/base",
            "_view_module_version": "1.2.0",
            "_view_name": "StyleView",
            "description_width": ""
          }
        },
        "66ca181313bd40adb5525d02c322c7d6": {
          "model_module": "@jupyter-widgets/base",
          "model_name": "LayoutModel",
          "model_module_version": "1.2.0",
          "state": {
            "_model_module": "@jupyter-widgets/base",
            "_model_module_version": "1.2.0",
            "_model_name": "LayoutModel",
            "_view_count": null,
            "_view_module": "@jupyter-widgets/base",
            "_view_module_version": "1.2.0",
            "_view_name": "LayoutView",
            "align_content": null,
            "align_items": null,
            "align_self": null,
            "border": null,
            "bottom": null,
            "display": null,
            "flex": null,
            "flex_flow": null,
            "grid_area": null,
            "grid_auto_columns": null,
            "grid_auto_flow": null,
            "grid_auto_rows": null,
            "grid_column": null,
            "grid_gap": null,
            "grid_row": null,
            "grid_template_areas": null,
            "grid_template_columns": null,
            "grid_template_rows": null,
            "height": null,
            "justify_content": null,
            "justify_items": null,
            "left": null,
            "margin": null,
            "max_height": null,
            "max_width": null,
            "min_height": null,
            "min_width": null,
            "object_fit": null,
            "object_position": null,
            "order": null,
            "overflow": null,
            "overflow_x": null,
            "overflow_y": null,
            "padding": null,
            "right": null,
            "top": null,
            "visibility": null,
            "width": null
          }
        },
        "0f9d34a68a434c3ea39551fb6c1159f9": {
          "model_module": "@jupyter-widgets/controls",
          "model_name": "ProgressStyleModel",
          "model_module_version": "1.5.0",
          "state": {
            "_model_module": "@jupyter-widgets/controls",
            "_model_module_version": "1.5.0",
            "_model_name": "ProgressStyleModel",
            "_view_count": null,
            "_view_module": "@jupyter-widgets/base",
            "_view_module_version": "1.2.0",
            "_view_name": "StyleView",
            "bar_color": null,
            "description_width": ""
          }
        },
        "b3c549e9dbd645478438823e10c5dbbd": {
          "model_module": "@jupyter-widgets/base",
          "model_name": "LayoutModel",
          "model_module_version": "1.2.0",
          "state": {
            "_model_module": "@jupyter-widgets/base",
            "_model_module_version": "1.2.0",
            "_model_name": "LayoutModel",
            "_view_count": null,
            "_view_module": "@jupyter-widgets/base",
            "_view_module_version": "1.2.0",
            "_view_name": "LayoutView",
            "align_content": null,
            "align_items": null,
            "align_self": null,
            "border": null,
            "bottom": null,
            "display": null,
            "flex": null,
            "flex_flow": null,
            "grid_area": null,
            "grid_auto_columns": null,
            "grid_auto_flow": null,
            "grid_auto_rows": null,
            "grid_column": null,
            "grid_gap": null,
            "grid_row": null,
            "grid_template_areas": null,
            "grid_template_columns": null,
            "grid_template_rows": null,
            "height": null,
            "justify_content": null,
            "justify_items": null,
            "left": null,
            "margin": null,
            "max_height": null,
            "max_width": null,
            "min_height": null,
            "min_width": null,
            "object_fit": null,
            "object_position": null,
            "order": null,
            "overflow": null,
            "overflow_x": null,
            "overflow_y": null,
            "padding": null,
            "right": null,
            "top": null,
            "visibility": null,
            "width": null
          }
        },
        "48979efb68e84509a88bf4304b8e2434": {
          "model_module": "@jupyter-widgets/controls",
          "model_name": "DescriptionStyleModel",
          "model_module_version": "1.5.0",
          "state": {
            "_model_module": "@jupyter-widgets/controls",
            "_model_module_version": "1.5.0",
            "_model_name": "DescriptionStyleModel",
            "_view_count": null,
            "_view_module": "@jupyter-widgets/base",
            "_view_module_version": "1.2.0",
            "_view_name": "StyleView",
            "description_width": ""
          }
        }
      }
    }
  },
  "cells": [
    {
      "cell_type": "markdown",
      "metadata": {
        "id": "view-in-github",
        "colab_type": "text"
      },
      "source": [
        "<a href=\"https://colab.research.google.com/github/Flychuban/Space-Soup/blob/main/TextSummarization.ipynb\" target=\"_parent\"><img src=\"https://colab.research.google.com/assets/colab-badge.svg\" alt=\"Open In Colab\"/></a>"
      ]
    },
    {
      "cell_type": "code",
      "execution_count": 1,
      "metadata": {
        "colab": {
          "base_uri": "https://localhost:8080/"
        },
        "id": "6UhB7Fr7HnAC",
        "outputId": "b15e215a-73e4-4fd2-8fae-76ef0d61b590"
      },
      "outputs": [
        {
          "output_type": "stream",
          "name": "stdout",
          "text": [
            "Collecting transformers\n",
            "  Downloading transformers-4.33.2-py3-none-any.whl (7.6 MB)\n",
            "\u001b[2K     \u001b[90m━━━━━━━━━━━━━━━━━━━━━━━━━━━━━━━━━━━━━━━━\u001b[0m \u001b[32m7.6/7.6 MB\u001b[0m \u001b[31m48.2 MB/s\u001b[0m eta \u001b[36m0:00:00\u001b[0m\n",
            "\u001b[?25hRequirement already satisfied: filelock in /usr/local/lib/python3.10/dist-packages (from transformers) (3.12.2)\n",
            "Collecting huggingface-hub<1.0,>=0.15.1 (from transformers)\n",
            "  Downloading huggingface_hub-0.17.2-py3-none-any.whl (294 kB)\n",
            "\u001b[2K     \u001b[90m━━━━━━━━━━━━━━━━━━━━━━━━━━━━━━━━━━━━━━\u001b[0m \u001b[32m294.9/294.9 kB\u001b[0m \u001b[31m33.9 MB/s\u001b[0m eta \u001b[36m0:00:00\u001b[0m\n",
            "\u001b[?25hRequirement already satisfied: numpy>=1.17 in /usr/local/lib/python3.10/dist-packages (from transformers) (1.23.5)\n",
            "Requirement already satisfied: packaging>=20.0 in /usr/local/lib/python3.10/dist-packages (from transformers) (23.1)\n",
            "Requirement already satisfied: pyyaml>=5.1 in /usr/local/lib/python3.10/dist-packages (from transformers) (6.0.1)\n",
            "Requirement already satisfied: regex!=2019.12.17 in /usr/local/lib/python3.10/dist-packages (from transformers) (2023.6.3)\n",
            "Requirement already satisfied: requests in /usr/local/lib/python3.10/dist-packages (from transformers) (2.31.0)\n",
            "Collecting tokenizers!=0.11.3,<0.14,>=0.11.1 (from transformers)\n",
            "  Downloading tokenizers-0.13.3-cp310-cp310-manylinux_2_17_x86_64.manylinux2014_x86_64.whl (7.8 MB)\n",
            "\u001b[2K     \u001b[90m━━━━━━━━━━━━━━━━━━━━━━━━━━━━━━━━━━━━━━━━\u001b[0m \u001b[32m7.8/7.8 MB\u001b[0m \u001b[31m83.9 MB/s\u001b[0m eta \u001b[36m0:00:00\u001b[0m\n",
            "\u001b[?25hCollecting safetensors>=0.3.1 (from transformers)\n",
            "  Downloading safetensors-0.3.3-cp310-cp310-manylinux_2_17_x86_64.manylinux2014_x86_64.whl (1.3 MB)\n",
            "\u001b[2K     \u001b[90m━━━━━━━━━━━━━━━━━━━━━━━━━━━━━━━━━━━━━━━━\u001b[0m \u001b[32m1.3/1.3 MB\u001b[0m \u001b[31m56.1 MB/s\u001b[0m eta \u001b[36m0:00:00\u001b[0m\n",
            "\u001b[?25hRequirement already satisfied: tqdm>=4.27 in /usr/local/lib/python3.10/dist-packages (from transformers) (4.66.1)\n",
            "Requirement already satisfied: fsspec in /usr/local/lib/python3.10/dist-packages (from huggingface-hub<1.0,>=0.15.1->transformers) (2023.6.0)\n",
            "Requirement already satisfied: typing-extensions>=3.7.4.3 in /usr/local/lib/python3.10/dist-packages (from huggingface-hub<1.0,>=0.15.1->transformers) (4.5.0)\n",
            "Requirement already satisfied: charset-normalizer<4,>=2 in /usr/local/lib/python3.10/dist-packages (from requests->transformers) (3.2.0)\n",
            "Requirement already satisfied: idna<4,>=2.5 in /usr/local/lib/python3.10/dist-packages (from requests->transformers) (3.4)\n",
            "Requirement already satisfied: urllib3<3,>=1.21.1 in /usr/local/lib/python3.10/dist-packages (from requests->transformers) (2.0.4)\n",
            "Requirement already satisfied: certifi>=2017.4.17 in /usr/local/lib/python3.10/dist-packages (from requests->transformers) (2023.7.22)\n",
            "Installing collected packages: tokenizers, safetensors, huggingface-hub, transformers\n",
            "Successfully installed huggingface-hub-0.17.2 safetensors-0.3.3 tokenizers-0.13.3 transformers-4.33.2\n"
          ]
        }
      ],
      "source": [
        "!pip install transformers"
      ]
    },
    {
      "cell_type": "code",
      "source": [
        "import requests\n",
        "from transformers import pipeline\n",
        "from bs4 import BeautifulSoup\n",
        "import re"
      ],
      "metadata": {
        "id": "Rxlz4sKEHxa8"
      },
      "execution_count": 18,
      "outputs": []
    },
    {
      "cell_type": "code",
      "source": [
        "# Load summarization model from HuggingFace\n",
        "summarizer = pipeline(\"summarization\")"
      ],
      "metadata": {
        "colab": {
          "base_uri": "https://localhost:8080/",
          "height": 213,
          "referenced_widgets": [
            "c585406a225f4f0ca53f64b148f95cc2",
            "4fa3b833f30040d6aefbab6dfa304f5b",
            "340c74d7892a42409c1dc673f608a98f",
            "3531b1e2175d4143b664ae6aa8189c21",
            "835656da593b4b1588753d4fb8907273",
            "bbeaa147deeb464492c0636e411bf0be",
            "aa28ca1fd88a4289aa18b11dff237f54",
            "631e4556c2bc49e8a7a61a0307370e07",
            "9147f3302c9742e7a11e26a1aa71f093",
            "79dfd92fff254e62854c4dd15bd7b8e4",
            "7d9121880b494035829a1c77234ffed4",
            "39ed02e02909456ab4b64010f3a335d9",
            "29aca2991fb5467fb2c68f3cf68b1c3a",
            "4fc0996954fc47acb9529335bc389f9f",
            "6d92b981c23e4c18bc1044b083097b6d",
            "d280e5003bce4b699ea61a5095ae82d9",
            "865ad7fd2d6e40c8a28d99595a0d7549",
            "2ce5d165946c41ba92463ce7671b1f3e",
            "5fcd94e00f194a238ad7fc9f5c079e1b",
            "7756c2ba725d4ab19a02c4c9cbb2fdf1",
            "87d6b6b5ed40432d98a2d4207a787070",
            "289b9ff1ffb648369ad4df5d5cffda60",
            "58b3895e70c443f4bd653f574cfbeaf7",
            "9cbcecb460a14445ad471270490bce02",
            "26e178cfc6664c05ae9dee6a7d54b7e2",
            "1d3f189784604b4c86164ad1fa0ba1e5",
            "9d7b85333e504f819d782ccd1e4d1191",
            "9626a01131cc42a2ad361dc48536b4c9",
            "f0094619587443058887a8cbd227c930",
            "a3a10d71c14a41c0851526929672ebb2",
            "a8a307c438c44525b04f592dfaab7927",
            "c43d6bb529884f1bab1c70cbc4dc6dab",
            "4df9ce2734b24e48a80f0407e91f6181",
            "d5145cd821b5411493bf3d95f7860b94",
            "1a5df245e7f2420c8b32bb9eaf7fd951",
            "1e83eaeba3a343598dc0486c81b27332",
            "c98023ca9e1e438f9b4988de01aab6ed",
            "d547192aba5b4f02bb15c5301565f835",
            "e5d57637b0ee498a85e6ccd099087b6d",
            "991819a52d734b40b86b1e55c2d25769",
            "4981e4f16c01462faac1cedc297cfc39",
            "16b415116d48453c8d7d651fac02c231",
            "b359df88b78e4f51b5a00bcc7833cb2c",
            "978577be74144f78aeb9e300878ae8cf",
            "b2514ad61d784100af4c778c09ff671c",
            "059d2475b5d14eaf82bad0cabc141df3",
            "5bbaddc7af44400490f0ee5a9a365276",
            "8e74fa8dfa144db393587aeb9871ebde",
            "5237f30bf3d74c94a60f266394f07740",
            "266c0bde0478454ea1ddac48e2a62c02",
            "a8c0bd66d9514d4388a8638305f06ae0",
            "66ca181313bd40adb5525d02c322c7d6",
            "0f9d34a68a434c3ea39551fb6c1159f9",
            "b3c549e9dbd645478438823e10c5dbbd",
            "48979efb68e84509a88bf4304b8e2434"
          ]
        },
        "id": "yQHQuGmjIC2A",
        "outputId": "6d9e9447-db92-428a-8cf9-b22abc6f1463"
      },
      "execution_count": 3,
      "outputs": [
        {
          "output_type": "stream",
          "name": "stderr",
          "text": [
            "No model was supplied, defaulted to sshleifer/distilbart-cnn-12-6 and revision a4f8f3e (https://huggingface.co/sshleifer/distilbart-cnn-12-6).\n",
            "Using a pipeline without specifying a model name and revision in production is not recommended.\n"
          ]
        },
        {
          "output_type": "display_data",
          "data": {
            "text/plain": [
              "Downloading (…)lve/main/config.json:   0%|          | 0.00/1.80k [00:00<?, ?B/s]"
            ],
            "application/vnd.jupyter.widget-view+json": {
              "version_major": 2,
              "version_minor": 0,
              "model_id": "c585406a225f4f0ca53f64b148f95cc2"
            }
          },
          "metadata": {}
        },
        {
          "output_type": "display_data",
          "data": {
            "text/plain": [
              "Downloading pytorch_model.bin:   0%|          | 0.00/1.22G [00:00<?, ?B/s]"
            ],
            "application/vnd.jupyter.widget-view+json": {
              "version_major": 2,
              "version_minor": 0,
              "model_id": "39ed02e02909456ab4b64010f3a335d9"
            }
          },
          "metadata": {}
        },
        {
          "output_type": "display_data",
          "data": {
            "text/plain": [
              "Downloading (…)okenizer_config.json:   0%|          | 0.00/26.0 [00:00<?, ?B/s]"
            ],
            "application/vnd.jupyter.widget-view+json": {
              "version_major": 2,
              "version_minor": 0,
              "model_id": "58b3895e70c443f4bd653f574cfbeaf7"
            }
          },
          "metadata": {}
        },
        {
          "output_type": "display_data",
          "data": {
            "text/plain": [
              "Downloading (…)olve/main/vocab.json:   0%|          | 0.00/899k [00:00<?, ?B/s]"
            ],
            "application/vnd.jupyter.widget-view+json": {
              "version_major": 2,
              "version_minor": 0,
              "model_id": "d5145cd821b5411493bf3d95f7860b94"
            }
          },
          "metadata": {}
        },
        {
          "output_type": "display_data",
          "data": {
            "text/plain": [
              "Downloading (…)olve/main/merges.txt:   0%|          | 0.00/456k [00:00<?, ?B/s]"
            ],
            "application/vnd.jupyter.widget-view+json": {
              "version_major": 2,
              "version_minor": 0,
              "model_id": "b2514ad61d784100af4c778c09ff671c"
            }
          },
          "metadata": {}
        }
      ]
    },
    {
      "cell_type": "markdown",
      "source": [
        "Get text from web page"
      ],
      "metadata": {
        "id": "Z_KOgPH5IuyL"
      }
    },
    {
      "cell_type": "code",
      "source": [
        "def search_urls_space_news():\n",
        "  URL = \"https://www.google.com/search?q=nasa+news&tbm=nws\"\n",
        "  r = requests.get(URL)\n",
        "  soup = BeautifulSoup(r.text, 'html.parser')\n",
        "  atags = soup.find_all(['a'])\n",
        "  hrefs = [link['href'] for link in atags]\n",
        "  return hrefs\n",
        ""
      ],
      "metadata": {
        "id": "h41uwggT4OK7"
      },
      "execution_count": 24,
      "outputs": []
    },
    {
      "cell_type": "code",
      "source": [
        "hrefs = search_urls_space_news()"
      ],
      "metadata": {
        "id": "y2MFVbQ4IuhT"
      },
      "execution_count": 25,
      "outputs": []
    },
    {
      "cell_type": "code",
      "source": [
        "exclude_list = ['maps', 'policies', 'preferences', 'accounts', 'support']"
      ],
      "metadata": {
        "id": "pNwMlDrpKAmM"
      },
      "execution_count": 26,
      "outputs": []
    },
    {
      "cell_type": "code",
      "source": [
        "def strip_unwanted_urls(urls, exclude_list):\n",
        "    val = []\n",
        "    for url in urls:\n",
        "        if 'https://' in url and not any(exclude_word in url for exclude_word in exclude_list):\n",
        "            res = re.findall(r'(https?://\\S+)', url)[0].split('&')[0]\n",
        "            val.append(res)\n",
        "    return list(set(val))"
      ],
      "metadata": {
        "id": "6-9Wn4jv-wH_"
      },
      "execution_count": 27,
      "outputs": []
    },
    {
      "cell_type": "code",
      "source": [
        "cleaned_urls = strip_unwanted_urls(hrefs, exclude_list)\n",
        "cleaned_urls"
      ],
      "metadata": {
        "colab": {
          "base_uri": "https://localhost:8080/"
        },
        "id": "vB7-BDxp-1jA",
        "outputId": "b4faa1f8-3b7f-45e6-debb-a0e3462333ba"
      },
      "execution_count": 31,
      "outputs": [
        {
          "output_type": "execute_result",
          "data": {
            "text/plain": [
              "['https://www.wdbj7.com/2023/09/21/nasa-says-there-is-an-asteroid-its-monitoring-that-could-potentially-impact-earth/',\n",
              " 'https://www.livemint.com/science/nasa-releases-new-mosaic-of-moons-shackleton-crater-offers-closer-look-of-lunar-south-pole-11695265296703.html',\n",
              " 'https://www.catholicnewsagency.com/news/255432/shrine-of-virgin-of-flowers-whose-name-traveled-to-mars-with-nasa-desecrated',\n",
              " 'https://www.space.com/news/live/nasa-osiris-rex-asteroid-bennu-sample-return-updates',\n",
              " 'https://www.washingtonpost.com/nation/2023/09/21/nasa-longest-space-mission-record-frank-rubio/',\n",
              " 'https://tech.hindustantimes.com/tech/news/nasa-shares-stunning-moon-mosaic-on-instagram-71695353454263.html',\n",
              " 'https://spacenews.com/nasa-mars-sample-return-budget-and-schedule-unrealistic-independent-review-concludes/',\n",
              " 'https://www.nasa.gov/press-release/nasa-finalizes-coverage-for-first-us-asteroid-sample-landing',\n",
              " 'https://tech.hindustantimes.com/tech/news/trouble-for-aditya-l1-nasa-parker-solar-probe-gets-caught-in-a-dangerous-cme-whirlwind-71695101307001.html',\n",
              " 'https://www.thehindu.com/data/nasa-shifts-ufo-debate-from-sensationalism-to-science-data/article67325922.ece',\n",
              " 'https://webbtelescope.org/contents/news-releases/2023/news-2023-113',\n",
              " 'https://www.cnn.com/videos/business/2023/09/21/frank-rubio-nasa-astronaut-us-space-record-fisher-dnt-ctm-vpx.cnn',\n",
              " 'https://abcnews.go.com/US/asteroid-passes-nearby-hit-earth-future-nasa/story%3Fid%3D103322457',\n",
              " 'https://www.nbcnews.com/now/video/trailblazing-nasa-astronaut-will-be-first-woman-on-lunar-mission-193272901793',\n",
              " 'https://www.space.com/nasa-curiosity-rover-mars-gediz-vallis-ridge',\n",
              " 'https://www.cbsnews.com/news/nasa-mosaic-image-reveals-unprecedented-detail-moons-south-pole-region/',\n",
              " 'https://www.google.com/search?q%3Dnasa%2Bnews%26tbm%3Dnws%26pccc%3D1',\n",
              " 'https://www.jpl.nasa.gov/news/venus-on-earth-nasas-veritas-science-team-studies-volcanic-iceland',\n",
              " 'https://phys.org/news/2023-09-autonomous-nasa-perseverance-science-mars.html']"
            ]
          },
          "metadata": {},
          "execution_count": 31
        }
      ]
    },
    {
      "cell_type": "code",
      "source": [
        "def get_text_from_urls(urls):\n",
        "  articles = []\n",
        "  titles = []\n",
        "  for url in urls:\n",
        "    r = requests.get(url)\n",
        "    soup = BeautifulSoup(r.text, 'html.parser')\n",
        "    url_h1_tags = soup.find_all(['h1'])\n",
        "    url_titles = [title.text.strip() for title in url_h1_tags]\n",
        "    titles.append(url_titles)\n",
        "\n",
        "    paragraphs = soup.find_all(['p'])\n",
        "    text = [paragraph.text for paragraph in paragraphs]\n",
        "    words = ' '.join(text)\n",
        "    article = ' '.join(words)\n",
        "    articles.append(article)\n",
        "  return titles, articles"
      ],
      "metadata": {
        "id": "m5lSLQSQA2x_"
      },
      "execution_count": 60,
      "outputs": []
    },
    {
      "cell_type": "code",
      "source": [
        "titles, articles = get_text_from_urls(cleaned_urls)"
      ],
      "metadata": {
        "colab": {
          "base_uri": "https://localhost:8080/"
        },
        "id": "-mw2wsaTDdYv",
        "outputId": "a3aed98e-38c5-4875-a3d6-2b6da8f587f3"
      },
      "execution_count": 61,
      "outputs": [
        {
          "output_type": "stream",
          "name": "stderr",
          "text": [
            "<ipython-input-60-c1bf5b464b98>:6: MarkupResemblesLocatorWarning: The input looks more like a filename than markup. You may want to open this file and pass the filehandle into Beautiful Soup.\n",
            "  soup = BeautifulSoup(r.text, 'html.parser')\n"
          ]
        }
      ]
    },
    {
      "cell_type": "code",
      "source": [
        "articles"
      ],
      "metadata": {
        "colab": {
          "base_uri": "https://localhost:8080/"
        },
        "id": "x9BByISMDnO3",
        "outputId": "b9242552-27f7-469f-9f6c-7e5596031e87"
      },
      "execution_count": 63,
      "outputs": [
        {
          "output_type": "execute_result",
          "data": {
            "text/plain": [
              "['( G r a y   N e w s )   -   N A S A   s a y s   a n   a s t e r o i d   c a l l e d   B e n n u   h a s   a   c h a n c e   o f   i m p a c t i n g   E a r t h   l a t e   i n   t h e   2 2 n d   c e n t u r y .   A c c o r d i n g   t o   s c i e n t i s t s ,   B e n n u   w i l l   m a k e   a   c l o s e   f l y b y   o f   E a r t h   i n   2 1 3 5   w i t h   a   c h a n c e   o f   i m p a c t i n g   o u r   p l a n e t   i n   2 1 8 2 .   “ D u r i n g   t h e   f l y b y ,   t h e r e   i s   a n   e x t r e m e l y   s m a l l   c h a n c e   t h a t   B e n n u   w i l l   p a s s   t h r o u g h   a   g r a v i t a t i o n a l   k e y h o l e   –   a   r e g i o n   o f   s p a c e   t h a t   w o u l d   s e t   i t   o n   j u s t   t h e   r i g h t   p a t h   t o   i m p a c t   E a r t h , ”   N A S A   s h a r e d .   T h e   r e s e a r c h   t e a m   s a i d   i t   i s   d i f f i c u l t   t o   d e t e r m i n e   t h e   o d d s   o f   t h i s   h a p p e n i n g ,   b u t   n e w   d a t a   f r o m   N A S A ’ s   O s i r i s - R e x   s p a c e c r a f t   h a v e   a l l o w e d   s c i e n t i s t s   t o   b e t t e r   m o d e l   h o w   B e n n u ’ s   o r b i t   w i l l   e v o l v e   o v e r   t i m e .   R e s e a r c h   f r o m   t h e   O s i r i s - R e x   s c i e n c e   t e a m   g i v e s   B e n n u   a   . 0 3 7 %   c h a n c e   o f   i m p a c t i n g   E a r t h   o n   S e p t .   2 4 ,   2 1 8 2 .   T h e   A s s o c i a t e d   P r e s s   r e p o r t s   t h a t   B e n n u   w a s   d i s c o v e r e d   i n   1 9 9 9   a n d   i s   b e l i e v e d   t o   b e   a   r e m n a n t   o f   a   m u c h   l a r g e r   a s t e r o i d   t h a t   c o l l i d e d   w i t h   a n o t h e r   s p a c e   r o c k .   S c i e n t i s t s   s a y   i t ’ s   r o u g h l y   t h e   h e i g h t   o f   t h e   E m p i r e   S t a t e   B u i l d i n g ,   a n d   i t s   b l a c k   r u g g e d   s u r f a c e   i s   p a c k e d   w i t h   b o u l d e r s .   B e n n u   o r b i t s   t h e   s u n   e v e r y   1 4   m o n t h s   w h i l e   r o t a t i n g   e v e r y   f o u r   h o u r s .   S c i e n t i s t s   b e l i e v e   B e n n u   h o l d s   l e f t o v e r s   f r o m   t h e   s o l a r   s y s t e m ’ s   f o r m a t i o n   4 . 5   b i l l i o n   y e a r s   a g o .   T h i s   w e e k e n d ,   a   N A S A   s p a c e c r a f t   w i l l   r e p o r t e d l y   f l y   b y   E a r t h   a n d   d r o p   o f f   w h a t   i s   e x p e c t e d   t o   b e   a t   l e a s t   a   c u p f u l   o f   r u b b l e   t h a t   w a s   g r a b b e d   f r o m   B e n n u .   T h e   t e a m   s a i d   i t   p l a n s   t o   s h a r e   i t s   f i n d i n g s   f r o m   t h e   a s t e r o i d   w i t h   t h e   p u b l i c   o n   O c t .   1 1 .   C o p y r i g h t   2 0 2 3   G r a y   M e d i a   G r o u p ,   I n c .   A l l   r i g h t s   r e s e r v e d .',\n",
              " \"            N A S A   o n   S e p t e m b e r   1 9   u n v e i l e d   m o s a i c   o f   t h e   S h a c k l e t o n   C r a t e r   t h a t   d e m o n s t r a t e s   t h e   c a p a b i l i t i e s   o f   t w o   l u n a r   o r b i t i n g   c a m e r a s   w o r k i n g   t o g e t h e r   t o   p r o v i d e   i n s i g h t   i n t o   l u n a r   S o u t h   P o l e   r e g i o n .   T h e   i m a g e   r e l e a s e d   b y   N A S A   w a s   c o n s t r u c t e d   u s i n g   d a t a   f r o m   L u n a r   R e c o n n a i s s a n c e   O r b i t e r   C a m e r a   ( L R O C )   a n d   S h a d o w C a m .   \\xa0         L R O C   h a s   b e e n   o p e r a t i o n a l   s i n c e   2 0 0 9   a n d   e x c e l s   a t   c a p t u r i n g   d e t a i l e d   l u n a r   s u r f a c e   i m a g e r y   b u t   f a c e s   l i m i t a t i o n s   i n   p h o t o g r a p h i n g   s h a d o w e d   r e g i o n s   o f   t h e   M o o n   t h a t   r e m a i n   d e v o i d   o f   d i r e c t   s u n l i g h t   c a l l e d   p e r m a n e n t l y   s h a d o w e d   r e g i o n s . \\xa0     A l s o   r e a d :   C a n   I S R O ' s   A d i t y a   L 1   m i s s i o n   f a c e   a n y   d a n g e r   a f t e r   N A S A ' s   P a r k e r   S o l a r   P r o b e   f a c e s   m o s t   p o w e r f u l   C M E s ?   D e t a i l s   h e r e S h a d o w C a m   i s   a   N A S A   i n s t r u m e n t   o n b o a r d   D a n u r i   s p a c e c r a f t   f r o m   K o r e a   A e r o s p a c e   R e s e a r c h   I n s t i t u t e   ( K A R I ) .   I t   w a s   d e v e l o p e d   b y   M a l i n   S p a c e   S c i e n c e   S y s t e m s   a n d   A r i z o n a   S t a t e   U n i v e r s i t y   a n d   w a s   l a u n c h e d   i n   A u g u s t   2 0 2 2 .   I t   i s   e x t r e m e l y   l i g h t   s e n s i t i v e ,   2 0 0   t i m e s   g r e a t e r   t h a n   L R O C .   T h i s   f e a t u r e   e n a b l e s   S h a d o w C a m   t o   u n v e i l   f e a t u r e s   a n d   t e r r a i n   t h a t   L R O C   c a n n o t   c a p t u r e . \\xa0                 S h a d o w C a m   r e l i e s   o n   s u n l i g h t   r e f l e c t e d   o f f   l u n a r   g e o l o g i c a l   f e a t u r e s   o r   E a r t h   t o   c a p t u r e   s h a d o w e d   a r e a   i m a g e s .   T h e   h i g h   l i g h t   s e n s i t i v i t y   o f   S h a d o w C a m   p r e v e n t s   i t   f r o m   c a p t u r i n g   i m a g e s   o f   p a r t s   o f   t h e   M o o n   d i r e c t l y   i l l u m i n a t e d   b y   s u n l i g h t ,   l e a d i n g   t o   s a t u r a t e d   r e s u l t s . \\xa0         B y   c o m b i n i n g   i m a g e s   f r o m   b o t h   c a m e r a ' s ,   r e s e a r c h e r s   c a n   g e n e r a t e   a   c o m p r e h e n s i v e   v i s u a l   r e p r e s e n t a t i o n   o f   t h e   l u n a r   l a n d s c a p e   a n d   g e o l o g i c a l   c h a r a c t e r i s t i c s   o f   b o t h   t h e   b r i g h t e s t   a n d   d a r k e s t   p a r t s   o f   t h e   m o o n . \\xa0         I n   t h i s   m o s a i c ,   t h e   p e r m a n e n t l y   s h a d o w e d   s e c t i o n s ,   i n c l u d i n g   S h a c k l e t o n   C r a t e r ' s   i n t e r i o r   f l o o r   a n d   w a l l s   a r e   a   r e s u l t   o f   S h a d o w C a m   i m a g e r y ,   w h i l e   t h e   s u n l i t   a r e a s   s u c h   a s   t h e   c r a t e r ' s   r i m   a n d   f l a n k s ,   a r e   a   r e s u l t   o f   i m a g e s   c a p t u r e d   b y   L R O C .     A l s o   r e a d :   L i f e   b e y o n d   E a r t h ?   N A S A   f i n d s   t e n t a t i v e   e v i d e n c e   o f   l i f e   o n   o c e a n i c   b o d y \\xa0 S h a d o w C a m ' s   h a s   e n a b l e d   N A S A   t o   c a p t u r e   i m a g e s   o f   M o o n ' s   p e r m a n e n t l y   s h a d o w e d   r e g i o n s   w i t h   e x c e p t i o n a l   d e t a i l s .   I t   h a s   p r o v i d e d   s c i e n t i s t s   w i t h   a   m u c h   b e t t e r   v i e w   o f   t h e   l u n a r   S o u t h   P o l e   r e g i o n   .   L u n a r   S o u t h   P o l e   r e m a i n s   u n e x p l o r e d   b y   h u m a n s   a n d   h e n c e   i s   o f   g r e a t   i n t e r e s t   f o r   s c i e n c t i f i c   e x p l o r a t i o n .   I t   i s   b e l i e v e d   t h a t   i t   c o n t a i n s   i c e   d e p o s i t s   o r   o t h e r   f r o z e n   v o l a t i l e s .   S i n c e   i c e   i s   c o m p o s e d   o f   h y d r o g e n   a n d   o x y g e n   w h i c h   c a n   b e   u s e d   a s   r o c k e t   f u e l   o r   f o r   l i f e   s u p p o r t   s y s t e m s .   \\n \\n R e l a t e d   P r e m i u m   S t o r i e s \\n \\n \\n \\n \\n \\n \\n \\n \\n I n s i d e   t h e   b u z z i n g   b u s i n e s s   o f   s l e e p \\n \\n \\n \\n \\n \\n \\n \\n \\n \\n P r a g y a n   i s   t a k i n g   a   n a p .   W h a t   d i d   t h e   r o v e r   f i n d ? \\n \\n \\n \\n \\n \\n \\n \\n \\n \\n M i n t   E x p l a i n e r :   U n d e r s t a n d i n g   I M D ' s   S e p t e m b e r   r a i n f a l l   p r o j e c t i o n \\n \\n \\n \\n \\n \\n \\n \\n \\n \\n W e   h a v e   l i f t - o f f :   T i m e   f o r   I n d i a ’ s   p l a c e   i n   t h e   s u n \\n \\n \\n \\n \\n \\n \\n \\n \\n \\n G i a n t   l e a p   f o r   I n d i a :   W i n s   v i t a l   r a c e   t o   m o o n \\n \\n \\n \\n \\n \\n \\n \\n \\n \\n N e w   F r o n t i e r s :   F o u r   s c i e n t i f i c   d i s c o v e r i e s   t h a t   c a n   c h a n g e   o u r   w o r l d \\n \\n \\n \\n \\n \\n \\n \\n \\n \\n W h y   N I V   P u n e   s t u d y   o n   p r e s e n c e   o f   C o v i d   v i r u s   i n   u r i n e   s a m p l e s   i s   i m p o r t a n t \\n \\n \\n \\n \\n \\n \\n \\n \\n \\n W h a t   e x p l a i n s   t h e   ‘ p i n k   e y e ’   o u t b r e a k   i n   I n d i a ? \\n \\n \\n \\n \\n \\n \\n \\n \\n \\n D i a b e t e s :   T h e   t i c k i n g   t i m e   b o m b \\n \\n \\n \\n \\n \\n \\n \\n \\n \\n H o w   h e a l t h y   i s   y o u r   f a v o u r i t e   f r u i t   d r i n k ? \\n \\n \\n \\n \\n \\n \\n E x p l o r e   P r e m i u m \\n \\n \\n \\n \\n                                 C a t c h   a l l   t h e   B u s i n e s s   N e w s ,   M a r k e t   N e w s ,   B r e a k i n g   N e w s   E v e n t s   a n d   L a t e s t   N e w s   U p d a t e s   o n   L i v e   M i n t . \\n                 D o w n l o a d   T h e   M i n t   N e w s   A p p   t o   g e t   D a i l y   M a r k e t   U p d a t e s . \\n         \\n M o r e \\n L e s s \\n   \\n \\t \\t U p d a t e d :   2 1   S e p   2 0 2 3 ,   0 2 : 4 2   P M   I S T \\n \\t \\n \\n \\n \\n \\n \\n   S h a d o w C a m   i s   a   N A S A   i n s t r u m e n t   o n b o a r d   D a n u r i   s p a c e c r a f t   f r o m   K o r e a   A e r o s p a c e   R e s e a r c h   I n s t i t u t e   ( K A R I ) .   I t   w a s   d e v e l o p e d   b y   M a l i n   S p a c e   S c i e n c e   S y s t e m s   a n d   A r i z o n a   S t a t e   U n i v e r s i t y   a n d   w a s   l a u n c h e d   i n   A u g u s t   2 0 2 2 .   I t   i s   e x t r e m e l y   l i g h t   s e n s i t i v e ,   2 0 0   t i m e s   g r e a t e r   t h a n   L R O C .   T h i s   f e a t u r e   e n a b l e s   S h a d o w C a m   t o   u n v e i l   f e a t u r e s   a n d   t e r r a i n   t h a t   L R O C   c a n n o t   c a p t u r e . \\xa0         S h a d o w C a m   r e l i e s   o n   s u n l i g h t   r e f l e c t e d   o f f   l u n a r   g e o l o g i c a l   f e a t u r e s   o r   E a r t h   t o   c a p t u r e   s h a d o w e d   a r e a   i m a g e s .   T h e   h i g h   l i g h t   s e n s i t i v i t y   o f   S h a d o w C a m   p r e v e n t s   i t   f r o m   c a p t u r i n g   i m a g e s   o f   p a r t s   o f   t h e   M o o n   d i r e c t l y   i l l u m i n a t e d   b y   s u n l i g h t ,   l e a d i n g   t o   s a t u r a t e d   r e s u l t s . \\xa0         B y   c o m b i n i n g   i m a g e s   f r o m   b o t h   c a m e r a ' s ,   r e s e a r c h e r s   c a n   g e n e r a t e   a   c o m p r e h e n s i v e   v i s u a l   r e p r e s e n t a t i o n   o f   t h e   l u n a r   l a n d s c a p e   a n d   g e o l o g i c a l   c h a r a c t e r i s t i c s   o f   b o t h   t h e   b r i g h t e s t   a n d   d a r k e s t   p a r t s   o f   t h e   m o o n . \\xa0         I n   t h i s   m o s a i c ,   t h e   p e r m a n e n t l y   s h a d o w e d   s e c t i o n s ,   i n c l u d i n g   S h a c k l e t o n   C r a t e r ' s   i n t e r i o r   f l o o r   a n d   w a l l s   a r e   a   r e s u l t   o f   S h a d o w C a m   i m a g e r y ,   w h i l e   t h e   s u n l i t   a r e a s   s u c h   a s   t h e   c r a t e r ' s   r i m   a n d   f l a n k s ,   a r e   a   r e s u l t   o f   i m a g e s   c a p t u r e d   b y   L R O C .     A l s o   r e a d :   L i f e   b e y o n d   E a r t h ?   N A S A   f i n d s   t e n t a t i v e   e v i d e n c e   o f   l i f e   o n   o c e a n i c   b o d y \\xa0 S h a d o w C a m ' s   h a s   e n a b l e d   N A S A   t o   c a p t u r e   i m a g e s   o f   M o o n ' s   p e r m a n e n t l y   s h a d o w e d   r e g i o n s   w i t h   e x c e p t i o n a l   d e t a i l s .   I t   h a s   p r o v i d e d   s c i e n t i s t s   w i t h   a   m u c h   b e t t e r   v i e w   o f   t h e   l u n a r   S o u t h   P o l e   r e g i o n   .   L u n a r   S o u t h   P o l e   r e m a i n s   u n e x p l o r e d   b y   h u m a n s   a n d   h e n c e   i s   o f   g r e a t   i n t e r e s t   f o r   s c i e n c t i f i c   e x p l o r a t i o n .   I t   i s   b e l i e v e d   t h a t   i t   c o n t a i n s   i c e   d e p o s i t s   o r   o t h e r   f r o z e n   v o l a t i l e s .   S i n c e   i c e   i s   c o m p o s e d   o f   h y d r o g e n   a n d   o x y g e n   w h i c h   c a n   b e   u s e d   a s   r o c k e t   f u e l   o r   f o r   l i f e   s u p p o r t   s y s t e m s .   \\n \\n R e l a t e d   P r e m i u m   S t o r i e s \\n \\n \\n \\n \\n \\n \\n \\n \\n I n s i d e   t h e   b u z z i n g   b u s i n e s s   o f   s l e e p \\n \\n \\n \\n \\n \\n \\n \\n \\n \\n P r a g y a n   i s   t a k i n g   a   n a p .   W h a t   d i d   t h e   r o v e r   f i n d ? \\n \\n \\n \\n \\n \\n \\n \\n \\n \\n M i n t   E x p l a i n e r :   U n d e r s t a n d i n g   I M D ' s   S e p t e m b e r   r a i n f a l l   p r o j e c t i o n \\n \\n \\n \\n \\n \\n \\n \\n \\n \\n W e   h a v e   l i f t - o f f :   T i m e   f o r   I n d i a ’ s   p l a c e   i n   t h e   s u n \\n \\n \\n \\n \\n \\n \\n \\n \\n \\n G i a n t   l e a p   f o r   I n d i a :   W i n s   v i t a l   r a c e   t o   m o o n \\n \\n \\n \\n \\n \\n \\n \\n \\n \\n N e w   F r o n t i e r s :   F o u r   s c i e n t i f i c   d i s c o v e r i e s   t h a t   c a n   c h a n g e   o u r   w o r l d \\n \\n \\n \\n \\n \\n \\n \\n \\n \\n W h y   N I V   P u n e   s t u d y   o n   p r e s e n c e   o f   C o v i d   v i r u s   i n   u r i n e   s a m p l e s   i s   i m p o r t a n t \\n \\n \\n \\n \\n \\n \\n \\n \\n \\n W h a t   e x p l a i n s   t h e   ‘ p i n k   e y e ’   o u t b r e a k   i n   I n d i a ? \\n \\n \\n \\n \\n \\n \\n \\n \\n \\n D i a b e t e s :   T h e   t i c k i n g   t i m e   b o m b \\n \\n \\n \\n \\n \\n \\n \\n \\n \\n H o w   h e a l t h y   i s   y o u r   f a v o u r i t e   f r u i t   d r i n k ? \\n \\n \\n \\n \\n \\n \\n E x p l o r e   P r e m i u m \\n \\n \\n \\n \\n                                 C a t c h   a l l   t h e   B u s i n e s s   N e w s ,   M a r k e t   N e w s ,   B r e a k i n g   N e w s   E v e n t s   a n d   L a t e s t   N e w s   U p d a t e s   o n   L i v e   M i n t . \\n                 D o w n l o a d   T h e   M i n t   N e w s   A p p   t o   g e t   D a i l y   M a r k e t   U p d a t e s . \\n         \\n M o r e \\n L e s s \\n   \\n \\t \\t U p d a t e d :   2 1   S e p   2 0 2 3 ,   0 2 : 4 2   P M   I S T \\n \\t \\n \\n \\n \\n \\n \\n   S h a d o w C a m ' s   h a s   e n a b l e d   N A S A   t o   c a p t u r e   i m a g e s   o f   M o o n ' s   p e r m a n e n t l y   s h a d o w e d   r e g i o n s   w i t h   e x c e p t i o n a l   d e t a i l s .   I t   h a s   p r o v i d e d   s c i e n t i s t s   w i t h   a   m u c h   b e t t e r   v i e w   o f   t h e   l u n a r   S o u t h   P o l e   r e g i o n   .   L u n a r   S o u t h   P o l e   r e m a i n s   u n e x p l o r e d   b y   h u m a n s   a n d   h e n c e   i s   o f   g r e a t   i n t e r e s t   f o r   s c i e n c t i f i c   e x p l o r a t i o n .   I t   i s   b e l i e v e d   t h a t   i t   c o n t a i n s   i c e   d e p o s i t s   o r   o t h e r   f r o z e n   v o l a t i l e s .   S i n c e   i c e   i s   c o m p o s e d   o f   h y d r o g e n   a n d   o x y g e n   w h i c h   c a n   b e   u s e d   a s   r o c k e t   f u e l   o r   f o r   l i f e   s u p p o r t   s y s t e m s .   D o w n l o a d   t h e   M i n t   a p p   a n d   r e a d   p r e m i u m   s t o r i e s   L o g   i n   t o   o u r   w e b s i t e   t o   s a v e   y o u r   b o o k m a r k s .   I t ' l l   j u s t   t a k e   a   m o m e n t .   Y o u   a r e   j u s t   o n e   s t e p   a w a y   f r o m   c r e a t i n g   y o u r   w a t c h l i s t !   O o p s !   L o o k s   l i k e   y o u   h a v e   e x c e e d e d   t h e   l i m i t   t o   b o o k m a r k   t h e   i m a g e .   R e m o v e   s o m e   t o   b o o k m a r k   t h i s   i m a g e .   Y o u r   s e s s i o n   h a s   e x p i r e d ,   p l e a s e   l o g i n   a g a i n .   Y o u   a r e   n o w   s u b s c r i b e d   t o   o u r   n e w s l e t t e r s .   I n   c a s e   y o u   c a n ’ t   f i n d   a n y   e m a i l   f r o m   o u r   s i d e ,   p l e a s e   c h e c k   t h e   s p a m   f o l d e r .   T h i s   i s   a   s u b s c r i b e r   o n l y   f e a t u r e   S u b s c r i b e   N o w   t o   g e t   d a i l y   u p d a t e s   o n   W h a t s A p p\",\n",
              " \"B y   N i c o l á s   d e   C á r d e n a s     A C I   P r e n s a   S t a f f ,   S e p   2 0 ,   2 0 2 3   /   1 8 : 3 0   p m   O u r   L a d y   o f   F l o w e r s   i s   o n e   o f   t h e   m o s t   n o t e d   M a r i a n   d e v o t i o n s   i n   t h e   D i o c e s e   o f   M a l a g a   i n   S p a i n   a n d   h e r   d e v o t e e s   w e r e   d i s h e a r t e n e d   t o   l e a r n   S e p t .   1 9   t h a t   h e r   s h r i n e ,   l o c a t e d   i n   t h e   t o w n   o f   Á l o r a ,   o f   w h i c h   s h e   i s   t h e   p a t r o n e s s ,   h a d   b e e n   d e s e c r a t e d .   T h e   i n c i d e n t   t o o k   p l a c e   M o n d a y   n i g h t   b u t   w a s   n o t   d i s c o v e r e d   u n t i l   e a r l y   T u e s d a y ,   w h e n   t h e   p e r s o n   i n   c h a r g e   o f   o p e n i n g   t h e   c h u r c h   n o t i c e d   t h e   d a m a g e   a n d   t h e   t h e f t .   A c c o r d i n g   t o   t h e   D i o c e s e   o f   M a l a g a ,   t h e   a s s a i l a n t s   e n t e r e d   b y   n e a t l y   f o r c i n g   o p e n   t h e   g r a t i n g   o n   t h e   s a c r i s t y   w i n d o w .   F r o m   t h e r e ,   t h e y   e n t e r e d   t h e   c h u r c h ,   w h e r e   t h e y   d e s e c r a t e d   t h e   t a b e r n a c l e   a n d   t h e   i m a g e   o f   t h e   V i r g i n .   I n   a d d i t i o n   t o   l e a v i n g   t h e   c o n s e c r a t e d   h o s t s   t h a t   w e r e   r e s e r v e d   i n   t h e   t a b e r n a c l e   s c a t t e r e d   o n   t h e   f l o o r ,   t h e   t h i e v e s   t o o k   a   c i b o r i u m   a n d   t h e   m a n t l e   o f   t h e   V i r g i n   a n d   C h i l d   J e s u s   t h a t   i s   p a r t   o f   t h e   i m a g e ,   w h i c h   i s   k e p t   i n   a n   a l c o v e   w i t h   t e m p e r e d   g l a s s .   A l o n g   w i t h   t h e   m a n t l e ,   t h e   t h i e v e s   t o o k   “ s m a l l   j e w e l r y   l e f t   b y   t h e   f a i t h f u l ”   d u r i n g   t h e i r   r e c e n t   S e p t .   8   p i l g r i m a g e .   S o m e   c o l l e c t i o n   b o x e s   w h e r e   t h e   f a i t h f u l   d e p o s i t   t h e i r   a l m s   w e r e   a l s o   b r o k e n   i n t o .   T h e   i n c i d e n t   w a s   r e p o r t e d   t o   t h e   C i v i l   G u a r d .   I n   a   j o i n t   s t a t e m e n t   p o s t e d   o n   X   S e p t .   1 9 ,   t h e   p a s t o r   o f   t h e   s h r i n e ,   F a t h e r   F e l i p e   M a n u e l   G a l l e g o ;   t h e   l e a d e r   o f   t h e   B r o t h e r h o o d   o f   O u r   L a d y   o f   F l o r e s ,   Á l v a r o   F e r n á n d e z ;   a n d   t h e   m a y o r   o f   Á l o r a ,   F r a n c i s c o   J e s ú s   M a r t í n e z ,   a n n o u n c e d   t h a t   t h e   p l a c e   “ w i l l   r e m a i n   c l o s e d ”   u n t i l   t h e   r e p a i r s   a r e   c o m p l e t e d   a n d   t h a t   t h e   i m a g e   o f   t h e   V i r g i n   “ w i l l   r e m a i n   i n   a   r e s e r v e d   p l a c e   f o r   p r o t e c t i o n , ”   w h i c h   t h e   B r o t h e r h o o d   o f   O u r   L a d y   o f   F l o w e r s   s t a t e d   i s   “ t h e   h i g h   a l t a r   o f   t h e   C h u r c h   o f   t h e   T r u e   C r o s s ”   i n   Á l o r a .   T h e   s h r i n e   o f   t h e   V i r g i n   o f   F l o r e s   w a s   f o u n d e d   b y   Q u e e n   I s a b e l l a   ( 1 4 5 1 – 1 5 0 4 )   a n d   i s   l o c a t e d   1 . 2 5   m i l e s   f r o m   t h e   t o w n   o f   Á l o r a .   A   c o n v e n t   o f   F r a n c i s c a n   R e c o l l e c t s   w a s   b u i l t   t h e r e   a n d   t h e y   r e m a i n e d   t h e r e   u n t i l   1 8 3 5 ,   w h e n   t h e y   w e r e   e x p e l l e d   b y   t h e   s o - c a l l e d   C o n f i s c a t i o n   o f   M e n d i z á b a l .   T h e   n a m e   o f   t h e   V i r g i n   o f   F l o r e s   h a s   g o n e   b e y o n d   d i o c e s a n   d e v o t i o n   i n   M a l a g a   i n   a   p a r t i c u l a r   w a y ,   a s   i t   w a s   a m o n g   t h e   1 5 0 , 0 0 0   r e f e r e n c e s   t o   l i f e   o n   E a r t h   t h a t   w e r e   p l a c e d   a b o a r d   N A S A ' s   P e r s e v e r a n c e   s p a c e   p r o b e   s e n t   t o   M a r s   i n   2 0 2 0 . \\xa0   O n   F e b .   1 8 ,   2 0 2 1 ,   t h e   s p a c e   m i s s i o n   r o b o t   l a n d e d   o n   t h e   s u r f a c e   o f   M a r s   a f t e r   s e v e n   m o n t h s   o f   t r a v e l .   O n   a   h a r d   d i s k   i n   t h e   r o b o t   w a s   i n c l u d e d   a   r e f e r e n c e   t o   t h e   p a t r o n e s s   o f   Á l o r a   t h a n k s   t o   S p a n i s h   A i r   F o r c e   S g t .   F r a n c i s c o   J o s é   F e r n á n d e z .   U p o n   l e a r n i n g   t h a t   N A S A   h a d   o p e n e d   t h e   p o s s i b i l i t y   o f   i n c l u d i n g   t e r r e s t r i a l   r e f e r e n c e s   i n   t h e   r o b o t ,   h e   r e g i s t e r e d   t h e   n a m e   o f   t h e   V i r g i n   o f   F l o w e r s . \\xa0   I n   a   r e p o r t   p u b l i s h e d   i n   D i a r i o   S u r   i n   2 0 2 0 ,   F e r n á n d e z   e x p l a i n e d   t h e   r e a s o n s   f o r   t h i s   a c t i o n :   “ I   h a v e   a l w a y s   b e e n   a   [ m e m b e r ]   o f   t h e   B r o t h e r h o o d ,   a l t h o u g h   I   c a n   [ g e t   t o   t h e ]   t o w n   v e r y   l i t t l e ;   t h a t ’ s   w h y   I   w a n t e d   t o   d o   s o m e t h i n g   n i c e   f o r   t h e m   a n d   t h i s   o c c u r r e d   t o   m e .   I t   i s   s t i l l   e x c i t i n g   t o   k n o w   t h a t   f o r   a   f e w   y e a r s   h e r   n a m e   w i l l   b e   t h e r e ,   i n   s p a c e ,   a m o n g   t h e   v a l l e y s   a n d   d e s e r t s   o f   M a r s . ”   T h i s   s t o r y   w a s   f i r s t   p u b l i s h e d   b y   A C I   P r e n s a ,   C N A ’ s   S p a n i s h - l a n g u a g e   n e w s   p a r t n e r .   I t   h a s   b e e n   t r a n s l a t e d   a n d   a d a p t e d   b y   C N A .   Y o u r   m o n t h l y   d o n a t i o n   w i l l   h e l p   o u r   t e a m   c o n t i n u e   r e p o r t i n g   t h e   t r u t h ,   w i t h   f a i r n e s s ,   i n t e g r i t y ,   a n d   f i d e l i t y   t o   J e s u s   C h r i s t   a n d   h i s   C h u r c h .   S o u r c e s   a t   t h e   d i o c e s e   t o l d   A C I   P r e n s a ,   C N A ’ s   S p a n i s h - l a n g u a g e   n e w s   p a r t n e r ,   t h a t   c h a p l a i n s   w i t n e s s e d   t h e   t a b e r n a c l e   h a d   b e e n   p r o f a n e d   o n   t w o   o c c a s i o n s .   O n   M o n d a y ,   a   c o n t r i b u t o r   t o   a   S p a n i s h   r a d i o   s t a t i o n   n e w s   p r o g r a m   c l a i m e d   t h a t   S t .   T e r e s a   o f   C a l c u t t a   w a s   p a r t   o f   a   l i s t   o f   “ b a d   p e o p l e   w h o   d i d   t h i n g s   w e l l . ”   C N A   i s   a   s e r v i c e   o f   E W T N   N e w s ,   I n c .\",\n",
              " 'W h e n   y o u   p u r c h a s e   t h r o u g h   l i n k s   o n   o u r   s i t e ,   w e   m a y   e a r n   a n   a f f i l i a t e   c o m m i s s i o n .   H e r e ’ s   h o w   i t   w o r k s .   O n   S e p t .   2 4 ,   2 0 2 3 ,   N A S A \\' s   O S I R I S - R E x   m i s s i o n   w i l l   m a k e   h i s t o r y   b y   r e t u r n i n g   s a m p l e s   o f   t h e   a s t e r o i d   B e n n u   t o   E a r t h   a f t e r   s e v e n   y e a r s   i n   d e e p   s p a c e . \\xa0   L a u n c h e d   i n   2 0 1 6 ,   t h e   O S I R I S - R E x   s p a c e c r a f t   r e a c h e d   a s t e r o i d   B e n n u   i n   O c t o b e r   2 0 2 0   a n d   c o l l e c t e d   s a m p l e s   f r o m   t h e   n e a r - E a r t h   a s t e r o i d \\' s   s u r f a c e .   O n   S e p t .   2 4 ,   i t   w i l l   r e t u r n   t h o s e   s a m p l e s   i n   a   s p e c i a l   c a p s u l e   a n d   p a r a c h u t e ,   w i t h   l a n d i n g   s e t   f o r   1 0   a . m .   E D T   ( 1 4 0 0   G M T )   a t   D e p a r t m e n t   o f   D e f e n s e \\' s   U t a h   T e s t   a n d   T r a i n i n g   R a n g e   n e a r   D u g w a y ,   U t a h .   S e e   t h e   l a t e s t   o n   t h e \\xa0 a s t e r o i d   s a m p l e - r e t u r n \\' s   a p p r o a c h ,   l a n d i n g   a n d   s a m p l e   p r o c e s s i n g   h e r e .   O S I R I S - R E x   m i s s i o n   |   A s t e r o i d   B e n n u   | \\xa0 W h a t   a r e   a s t e r o i d s ?     W e   j u s t   g o t   a   l o o k   a t   N A S A \\' s   O S I R I S - R E x   p r o b e   i n   d e e p   s p a c e   a s   i t   c a r r i e s   i t s   a s t e r o i d   s a m p l e   t o w a r d   E a r t h .   T h e   E u r o p e a n   S p a c e   A g e n c y \\' s   ( E S A )   O p t i c a l   G r o u n d   S t a t i o n   t e l e s c o p e   i n   t h e   C a n a r y   I s l a n d s   c a p t u r e d   a n   i m a g e   o f \\xa0 t h e   O S I R I S - R E x \\xa0 s p a c e c r a f t   o n   S e p t .   1 6   a s   i t   s p e e d s   t o w a r d s   o u r   p l a n e t   w h e r e   i t   w i l l   r e l e a s e   i t s   s a m p l e   c a p s u l e   t o \\xa0 l a n d   i n   t h e   U t a h   d e s e r t   o n   S u n d a y   ( S e p t .   2 4 ) .   W h e n   t h e   i m a g e   w a s   t a k e n ,   O S I R I S - R E x   w a s   2 . 9   m i l l i o n   m i l e s   ( 4 . 6 6   m i l l i o n   k i l o m e t e r s )   a w a y   f r o m   E a r t h ,   h a v i n g   a l r e a d y   j o u r n e y e d   n e a r l y   1   b i l l i o n   m i l e s   ( 1 . 9   b i l l i o n   k i l o m e t e r s )   s i n c e   l e a v i n g   a s t e r o i d   B e n n u .   R e a d   m o r e :   O S I R I S - R E x   p r o b e   s p o t t e d   r e t u r n i n g   a s t e r o i d   s a m p l e   t o   E a r t h   ( p h o t o )   C u r i o u s   a b o u t   h o w   N A S A   p l a n s   t o   r e t u r n   i t s   f i r s t   a s t e r o i d   s a m p l e s   t o   E a r t h ?   T h e   s a m p l e s   o f   a s t e r o i d   B e n n u   c u r r e n t l y   s t o r e d   i n s i d e   a   c a p s u l e   o n b o a r d   N A S A \\' s   O S I R I S - R E x   s p a c e c r a f t   a r e   a b o u t   t o   f a c e   t h e   b u m p i e s t   p a r t   o f   t h e i r   1 . 2   b i l l i o n - m i l e   ( 1 . 9   b i l l i o n - k i l o m e t e r )   j o u r n e y   t o   o u r   p l a n e t .   T h e r e   a r e   s e v e r a l   k e y   s t e p s   i n   t h e   c a p s u l e \\' s   l a n d i n g   a n d   r e c o v e r y   i n   t h e   U t a h   d e s e r t   c u r r e n t l y   s c h e d u l e d   f o r   1 0 : 5 5   a . m .   E D T   ( 1 4 5 5   G M T )   o n   S u n d a y   ( S e p t .   2 4 ) .   R e a d   a l l   a b o u t   h o w   N A S A \\' s   O S I R I S - R E x   w i l l   b r i n g   a s t e r o i d   s a m p l e s   t o   E a r t h   i n   5   n o t - s o - e a s y   s t e p s .   A n d   w h i l e   y o u \\' r e   a t   i t ,   s u b m i t   y o u r   f a v o r i t e   r o c k - r e l a t e d   t r a c k s   f o r   T h i r d   R o c k   R a d i o \\' s   \" R e t u r n   o f   t h e   R o c k \"   O S I R I S - R E x   p l a y l i s t .   Y o u r   p i c k s   c o u l d   b e   c h o s e n   a n d   h i g h l i g h t e d   b y   N A S A \\' s   s o c i a l   m e d i a   c h a n n e l s   t o   c e l e b r a t e   t h e   a s t e r o i d   s a m p l e   r e t u r n !   R e a d   m o r e :   H o w   N A S A \\' s   O S I R I S - R E x   w i l l   b r i n g   a s t e r o i d   s a m p l e s   t o   E a r t h   i n   5   n o t - s o - e a s y   s t e p s   W h e n   a s t r o n o m e r s   s t u d i e d   O S I R I S - R E x \\' s   t a r g e t   a s t e r o i d   B e n n u   t h r o u g h   t e l e s c o p e s ,   t h e y   t h o u g h t   t h a t   t h e   r o c k   w o u l d   b e   a   s o l i d   m a s s .   T h e y   w e r e   i n   f o r   a   s u r p r i s e . \\xa0   O S I R I S - R E x   h a s n \\' t   y e t   r e t u r n e d   i t s   s a m p l e s   o f   a s t e r o i d   B e n n u ,   b u t   t h e   m i s s i o n   h a s   a l r e a d y   s h o w n   t h a t   a s t e r o i d s   a r e   m u c h   m o r e   t h a n   j u s t   r o c k s   f l o a t i n g   t h r o u g h   s p a c e .   I n   f a c t ,   t h e i r   g e o l o g y   a p p e a r s   s u r p r i s i n g l y   c o m p l e x .   A s   i t   t u r n s   o u t ,   B e n n u   i s   a   \" h e l l s c a p e \"   o f   l o o s e   g r a v e l   a n d   p o r o u s ,   l o w - d e n s i t y   b o u l d e r s ,   a c c o r d i n g   t o   K e v i n   W a l s h ,   l e a d   s c i e n t i s t   o f   t h e   R e g o l i t h   D e v e l o p m e n t   W o r k i n g   G r o u p   o f   t h e   O S I R I S - R E x   m i s s i o n .   T h e   s a m p l e s   o f   a s t e r o i d   B e n n u   t a k e n   b y   N A S A \\' s   O S I R I S - R E x   s p a c e c r a f t   a r e   s c h e d u l e d   t o   r e t u r n   t o   E a r t h   o n   S u n d a y   ( S e p t .   2 4 ) . \\xa0   R e l a t e d :   N A S A \\' s   O S I R I S - R E x   s p a c e c r a f t   c h a n g e d   h o w   w e   t h i n k   a b o u t   a s t e r o i d s .   H e r e \\' s   h o w .   N A S A \\' s   O S I R I S - R E x   p r o b e   i s   o n   t r a c k   f o r   i t s   h i s t o r i c   d e l i v e r y .   T h e   s p a c e c r a f t   p e r f o r m e d   o n e   l a s t   t r a j e c t o r y - c o r r e c t i n g   m a n e u v e r   o n   S u n d a y   ( S e p t .   1 7 )   t o   p r e p a r e   f o r   i t s   S e p t .   2 4   r e t u r n   o f   i t s   a s t e r o i d   s a m p l e   h e r e   o n   E a r t h .   T h e   p r o b e   i s   c u r r e n t l y   a b o u t   1 . 8   m i l l i o n   m i l e s   ( 2 . 8   m i l l i o n   k m )   a w a y ,   s p e e d i n g   t o w a r d   E a r t h   a t   r o u g h l y   1 4 , 0 0 0   m p h   ( 2 3 , 0 0 0   k p h ) .   W h e n   i t   r e a c h e s   a b o u t   6 3 , 0 0 0   m i l e s   ( 1 0 2 , 0 0 0   k m )   a b o v e   E a r t h   o n   S u n d a y   ( S e p t .   2 4 ) ,   i t   w i l l   s e n d   a   c a p s u l e   c o n t a i n i n g   s a m p l e s   o f   a s t e r o i d   B e n n u   d o w n   i n s i d e   o f   a   3 6 - m i l e   b y   8 . 5 - m i l e   t a r g e t   a r e a   i n   t h e   U t a h   d e s e r t ,   w h e r e   t e a m s   o f   N A S A   a n d   U . S .   m i l i t a r y   p e r s o n n e l   w i l l   b e   s t a n d i n g   b y   t o   r e c o v e r   i t .   R e l a t e d :   O S I R I S - R E x   a s t e r o i d   p r o b e   m a k e s   f i n a l   m a n e u v e r   b e f o r e   S e p t .   2 4   s a m p l e   d e l i v e r y   O S I R I S - R E x \\' s   d e s c e n t   c a p s u l e   s h o u l d \\xa0 d e s c e n d   o n   E a r t h   o n   S u n d a y \\xa0 ( S e p t .   2 4 ) ,   u n d e r   p a r a c h u t e s   i n   t h e   U t a h   d e s e r t . \\xa0   I n s i d e   i s   a   p r e c i o u s   s a m p l e   i n d e e d :   t h e   s p a c e c r a f t   p i c k e d   u p   m a t e r i a l   f r o m   a   1 , 6 5 0 - f o o t - w i d e   ( 5 0 0   m e t e r s )   n e a r - E a r t h \\xa0 a s t e r o i d \\xa0 n a m e d   B e n n u   i n   O c t o b e r   2 0 2 0   t h a t   l i k e l y   c o n t a i n s   i n f o r m a t i o n   a b o u t   t h e   s o l a r   s y s t e m \\' s   h i s t o r y .   B u t   h o w   m u c h   m a t e r i a l   i s   i n   t h e r e ?   R e a d   m o r e :   H o w   m u c h   a s t e r o i d   m a t e r i a l   i s   N A S A \\' s   O S I R I S - R E x   p r o b e   d e l i v e r i n g   t o   E a r t h   t h i s   w e e k e n d ?     W h e n   N A S A \\' s   O S I R I S - R E x   p r o b e   a r r i v e d   a t   a s t e r o i d   B e n n u   i n   2 0 1 8 ,   i t   d i d n \\' t   l o o k   l i k e   m i s s i o n   p l a n n e r s   h a d   e n v i s i o n e d .   \" I   r e a l l y   t h o u g h t   w e   m i g h t   b e   i n   t r o u b l e   t h e r e , \"   t h e   m i s s i o n \\' s   c h i e f   s c i e n t i s t   D a n t e   L a u r e t t a   t o l d   S p a c e . c o m .   B e c a u s e   t h e   a s t e r o i d \\' s   s u r f a c e   l o o k e d   s o   d i f f e r e n t   f r o m   h o w   t h e   O S I R I S - R E x   t e a m   t h o u g h t   i t   w o u l d ,   t h e   s p a c e c r a f t   h a d   t o   b e   r e p r o g r a m m e d   i n   o r d e r   t o   l a n d   o n   B e n n u \\' s   l o o s e ,   g r a v e l y   s u r f a c e .   B u t   B e n n u   s t i l l   h a d   s o m e   m o r e   s u r p r i s e s   i n   s t o r e   f o r   t h e   s p a c e c r a f t   a s   i t   t o u c h e d   d o w n   t o   c o l l e c t   a   s a m p l e .   R e a d   a b o u t   h o w   a s t e r o i d   B e n n u   c a u g h t   N A S A \\' s   O S I R I S - R E x   s p a c e c r a f t   b y   s u r p r i s e   a n d   n e a r l y   k i l l e d   i t   a l o n g   t h e   w a y   i n   o u r   f e a t u r e   h e r e   a s   w e   c o u n t d o w n   t o   t h e   O S I R I S - R E x   s p a c e c r a f t   d r o p p i n g   o f f   t h i s   c a r g o   a t   E a r t h   o n   S u n d a y ,   S e p t .   2 4 .   R e l a t e d :   H o w   a s t e r o i d   B e n n u   c a u g h t   N A S A \\' s   O S I R I S - R E x   s p a c e c r a f t   b y   s u r p r i s e   a n d   n e a r l y   k i l l e d   i t   a l o n g   t h e   w a y     N A S A   i s   j u s t   o n e   w e e k   a w a y   f r o m   t h e   e p i c   l a n d i n g   o f   i t s   O S I R I S - R E x   a s t e r o i d   s a m p l e - r e t u r n   c a p s u l e ,   w h i c h   i s   p a c k e d   w i t h   p i e c e s   o f   t h e   a s t e r o i d   B e n n u .   T h e   l a n d i n g ,   w h i c h   i s   o n   t r a c k   f o r   S e p t .   2 4 ,   2 0 2 3 ,   w i l l   m a r k   t h e   e n d   o f   O S I R I S - R E x \\' s   p r i m a r y   7 - y e a r   m i s s i o n   t h a t   b e g a n   w i t h   a   l a u n c h   i n   2 0 1 6   a n d   s a m p l e - c o l l e c t i o n   a t   B e n n u   i n   O c t o b e r   2 0 2 0 . \\xa0   S c i e n t i s t s   a r e   e x c i t e d ,   b u t   a l s o   o n   t e n t e r h o o k s ,   a s   t h e y   p r e p a r e   f o r   O S I R I S - R E x \\' s   r e t u r n   t o   E a r t h .   T h e   s p a c e c r a f t   w i l l   s l a m   i n t o   E a r t h \\' s   a t m o s p h e r e ,   p r o t e c t e d   b y   a   h e a t   s h i e l d ,   a n d   r e a c h   s p e e d s   o f   u p   t o   2 7 , 0 0 0   m p h   b e f o r e   d e p l o y i n g   d r o g u e   a n d   m a i n   p a r a c h u t e s   t o   s l o w   i t s e l f   t o   a   m o r e   m a n a g e a b l e   1 0   m p h . \\xa0   A s   N A S A   p r e p a r e s   f o r   t h e   O S I R I S - R E x   l a n d i n g ,   c h e c k   o u t   o u r   l a t e s t   c o v e r a g e   b e l o w   a n d   s t a y   t u n e d   f o r   d a i l y   u p d a t e s   l e a d i n g   u p   t o   t h e   l a n d i n g   i t s e l f !   O S I R I S - R E x   a s t e r o i d   p r o b e   h e a d s   t o w a r d   E a r t h   f o r   S e p t .   2 4   s a m p l e   d e l i v e r y \\n N A S A \\' s   O S I R I S - R E x   p r o b e   p u t   i t s e l f   o n   c o u r s e   t o w a r d   E a r t h   w i t h   a   t h r u s t e r   f i r i n g   o n   S e p t .   1 0 ,   t w o   w e e k s   b e f o r e   i t s   h i g h l y   a n t i c i p a t e d   a s t e r o i d - s a m p l e   d e l i v e r y . \\n \\n N A S A \\' s   O S I R I S - R E x   m i s s i o n   a l m o s t   b i t   t h e   d u s t   —   t h e n   Q u e e n   g u i t a r i s t   B r i a n   M a y   s t e p p e d   i n \\n T h a t   t h e   m i s s i o n   u l t i m a t e l y   s u c c e e d e d   i s   i n   p a r t   d u e   t o   Q u e e n   g u i t a r i s t   B r i a n   M a y ,   w h o   m e t i c u l o u s l y   c r e a t e d   3 D   i m a g e s   o f   t h e   r u b b l e   p i l e   t o   h e l p   t h e   m i s s i o n   l e a d e r s   i d e n t i f y   s a f e   l a n d i n g   s p o t s . \\n \\n N A S A   c o n d u c t s   c r u c i a l   d r o p   t e s t   a h e a d   o f   S e p t .   2 4   a r r i v a l   o f   O S I R I S - R E x   a s t e r o i d   s a m p l e \\n T h e   O S I R I S - R E x   t e a m   p e r f o r m e d   a   c r u c i a l   d r o p   t e s t   o n   W e d n e s d a y   ( A u g .   3 0 ) ,   p r a c t i c i n g   w h a t   t h e y \\' l l   d o   w h e n   t h e   m i s s i o n \\' s   r e a l   a s t e r o i d   s a m p l e   c o m e s   h o m e   o n   S e p t .   2 4 . \\n \\n O S I R I S - R E x   s c i e n c e   c h i e f   r e v e a l s   N A S A \\' s   1 s t   a s t e r o i d   s a m p l i n g   m i s s i o n   n e a r l y   d i d n \\' t   m a k e   i t   ( e x c l u s i v e   i n t e r v i e w ) \\n D a n t e   L a u r e t t a ,   t h e   c h i e f   s c i e n t i s t   o f   N A S A \\' s   O S I R I S - R E x   m i s s i o n ,   t a l k s   a b o u t   t h e   u n e x p e c t e d   c h a l l e n g e s   o f   N A S A \\' s   f i r s t   a s t e r o i d   s a m p l i n g   a t t e m p t   i n   a n   e x c l u s i v e   i n t e r v i e w .   B r e a k i n g   s p a c e   n e w s ,   t h e   l a t e s t   u p d a t e s   o n   r o c k e t   l a u n c h e s ,   s k y w a t c h i n g   e v e n t s   a n d   m o r e !   T h a n k   y o u   f o r   s i g n i n g   u p   t o   S p a c e .   Y o u   w i l l   r e c e i v e   a   v e r i f i c a t i o n   e m a i l   s h o r t l y .   T h e r e   w a s   a   p r o b l e m .   P l e a s e   r e f r e s h   t h e   p a g e   a n d   t r y   a g a i n .   S p a c e   i s   p a r t   o f   F u t u r e   U S   I n c ,   a n   i n t e r n a t i o n a l   m e d i a   g r o u p   a n d   l e a d i n g   d i g i t a l   p u b l i s h e r .   V i s i t   o u r   c o r p o r a t e   s i t e .   © \\n F u t u r e   U S ,   I n c .   F u l l   7 t h   F l o o r ,   1 3 0   W e s t   4 2 n d   S t r e e t , \\n N e w   Y o r k , \\n N Y   1 0 0 3 6 .  ',\n",
              " 'T h e   r e a l i t y   f a c i n g   A m e r i c a n   a s t r o n a u t   F r a n k   R u b i o   d a w n e d   o n   h i m   s l o w l y ,   h e   s a i d ,   a s   a   t a n g l e   o f   u n e x p e c t e d   h i c c u p s   u n f o l d e d   h u n d r e d s   o f   m i l e s   a b o v e   E a r t h   o n   t h e   I n t e r n a t i o n a l   S p a c e   S t a t i o n .   F i r s t ,   a   S o y u z   c a p s u l e   —   t h e   R u s s i a n   s p a c e c r a f t   t h a t   h a d   b r o u g h t   R u b i o   t o   t h e   I S S   l a s t   S e p t e m b e r   —   s p r u n g   a   c o o l a n t   l e a k   i n   m i d - D e c e m b e r ,   j e o p a r d i z i n g   h i s   r i d e   h o m e .   T h e   d i s c o v e r y   o f   a   s i m i l a r   l e a k   i n   a n o t h e r   s p a c e c r a f t   a t t a c h e d   t o   t h e   I S S   s l o w e d   p l a n s   t o   s e n d   R u b i o   a n d   h i s   c r e w m a t e s   a   r e p l a c e m e n t   i n   F e b r u a r y .   R u b i o   a n d   h i s   t w o   R u s s i a n   c r e w m a t e s ,   S e r g e y   P r o k o p y e v   a n d   D m i t r i   P e t e l i n ,   w e r e   n e v e r   i n   g r a v e   d a n g e r   a b o a r d   t h e   I S S   a s   N A S A   a n d   R u s s i a n   s p a c e   a g e n c y   R o s c o s m o s   s c r a m b l e d   t o   s e c u r e   t h e i r   j o u r n e y   h o m e .   B u t   t h e   i n c i d e n t   d i s r u p t e d   t h e   t i m e l i n e   o f   t h e i r   s i x - m o n t h - l o n g   m i s s i o n .   R u b i o ,   w h o   l a u n c h e d   i n t o   s p a c e   w i t h   P r o k o p y e v   a n d   P e t e l i n   o n   h i s   f i r s t   s p a c e f l i g h t   i n   S e p t e m b e r   2 0 2 2 ,   w o u l d   s p e n d   t w i c e   t h e   a m o u n t   o f   t i m e   h e ’ d   p l a n n e d   t o   i n   o r b i t .   H e   w o u l d n ’ t   b e   a b l e   t o   r e t u r n   t o   h i s   M i a m i   h o m e   f o r   a   w h o l e   y e a r .   “ W h e n   i t   f i n a l l y   b e c a m e   r e a l   t h a t   i t   w a s   g o i n g   t o   r e q u i r e   m e   t o   s t a y   f o r   a   f u l l   y e a r ,   [ i t ]   w a s   d i f f i c u l t , ”   R u b i o ,   4 7 ,   s a i d   f r o m   t h e   I S S   i n   a   T u e s d a y   n e w s   c o n f e r e n c e .   R u b i o ,   f l o a t i n g   i n   z e r o   g r a v i t y   i n s i d e   a n   I S S   c o m p a r t m e n t ,   r e f l e c t e d   o n   h i s   u n e x p e c t e d   y e a r   i n   s p a c e   a s   t h e   e n d   o f   h i s   m i s s i o n   f i n a l l y   n e a r s .   H e   i s   s e t   t o   r e t u r n   t o   E a r t h   o n   S e p t .   2 7 ,   b u t   n o t   b e f o r e   e n t e r i n g   N A S A ’ s   h i s t o r y   b o o k s .   L a s t   w e e k ,   R u b i o   b r o k e   N A S A ’ s   s i n g l e   s p a c e f l i g h t   r e c o r d   f o r   c o n t i n u o u s   d a y s   s p e n t   i n   s p a c e   b y   a n   A m e r i c a n ,   t h e   a g e n c y   a n n o u n c e d .   N A S A ’ s   p r e v i o u s   r e c o r d ,   s e t   b y   a s t r o n a u t   M a r k   V a n d e   H e i   b e t w e e n   2 0 2 1   a n d   2 0 2 2 ,   w a s   3 5 5   d a y s .   R u b i o   w i l l   h a v e   s p e n t   3 7 1   b y   t h e   t i m e   h e   r e t u r n s   h o m e .   W o u l d   h e   h a v e   s i g n e d   u p   f o r   s u c h   a n   e x t e n d e d   s t a y   a t   t h e   I S S   f r o m   t h e   o u t s e t ?   “ O b v i o u s l y   i f ,   i f   t h e y   h a d   a s k e d   m e   u p f r o n t   b e f o r e   y o u   s t a r t   t r a i n i n g   …   I   p r o b a b l y   w o u l d   h a v e   d e c l i n e d , ”   R u b i o   s a i d ,   e x p l a i n i n g   t h a t   h e   w o u l d n ’ t   h a v e   w a n t e d   t o   m i s s   i m p o r t a n t   e v e n t s   w i t h   h i s   f a m i l y .   “ I   j u s t   w o u l d   h a v e   h a d   t o   s a y ,   ‘ T h a n k   y o u ,   b u t   n o   t h a n k   y o u , ’ ”   R u b i o   s a i d .   B u t   R u b i o   a d d e d   t h a t   h e   w a s   c o m m i t t e d   t o   t h e   m i s s i o n   —   a n d   r e s o l v i n g   a n y   m i s h a p s   a l o n g   t h e   w a y   —   o n c e   t r a i n i n g   f o r   h i s   s p a c e f l i g h t   b e g a n .   “ H a v i n g   t h e   I n t e r n a t i o n a l   S p a c e   S t a t i o n   g o i n g   f o r   2 3   y e a r s   r e q u i r e s   a   l o t   o f   i n d i v i d u a l   a n d   f a m i l y   s a c r i f i c e s , ”   R u b i o   s a i d .   “ B u t   s o m e t i m e s   t h a t ’ s   w h a t   y o u   h a v e   t o   d o . ”   W h i l e   a b o a r d   t h e   I S S ,   R u b i o   p a r t i c i p a t e d   i n   s e v e r a l   r e s e a r c h   p r o j e c t s   a s   N A S A   p r e p a r e s   f o r   f u t u r e   s p a c e   m i s s i o n s ,   t h e   a g e n c y   s a i d .   H e   g r e w   t o m a t o e s   o u t s i d e   o f   s o i l   t o   i n v e s t i g a t e   c r o p   p r o d u c t i o n   i n   s p a c e ,   s e r v i c e d   a   d e v i c e   f o r   3 D - p r i n t e d   k n e e   c a r t i l a g e   t i s s u e   i n   z e r o   g r a v i t y   a n d   d o n n e d   a   s p a c e s u i t   t o   i n s t a l l   n e w   s o l a r   a r r a y s   o n   t h e   I S S ’ s   e x t e r i o r .   R u b i o   b e c a m e   a   r e s e a r c h   s u b j e c t   h i m s e l f   a s   w e l l ,   a s   N A S A   s c i e n t i s t s   u s e d   h i m   a n d   o t h e r   I S S   c r e w m a t e s   t o   t e s t   w h e t h e r   s m a l l e r   e x e r c i s e   d e v i c e s   c o u l d   a d e q u a t e l y   r e p l a c e   t h e   I S S ’ s   t r e a d m i l l s   o n   f u t u r e   m i s s i o n s   t o   t h e   m o o n   a n d   M a r s .   A l l   t h o s e   p r o j e c t s ,   h o w e v e r ,   w e r e   o v e r s h a d o w e d   a   f e w   m o n t h s   i n t o   t h e   m i s s i o n .   N A S A   a n d   R o s c o s m o s   o f f i c i a l s   a n n o u n c e d   i n   J a n u a r y   t h a t   t h e   S o y u z   i n t e n d e d   t o   t a k e   R u b i o ,   P r o k o p y e v   a n d   P e t e l i n   h o m e   h a d   a   c o o l a n t   l e a k ,   p r o b a b l y   a f t e r   b e i n g   d a m a g e d   i n   a   m i c r o m e t e o r o i d   s t r i k e .   T h e   S o y u z   w a s   d e e m e d   u n f i t   t o   s e r v e   a s   a   r e t u r n   v e h i c l e .   A   r e p l a c e m e n t   c r a f t   w a s   s e n t   t o   t h e   s t a t i o n   i n   F e b r u a r y .   U l t i m a t e l y ,   R u b i o ’ s   r e t u r n   d a t e   w a s   s e t   f o r   S e p t e m b e r ,   c o n f i r m i n g   t h a t   h e ’ d   b r e a k   a   r e c o r d   —   a n d   s p e n d   a n   e n t i r e   y e a r   f a r   a w a y   f r o m   h o m e .   “ I t ’ s   b e e n   a   m i x e d   e m o t i o n a l   r o l l e r   c o a s t e r , ”   R u b i o   s a i d   T u e s d a y .   R u b i o   s a i d   h e   w a s   h o n o r e d   t o   b r e a k   t h e   r e c o r d   b u t   a d d e d   t h a t   h i s   s t i n t   w a s   a   t e a m   e f f o r t .   H e   p r a i s e d   N A S A   a n d   t h e   o t h e r   a s t r o n a u t s   w h o ’ d   a c c o m p a n i e d   h i m   o n   t h e   I S S ,   s h r u g g i n g   o f f   a   q u e s t i o n   a b o u t   c e l e b r a t i n g   t h e   e n d   o f   h i s   m i s s i o n   w i t h   a   c o m m e m o r a t i v e   p a t c h .   “ I f   w e   d o   m a k e   a   p a t c h ,   t h e y   b e t t e r   m a k e   a   w h o l e   l o t   o f   t h e m , ”   R u b i o   s a i d .   W h e n   R u b i o   r e t u r n s   t o   E a r t h ,   h i s   b o d y   w i l l   n e e d   t o   r e a d j u s t   t o   b e a r i n g   i t s   o w n   w e i g h t   a f t e r   o v e r   a   y e a r   i n   z e r o   g r a v i t y ,   h e   s a i d .   I t   m i g h t   t a k e   h i m   m o n t h s   t o   f e e l   n o r m a l .   B u t   R u b i o   h a s   p l e n t y   t o   l o o k   f o r w a r d   t o   —   h e   s a i d   t h e   f i r s t   t h i n g   h e   w i l l   d o   w h e n   h e   r e t u r n s   h o m e   i s   h u g   h i s   w i f e   a n d   k i d s .   T h e n   h e   p l a n s   t o   s i t   i n   h i s   b a c k y a r d   i n   M i a m i   t o   w a t c h   t h e   t r e e s   a n d   r e v e l   i n   s o m e t h i n g   e l s e   h e   c o u l d   n e v e r   e n j o y   i n   o v e r   a   y e a r   s p e n t   i n   s p a c e :   s i l e n c e .   “ Y o u   k n o w ,   u p   h e r e   w e   k i n d   o f   h a v e   t h e   c o n s t a n t   h u m   o f   m a c h i n e r y   t h a t ’ s   k e e p i n g   u s   a l i v e , ”   R u b i o   s a i d .   “ I t ’ s   v e r y   i m p o r t a n t ,   b u t   i t   i s   j u s t   a   c o n s t a n t   h u m   t h a t   y o u   p r o b a b l y   h e a r   i n   t h e   b a c k g r o u n d .   A n d   s o   I ’ m   l o o k i n g   f o r w a r d   t o   j u s t   b e i n g   o u t s i d e   a n d   e n j o y i n g   t h e   p e a c e   a n d   q u i e t . ”',\n",
              " '  C o p y r i g h t   ©   H T   M e d i a   L i m i t e d     A l l   r i g h t s   r e s e r v e d .     T h e   M o o n   h a s   a l w a y s   b e e n   a   f a v o r i t e   s u b j e c t   f o r   s p a c e   e n t h u s i a s t s .   I t   c o n t i n u o u s l y   c a t c h e s   t h e   a t t e n t i o n   o f   a s t r o n o m e r s   b e c a u s e   o f   i t s   u n p a r a l l e l e d   b e a u t y   a n d   t h e   f a c t   t h a t   i t   i s   t h e   n e a r e s t   s p a c e   o b j e c t   t o   E a r t h .   S p a c e   a g e n c i e s   l i k e   N A S A ,   I S R O ,   a n d   E S A   k e e p   c a p t u r i n g   s p a c e   p h e n o m e n a   a n d   t h e   u n i v e r s e   t h r o u g h   t h e i r   v a r i o u s   s p a c e   m i s s i o n s   a n d   s h a r i n g   m e s m e r i z i n g   s n a p s h o t s .   W h i l e   I S R O \\' s   C h a n d r a y a a n - 3   h a s   s h a r e d   s t u n n i n g   p i c t u r e s   f r o m   t h e   s o u t h   p o l e   o f   t h e   M o o n ,   N A S A   h a s   r e c e n t l y   s h a r e d   a n   u n p r e c e d e n t e d   m o s a i c   o f   t h e   M o o n   w h i c h   l e f t   e v e r y o n e   a m a z e d .   J u s t   t h i s   p a s t   T u e s d a y ,   N A S A   u n v e i l e d   a n   e x t r a o r d i n a r y   m o s a i c   o f   t h e   M o o n ,   a   s i g h t   n e v e r   w i t n e s s e d   b e f o r e ,   t h a n k s   t o   t h e   c o m b i n e d   e f f o r t s   o f   t w o   d i f f e r e n t   c a m e r a s .   A c c o r d i n g   t o   N A S A ,   t h i s   i m a g e   o f f e r s   a n   u n p r e c e d e n t e d   l e v e l   o f   d e t a i l   o f   t h e   l u n a r   S o u t h   P o l e   r e g i o n ,   h i g h l i g h t i n g   a   c r a t e r   d e s i g n a t e d   a s   S h a c k l e t o n   C r a t e r .   R e m a r k a b l y ,   a   r e p o r t   f r o m   C N E T   s p e c u l a t e s   t h a t   t h i s   v e r y   c r a t e r   d e p i c t e d   i n   t h e   m o s a i c   c o u l d   b e   a   p o t e n t i a l   l a n d i n g   s i t e   f o r   t h e   u p c o m i n g   A r t e m i s   I I I   m i s s i o n   i n   2 0 2 5 .   W h a t   m a k e s   t h i s   r e g i o n   p a r t i c u l a r l y   i n t r i g u i n g   i s   t h a t   i t   r e m a i n s   u n e x p l o r e d   b y   h u m a n s   a n d   h o l d s   s i g n i f i c a n t   s c i e n t i f i c   a n d   e x p l o r a t o r y   v a l u e .   S c i e n t i s t s   b e l i e v e   t h a t   i t   m a y   h a v e   d e p o s i t s   o f   i c e   o r   o t h e r   f r o z e n   v o l a t i l e   s u b s t a n c e s ,   N A S A   t o o k   I n s t a g r a m   i n t o   t h e   s t o r m   a f t e r   s h a r i n g   t h e   “ M o o n   m o s a i c ” .   T h e   c a p t i o n   o f   t h e   p i c t u r e   s t a t e d ,   “ M o o n l i g h t   S o n a t a \\u2063 \" .   T h i s   n e w   m o s a i c   r e v e a l s   t h e   p o w e r   o f   t w o   M o o n   o r b i t i n g   c a m e r a s ,   w o r k i n g   t o g e t h e r .   I t   w a s   c r e a t e d   w i t h   i m a g e r y   a c q u i r e d   b y   t h e   L u n a r   R e c o n n a i s s a n c e   O r b i t e r   C a m e r a   ( L R O C )   a n d   S h a d o w C a m ,   a   N A S A   i n s t r u m e n t   a b o a r d   a   K o r e a   A e r o s p a c e   R e s e a r c h   I n s t i t u t e   s p a c e c r a f t   c a l l e d   D a n u r i . \\u2063   T h e   L u n a r   R e c o n n a i s s a n c e   O r b i t e r   C a m e r a   ( L R O C )   h a s   t h e   a b i l i t y   t o   c a p t u r e   d e t a i l e d   i m a g e s   o f   t h e   l u n a r   s u r f a c e   b u t   i t   i s   l i m i t e d   t o   c a p t u r i n g   t h e   s h a d o w e d   p a r t s   o f   t h e   M o o n   w h e r e   t h e   s u n l i g h t   c a n \\' t   r e a c h   d i r e c t l y .   A s   N A S A   s t a t e d   f u r t h e r   i n   t h e   I n s t a   c a p t i o n ,   “ S h a d o w C a m   i s   2 0 0   t i m e s   m o r e   l i g h t - s e n s i t i v e   t h a n   L R O C   a n d   c a n   o p e r a t e   s u c c e s s f u l l y   i n   t h e s e   e x t r e m e l y   l o w - l i g h t   c o n d i t i o n s ,   r e v e a l i n g   f e a t u r e s   t h a t   a r e   n o t   v i s i b l e   t o   L R O C . \\u2063 ”   S h a d o w C a m \\' s   l i m i t e d   l i g h t   s e n s i t i v i t y   p r e v e n t s   i t   f r o m   c a p t u r i n g   i m a g e s   o f   M o o n   a r e a s   t h a t   a r e   d i r e c t l y   i l l u m i n a t e d ,   w h i c h   p r o v i d e d   s a t u r a t e d   r e s u l t s .   B y   o p t i m i z i n g   e a c h   c a m e r a   f o r   s p e c i f i c   l i g h t i n g   c o n d i t i o n s   n e a r   t h e   l u n a r   p o l e s ,   a n a l y s t s   c a n   m e r g e   i m a g e s   f r o m   b o t h   d e v i c e s   t o   u n v e i l   r e m a r k a b l e   d e t a i l s   o f   t h e   l u n a r   S o u t h   P o l e   r e g i o n .   T h e s e   a c h i e v e m e n t s   i n   t h e   f i e l d   o f   s p a c e   m a y   u n f u r l   m a n y   s e c r e t s   o f   s p a c e   a n d   t h e   u n i v e r s e   t h a t   c a n   h e l p   h e l p   u n d e r s t a n d   t h e m   b e t t e r .   F o l l o w   H T   T e c h   f o r   t h e   l a t e s t     t e c h   n e w s     a n d   r e v i e w s   ,   a l s o   k e e p   u p   w i t h   u s \\n o n   T w i t t e r ,   F a c e b o o k ,   G o o g l e   N e w s ,   a n d   I n s t a g r a m .   F o r   o u r   l a t e s t   v i d e o s , \\n s u b s c r i b e   t o   o u r   Y o u T u b e   c h a n n e l . \\n   7 1 6 9 5 3 5 3 4 5 4 2 6 3',\n",
              " '\\n \\t \\t \\t \\t \\t C o v e r i n g   t h e   b u s i n e s s   a n d   p o l i t i c s   o f   s p a c e \\t \\t \\t \\t   W A I L E A ,   H a w a i i   —   N A S A   i s   d e l a y i n g   p l a n s   t o   m o v e   t h e   M a r s   S a m p l e   R e t u r n   ( M S R )   p r o g r a m   t o   i t s   n e x t   p h a s e   o f   d e v e l o p m e n t   a f t e r   a n   i n d e p e n d e n t   r e v i e w   f o u n d   s e r i o u s   i s s u e s   w i t h   i t s   t e c h n i c a l   r e a d i n e s s ,   c o s t   a n d   s c h e d u l e .   N A S A   r e l e a s e d   S e p t .   2 1   t h e   f i n a l   r e p o r t   o f   a n   i n d e p e n d e n t   r e v i e w   b o a r d   i t   c o m m i s s i o n e d   e a r l i e r   t h i s   y e a r   t o   e x a m i n e   t h e   s t a t e   o f   t h e   p r o g r a m   t o   p i c k   u p   s a m p l e s   c a c h e d   b y   t h e   P e r s e v e r a n c e   r o v e r   a n d   r e t u r n   t h e m   t o   E a r t h .   T h a t   r e v i e w   w a s   c h a i r e d   b y   O r l a n d o   F i g u e r o a ,   f o r m e r   d i r e c t o r   o f   M a r s   e x p l o r a t i o n   a t   N A S A .   T h e   r e p o r t   c o n c l u d e d   t h e r e   w a s   “ a   n e a r   z e r o   p r o b a b i l i t y ”   t h a t   t h e   t w o   m a i n   e l e m e n t s   o f   M S R ,   a   s a m p l e   r e t r i e v a l   l a n d e r   d e v e l o p e d   b y   N A S A   a n d   a n   E a r t h   r e t u r n   o r b i t e r   d e v e l o p e d   b y   t h e   E u r o p e a n   S p a c e   A g e n c y ,   w i l l   b e   r e a d y   f o r   l a u n c h   i n   2 0 2 7   o r   2 0 2 8   a s   c u r r e n t l y   p r o j e c t e d .   P r o j e c t e d   b u d g e t s   f o r   M S R ,   t h e   r e p o r t   a d d e d ,   a r e   a l s o   i n s u f f i c i e n t .   “ M S R   w a s   e s t a b l i s h e d   w i t h   u n r e a l i s t i c   b u d g e t   a n d   s c h e d u l e   e x p e c t a t i o n s   f r o m   t h e   b e g i n n i n g , ”   t h e   r e p o r t   s t a t e d .   “ A s   a   r e s u l t ,   t h e r e   i s   c u r r e n t l y   n o   c r e d i b l e ,   c o n g r u e n t   t e c h n i c a l ,   n o r   p r o p e r l y   m a r g i n e d   s c h e d u l e ,   c o s t ,   a n d   t e c h n i c a l   b a s e l i n e   t h a t   c a n   b e   a c c o m p l i s h e d   w i t h   t h e   l i k e l y   a v a i l a b l e   f u n d i n g . ”   N A S A   h a d   y e t   t o   s e t   a   f o r m a l   c o s t   e s t i m a t e   f o r   M S R ,   s o m e t h i n g   t h a t   h a d   b e e n   p l a n n e d   f o r   a   c o n f i r m a t i o n   r e v i e w   t h i s   f a l l .   A   p r e v i o u s   i n d e p e n d e n t   r e v i e w   i n   2 0 2 0   e s t i m a t e d   M S R   w o u l d   c o s t   $ 3 . 8   b i l l i o n   t o   $ 4 . 4   b i l l i o n ,   w h i c h   i t s e l f   w a s   a   s i g n i f i c a n t   i n c r e a s e   o v e r   e a r l i e r   e s t i m a t e s .   A   r e p o r t   t h i s   s u m m e r   s a i d   t h a t   c o s t   e s t i m a t e s   h a d   g r o w n   t o   $ 8   b i l l i o n   t o   $ 9   b i l l i o n ,   a   r a n g e   t h e   a g e n c y   t h e n   c a l l e d   “ h i g h l y   s p e c u l a t i v e . ”   T h e   n e w   i n d e p e n d e n t   r e v i e w   s a y s   t h e   l i k e l y   r a n g e   o f   f u l l   l i f e c y c l e   c o s t s   f o r   M S R   i s   n o w   b e t w e e n   $ 8   b i l l i o n   a n d   $ 1 1   b i l l i o n ,   s i g n i f i c a n t l y   m o r e   t h a n   e x p e c t e d   b a s e d   o n   N A S A   b u d g e t   p r o j e c t i o n s .   “ T h e   c u r r e n t   r e f e r e n c e   a r c h i t e c t u r e   i s   n o t   v i a b l e   w i t h i n   t h e   l i k e l y   a v a i l a b l e   f u n d i n g   p r o f i l e , ”   i t   s t a t e d .   T h a t   n e w   r a n g e   i s   u n l i k e l y   t o   c h a n g e   e v e n   i f   N A S A   c h a n g e s   t h e   o v e r a l l   a r c h i t e c t u r e   f o r   M S R ,   t h e   r e p o r t   a d d e d .   T h e   s i m p l e s t   a l t e r n a t i v e ,   m o v i n g   t h e   l a u n c h   o f   t h e   l a n d e r   a n d   o r b i t e r   t o   2 0 3 0 ,   w o u l d   c r e a t e   a   t o t a l   c o s t   b e t w e e n   $ 8   b i l l i o n   a n d   $ 9 . 6   b i l l i o n .   T h a t   a p p r o a c h ,   t h o u g h ,   w o u l d   r e q u i r e   s p e n d i n g   m o r e   t h a n   $ 1   b i l l i o n   a   y e a r   b e t w e e n   f i s c a l   y e a r s   2 0 2 5   a n d   2 0 2 8 ,   p u t t i n g   g r e a t e r   b u d g e t   p r e s s u r e s   o n   t h e   o v e r a l l   N A S A   p l a n e t a r y   s c i e n c e   p o r t f o l i o .   T h e   s t u d y   e x a m i n e d   a l t e r n a t i v e   a r c h i t e c t u r e s   t h a t   t h e   r e p o r t   p r o v i d e d   f e w   d e t a i l s   a b o u t ,   b u t   w o u l d   i n v o l v e   r e p l a c i n g   t h e   s i n g l e   s a m p l e   r e t r i e v a l   l a n d e r   w i t h   t w o   l a n d e r s   u s i n g   p r e v i o u s l y   f l o w n   t e c h n o l o g i e s ,   l i k e   t h e   “ s k y c r a n e ”   l a n d i n g   s y s t e m .   T h e   t o t a l   c o s t   o f   t h o s e   a r c h i t e c t u r e s   w o u l d   b e   a s   h i g h   a s   $ 1 0 . 9   b i l l i o n ,   b u t   w i t h   l o w e r   a n n u a l   c o s t s   a n d   w i t h   l a u n c h e s   a s   l a t e   a s   2 0 3 5 .   T h e   r e p o r t   a l s o   i d e n t i f i e d   t e c h n i c a l   i s s u e s ,   i n c l u d i n g   w i t h   t h e   d e s i g n   o f   w h a t ’ s   c a l l e d   t h e   O r b i t i n g   S a m p l e ,   w h i c h   c o n t a i n s   t h e   s a m p l e s   t h a t   a r e   l a u n c h e d   i n t o   M a r s   o r b i t .   “ T h e   l a c k   o f   a   w e l l - d e f i n e d   O r b i t i n g   S a m p l e   ( O S )   d e s i g n   c o n t i n u e s   t o   i m p a c t   a n d   c o n s t r a i n   m a n y   M S R   s y s t e m s , ”   t h e   r e p o r t   s t a t e d ,   i n c l u d i n g   q u e s t i o n s   a b o u t   e n s u r i n g   p l a n e t a r y   p r o t e c t i o n .   D e s p i t e   t h e   t e c h n i c a l   a n d   p r o g r a m m a t i c   p r o b l e m s ,   t h e   r e v i e w   n o n e t h e l e s s   e n d o r s e d   t h e   s c i e n t i f i c   v a l u e   o f   M S R .   T h e   r e p o r t   o f f e r e d   a   r e c o m m e n d a t i o n   t h a t   N A S A   f i n d   a   w a y   t o   r e t u r n   a l l   t h e   s a m p l e s   t h a t   h a v e   b e e n   c o l l e c t e d   s o   f a r   b y   P e r s e v e r a n c e ,   n o t   j u s t   a   s u b s e t   o f   1 0   s a m p l e   c o n t a i n e r s   t h e   r o v e r   p l a c e d   i n   a   r e g i o n   o f   J e z e r o   C r a t e r   c a l l e d   T h r e e   F o r k s   e a r l i e r   t h i s   y e a r   a s   a   b a c k u p .   “ T h e   c a c h e   o f   s a m p l e s   d e p o s i t e d   a t   T h r e e   F o r k s   i s   r e t u r n   w o r t h y   b u t   i s   n o t   a n   o p t i m a l   s a m p l e   s e t   b e c a u s e   i t   d o e s   n o t   r e p r e s e n t   t h e   f u l l   d i v e r s i t y   o f   g e o l o g i c   e n v i r o n m e n t s   a l o n g   t h e   r o v e r ’ s   t r a v e r s e   t h a t   c o u l d   p r e s e r v e   s i g n s   o f   l i f e , ”   t h e   r e p o r t   s t a t e d .   “ T h e   2 0   s a m p l e s   n o w   c o l l e c t e d   b y   a n d   c a r r i e d   o n   P e r s e v e r a n c e   a r e   o f   v e r y   h i g h   s c i e n t i f i c   v a l u e   –   h i g h e r   t h a n   t h e   c a c h e   a t   T h r e e   F o r k s . ”   I t   a l s o   c a l l e d   o n   N A S A   t o   c o m m u n i c a t e   t h e   i m p o r t a n c e   o f   M S R   m o r e   e f f e c t i v e l y :   “ N A S A   i s   n o t   s e n d i n g   a   c o n s i s t e n t   a n d   u n i f i e d   m e s s a g e   t o   C o n g r e s s ,   t h e   s c i e n t i f i c   c o m m u n i t y ,   a n d   t o   t h e   p u b l i c   r e g a r d i n g   M S R ’ s   s c i e n t i f i c   a n d   s t r a t e g i c   i m p o r t a n c e   t o   t h e   n a t i o n . ”   T h a t   i n c l u d e s   t h e   “ s o f t   p o w e r ”   b e n e f i t s   o f   a c c o m p l i s h i n g   a   m i s s i o n   a s   c o m p l e x   a s   M S R   a s   C h i n a   w o r k s   o n   i t s   o w n   e f f o r t   t o   r e t u r n   s a m p l e s   f r o m   M a r s   a r o u n d   2 0 3 0 .   I n   a   s t a t e m e n t   i s s u e d   i n   c o n j u n c t i o n   w i t h   t h e   r e l e a s e   o f   t h e   r e p o r t ,   N A S A   s a i d   i t   w a s   h o l d i n g   o f f   p e r f o r m i n g   t h e   M S R   c o n f i r m a t i o n   r e v i e w   s c h e d u l e d   f o r   t h i s   f a l l .   I n s t e a d ,   a   t e a m   l e d   b y   S a n d r a   C o n n e l l y ,   N A S A   d e p u t y   a s s o c i a t e   a d m i n i s t r a t o r   f o r   s c i e n c e ,   w i l l   r e v i e w   t h e   r e p o r t   a n d   m a k e   a   r e c o m m e n d a t i o n   o n   t h e   f u t u r e   o f   M S R   “ w i t h i n   a   b a l a n c e d   o v e r a l l   s c i e n c e   p r o g r a m . ”   T h a t   r e c o m m e n d a t i o n   i s   e x p e c t e d   b e t w e e n   J a n u a r y   a n d   M a r c h   2 0 2 4 .   “ W e   t h a n k   t h e   b o a r d   f o r   i t s   w o r k ,   a n d   n o w   o u r   j o b   i s   t o   a s s e s s   t h e   r e p o r t   a n d   a d d r e s s   i f   t h e r e   a r e   e l e m e n t s   o f   t h e   p r o g r a m   t h a t   n e e d   t o   c h a n g e , ”   C o n n e l l y   s a i d   i n   t h e   s t a t e m e n t .   \\n \\t \\t \\t \\t \\t \\t \\t J e f f   F o u s t   w r i t e s   a b o u t   s p a c e   p o l i c y ,   c o m m e r c i a l   s p a c e ,   a n d   r e l a t e d   t o p i c s   f o r   S p a c e N e w s . \\r \\n \\r \\n H e   e a r n e d   a   P h . D .   i n   p l a n e t a r y   s c i e n c e s   f r o m   t h e   M a s s a c h u s e t t s   I n s t i t u t e   o f   T e c h n o l o g y   a n d   a   b a c h e l o r ’ s   d e g r e e   w i t h   h o n o r s   i n   g e o p h y s i c s   a n d   p l a n e t a r y   s c i e n c e . . . \\t \\t \\t \\t \\t \\t \\t \\n \\t \\t \\t \\t \\t \\t \\t M o r e   b y   J e f f   F o u s t \\t \\t \\t \\t \\t \\t \\t \\n   a l l   e v e n t s   > >   G e t   t o p   s t o r i e s ,   m i l i t a r y   s p a c e   n e w s   a n d   m o r e   d e l i v e r e d   t o   y o u r   i n b o x .',\n",
              " '',\n",
              " \"  C o p y r i g h t   ©   H T   M e d i a   L i m i t e d     A l l   r i g h t s   r e s e r v e d .     S o l a r   a c t i v i t y   h a s   b e e n   r i s i n g   s i g n i f i c a n t l y ,   w i t h   s o l a r   s t o r m s   h i t t i n g   t h e   E a r t h   l e f t ,   r i g h t ,   a n d   c e n t e r   w i t h   h i g h   f r e q u e n c y .   B u t   i t   i s   n o t   j u s t   t h e   E a r t h   t h a t   i s   d e a l i n g   w i t h   s u c h   i m p a c t s .   R e c e n t l y ,   N A S A   s h a r e d   t e r r i f y i n g   f o o t a g e   o f   t h e   P a r k e r   S o l a r   P r o b e   f l y i n g   t h r o u g h   a n   i n t e n s e   c o r o n a l   m a s s   e j e c t i o n   ( C M E )   c l o u d .   T h i s   w a s   t h e   f i r s t   t i m e   t h e   N A S A   s p a c e c r a f t   h a d   t o   e n d u r e   s u c h   a n   o r d e a l ,   a n d   i t   m a n a g e d   t o   c o m e   o u t   u n s c a t h e d   f r o m   t h e   i n c i d e n t   a n d   c o l l e c t e d   s o m e   i m p o r t a n t   d a t a   a l o n g   t h e   w a y .   H o w e v e r ,   s u c h   i m p a c t s   a r e   k n o w n   t o   b a d l y   d a m a g e   s a t e l l i t e s   a n d   s p a c e c r a f t   a l i k e ,   a n d   w i t h   I S R O ' s   A d i t y a - L 1   m i s s i o n   s p a c e c r a f t   r e a c h i n g   i t s   d e s t i n a t i o n   a t   L a g r a n g e   1   p o i n t   i n   f o u r   m o n t h s   t o   o b s e r v e   t h e   S u n ,   t h e r e   i s   a   f e a r   t h a t   i t   m a y   h a v e   t o   s u f f e r   a   s i m i l a r   f a t e .   A c c o r d i n g   t o   a   N A S A   b l o g   p o s t ,   “ O n   S e p t .   5 ,   2 0 2 2 ,   N A S A ' s   P a r k e r   S o l a r   P r o b e   s o a r e d   g r a c e f u l l y   t h r o u g h   o n e   o f   t h e   m o s t   p o w e r f u l   c o r o n a l   m a s s   e j e c t i o n s   ( C M E s )   e v e r   r e c o r d e d   –   n o t   o n l y   a n   i m p r e s s i v e   f e a t   o f   e n g i n e e r i n g ,   b u t   a   h u g e   b o o n   f o r   t h e   s c i e n t i f i c   c o m m u n i t y ” .   I t   f u r t h e r   a d d e d   t h a t   t h e   i n t e r a c t i o n   w i t h   t h e   C M E   h a s   u n c o v e r e d   s o m e   i m p o r t a n t   d a t a   p e r t a i n i n g   t o   s p a c e   w e a t h e r ,   a n d   t h e   r e s u l t s   w e r e   p u b l i s h e d   i n   T h e   A s t r o p h y s i c a l   J o u r n a l .   Y o u   c a n   c h e c k   t h e   h a u n t i n g   f o o t a g e   o f   P a r k e r   S o l a r   P r o b e   p a s s i n g   t h r o u g h   t h e   C M E   h e r e .   T h e   P a r k e r   S o l a r   P r o b e   w a s   l a u n c h e d   i n   2 0 1 8   w i t h   t h e   p u r p o s e   o f   o b s e r v i n g   t h e   o u t e r   c o r o n a   o f   t h e   S u n .   T h i s   w a s   d o n e   p r i m a r i l y   f o r   t w o   r e a s o n s   —   f i r s t ,   t o   u n d e r s t a n d   w h e t h e r   C M E   c a n   i n t e r a c t   w i t h   p l a n e t a r y   d u s t   i n   o r b i t   a r o u n d   o u r   s t a r   a n d   c a r r y   i t   o u t w a r d s ,   a n d   t o   b e t t e r   p r e d i c t   s p a c e   w e a t h e r .   T h e   l a t t e r   w a s   c o n s i d e r e d   a n   i m p o r t a n t   t a s k   c o n s i d e r i n g   i t s   i m p a c t   o n   t h e   p l a n e t ,   s a t e l l i t e s ,   a n d   h u m a n i t y .   “ C M E s   a r e   i m m e n s e   e r u p t i o n s   f r o m   t h e   S u n ' s   o u t e r   a t m o s p h e r e ,   o r   c o r o n a ,   t h a t   h e l p   d r i v e   s p a c e   w e a t h e r ,   w h i c h   c a n   e n d a n g e r   s a t e l l i t e s ,   d i s r u p t   c o m m u n i c a t i o n s   a n d   n a v i g a t i o n   t e c h n o l o g i e s ,   a n d   e v e n   k n o c k   o u t   p o w e r   g r i d s   o n   E a r t h .   L e a r n i n g   m o r e   a b o u t   h o w   t h e s e   e v e n t s   i n t e r a c t   w i t h   i n t e r p l a n e t a r y   d u s t   c o u l d   h e l p   s c i e n t i s t s   b e t t e r   p r e d i c t   h o w   q u i c k l y   C M E s   c o u l d   t r a v e l   f r o m   t h e   S u n   t o   E a r t h ,   f o r e c a s t i n g   w h e n   t h e   p l a n e t   c o u l d   s e e   t h e i r   i m p a c t , ”   s a i d   N A S A .   T h e   N A S A   s p a c e c r a f t   c o n f i r m e d   t h e   m o v e m e n t   o f   p l a n e t a r y   d u s t ,   n o t i n g   t h a t   t h i s   C M E   i n   p a r t i c u l a r   w a s   a b l e   t o   d i s p l a c e   t h e   d u s t   6   m i l l i o n   k i l o m e t e r s   a w a y .   T h i s   i s   t h e   f i r s t   t i m e   w e   h a v e   r e c e i v e d   c o n f i r m a t i o n   o n   t h i s   t h e o r y   s i n c e   i t   i s   d i f f i c u l t   t o   g a u g e   d u s t   d i s p l a c e m e n t   f r o m   a f a r .   I t   r e m a i n s   t o   b e   s e e n   h o w   N A S A   u s e s   t h e   d a t a   t o   f u r t h e r   i m p r o v e   i t s   s p a c e   w e a t h e r   f o r e c a s t i n g .   A d i t y a - L 1 ,   I S R O ' s   m a i d e n   p r o j e c t   t o   u n d e r s t a n d   s o l a r   s t o r m s ,   a n d   o t h e r   s o l a r   a c t i v i t i e s ,   i s   e n r o u t e   t o   L a g r a n g e   1   p o i n t ,   w h e r e   i t   w i l l   r e s i d e   a n d   o b s e r v e   t h e   S u n .   T h e   s p a c e c r a f t   w i l l   t a k e   a b o u t   f o u r   m o n t h s   t o   r e a c h   i t s   d e s t i n a t i o n .   H o w e v e r ,   w h e n   i t   d o e s   r e a c h   t h e r e ,   i t   w i l l   b e   j u s t   i n   t i m e   t o   o b s e r v e   t h e   S u n   h i t t i n g   t h e   p e a k   o f   i t s   s o l a r   c y c l e ,   w h e n   t h e   s o l a r   a c t i v i t y   i s   a t   i t s   h i g h e s t .   T h e r e   a r e   s o m e   f e a r s   t h a t   a   C M E   m i g h t   h i t   A d i t y a - L 1   a s   w e l l ,   h o w e v e r ,   t h e r e   a r e   t w o   f a c t o r s   t h a t   m a y   f a v o r   t h e   I S R O   s p a c e c r a f t   i n   s u r v i v i n g   s u c h   a n   i n c i d e n t .   F i r s t ,   u n l i k e   t h e   P a r k e r   S o l a r   P r o b e ,   w h i c h   i s   b u i l t   t o   g o   e x t r e m e l y   c l o s e   t o   t h e   S u n   a t   a   d i s t a n c e   o f   6 . 9   m i l l i o n   k i l o m e t e r s   f r o m   i t s   s u r f a c e ,   t h e   A d i t y a - L 1   i s   p l a c e d   v e r y   f a r   a w a y .   I t   i s   j u s t   1 . 5   m i l l i o n   k i l o m e t e r s   a w a y   f r o m   t h e   E a r t h .   S e c o n d ,   t h e   s p a c e c r a f t   h a s   b e e n   r e i n f o r c e d   w i t h   s p e c i a l   a l l o y s   a n d   m a t e r i a l s   t o   p r o t e c t   i t   f r o m   a n y   s p a c e - b a s e d   d a n g e r s   i n c l u d i n g   e x t r e m e   r a d i a t i o n ,   C M E   c l o u d s ,   a n d   m o r e .   F o l l o w   H T   T e c h   f o r   t h e   l a t e s t     t e c h   n e w s     a n d   r e v i e w s   ,   a l s o   k e e p   u p   w i t h   u s \\n o n   T w i t t e r ,   F a c e b o o k ,   G o o g l e   N e w s ,   a n d   I n s t a g r a m .   F o r   o u r   l a t e s t   v i d e o s , \\n s u b s c r i b e   t o   o u r   Y o u T u b e   c h a n n e l . \\n   7 1 6 9 5 1 0 1 3 0 7 0 0 1\",\n",
              " 'T o   e n j o y   a d d i t i o n a l   b e n e f i t s   C O N N E C T   W I T H   U S     S e p t e m b e r   2 1 ,   2 0 2 3   0 5 : 1 2   p m   |   U p d a t e d   0 5 : 2 8   p m   I S T     \\n C O M M e n t s \\n     S H A R E \\n   \\n R E A D   L A T E R \\n   \\n U F O   s i g h t i n g s ? :   A   t i n y   b o d y   o f   a   s p e c i m e n ,   t h a t   M e x i c a n   j o u r n a l i s t   a n d   U F O   e n t h u s i a s t   J a i m e   M a u s s a n   s a y s   i s   n o t   r e l a t e d   t o   a n y   k n o w n   E a r t h l y   s p e c i e s   a n d   w h i c h   h e   p r e s e n t e d   a l o n g   w i t h   a n o t h e r   o n e   t o   M e x i c o ’ s   C o n g r e s s   e a r l i e r   t h i s   w e e k ,   i s   p i c t u r e d ,   i n   M e x i c o   C i t y ,   M e x i c o   S e p t e m b e r   1 5 ,   2 0 2 3 .   R E U T E R S / R a q u e l   C u n h a \\n |   P h o t o   C r e d i t :   R A Q U E L   C U N H A \\n   U n i d e n t i f i e d   f l y i n g   o b j e c t s ,   o r   U F O s   i n   c o m m o n   p a r l a n c e ,   w e r e   i n   t h e   n e w s   a g a i n   a   f e w   d a y s   a g o   f o r   t w o   c o n t r a s t i n g   r e a s o n s .   L a s t   w e e k ,   l a w m a k e r s   i n   t h e   M e x i c a n   C o n g r e s s   h e a r d   t e s t i m o n y   f r o m   i n d i v i d u a l s   s u g g e s t i n g   t h e   p o s s i b i l i t y   o f   t h e   e x i s t e n c e   o f   e x t r a t e r r e s t r i a l s .   T h e s e   i n d i v i d u a l s   h a i l e d   f r o m   M e x i c o ,   t h e   U . S . ,   J a p a n ,   a n d   B r a z i l .   J o u r n a l i s t   J o s é   J a i m e   M a u s s a n   p r e s e n t e d   t w o   b o x e s   t h a t   e n c a s e d   w h a t   h e   c l a i m e d   w e r e   m u m m i e s   f o u n d   i n   P e r u ,   o f   b e i n g s   t h a t   h e   a n d   o t h e r s   c o n s i d e r e d   “ n o n - h u m a n   b e i n g s   t h a t   a r e   n o t   p a r t   o f   o u r   t e r r e s t r i a l   e v o l u t i o n . ”   S i m i l a r   f i n d i n g s   i n   t h e   p a s t   a n d   i n   t h e   a r e a   t u r n e d   o u t   t o   b e   t h e   r e m a i n s   o f   m u m m i f i e d   c h i l d r e n .   S c i e n t i s t s   h a v e   c a l l e d   M r .   M a u s s a n ’ s   c l a i m   f r a u d u l e n t   a n d   s a i d   t h a t   t h e   m u m m i e s   m a y   h a v e   b e e n   l o o t e d   f r o m   g r a v e   s i t e s .   T w o   d a y s   l a t e r ,   i n   a n   u n r e l a t e d   e v e n t ,   a   N A S A   p a n e l   r e c o m m e n d e d   i n   a   r e p o r t   t h a t   t h e   U . S .   s p a c e   a g e n c y   i n c r e a s e   i t s   e f f o r t s   t o   g a t h e r   i n f o r m a t i o n   o n   u n i d e n t i f i e d   o b j e c t s   i n   t h e   s k y ,   l a b e l l e d   ‘ U n i d e n t i f i e d   A n o m a l o u s   P h e n o m e n a , ’   o r   U A P ,   b y   t h e   g o v e r n m e n t ,   a n d   p l a y   a   l a r g e r   r o l e   i n   h e l p i n g   t h e   P e n t a g o n   s p o t   t h e m .   M o r e   i m p o r t a n t l y ,   t h e   r e p o r t ,   t h e   r e s u l t   o f   a   y e a r - l o n g   s t u d y ,   a l s o   f o u n d   n o   e v i d e n c e   t h a t   p a s t   U A P   o b s e r v a t i o n s   c o n c e r n e d   o b j e c t s   o f   e x t r a t e r r e s t r i a l   o r i g i n .   “ W e   w a n t   t o   s h i f t   t h e   c o n v e r s a t i o n   a b o u t   U A P s   f r o m   s e n s a t i o n a l i s m   t o   s c i e n c e , ”   N A S A   A d m i n i s t r a t o r   B i l l   N e l s o n   s a i d   l a s t   w e e k .   R e g a r d i n g   t h e   r e l i a b i l i t y   o f   U F O / U A P   s i g h t i n g s ,   t h e   r e p o r t   s a i d :   “ U A P   d a t a   a r e   r a r e l y ,   i f   e v e r ,   c o l l e c t e d   i n   a   c o n c e r t e d   e f f o r t   t o   u n d e r s t a n d   t h e   p h e n o m e n o n ;   t h e y   a r e   u s u a l l y   c o i n c i d e n t a l   o b s e r v a t i o n s . ”   C u r i o u s l y ,   s u c h   o b s e r v a t i o n s ,   c o l l a t e d   b y   a   s e l f - r e p o r t i n g   d a t a b a s e   c a l l e d   ‘ T h e   N a t i o n a l   U F O   R e p o r t i n g   C e n t e r   O n l i n e   D a t a b a s e ’   ( N U F O R C ) ,   h a v e   b e e n   c o n f i n e d   m o s t l y   t o   t h e   U . S .     C h a r t   1   |   T h e   c h a r t   s h o w s   t h e   n u m b e r   o f   s e l f - r e p o r t e d   o b s e r v a t i o n s   r e c o r d e d   i n   t h e   N U F O R C   d a t a b a s e .     C h a r t s   a p p e a r   i n c o m p l e t e ?   C l i c k   t o   r e m o v e   A M P   m o d e   O f   t h e   s e l f - r e p o r t e d   o b s e r v a t i o n s ,   c l o s e   t o   9 0 %   a r e   f r o m   t h e   U . S .   M o s t   o f   t h e   o b s e r v a t i o n s   m i s c o n s t r u e d   n a t u r a l   p h e n o m e n a   o r   h u m a n - m a d e   o b j e c t s   t h a t   t h e   o b s e r v e r   w a s   u n a w a r e   o f .   T h e   d a t a b a s e   a l s o   i n c l u d e s   4 7 9   s e l f - r e p o r t e d   o b s e r v a t i o n s   o f   U F O s   f r o m   I n d i a .   T h e   s e s s i o n   i n   t h e   M e x i c a n   C o n g r e s s   t o o k   p l a c e   t w o   m o n t h s   a f t e r   a   s i m i l a r   o n e   b e f o r e   t h e   U . S .   C o n g r e s s ,   i n   w h i c h   a   f o r m e r   A i r   F o r c e   i n t e l l i g e n c e   o f f i c e r   c l a i m e d   t h a t   h i s   c o u n t r y   h a s   p r o b a b l y   b e e n   a w a r e   o f   “ n o n - h u m a n ”   a c t i v i t y   s i n c e   t h e   1 9 3 0 s .   A n o t h e r   f a m o u s   U A P   r e p o r t e d   i n   r e c e n t   t i m e s   i s   t h e   s o - c a l l e d   ‘ G o F a s t ’   v i d e o ,   r e c o r d e d   b y   n a v y   a v i a t o r s   o n b o a r d   t h e   U S S   T h e o d o r e   R o o s e v e l t   .   I t   s h o w s   a n   o b j e c t   f l y i n g   j u s t   a b o v e   t h e   o c e a n   a t   g r e a t   s p e e d .   T h e   r e c e n t   N A S A   s t u d y   d e b u n k e d   t h i s   c l a i m   b y   u s i n g   t r i g o n o m e t r y   t o   d e t e r m i n e   t h a t   t h e   o b j e c t   w a s   t r a v e l l i n g   a t   a   n o r m a l   s p e e d   a n d   w a s   p r o b a b l y   d r i f t i n g   w i t h   t h e   w i n d .   I t   i s   p r e c i s e l y   t o   d e b u n k   s u c h   c l a i m s   u s i n g   s c i e n c e   t h a t   t h e   U . S .   g o v e r n m e n t   h a s   d o n e   a   U - t u r n   o n   p u b l i c   i n f o r m a t i o n   o n   U A P s   a f t e r   d e c a d e s   o f   s t o n e w a l l i n g   a n d   d e f l e c t i n g .   T h e   P e n t a g o n   h a s   b e e n   a c t i v e l y   i n v e s t i g a t i n g   r e p o r t e d   s i g h t i n g s   i n   r e c e n t   y e a r s   b y   m i l i t a r y   a v i a t o r s .   N A S A   a l s o   n a m e d   a   n e w   d i r e c t o r   o f   r e s e a r c h   i n t o   U A P s   l a s t   w e e k ,   M a r k   M c I n e r n e y .   C h a r t   2   |   T h e   c h a r t   s h o w s   r e p o r t e d   U A P s   a c r o s s   a l t i t u d e s .   I n   f a c t ,   t h e   A l l - d o m a i n   A n o m a l y   R e s o l u t i o n   O f f i c e   ( A A R O ) ,   u n d e r   t h e   U . S .   D e p a r t m e n t   o f   D e f e n c e ,   h a s   b e e n   i n v e s t i g a t i n g   a n d   d e b u n k i n g   U F O   s i g h t i n g s   s i n c e   2 0 2 2 .   A A R O   h a s   c l a s s i f i e d   U F O / U A P   s i g h t i n g s   b e t w e e n   1 9 9 6 - 2 0 2 3   b a s e d   o n   a l t i t u d e   ( C h a r t   2 )   a n d   m o r p h o l o g y   ( C h a r t   3 )   t o   s t r e a m l i n e   s u c h   o b s e r v a t i o n s .   O f   t h e   m o r e   t h a n   8 0 0   u n c l a s s i f i e d   s i g h t i n g s   c o l l e c t e d   b y   A A R O   t h u s   f a r ,   o n l y   “ a   s m a l l   h a n d f u l   c a n n o t   b e   i m m e d i a t e l y   i d e n t i f i e d   a s   k n o w n   h u m a n - m a d e   o r   n a t u r a l   p h e n o m e n a , ”   a c c o r d i n g   t o   t h e   N A S A   s t u d y .   C h a r t   3   |   T h e   c h a r t   s h o w s   t h e   m o r p h o l o g y   o f   r e p o r t e d   U A P s .   S o u r c e :   N a t i o n a l   U F O   R e p o r t i n g   C e n t e r ,   A l l - d o m a i n   A n o m a l y   R e s o l u t i o n   O f f i c e   A l s o   r e a d : ‘ A l i e n   b o d i e s ’   p r e s e n t e d   i n   M e x i c a n   C o n g r e s s   p a n n e d   a s   ‘ s t u n t ’   L i s t e n   t o   o u r   p o d c a s t   | A   d i s c u s s i o n   o n   M a d r a s   H C   j u d g m e n t :   W i f e   c a n   c l a i m   a   s h a r e   i n   h u s b a n d ’ s   p r o p e r t y   |   D a t a   P o i n t   p o d c a s t   \\n C O M M e n t s \\n     S H A R E \\n   \\n D a t a   P o i n t \\n \\n / \\n \\n s c i e n c e   ( g e n e r a l ) \\n \\n / \\n \\n W o r l d \\n   B A C K   T O   T O P   C o m m e n t s   h a v e   t o   b e   i n   E n g l i s h ,   a n d   i n   f u l l   s e n t e n c e s .   T h e y   c a n n o t   b e   a b u s i v e   o r   p e r s o n a l .   P l e a s e   a b i d e   b y   o u r   c o m m u n i t y   g u i d e l i n e s     f o r   p o s t i n g   y o u r   c o m m e n t s .     W e   h a v e   m i g r a t e d   t o   a   n e w   c o m m e n t i n g   p l a t f o r m .   I f   y o u   a r e   a l r e a d y   a   r e g i s t e r e d   u s e r   o f   T h e   H i n d u   a n d   l o g g e d   i n ,   y o u   m a y   c o n t i n u e   t o   e n g a g e   w i t h   o u r   a r t i c l e s .   I f   y o u   d o   n o t   h a v e   a n   a c c o u n t   p l e a s e   r e g i s t e r   a n d   l o g i n   t o   p o s t   c o m m e n t s .   U s e r s   c a n   a c c e s s   t h e i r   o l d e r   c o m m e n t s   b y   l o g g i n g   i n t o   t h e i r   a c c o u n t s   o n   V u u k l e .',\n",
              " '',\n",
              " 'M o s t   s t o c k   q u o t e   d a t a   p r o v i d e d   b y   B A T S .   U S   m a r k e t   i n d i c e s   a r e   s h o w n   i n   r e a l   t i m e ,   e x c e p t   f o r   t h e   S & P   5 0 0   w h i c h   i s   r e f r e s h e d   e v e r y   t w o   m i n u t e s .   A l l   t i m e s   a r e   E T .   F a c t s e t :   F a c t S e t   R e s e a r c h   S y s t e m s   I n c .   A l l   r i g h t s   r e s e r v e d .   C h i c a g o   M e r c a n t i l e :   C e r t a i n   m a r k e t   d a t a   i s   t h e   p r o p e r t y   o f   C h i c a g o   M e r c a n t i l e   E x c h a n g e   I n c .   a n d   i t s   l i c e n s o r s .   A l l   r i g h t s   r e s e r v e d .   D o w   J o n e s :   T h e   D o w   J o n e s   b r a n d e d   i n d i c e s   a r e   p r o p r i e t a r y   t o   a n d   a r e   c a l c u l a t e d ,   d i s t r i b u t e d   a n d   m a r k e t e d   b y   D J I   O p c o ,   a   s u b s i d i a r y   o f   S & P   D o w   J o n e s   I n d i c e s   L L C   a n d   h a v e   b e e n   l i c e n s e d   f o r   u s e   t o   S & P   O p c o ,   L L C   a n d   C N N .   S t a n d a r d   &   P o o r ’ s   a n d   S & P   a r e   r e g i s t e r e d   t r a d e m a r k s   o f   S t a n d a r d   &   P o o r ’ s   F i n a n c i a l   S e r v i c e s   L L C   a n d   D o w   J o n e s   i s   a   r e g i s t e r e d   t r a d e m a r k   o f   D o w   J o n e s   T r a d e m a r k   H o l d i n g s   L L C .   A l l   c o n t e n t   o f   t h e   D o w   J o n e s   b r a n d e d   i n d i c e s   C o p y r i g h t   S & P   D o w   J o n e s   I n d i c e s   L L C   a n d / o r   i t s   a f f i l i a t e s .   F a i r   v a l u e   p r o v i d e d   b y   I n d e x A r b . c o m .   M a r k e t   h o l i d a y s   a n d   t r a d i n g   h o u r s   p r o v i d e d   b y   C o p p   C l a r k   L i m i t e d .   ©   2 0 2 3   C a b l e   N e w s   N e t w o r k .   A   W a r n e r   B r o s .   D i s c o v e r y   C o m p a n y .   A l l   R i g h t s   R e s e r v e d .     C N N   S a n s   ™   &   ©   2 0 1 6   C a b l e   N e w s   N e t w o r k .',\n",
              " '',\n",
              " \"  P r o f i l e   S e c t i o n s   t v   F e a t u r e d   M o r e   F r o m   N B C   F o l l o w   N B C   N e w s   B i d e n   a n n o u n c e s   $ 3 2 5   m i l l i o n   m i l i t a r y   a i d   p a c k a g e   d u r i n g   a   W h i t e   H o u s e   m e e t i n g   w i t h   Z e l e n s k y y   S e p t e m b e r   2 1 ,   2 0 2 3 ,   5 : 5 0   P M   S o p h i e   T u r n e r   s u e s   J o e   J o n a s   t o   r e t u r n   t h e i r   t w o   c h i l d r e n   t o   E n g l a n d   a n d   c l a i m s   h e   r e f u s e s   t o   h a n d   o v e r   t h e   k i d s '   p a s s p o r t s .   S e p t e m b e r   2 1 ,   2 0 2 3 ,   1 1 : 5 5   A M   L i z z o   p r e a c h e s   s e l f - l o v e   a n d   a c c e p t a n c e .   B u t   b a c k s t a g e ,   h e r   t e a m   w a s   m o c k e d   a n d   b u l l i e d ,   a   s e c o n d   l a w s u i t   c l a i m s .   S e p t e m b e r   2 1 ,   2 0 2 3 ,   1 1 : 1 2   A M   R u p e r t   M u r d o c h ,   t h e   A u s t r a l i a n   p r e s s   b a r o n   w h o   r e s h a p e d   c o n s e r v a t i v e   m e d i a ,   s t e p s   d o w n   a s   c h a i r m a n   o f   F o x   a n d   N e w s   C o r p .     S e p t e m b e r   2 1 ,   2 0 2 3 ,   9 : 1 2   A M   N B C   N e w s ’   S a v a n n a h   S e l l e r s   i n t e r v i e w s   C h r i s t i n a   K o c h ,   a n   a s t r o n a u t   u s e d   t o   b e i n g   t h e   o n l y   w o m a n   i n   t h e   r o o m .   K o c h   i s   g o i n g   o n   a   l u n a r   m i s s i o n ,   t h e   A r t e m i s   2 ,   i n   N o v e m b e r   2 0 2 4 .   F a c i n g   o b s t a c l e s   i n   a   m a l e   d o m i n a t e d   f i e l d ,   K o c h   e x p l a i n s   a   m i s s i o n   n o   w o m a n   h a s   d o n e   b e f o r e ,   t o   t h e   m o o n   a n d   b a c k . \\xa0 S e p t .   1 9 ,   2 0 2 3     © \\xa0 2 0 2 3   N B C   U N I V E R S A L\",\n",
              " 'W h e n   y o u   p u r c h a s e   t h r o u g h   l i n k s   o n   o u r   s i t e ,   w e   m a y   e a r n   a n   a f f i l i a t e   c o m m i s s i o n .   H e r e ’ s   h o w   i t   w o r k s .   F o u r t h   t i m e \\' s   t h e   c h a r m .   O n   M o n d a y   ( S e p t .   1 8 ) ,   N A S A   c o n f i r m e d   t h a t ,   a f t e r   t h r e e   f a i l e d   a t t e m p t s ,   i t s   C u r i o s i t y   M a r s   r o v e r   m a n a g e d   t o   r e a c h   a   p r e c a r i o u s   d e s t i n a t i o n   o n   t h e   R e d   P l a n e t :   T h e   G e d i z   V a l l i s   R i d g e . \\xa0   A s   t o   w h y   t h i s   f o r m a t i o n   w a s   w o r t h   s u c h   t u r m o i l   f o r   C u r i o s i t y ?   W e l l ,   s c i e n t i s t s   b e l i e v e   t h a t   t h r e e   b i l l i o n   y e a r s   a g o ,   w h e n   M a r s   w a s   m u c h   w e t t e r   t h a n   t h e   a r i d   l a n d   i t   i s   n o w ,   p o w e r f u l   d e b r i s   f l o w s   c a r r i e d   m u d   a n d   b o u l d e r s   d o w n   t h e   s i d e   o f   a   m o u n t a i n   i n   t h e   v i c i n i t y   k n o w n   a s   M o u n t   S h a r p .   A c c o r d i n g   t o   N A S A ,   t h i s   d e b r i s   \" s p r e a d   i n t o   a   f a n   t h a t   w a s   l a t e r   e r o d e d   b y   w i n d   i n t o   a   t o w e r i n g   r i d g e . \" \\xa0   I n   p r a c t i c a l   t e r m s ,   t h a t   b a c k s t o r y   m e a n s   t h i s   r i d g e   h o l d s   p r o o f   o f   M a r s \\'   b l u e   p a s t   —   a n d   m a y b e   m o r e   e x c i t i n g l y ,   i n f o r m a t i o n   a b o u t   t h e   p l a n e t \\' s   a n c i e n t ,   d a n g e r o u s   l a n d s l i d e s . \\xa0   \" I   c a n ’ t   i m a g i n e   w h a t   i t   w o u l d   h a v e   b e e n   l i k e   t o   w i t n e s s   t h e s e   e v e n t s , ”   g e o l o g i s t   W i l l i a m   D i e t r i c h ,   a   m i s s i o n   t e a m   m e m b e r   a t   t h e   U n i v e r s i t y   o f   C a l i f o r n i a ,   B e r k e l e y ,   s a i d   i n   a   s t a t e m e n t .   \" H u g e   r o c k s   w e r e   r i p p e d   o u t   o f   t h e   m o u n t a i n   h i g h   a b o v e ,   r u s h e d   d o w n h i l l ,   a n d   s p r e a d   o u t   i n t o   a   f a n   b e l o w .   T h e   r e s u l t s   o f   t h i s   c a m p a i g n   w i l l   p u s h   u s   t o   b e t t e r   e x p l a i n   s u c h   e v e n t s   n o t   j u s t   o n   M a r s ,   b u t   e v e n   o n   E a r t h ,   w h e r e   t h e y   a r e   a   n a t u r a l   h a z a r d . \"   T h e   t a r g e t   w a s   r e a c h e d   o n   A u g .   1 4 ,   o r   o n   t h e   3 , 9 2 3 r d   M a r t i a n   d a y   ( s o l ) ,   o f   t h e   m i s s i o n .   A f t e r   s e t t l i n g   i n ,   C u r i o s i t y \\' s   M a s t c a m   t o o k   1 3 6   i n d i v i d u a l   i m a g e s   o f   t h e   s i t e   t h a t   w e r e   s t i t c h e d   t o g e t h e r   t o   f o r m   a   3 6 0 - d e g r e e   p a n o r a m a   t h a t   w a s   l a t e r   c o l o r - e n h a n c e d   f o r   v i s u a l   p u r p o s e s . \\xa0   R e l a t e d :   H o w   N A S A \\' s   C u r i o s i t y   r o v e r   o v e r c a m e   i t s   s t e e p e s t   M a r s   c l i m b   y e t   ( v i d e o )   T o   g e t   t o   t h e   G e d i z   V a l l i s   R i d g e ,   C u r i o s i t y   h a d   t o   g e t   p a s t   q u i t e   a   f e w   h u r d l e s . \\xa0   F i r s t ,   t h e   r o v e r   h a d   s o m e   t r o u b l e   a c c e s s i n g   t h i s   l o n g - s o u g h t   r e g i o n   o n   t h e   R e d   P l a n e t   a f t e r   s c a l i n g   a   s p o t   i n   2 0 2 1   k n o w n   a s   t h e   G r e e n h e u g h   P e d i m e n t ,   w h i c h   s c i e n t i s t s   s a y   w a s   a   t r e m e n d o u s l y   d i f f i c u l t - t o - c l i m b   r o c k   f o r m a t i o n . \\xa0   T h e n ,   l a s t   y e a r ,   C u r i o s i t y   r a n   i n t o   s o m e   k n i f e - e d g e d   \" g a t o r - b a c k \"   r o c k s   s t i p p l e d   a l o n g   a n o t h e r   p o s s i b l e   p a t h   t o   t h e   r i d g e .   T h e   m o n i k e r   \" g a t o r - b a c k \"   c o m e s   f r o m   t h e   f a c t   t h e s e   r o c k s   r e s e m b l e   s c a l e s   o n   a n   a l l i g a t o r \\' s   b a c k .   T h e y \\' r e   b e l i e v e d   t o   b e   m a d e   o f   s a n d s t o n e   —   w h i c h   a l s o   m a d e   t h e m   t h e   h a r d e s t   t y p e   o f   r o c k   C u r i o s i t y   h a d   r u n   i n t o   o n   M a r s .   A n d   e a r l i e r   t h i s   y e a r ,   C u r i o s i t y   f a c e d   a n o t h e r   s e t b a c k   o n   t h e   w a y   t o   G e d i z   V a l l i s   a f t e r   c h e c k i n g   o u t   t h e   M a r k e r   B a n d   V a l l e y .   G e t t i n g   o u t   o f   M a r k e r   B a n d ,   N A S A   s a i d   a t   t h e   t i m e ,   w a s   c o m p a r a b l e   t o   p a r t a k i n g   i n   a   M a r t i a n   \" s l i p - a n d - s l i d e . \"   T h a t   w h o l e   o r d e a l   l e f t   C u r i o s i t y   i n   d e l i c a t e   s h a p e . \\xa0   T h e   C u r i o s i t y   t e a m   \\xa0 c a l l e d   G V   R i d g e   \" t h e   \\' B e r m u d a   T r i a n g l e \\'   o f   M t .   S h a r p , \"   a c c o r d i n g   t o   a   m i s s i o n   u p d a t e   f r o m   e a r l i e r   t h i s   y e a r .   \" W e   a r e   n o w   j u s t   a   f e w   m e t e r s   a w a y   f r o m   b e i n g   a b l e   t o   r e a c h   t h e   a r m   o u t   a n d   g e t   c o n t a c t   s c i e n c e   o n   s o m e   o f   t h e   r i d g e   m a t e r i a l ,   a n d   a n t i c i p a t i o n   i s   g r o w i n g , \"   t h e   u p d a t e   a d d e d .   B u t   n o w ,   C u r i o s i t y   h a s   s a t i s f i e d   o u r   c u r i o s i t y .     \" A f t e r   t h r e e   y e a r s ,   w e   f i n a l l y   f o u n d   a   s p o t   w h e r e   M a r s   a l l o w e d   C u r i o s i t y   t o   s a f e l y   a c c e s s   t h e   s t e e p   r i d g e , \"   A s h w i n   V a s a v a d a ,   C u r i o s i t y ’ s   p r o j e c t   s c i e n t i s t   a t   N A S A ’ s   J e t   P r o p u l s i o n   L a b o r a t o r y ,   s a i d   i n   t h e   s t a t e m e n t .   \" I t ’ s   a   t h r i l l   t o   b e   a b l e   t o   r e a c h   o u t   a n d   t o u c h   r o c k s   t h a t   w e r e   t r a n s p o r t e d   f r o m   p l a c e s   h i g h   u p   o n   M o u n t   S h a r p   t h a t   w e ’ l l   n e v e r   b e   a b l e   t o   v i s i t   w i t h   C u r i o s i t y . \"   T o   t h e   l a t t e r   p o i n t ,   C u r i o s i t y   w a s   n e v e r   m e a n t   t o   m a k e   t h e   c l i m b   t o w a r d s   M o u n t   S h a r p \\' s   p e a k ,   w h i c h   m e a n s   d i s s e c t i n g   r o c k s   o n   t h e   g r o u n d   t h a t   o n c e   s t o o d   a t   t h e   f o r m a t i o n \\' s   a p e x   i s   a   u n i q u e l y   i m p o r t a n t   o p p o r t u n i t y . \\xa0   T h e   r o v e r   h a s   b e e n   e x p l o r i n g   t h e   3 - m i l e - t a l l   ( 5 - k i l o m e t e r - t a l l )   m o u n t a i n   s i n c e   2 0 1 4 ,   s t u m b l i n g   u p o n   e v i d e n c e   o f   a n c i e n t   s t r e a m s   a n d   s u c h   a l o n g   t h e   w a y ,   N A S A   e x p l a i n e d ,   b u t   G e d i z   V a l l i s   r i d g e   w a s   a   w h o l e   n e w   a r e a   t o   i n v e s t i g a t e   —   a n d ,   i n   f a c t ,   t h e   y o u n g e s t   s e c t i o n   o f   t h e   r e g i o n . \\xa0   A c c o r d i n g   t o   N A S A ,   C u r i o s i t y   s p e n t   1 1   d a y s   a t   t h e   r i d g e   a f t e r   i t s   m i d - A u g u s t   a r r i v a l .   D u r i n g   t h i s   t i m e ,   i t   p h o t o g r a p h e d   d a r k   r o c k s   i n   t h e   r e g i o n   t h a t   \" c l e a r l y   o r i g i n a t e d   e l s e w h e r e   o n   t h e   m o u n t a i n , \"   a s   w e l l   a s   o t h e r s   l o w e r   o n   t h e   r i d g e l i n e ,   \" s o m e   a s   l a r g e   a s   c a r s . \"   T h e s e   s h a r d s   a r e   e x p e c t e d   t o   h a v e   c o m e   f r o m   h i g h e r   p l a c e s   o n   M o u n t   S h a r p . \\xa0   C u r i o s i t y \\' s   M a s t c a m ,   i n   t o t a l ,   c a p t u r e d   1 3 6   i m a g e s   o f   t h e   G e d i z   V a l l i s   R i d g e   t h a t   w e r e   p i e c e d   t o g e t h e r   i n   a   m o s a i c   t o   f o r m   t h e   3 6 0 - d e g r e e   v i e w . \\xa0   — \\u200a N A S A \\' s   M a r s   r o v e r   C u r i o s i t y   r e a c h e s   i n t r i g u i n g   s a l t y   s i t e   a f t e r   t r e a c h e r o u s   j o u r n e y   — \\u200a P e r s e v e r a n c e   M a r s   r o v e r   s p o t s   \\' s h a r k   f i n \\'   a n d   \\' c r a b   c l a w \\'   r o c k s   o n   R e d   P l a n e t   ( p h o t o )   — \\u200a C u r i o s i t y   r o v e r   o n   M a r s   g e t s   a   b r a i n   b o o s t   t o   t h i n k   ( a n d   m o v e )   f a s t e r   F u r t h e r ,   t h e   t e a m   s a y s ,   t h e   r o v e r   o f f e r e d   s c i e n t i s t s   t h e   f i r s t - e v e r   u p - c l o s e   v i e w s   o f   a   g e o l o g i c   c r e a t u r e   c a l l e d   a   \" d e b r i s   f l o w   f a n , \"   w h i c h   r e f e r s   t o   a   p h e n o m e n o n   w h e r e   d e b r i s   f l o w i n g   d o w n   a   s l o p e   s p r e a d s   o u t   i n t o   a   f a n   s h a p e . \\xa0   C u r i o s i t y   h a s   b e e n   t r a v e r s i n g   i t s   p l a n e t a r y   s u b j e c t   s i n c e   2 0 1 2   a s   p a r t   o f   N A S A \\' s   M a r s   S c i e n c e   L a b o r a t o r y   m i s s i o n .   S o   f a r ,   i t s   j o u r n e y s   h a v e   t a k e n   i t   t o   i n c r e d i b l e   l o c a t i o n s   s u c h   a s   t h e   G a l e   C r a t e r   —   a   l a r g e   i m p a c t   d i v o t   w i t h   a   l a y e r e d   m o u n t a i n   a t   i t s   c e n t e r   —   a n d   ( m o r e   a d o r a b l y )   t h i s   r o c k   t h a t   l o o k s   l i k e   a n   o p e n   b o o k .   W i t h   G e d i z   V a l l i s   u n d e r   i t s   b e l t   a t   l a s t ,   C u r i o s i t y   i s   h e a d e d   t o   f i n d   a   p a t h   a b o v e   t h e   r i d g e   t o   l e a r n   a b o u t   t h e   w a t e r y   h i s t o r y   o f   M o u n t   S h a r p .   J o i n   o u r   S p a c e   F o r u m s   t o   k e e p   t a l k i n g   s p a c e   o n   t h e   l a t e s t   m i s s i o n s ,   n i g h t   s k y   a n d   m o r e !   A n d   i f   y o u   h a v e   a   n e w s   t i p ,   c o r r e c t i o n   o r   c o m m e n t ,   l e t   u s   k n o w   a t :   c o m m u n i t y @ s p a c e . c o m .   B r e a k i n g   s p a c e   n e w s ,   t h e   l a t e s t   u p d a t e s   o n   r o c k e t   l a u n c h e s ,   s k y w a t c h i n g   e v e n t s   a n d   m o r e !   M o n i s h a   R a v i s e t t i   i s   S p a c e . c o m \\' s   A s t r o n o m y   E d i t o r .   S h e   c o v e r s   b l a c k   h o l e s ,   s t a r   e x p l o s i o n s ,   g r a v i t a t i o n a l   w a v e s ,   e x o p l a n e t   d i s c o v e r i e s   a n d   o t h e r   e n i g m a s   h i d d e n   a c r o s s   t h e   f a b r i c   o f   s p a c e   a n d   t i m e .   P r e v i o u s l y ,   s h e   w a s   a   s c i e n c e   w r i t e r   a t   C N E T ,   a n d   b e f o r e   t h a t ,   r e p o r t e d   f o r   T h e   A c a d e m i c   T i m e s . \\xa0 P r i o r   t o   b e c o m i n g   a   w r i t e r ,   s h e   w a s   a n   i m m u n o l o g y   r e s e a r c h e r   a t   W e i l l   C o r n e l l   M e d i c a l   C e n t e r   i n   N e w   Y o r k .   S h e   g r a d u a t e d   f r o m   N e w   Y o r k   U n i v e r s i t y   i n   2 0 1 8   w i t h   a   B . A .   i n   p h i l o s o p h y ,   p h y s i c s   a n d   c h e m i s t r y .   S h e   s p e n d s   t o o   m u c h   t i m e   p l a y i n g   o n l i n e   c h e s s .   H e r   f a v o r i t e   p l a n e t   i s   E a r t h .   $ 1 0 0 , 0 0 0   B r e a k t h r o u g h   p h y s i c s   p r i z e   a w a r d e d   t o   3   s c i e n t i s t s   w h o   s t u d y   t h e   l a r g e   s c a l e   s t r u c t u r e   o f   t h e   u n i v e r s e   N A S A \\' s   P a r k e r   S o l a r   P r o b e   f l i e s   t h r o u g h   m a j o r   c o r o n a l   m a s s   e j e c t i o n   —   a n d   s u r v i v e s   t o   t e l l   t h e   t a l e   V i r g i n   G a l a c t i c \\' s   n e x t   f l i g h t   w i l l   t a k e   a   P a k i s t a n i   t o   s p a c e   f o r   t h e   1 s t   t i m e   B y   F r a n   R u i z S e p t e m b e r   2 0 ,   2 0 2 3   B y   E l i z a b e t h   H o w e l l S e p t e m b e r   2 0 ,   2 0 2 3   B y   R o b e r t   L e a S e p t e m b e r   2 0 ,   2 0 2 3   B y   D a i s y   D o b r i j e v i c S e p t e m b e r   2 0 ,   2 0 2 3   B y   E l i z a b e t h   H o w e l l S e p t e m b e r   2 0 ,   2 0 2 3   B y   A n d r e w   J o n e s S e p t e m b e r   2 0 ,   2 0 2 3   B y   T e r e z a   P u l t a r o v a S e p t e m b e r   2 0 ,   2 0 2 3   B y   B r e t t   T i n g l e y S e p t e m b e r   2 0 ,   2 0 2 3   B y   M o n i s h a   R a v i s e t t i S e p t e m b e r   1 9 ,   2 0 2 3   B y   M i k e   W a l l S e p t e m b e r   1 9 ,   2 0 2 3   B y   A n d r e w   J o n e s S e p t e m b e r   1 9 ,   2 0 2 3   S p a c e   i s   p a r t   o f   F u t u r e   U S   I n c ,   a n   i n t e r n a t i o n a l   m e d i a   g r o u p   a n d   l e a d i n g   d i g i t a l   p u b l i s h e r .   V i s i t   o u r   c o r p o r a t e   s i t e .   © \\n F u t u r e   U S ,   I n c .   F u l l   7 t h   F l o o r ,   1 3 0   W e s t   4 2 n d   S t r e e t , \\n N e w   Y o r k , \\n N Y   1 0 0 3 6 .  ',\n",
              " 'W a t c h   C B S   N e w s   \\n                         B y   K e r r y   B r e e n \\n                       \\n S e p t e m b e r   2 1 ,   2 0 2 3   /   9 : 2 2   A M \\n                     /   C B S   N e w s \\n                   T h a n k s   t o   t w o   l u n a r   o r b i t i n g   c a m e r a s   w o r k i n g   t o g e t h e r   o n   t h e   m o o n \\' s   S h a c k l e t o n   C r a t e r ,   N A S A   h a s   b e e n   a b l e   t o   r e l e a s e   a   m o s a i c   s h o w i n g   \" u n p r e c e d e n t e d   d e t a i l \"   o f   t h e   r e g i o n . \\xa0   S h a c k l e t o n   C r a t e r   i s   i n   t h e   m o o n \\' s   S o u t h   P o l e   r e g i o n .   T h e   a r e a   i s   o f   i n t e r e s t   t o   s c i e n t i s t s   b e c a u s e   i t   m a y   h a v e   a c c e s s i b l e   i c e   d e p o s i t s   i n   i t s   c r a t e r s ,   C B S   N e w s   p r e v i o u s l y   r e p o r t e d .   T h a t   i c e   c o u l d   b e   a   s o u r c e   o f   a i r ,   w a t e r   a n d   r o c k e t   f u e l .   I n d i a \\' s   C h a n d r a y a a n - 3   l a n d e r   s a f e l y   l a n d e d   i n   t h e   r e g i o n   i n   A u g u s t   2 0 2 3 ,   a n d   N A S A \\' s   A r t e m i s   p r o g r a m   i s   p l a n n i n g   t o   s e n d   a s t r o n a u t s   t o   t h i s   a r e a   i n   t h e   n e x t   f e w   y e a r s . \\xa0   A   n e w   m o s a i c   r e v e a l s   t h e   p o w e r   o f   t w o   l u n a r   o r b i t i n g   c a m e r a s ,   w o r k i n g   t o g e t h e r   🤝 T h i s   m o s a i c   w a s   c r e a t e d   w i t h   i m a g e r y   a c q u i r e d   b y   t h e   @ N A S A M o o n   L u n a r   R e c o n n a i s s a n c e   O r b i t e r   C a m e r a   &   S h a d o w C a m ,   a   @ N A S A   i n s t r u m e n t   o n   b o a r d   a   K A R I   s p a c e c r a f t   c a l l e d   D a n u r i :   h t t p s : / / t . c o / 3 q 6 J O H u 6 K d   p i c . t w i t t e r . c o m / r I F D 8 z K U r j   T h e   m o s a i c   i m a g e s   w e r e   c a p t u r e d   t h a n k s   t o   t h e   t e c h n o l o g y   o n   t w o   c a m e r a s   w o r k i n g   i n   s y n c .   T h e   L u n a r   R e c o n n a i s s a n c e   O r b i t e r   C a m e r a   c a n   c a p t u r e   d e t a i l e d   i m a g e s   o f   t h e   m o o n \\' s   s u r f a c e ,   N A S A   s a i d   i n   a   n e w s   r e l e a s e ,   b u t   h a s   o n l y   \" l i m i t e d   a b i l i t y \"   t o   p h o t o g r a p h   t h e   s h a d o w e d   a r e a s   o f   t h e   l u n a r   b o d y .   T h e s e   p e r m a n e n t l y   s h a d o w e d   r e g i o n s   n e v e r   s e e   s u n l i g h t ,   s o   t h e   L R O C   c a n   n e v e r   t a k e   g o o d   p h o t o s   o f   t h e m . \\xa0   T h a t \\' s   w h e r e   t h e   S h a d o w C a m   c o m e s   i n .   A   N A S A   i n s t r u m e n t   o n   b o a r d   a   K o r e a n   s p a c e c r a f t ,   t h e   S h a d o w C a m   i s   \" 2 0 0 - t i m e s   m o r e   l i g h t - s e n s i t i v e   t h a n   L R O C   a n d   c a n   o p e r a t e   s u c c e s s f u l l y   i n   t h e s e   e x t r e m e l y   l o w - l i g h t   c o n d i t i o n s , \"   a c c o r d i n g   t o   t h e   a g e n c y .   T h i s   r e v e a l s   f e a t u r e s   a n d   t e r r a i n   d e t a i l s   t h a t   w o u l d n \\' t   o t h e r w i s e   b e   v i s i b l e .   H o w e v e r ,   t h i s   l i g h t   s e n s i t i v i t y   m e a n s   i t   c a n \\' t   c a p t u r e   d i r e c t l y   i l l u m i n a t e d   p a r t s   o f   t h e   m o o n   -   t h o s e   a r e a s   a r e   w h e r e   t h e   L R O C   w o r k s   t h e   b e s t . \\xa0   C o m b i n e d ,   t h e   t w o   c a m e r a s   w e r e   a b l e   t o   c a p t u r e   i m a g e s   t h a t   w e r e   c o m b i n e d   \" t o   c r e a t e   a   c o m p r e h e n s i v e   v i s u a l   m a p   o f   t h e   t e r r a i n   a n d   g e o l o g i c   f e a t u r e s   o f   b o t h   t h e   b r i g h t e s t   a n d   d a r k e s t   p a r t s   o f   t h e   M o o n . \" \\xa0   T h e   i m a g e s   s h o w   t h e   m o o n \\' s   p e r m a n e n t l y   s h a d o w e d   a r e a s   i n   \" g r e a t e r   d e t a i l   t h a n   p r e v i o u s l y   p o s s i b l e , \"   a l l o w i n g   s c i e n t i s t s   t o   s t u d y   t h e   a r e a   l i k e   n e v e r   b e f o r e .   W i t h   t h i s   c o m p l e t e   m a p ,   r e s e a r c h e r s   w i l l   b e   a b l e   t o   c o n d u c t   m o r e   t h o r o u g h   s u r f a c e   e x p l o r a t i o n   e n d e a v o r s ,   N A S A   s a i d ,   l i k e   t h e   A r t e m i s   m i s s i o n s   i n t e n d e d   t o   s e a r c h   f o r   i c e   a n d   e s t a b l i s h   a   l o n g - t e r m   U . S .   p r e s e n c e   o n   t h e   m o o n . \\xa0   K e r r y   B r e e n   i s   a   n e w s   e d i t o r   a n d   r e p o r t e r   f o r   C B S   N e w s .   H e r   r e p o r t i n g   f o c u s e s   o n   c u r r e n t   e v e n t s ,   b r e a k i n g   n e w s   a n d   s u b s t a n c e   u s e .   \\n F i r s t   p u b l i s h e d   o n   S e p t e m b e r   2 1 ,   2 0 2 3   /   9 : 2 2   A M \\n   \\n ©   2 0 2 3   C B S   I n t e r a c t i v e   I n c .   A l l   R i g h t s   R e s e r v e d . \\n   C o p y r i g h t   © 2 0 2 3   C B S   I n t e r a c t i v e   I n c .   A l l   r i g h t s   r e s e r v e d .',\n",
              " '©   2 0 2 3   -   P r i v a c y   -   T e r m s',\n",
              " \"M e m b e r s   o f   t h e   V E R I T A S   s c i e n c e   t e a m   d e s c e n d   a   s l o p e   t o   n e w   r o c k   f o r m e d   f r o m   a   r e c e n t   f l o w   o f   l a v a   d u r i n g   t h e i r   I c e l a n d   f i e l d   c a m p a i g n   i n   e a r l y   A u g u s t .   T h e   t e a m   u s e d   t h e   v o l c a n i c   l a n d s c a p e   a s   a   V e n u s   a n a l o g   t o   t e s t   r a d a r   t e c h n o l o g i e s   a n d   t e c h n i q u e s .   M e m b e r s   o f   t h e   i n t e r n a t i o n a l   V E R I T A S   s c i e n c e   t e a m   p r e p a r e   f o r   l i d a r   ( L i g h t   D e t e c t i o n   a n d   R a n g i n g )   i m a g i n g   o f   r o c k s   i n   I c e l a n d .   L i d a r   m e a s u r e m e n t s   o f   r o c k y   t e r r a i n   c a n   p r o v i d e   i n f o r m a t i o n   a b o u t   t h e   m a t e r i a l ,   s u c h   a s   s u r f a c e   r o u g h n e s s   t h a t   c a n   t h e n   b e   c o m p a r e d   w i t h   r a d a r   i m a g e s   o f   t h e   s a m e   l o c a t i o n .   \\n             T h e   J P L - l e d   i n t e r n a t i o n a l   t e a m   u s e d   t h e   i s l a n d   a s   a   s t a n d - i n   f o r   V e n u s   t o   t e s t   r a d a r   t e c h n o l o g i e s   t h a t   w i l l   h e l p   u n c o v e r   t h e   p l a n e t ’ s   g r o u n d   t r u t h . \\n           W i t h   i t s   c r u s h i n g   a t m o s p h e r i c   p r e s s u r e ,   c l o u d s   o f   s u l f u r i c   a c i d ,   a n d   s e a r i n g   s u r f a c e   t e m p e r a t u r e ,   V e n u s   i s   a n   e s p e c i a l l y   c h a l l e n g i n g   p l a c e   t o   s t u d y .   B u t   s c i e n t i s t s   k n o w   t h a t   o b s e r v i n g   i t s   s u r f a c e   c a n   p r o v i d e   k e y   i n s i g h t s   i n t o   t h e   h a b i t a b i l i t y   a n d   e v o l u t i o n   o f   r o c k y   p l a n e t s   l i k e   o u r   o w n .   S o   t o   g e t   a   g l o b a l   p e r s p e c t i v e   o f   V e n u s   w h i l e   s t a y i n g   w e l l   a b o v e   i t s   h e l l i s h   a t m o s p h e r e ,   N A S A ’ s   V E R I T A S   ( V e n u s   E m i s s i v i t y ,   R a d i o   s c i e n c e ,   I n S A R ,   T o p o g r a p h y ,   A n d   S p e c t r o s c o p y )   m i s s i o n   i s   s c h e d u l e d   t o   l a u n c h   w i t h i n   a   d e c a d e   t o   s u r v e y   t h e   p l a n e t ’ s   s u r f a c e   f r o m   o r b i t ,   u n c o v e r i n g   c l u e s   a b o u t   t h e   n a t u r e   o f   i t s   i n t e r i o r .   T o   l a y   t h e   g r o u n d w o r k   f o r   t h e   m i s s i o n ,   m e m b e r s   o f   t h e   i n t e r n a t i o n a l   V E R I T A S   s c i e n c e   t e a m   t r a v e l e d   t o   I c e l a n d   f o r   a   t w o - w e e k   c a m p a i g n   i n   A u g u s t   t o   u s e   t h e   v o l c a n i c   i s l a n d   a s   a   V e n u s   s t a n d - i n ,   o r   a n a l o g .   L o c a t i o n s   o n   o u r   p l a n e t   o f t e n   a r e   u s e d   a s   a n a l o g s   f o r   o t h e r   p l a n e t s ,   e s p e c i a l l y   t o   h e l p   p r e p a r e   t e c h n o l o g i e s   a n d   t e c h n i q u e s   i n t e n d e d   f o r   m o r e   u n i n v i t i n g   e n v i r o n m e n t s .     A n   e x a m p l e   o f   t h e   D L R   a i r b o r n e   r a d a r   d a t a   s h o w s   e l e v a t i o n   c h a n g e   o f   s e v e r a l   t e n s   o f   y a r d s   a r o u n d   t h e   v o l c a n i c a l l y   a c t i v e   L i t l i - H r ú t u r   v o l c a n o   c a u s e d   b y   t h e   c r e a t i o n   o f   n e w   r o c k .   T h e   r e d   i n d i c a t e s   t h e   m o s t   c h a n g e ;   b l u e ,   t h e   l e a s t .     “ I c e l a n d   i s   a   v o l c a n i c   c o u n t r y   t h a t   s i t s   a t o p   a   h o t   p l u m e .   V e n u s   i s   a   v o l c a n i c   p l a n e t   w i t h   p l e n t i f u l   g e o l o g i c a l   e v i d e n c e   f o r   a c t i v e   p l u m e s , ”   s a i d   S u z a n n e   S m r e k a r ,   s e n i o r   r e s e a r c h   s c i e n t i s t   a t   N A S A ’ s   J e t   P r o p u l s i o n   L a b o r a t o r y   i n   S o u t h e r n   C a l i f o r n i a   a n d   t h e   V E R I T A S   p r i n c i p a l   i n v e s t i g a t o r .   “ I t s   g e o l o g i c a l   s i m i l a r i t i e s   m a k e   I c e l a n d   a n   e x c e l l e n t   p l a c e   t o   s t u d y   V e n u s   o n   E a r t h ,   h e l p i n g   t h e   s c i e n c e   t e a m   p r e p a r e   f o r   V e n u s . ”   T h e   V E R I T A S   m i s s i o n   w i l l   r e l y   o n   a   s t a t e - o f - t h e - a r t   s y n t h e t i c   a p e r t u r e   r a d a r   t o   c r e a t e   3 D   g l o b a l   m a p s   a n d   a   n e a r - i n f r a r e d   s p e c t r o m e t e r   t o   d i s t i n g u i s h   b e t w e e n   t h e   m a j o r   r o c k   t y p e s   o n   V e n u s ’   s u r f a c e .   B u t   t o   b e t t e r   u n d e r s t a n d   w h a t   t h e   s p a c e c r a f t ’ s   r a d a r   w i l l   “ s e e ”   o n   t h e   p l a n e t ,   t h e   V E R I T A S   s c i e n c e   t e a m   w o u l d   n e e d   t o   c o m p a r e   r a d a r   o b s e r v a t i o n s   o f   I c e l a n d ’ s   t e r r a i n   f r o m   t h e   a i r   w i t h   m e a s u r e m e n t s   t a k e n   o n   t h e   g r o u n d .   F o r   t h e   f i r s t   h a l f   o f   t h e   c a m p a i g n ,   t h e   V E R I T A S   s c i e n c e   t e a m   s t u d i e d   t h e   A s k j a   v o l c a n i c   d e p o s i t s   a n d   t h e   H o l u h r a u n   l a v a   f i e l d   i n   t h e   I c e l a n d i c   H i g h l a n d s ,   a n   a c t i v e   r e g i o n   f e a t u r i n g   y o u n g   r o c k   a n d   r e c e n t   l a v a   f l o w s .   F o r   t h e   s e c o n d   h a l f ,   t h e y   t r a v e l e d   t o   t h e   v o l c a n i c a l l y   a c t i v e   F a g r a d a l s f j a l l   r e g i o n   o n   t h e   R e y k j a n e s   P e n i n s u l a   o f   s o u t h w e s t e r n   I c e l a n d .   T h e   b a r r e n   a n d   r o c k y   l a n d s c a p e s   o f   b o t h   r e s e m b l e   V e n u s ’   s u r f a c e ,   w h i c h   i s   t h o u g h t   t o   b e   r e j u v e n a t e d   b y   a c t i v e   v o l c a n i s m .   U s i n g   a   t r i p o d - m o u n t e d   l i d a r   s c a n n e r ,   t h e   s c i e n c e   t e a m   c r e a t e d   t h i s   i m a g e   t h a t   h i g h l i g h t e d   t h e   r o p y   t e x t u r e   o f   n e w   r o c k   f o r m e d   b y   a   r e c e n t   l a v a   f l o w   n e a r   I c e l a n d ’ s   L i t l i - H r ú t u r   v o l c a n o .   T h i s   w i l l   b e   u s e d   t o   c o m p a r e   w i t h   t h e   c a m p a i g n ’ s   a i r b o r n e   r a d a r   i m a g e s   o f   t h e   s a m e   r e g i o n .   N i n e t e e n   s c i e n t i s t s   f r o m   t h e   U . S . ,   G e r m a n y ,   I t a l y ,   a n d   I c e l a n d   c a m p e d   a n d   w o r k e d   l o n g   h o u r s   t o   s t u d y   t h e   s u r f a c e   r o u g h n e s s   a n d   o t h e r   p r o p e r t i e s   o f   r o c k s   i n   t h o s e   r e g i o n s ,   c o l l e c t i n g   l a b   s a m p l e s   a s   w e l l .   M e a n w h i l e ,   f l i g h t s   l e d   b y   t h e   G e r m a n   A e r o s p a c e   C e n t e r   ( D e u t s c h e s   Z e n t r u m   f ü r   L u f t -   u n d   R a u m f a h r t ,   o r   D L R )   c o l l e c t e d   r a d a r   d a t a   f r o m   a b o v e .   “ T h e   J P L - l e d   s c i e n c e   t e a m   w a s   w o r k i n g   o n   t h e   g r o u n d   w h i l e   o u r   D L R   p a r t n e r s   f l e w   o v e r h e a d   t o   g a t h e r   a e r i a l   r a d a r   i m a g e s   o f   t h e   l o c a t i o n s   w e   w e r e   s t u d y i n g , ”   s a i d   D a n i e l   N u n e s ,   V E R I T A S   d e p u t y   p r o j e c t   s c i e n t i s t   a t   J P L   a n d   I c e l a n d   c a m p a i g n   p l a n n i n g   l e a d .   “ T h e   r a d a r   b r i g h t n e s s   o f   t h e   s u r f a c e   r e l a t e s   t o   t h e   p r o p e r t i e s   o f   t h a t   s u r f a c e ,   i n c l u d i n g   t e x t u r e ,   r o u g h n e s s ,   a n d   w a t e r   c o n t e n t .   W e   c o l l e c t e d   i n f o r m a t i o n   i n   t h e   f i e l d   t o   g r o u n d - t r u t h   t h e   r a d a r   d a t a   t h a t   w e   w i l l   u s e   t h a t   t o   i n f o r m   t h e   s c i e n c e   t h a t   V E R I T A S   w i l l   d o   a t   V e n u s . ”     G e t   t h e   L a t e s t   J P L   N e w s     F l y i n g   a b o a r d   D L R ’ s   D o r n i e r   2 2 8 - 2 1 2   a i r c r a f t   a b o u t   2 0 , 0 0 0   f e e t   ( 6 , 0 0 0   m e t e r s )   a b o v e   t h e   g r o u n d ,   t h e   s y n t h e t i c   a p e r t u r e   r a d a r   c o l l e c t e d   S - b a n d   ( r a d i o   w a v e s   w i t h   a   w a v e l e n g t h   o f   a b o u t   1 2   c e n t i m e t e r s ,   o r   4 . 7   i n c h e s )   a n d   X - b a n d   ( a b o u t   3   c e n t i m e t e r s ,   o r   1 . 2   i n c h e s )   d a t a .   T h e   s h o r t e r   w a v e l e n g t h   o f   X - b a n d   d a t a   –   t h e   r a d i o   f r e q u e n c y   V E R I T A S   w i l l   e m p l o y   –   e n a b l e s   t h e   u s e   o f   a   m o r e   c o m p a c t   a n t e n n a   t h a n   S - b a n d ,   w h i c h   w a s   u s e d   b y   N A S A ’ s   M a g e l l a n   m i s s i o n   t o   m a p   n e a r l y   t h e   e n t i r e   s u r f a c e   o f   V e n u s   i n   t h e   e a r l y   1 9 9 0 s .   B y   o b s e r v i n g   t h e   s u r f a c e   i n   b o t h   b a n d s   i n   I c e l a n d ,   t h e   s c i e n c e   t e a m   w i l l   r e f i n e   c o m p u t e r   a l g o r i t h m s   t h a t   w i l l   h e l p   V E R I T A S   i d e n t i f y   s u r f a c e   c h a n g e s   o n   V e n u s   t h a t   h a v e   o c c u r r e d   s i n c e   M a g e l l a n ’ s   m i s s i o n .   D e t e c t i n g   c h a n g e s   o v e r   t h e   l a s t   4 0   y e a r s   w i l l   a l l o w   t h e m   t o   i d e n t i f y   k e y   r e g i o n s   o f   g e o l o g i c   a c t i v i t y   ( s u c h   a s   a c t i v e   v o l c a n o e s )   o n   V e n u s .   A   k e y   g o a l   f o r   t h e   c a m p a i g n   w a s   t o   a l s o   c r e a t e   a   s a m p l e   l i b r a r y   o f   a s   m a n y   v o l c a n i c   s u r f a c e   t e x t u r e s   i n   I c e l a n d   a s   p o s s i b l e   t o   b e t t e r   u n d e r s t a n d   V e n u s ’   r a n g e   o f   e r u p t i o n   s t y l e s .   A   D L R   f i e l d   t e a m   a l s o   c o l l e c t e d   c o m p o s i t i o n a l   i n f o r m a t i o n   w i t h   a   c a m e r a   t h a t   e m u l a t e s   t h e   V e n u s   E m i s s i v i t y   M a p p e r   ( V E M )   i n s t r u m e n t   t h e   G e r m a n   A e r o s p a c e   C e n t e r   i s   b u i l d i n g   f o r   V E R I T A S .   T h i s   d a t a   w i l l   s u p p o r t   t h e   s p e c t r a l   l i b r a r y   b e i n g   c r e a t e d   a t   t h e   P l a n e t a r y   S p e c t r o s c o p y   L a b o r a t o r y   i n   B e r l i n .   “ T h e   d i f f e r e n t   s u r f a c e   c h a r a c t e r i s t i c s   a n d   f e a t u r e s   s e e n   o n   V e n u s   r e l a t e   t o   v o l c a n i c   p r o c e s s e s ,   w h i c h   r e l a t e   b a c k   t o   t h e   i n t e r i o r   o f   V e n u s , ”   s a i d   S m r e k a r .   “ T h i s   d a t a   i s   g o i n g   t o   b e   v a l u a b l e   t o   V E R I T A S   t o   h e l p   u s   b e t t e r   u n d e r s t a n d   V e n u s .   I t   w i l l   a l s o   h e l p   t h e   E u r o p e a n   S p a c e   A g e n c y ’ s   E n V i s i o n   m i s s i o n ,   w h i c h   w i l l   s t u d y   V e n u s ’   s u r f a c e   w i t h   S - b a n d   r a d a r ,   a n d   t h e   c o m m u n i t y   a t   l a r g e   t h a t   w a n t s   t o   u n d e r s t a n d   r a d a r   o b s e r v a t i o n s   o f   v o l c a n i c   p l a n e t a r y   s u r f a c e s . ”   B u t   t h e   v a l u e   o f   t h e   t w o - w e e k   I c e l a n d   c a m p a i g n   w e n t   b e y o n d   s c i e n c e ,   p r o v i d i n g   a   t e a m - b u i l d i n g   o p p o r t u n i t y   t h a t   w i l l   r e s o n a t e   f o r   y e a r s   t o   c o m e ,   s a i d   N u n e s .   “ I t   w a s   a   g r e a t   d y n a m i c , ”   h e   a d d e d .   “ W e   p u s h e d   h a r d   a n d   h e l p e d   e a c h   o t h e r   o u t .   F r o m   b o r r o w i n g   g e a r   t o   d r i v i n g   t o   t h e   s t u d y   s i t e s   a n d   b u y i n g   s u p p l i e s ,   e v e r y o n e   h u s t l e d   t o   m a k e   i t   h a p p e n . ”   V E R I T A S   a n d   N A S A ’ s   D e e p   A t m o s p h e r e   V e n u s   I n v e s t i g a t i o n   o f   N o b l e   g a s e s ,   C h e m i s t r y ,   a n d   I m a g i n g   ( D A V I N C I )   m i s s i o n   w e r e   s e l e c t e d   i n   2 0 2 1   u n d e r   N A S A ’ s   D i s c o v e r y   P r o g r a m   a s   t h e   a g e n c y ’ s   n e x t   m i s s i o n s   t o   V e n u s .   V E R I T A S   p a r t n e r s   i n c l u d e   L o c k h e e d   M a r t i n   S p a c e ,   t h e   I t a l i a n   S p a c e   A g e n c y ,   t h e   D L R ,   a n d   C e n t r e   N a t i o n a l   d ’ É t u d e s   S p a t i a l e s   i n   F r a n c e .   T h e   D i s c o v e r y   P r o g r a m   i s   m a n a g e d   b y   t h e   P l a n e t a r y   M i s s i o n s   P r o g r a m   O f f i c e   a t   N A S A ’ s   M a r s h a l l   S p a c e   F l i g h t   C e n t e r   i n   H u n t s v i l l e ,   A l a b a m a ,   f o r   t h e   P l a n e t a r y   S c i e n c e   D i v i s i o n   o f   N A S A ’ s   S c i e n c e   M i s s i o n   D i r e c t o r a t e   i n   W a s h i n g t o n .   I a n   J .   O ’ N e i l l   J e t   P r o p u l s i o n   L a b o r a t o r y ,   P a s a d e n a ,   C a l i f .   8 1 8 - 3 5 4 - 2 6 4 9   i a n . j . o n e i l l @ j p l . n a s a . g o v   K a r e n   F o x   /   A l a n a   J o h n s o n   N A S A   H e a d q u a r t e r s ,   W a s h i n g t o n   3 0 1 - 2 8 6 - 6 2 8 4   /   2 0 2 - 3 5 8 - 1 5 0 1   k a r e n . c . f o x @ n a s a . g o v   /   a l a n a . r . j o h n s o n @ n a s a . g o v   \\n             2 0 2 3 - 1 3 3 \\n           \\n                     M a r s \\n                     .   \\n             A u t o n o m o u s   S y s t e m s   H e l p   N A S A ’ s   P e r s e v e r a n c e   D o   M o r e   S c i e n c e   o n   M a r s \\n           \\n                     M a r s \\n                     .   \\n             N A S A   R e l e a s e s   I n d e p e n d e n t   R e v i e w ’ s   M a r s   S a m p l e   R e t u r n   R e p o r t \\n           \\n                     E a r t h \\n                     .   \\n             W a t e r - W a t c h i n g   S a t e l l i t e   M o n i t o r s   W a r m i n g   O c e a n   o f f   C a l i f o r n i a   C o a s t \\n           \\n                     M a r s \\n                     .   \\n             N A S A ’ s   C u r i o s i t y   R e a c h e s   M a r s   R i d g e   W h e r e   W a t e r   L e f t   D e b r i s   P i l e u p \\n           \\n                     T e c h n o l o g y \\n                     .   \\n             N A S A   t o   D i s c u s s   O p t i c a l   C o m m u n i c a t i o n s   D e m o   R i d i n g   W i t h   P s y c h e \\n           \\n                     C l i m a t e   C h a n g e \\n                     .   \\n             N A S A - B u i l t   G r e e n h o u s e   G a s   D e t e c t o r   M o v e s   C l o s e r   t o   L a u n c h \\n           \\n                     S o l a r   S y s t e m \\n                     .   \\n             N A S A ’ s   P s y c h e   M i s s i o n   o n   T r a c k   f o r   L i f t o f f   N e x t   M o n t h \\n           \\n                     M a r s \\n                     .   \\n             N A S A ’ s   O x y g e n - G e n e r a t i n g   E x p e r i m e n t   M O X I E   C o m p l e t e s   M a r s   M i s s i o n \\n           \\n                     E a r t h \\n                     .   \\n             N A S A   S c i e n t i s t s   T e s t   N e w   T o o l   f o r   T r a c k i n g   A l g a l   B l o o m s \\n           \\n                     S o l a r   S y s t e m \\n                     .   \\n             N A S A   t o   D i s c u s s   P s y c h e   A s t e r o i d   M i s s i o n ,   O p t i c a l   C o m m u n i c a t i o n s   D e m o \\n           \\n                         I m a g e \\n                         .   \\n                     S W O T   M o n i t o r s   W a r m i n g   W a t e r s   O f f   C a l i f o r n i a   C o a s t \\n                   \\n                         I m a g e \\n                         .   \\n                     C u r i o s i t y   V i e w s   G e d i z   V a l l i s   R i d g e \\n                   \\n                         I m a g e \\n                         .   \\n                     R e n d e r i n g   D e p i c t s   C u r i o s i t y   a t   G e d i z   V a l l i s   R i d g e \\n                   \\n                         I m a g e \\n                         .   \\n                     C u r i o s i t y ' s   P a t h   t o   G e d i z   V a l l i s   R i d g e   a n d   B e y o n d \\n                   \\n                         Q U I Z Z E S \\n                         .   \\n                     S p a c e   T r i v i a \\n                   \\n                         I m a g e \\n                         .   \\n                     I m a g i n g   S p e c t r o m e t e r   V i b r a t i o n   T e s t \\n                   \\n                         I m a g e \\n                         .   \\n                     I m a g i n g   S p e c t r o m e t e r   F u l l y   I n t e g r a t e d \\n                   \\n                         I m a g e \\n                         .   \\n                     I m a g i n g   S p e c t r o m e t e r   I n s i d e   T h e r m a l   V a c u u m   C h a m b e r \\n                   \\n                         I m a g e \\n                         .   \\n                     I m a g i n g   S p e c t r o m e t e r   V a c u u m   C h a m b e r   T e s t \\n                   \\n                         I m a g e \\n                         .   \\n                     M e t h a n e   S i g n a l   F r o m   C a r b o n   M a p p e r   I n s t r u m e n t   T e s t \\n                   \\n                 J P L   i s   a   f e d e r a l l y   f u n d e d   r e s e a r c h   a n d   d e v e l o p m e n t   c e n t e r   m a n a g e d   f o r \\n                 N A S A   b y   C a l t e c h . \\n            \",\n",
              " 'Y o u r   b r o w s e r   s e n t   a n   i n v a l i d   r e q u e s t . \\r \\n W e   h i g h l y   r e c o m m e n d   s e t t i n g   a   m e a n i n g f u l   U s e r - A g e n t   h e a d e r . \\r \\n   W e   h i g h l y   r e c o m m e n d   s e t t i n g   a   m e a n i n g f u l   U s e r - A g e n t   h e a d e r . \\r \\n']"
            ]
          },
          "metadata": {},
          "execution_count": 63
        }
      ]
    },
    {
      "cell_type": "code",
      "source": [
        "text = [line.text for line in result]\n",
        "article = ' '.join(text)\n",
        "article"
      ],
      "metadata": {
        "colab": {
          "base_uri": "https://localhost:8080/",
          "height": 109
        },
        "id": "MSoVARjbLd_9",
        "outputId": "0e4c9ae1-0294-47f9-c819-4d374b1dcb39"
      },
      "execution_count": 7,
      "outputs": [
        {
          "output_type": "execute_result",
          "data": {
            "text/plain": [
              "'When you purchase through links on our site, we may earn an affiliate commission. Here’s how it works. New Horizon Prize in Physics awarded to scientists chasing mysterious black hole photon spheres Alexandru Lupsasca and Michael Johnson won the physics prize for their work on photon spheres — weird rings of light around black holes that may reveal a theory of quantum gravity. Two scientists have won a $100,000 prize for describing both the structure and a way to detect mysterious black hole photon spheres. These enigmatic structures form at the edges of black holes, and could reveal the underlying physics that govern the most extreme objects in the cosmos. Alexandru Lupsasca, of Vanderbilt University, and Michael Johnson, of Harvard University, won the New Horizon Prize in Physics \"for elucidating the sub-structure and universal characteristics of black hole photon rings, and their proposed detection by next-generation interferometric experiments.\" The New Horizons award is given each year to early career researchers by the Breakthrough Prize Foundation, and the prize money is donated by tech billionaires Sergey Brin, Priscilla Chan and Mark Zuckerberg, Yuri and Julia Milner, and Anne Wojcicki. A second prize was also awarded this year to Mikhail Ivanov, of MIT, Oliver Philcox, of Columbia University and the Simons Foundation, and Marko Simonović, of the University of Florence for their work on the universe\\'s \\'cosmological collider\\'. When photons stream toward a black hole, most are either bent away or (if they cross its event horizon) engulfed permanently in the dark abyss. Yet some rare light particles avoid this fate — instead they surf the cosmic monster\\'s gaping mouth in a series of tight orbits and, if the black hole is spinning, steal some of its rotational energy to miraculously spring free.\\xa0 Related: Supermassive black holes eat more quickly than expected, 3D simulations suggest Detecting these photons for the first time would give physicists unprecedented insight into the most extreme objects in our universe, as well as how the known laws of physics break down in the presence of their infinite gravitational pulls.\\xa0 \"Gravity is the big mystery. To date we don\\'t know how to combine Einstein\\'s theory of general relativity, which is the relativistic picture of gravity as the bending of space-time, with quantum mechanics,\" the theory of the very small, Alexandru Lupsasca, who used relativity to devise what the rings should look like and find the parameters that describe them, told Live Science.\\xa0 \"The problem is that gravity is very weak — it\\'s the weakest of all forces,\" Lupsasca said. \"So to have a chance of understanding quantum gravity, we have to look where gravity is strongest. And nowhere is gravity stronger than around a black hole.\" Supermassive black holes are enormous, measuring roughly the width of the solar system, so it can take a photon around six days travelling at the speed of light to make an orbit. At the end of these six days, photons can either perform a U-turn to make another orbit, or fly into or away from the black hole. The photons that slip a black hole\\'s gravity emerge in the form of an ultrathin halo around the pure black chasm: a photon sphere. Photon spheres can be broken down into even smaller rings, with the light that went in last nesting in near-infinite bands inside the light that went in first. Peeling back these layers would reveal a string of snapshots displaying every angle of the surrounding universe, beginning with the recent past and running all the way back to the scant remaining glimmers of light captured eons ago by the black hole. \"It\\'s like a laundromat, it takes light from every angle, lets it tumble and shoots it off in every direction,\" Lupsasca said. At any given time, only some photons can fit: \"there\\'s always more photons coming in, but there\\'s always some leaking out.\" After making theoretical predictions of what the rings should look like, the pair and their colleagues set about devising ways to measure the halos. Johnson realized that the Event Horizon Telescope (the EHT, which he and other researchers had used to capture the first-ever image of a black hole) was perfect for this task, if only the photon sphere could be distinguished from the fuzzy band of other light streaming from the black hole. —Our galaxy\\'s supermassive black hole is closer to Earth than we thought —\\xa0Stunning image of Andromeda galaxy takes top astronomy photography prize of 2023 (gallery) —\\xa0Astronomers may have discovered the closest black holes to Earth To achieve this, Johnson reasoned, researchers would only need to place the EHT into an array with one more telescope to distinguish the first band of the photon sphere. \"The miracle is that — and this is unlike anything we\\'ve ever studied in astronomy — that you can add one orbiter that\\'s enough to study the photon ring,\" Johnson told Live Science. \"That was just a complete shock.\" Lupsasca and Johnson are working on a pitch to have NASA launch a satellite carrying the extra telescope. If successful, they could obtain the very first image of the outer band of a photon sphere within 10 to 15 years. Doing so would enable them not only to judge the size of a black hole\\'s event horizon and its spin but also, once they have measured a second band, to probe some of the most radical theories in physics. \"This photon ring comes from as close as you can see to the visible edge of the observable universe,\" Lupsasca said. \"If that\\'s not enough to get you excited, I don\\'t know what gets you out of bed.\"\\xa0 Join our Space Forums to keep talking space on the latest missions, night sky and more! And if you have a news tip, correction or comment, let us know at: community@space.com. Breaking space news, the latest updates on rocket launches, skywatching events and more! Ben Turner is a U.K. based staff writer at Live Science. He covers physics and astronomy, among other topics like weird animals and climate change. He graduated from University College London with a degree in particle physics before training as a journalist. When he\\'s not writing, Ben enjoys reading literature, playing the guitar and embarrassing himself with chess. Hypothetical \\'dark photons\\' could shed light on mysterious dark matter $100,000 Breakthrough physics prize awarded to 3 scientists who study the large scale structure of the universe NASA\\'s OSIRIS-REx asteroid sample return needs an awesome soundtrack. Here\\'s how you can submit your favorite songs By Mike WallSeptember 20, 2023 By Ben TurnerSeptember 20, 2023 By Elizabeth HowellSeptember 20, 2023 By Rahul RaoSeptember 20, 2023 By Joanna ThompsonSeptember 20, 2023 By Samantha MathewsonSeptember 20, 2023 By Sharmila KuthunurSeptember 20, 2023 By Robert LeaSeptember 20, 2023 By Andrew JonesSeptember 20, 2023 By Fran RuizSeptember 20, 2023 By Elizabeth HowellSeptember 20, 2023 Space is part of Future US Inc, an international media group and leading digital publisher. Visit our corporate site. ©\\nFuture US, Inc. Full 7th Floor, 130 West 42nd Street,\\nNew York,\\nNY 10036. '"
            ],
            "application/vnd.google.colaboratory.intrinsic+json": {
              "type": "string"
            }
          },
          "metadata": {},
          "execution_count": 7
        }
      ]
    },
    {
      "cell_type": "markdown",
      "source": [
        "Split text from the article into chunks"
      ],
      "metadata": {
        "id": "hRBcXsatO6uv"
      }
    },
    {
      "cell_type": "code",
      "source": [
        "article = article.replace('.', '.<eos>')\n",
        "article = article.replace('!', '!<eos>')\n",
        "article = article.replace('?', '?<eos>')\n",
        "sentences = article.split('<eos>')\n",
        "sentences"
      ],
      "metadata": {
        "colab": {
          "base_uri": "https://localhost:8080/"
        },
        "id": "slU8XuUEOFRC",
        "outputId": "5d63e4f2-960b-493a-b53b-01a196fc8597"
      },
      "execution_count": 8,
      "outputs": [
        {
          "output_type": "execute_result",
          "data": {
            "text/plain": [
              "['When you purchase through links on our site, we may earn an affiliate commission.',\n",
              " ' Here’s how it works.',\n",
              " ' New Horizon Prize in Physics awarded to scientists chasing mysterious black hole photon spheres Alexandru Lupsasca and Michael Johnson won the physics prize for their work on photon spheres — weird rings of light around black holes that may reveal a theory of quantum gravity.',\n",
              " ' Two scientists have won a $100,000 prize for describing both the structure and a way to detect mysterious black hole photon spheres.',\n",
              " ' These enigmatic structures form at the edges of black holes, and could reveal the underlying physics that govern the most extreme objects in the cosmos.',\n",
              " ' Alexandru Lupsasca, of Vanderbilt University, and Michael Johnson, of Harvard University, won the New Horizon Prize in Physics \"for elucidating the sub-structure and universal characteristics of black hole photon rings, and their proposed detection by next-generation interferometric experiments.',\n",
              " '\" The New Horizons award is given each year to early career researchers by the Breakthrough Prize Foundation, and the prize money is donated by tech billionaires Sergey Brin, Priscilla Chan and Mark Zuckerberg, Yuri and Julia Milner, and Anne Wojcicki.',\n",
              " \" A second prize was also awarded this year to Mikhail Ivanov, of MIT, Oliver Philcox, of Columbia University and the Simons Foundation, and Marko Simonović, of the University of Florence for their work on the universe's 'cosmological collider'.\",\n",
              " ' When photons stream toward a black hole, most are either bent away or (if they cross its event horizon) engulfed permanently in the dark abyss.',\n",
              " \" Yet some rare light particles avoid this fate — instead they surf the cosmic monster's gaping mouth in a series of tight orbits and, if the black hole is spinning, steal some of its rotational energy to miraculously spring free.\",\n",
              " '\\xa0 Related: Supermassive black holes eat more quickly than expected, 3D simulations suggest Detecting these photons for the first time would give physicists unprecedented insight into the most extreme objects in our universe, as well as how the known laws of physics break down in the presence of their infinite gravitational pulls.',\n",
              " '\\xa0 \"Gravity is the big mystery.',\n",
              " ' To date we don\\'t know how to combine Einstein\\'s theory of general relativity, which is the relativistic picture of gravity as the bending of space-time, with quantum mechanics,\" the theory of the very small, Alexandru Lupsasca, who used relativity to devise what the rings should look like and find the parameters that describe them, told Live Science.',\n",
              " '\\xa0 \"The problem is that gravity is very weak — it\\'s the weakest of all forces,\" Lupsasca said.',\n",
              " ' \"So to have a chance of understanding quantum gravity, we have to look where gravity is strongest.',\n",
              " ' And nowhere is gravity stronger than around a black hole.',\n",
              " '\" Supermassive black holes are enormous, measuring roughly the width of the solar system, so it can take a photon around six days travelling at the speed of light to make an orbit.',\n",
              " ' At the end of these six days, photons can either perform a U-turn to make another orbit, or fly into or away from the black hole.',\n",
              " \" The photons that slip a black hole's gravity emerge in the form of an ultrathin halo around the pure black chasm: a photon sphere.\",\n",
              " ' Photon spheres can be broken down into even smaller rings, with the light that went in last nesting in near-infinite bands inside the light that went in first.',\n",
              " ' Peeling back these layers would reveal a string of snapshots displaying every angle of the surrounding universe, beginning with the recent past and running all the way back to the scant remaining glimmers of light captured eons ago by the black hole.',\n",
              " ' \"It\\'s like a laundromat, it takes light from every angle, lets it tumble and shoots it off in every direction,\" Lupsasca said.',\n",
              " ' At any given time, only some photons can fit: \"there\\'s always more photons coming in, but there\\'s always some leaking out.',\n",
              " '\" After making theoretical predictions of what the rings should look like, the pair and their colleagues set about devising ways to measure the halos.',\n",
              " ' Johnson realized that the Event Horizon Telescope (the EHT, which he and other researchers had used to capture the first-ever image of a black hole) was perfect for this task, if only the photon sphere could be distinguished from the fuzzy band of other light streaming from the black hole.',\n",
              " \" —Our galaxy's supermassive black hole is closer to Earth than we thought —\\xa0Stunning image of Andromeda galaxy takes top astronomy photography prize of 2023 (gallery) —\\xa0Astronomers may have discovered the closest black holes to Earth To achieve this, Johnson reasoned, researchers would only need to place the EHT into an array with one more telescope to distinguish the first band of the photon sphere.\",\n",
              " ' \"The miracle is that — and this is unlike anything we\\'ve ever studied in astronomy — that you can add one orbiter that\\'s enough to study the photon ring,\" Johnson told Live Science.',\n",
              " ' \"That was just a complete shock.',\n",
              " '\" Lupsasca and Johnson are working on a pitch to have NASA launch a satellite carrying the extra telescope.',\n",
              " ' If successful, they could obtain the very first image of the outer band of a photon sphere within 10 to 15 years.',\n",
              " \" Doing so would enable them not only to judge the size of a black hole's event horizon and its spin but also, once they have measured a second band, to probe some of the most radical theories in physics.\",\n",
              " ' \"This photon ring comes from as close as you can see to the visible edge of the observable universe,\" Lupsasca said.',\n",
              " ' \"If that\\'s not enough to get you excited, I don\\'t know what gets you out of bed.',\n",
              " '\"\\xa0 Join our Space Forums to keep talking space on the latest missions, night sky and more!',\n",
              " ' And if you have a news tip, correction or comment, let us know at: community@space.',\n",
              " 'com.',\n",
              " ' Breaking space news, the latest updates on rocket launches, skywatching events and more!',\n",
              " ' Ben Turner is a U.',\n",
              " 'K.',\n",
              " ' based staff writer at Live Science.',\n",
              " ' He covers physics and astronomy, among other topics like weird animals and climate change.',\n",
              " ' He graduated from University College London with a degree in particle physics before training as a journalist.',\n",
              " \" When he's not writing, Ben enjoys reading literature, playing the guitar and embarrassing himself with chess.\",\n",
              " \" Hypothetical 'dark photons' could shed light on mysterious dark matter $100,000 Breakthrough physics prize awarded to 3 scientists who study the large scale structure of the universe NASA's OSIRIS-REx asteroid sample return needs an awesome soundtrack.\",\n",
              " \" Here's how you can submit your favorite songs By Mike WallSeptember 20, 2023 By Ben TurnerSeptember 20, 2023 By Elizabeth HowellSeptember 20, 2023 By Rahul RaoSeptember 20, 2023 By Joanna ThompsonSeptember 20, 2023 By Samantha MathewsonSeptember 20, 2023 By Sharmila KuthunurSeptember 20, 2023 By Robert LeaSeptember 20, 2023 By Andrew JonesSeptember 20, 2023 By Fran RuizSeptember 20, 2023 By Elizabeth HowellSeptember 20, 2023 Space is part of Future US Inc, an international media group and leading digital publisher.\",\n",
              " ' Visit our corporate site.',\n",
              " ' ©\\nFuture US, Inc.',\n",
              " ' Full 7th Floor, 130 West 42nd Street,\\nNew York,\\nNY 10036.',\n",
              " ' ']"
            ]
          },
          "metadata": {},
          "execution_count": 8
        }
      ]
    },
    {
      "cell_type": "code",
      "source": [
        "max_tokens_chunk = 500\n",
        "chunks = []\n",
        "current_chunk = 0\n",
        "\n",
        "for sentence in sentences:\n",
        "  if len(chunks) == current_chunk + 1:\n",
        "    if len(chunks[current_chunk]) + len(sentence.split(' ')) <= max_tokens_chunk:\n",
        "      chunks[current_chunk].extend(sentence.split(' '))\n",
        "    else:\n",
        "      current_chunk += 1\n",
        "      chunks.append(sentence.split(' '))\n",
        "  else:\n",
        "    print(current_chunk)\n",
        "    chunks.append(sentence.split(' '))"
      ],
      "metadata": {
        "colab": {
          "base_uri": "https://localhost:8080/"
        },
        "id": "tbFferXePJXr",
        "outputId": "8c81a46c-35b0-4f30-9ec8-216d6c92249d"
      },
      "execution_count": 9,
      "outputs": [
        {
          "output_type": "stream",
          "name": "stdout",
          "text": [
            "0\n"
          ]
        }
      ]
    },
    {
      "cell_type": "code",
      "source": [
        "for chunk_id in range(len(chunks)):\n",
        "  chunks[chunk_id] = ' '.join(chunks[chunk_id])"
      ],
      "metadata": {
        "id": "4MhGAWlYT54d"
      },
      "execution_count": 10,
      "outputs": []
    },
    {
      "cell_type": "code",
      "source": [
        "chunks[2]"
      ],
      "metadata": {
        "colab": {
          "base_uri": "https://localhost:8080/",
          "height": 109
        },
        "id": "7ksaft-IU0dn",
        "outputId": "c8b30a22-792d-4bb2-d912-4b9c065352f1"
      },
      "execution_count": 11,
      "outputs": [
        {
          "output_type": "execute_result",
          "data": {
            "text/plain": [
              "\" And if you have a news tip, correction or comment, let us know at: community@space. com.  Breaking space news, the latest updates on rocket launches, skywatching events and more!  Ben Turner is a U. K.  based staff writer at Live Science.  He covers physics and astronomy, among other topics like weird animals and climate change.  He graduated from University College London with a degree in particle physics before training as a journalist.  When he's not writing, Ben enjoys reading literature, playing the guitar and embarrassing himself with chess.  Hypothetical 'dark photons' could shed light on mysterious dark matter $100,000 Breakthrough physics prize awarded to 3 scientists who study the large scale structure of the universe NASA's OSIRIS-REx asteroid sample return needs an awesome soundtrack.  Here's how you can submit your favorite songs By Mike WallSeptember 20, 2023 By Ben TurnerSeptember 20, 2023 By Elizabeth HowellSeptember 20, 2023 By Rahul RaoSeptember 20, 2023 By Joanna ThompsonSeptember 20, 2023 By Samantha MathewsonSeptember 20, 2023 By Sharmila KuthunurSeptember 20, 2023 By Robert LeaSeptember 20, 2023 By Andrew JonesSeptember 20, 2023 By Fran RuizSeptember 20, 2023 By Elizabeth HowellSeptember 20, 2023 Space is part of Future US Inc, an international media group and leading digital publisher.  Visit our corporate site.  ©\\nFuture US, Inc.  Full 7th Floor, 130 West 42nd Street,\\nNew York,\\nNY 10036.  \""
            ],
            "application/vnd.google.colaboratory.intrinsic+json": {
              "type": "string"
            }
          },
          "metadata": {},
          "execution_count": 11
        }
      ]
    }
  ]
}