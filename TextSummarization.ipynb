{
  "nbformat": 4,
  "nbformat_minor": 0,
  "metadata": {
    "colab": {
      "provenance": [],
      "gpuType": "T4",
      "authorship_tag": "ABX9TyPNugwNs0gqpS/kDKXtwTRG",
      "include_colab_link": true
    },
    "kernelspec": {
      "name": "python3",
      "display_name": "Python 3"
    },
    "language_info": {
      "name": "python"
    },
    "accelerator": "GPU",
    "widgets": {
      "application/vnd.jupyter.widget-state+json": {
        "defa10c7da804ba78cade7522c0525ce": {
          "model_module": "@jupyter-widgets/controls",
          "model_name": "HBoxModel",
          "model_module_version": "1.5.0",
          "state": {
            "_dom_classes": [],
            "_model_module": "@jupyter-widgets/controls",
            "_model_module_version": "1.5.0",
            "_model_name": "HBoxModel",
            "_view_count": null,
            "_view_module": "@jupyter-widgets/controls",
            "_view_module_version": "1.5.0",
            "_view_name": "HBoxView",
            "box_style": "",
            "children": [
              "IPY_MODEL_340873ee35854559aaf79c7c93ffc6bb",
              "IPY_MODEL_13843553afa5473ea910ab08a1ca07e3",
              "IPY_MODEL_08366b67115a401eaaf59f0df8160732"
            ],
            "layout": "IPY_MODEL_9658b1dd7ef645e693d01f957388b556"
          }
        },
        "340873ee35854559aaf79c7c93ffc6bb": {
          "model_module": "@jupyter-widgets/controls",
          "model_name": "HTMLModel",
          "model_module_version": "1.5.0",
          "state": {
            "_dom_classes": [],
            "_model_module": "@jupyter-widgets/controls",
            "_model_module_version": "1.5.0",
            "_model_name": "HTMLModel",
            "_view_count": null,
            "_view_module": "@jupyter-widgets/controls",
            "_view_module_version": "1.5.0",
            "_view_name": "HTMLView",
            "description": "",
            "description_tooltip": null,
            "layout": "IPY_MODEL_440c295db5334e33a48c2f8992001563",
            "placeholder": "​",
            "style": "IPY_MODEL_3b7b1aeddde34b3f9b9f197f8bce40ff",
            "value": "Downloading (…)lve/main/config.json: 100%"
          }
        },
        "13843553afa5473ea910ab08a1ca07e3": {
          "model_module": "@jupyter-widgets/controls",
          "model_name": "FloatProgressModel",
          "model_module_version": "1.5.0",
          "state": {
            "_dom_classes": [],
            "_model_module": "@jupyter-widgets/controls",
            "_model_module_version": "1.5.0",
            "_model_name": "FloatProgressModel",
            "_view_count": null,
            "_view_module": "@jupyter-widgets/controls",
            "_view_module_version": "1.5.0",
            "_view_name": "ProgressView",
            "bar_style": "success",
            "description": "",
            "description_tooltip": null,
            "layout": "IPY_MODEL_9f42da27aa3f4a7087aadd764cac1862",
            "max": 1802,
            "min": 0,
            "orientation": "horizontal",
            "style": "IPY_MODEL_dda6779566f140f99faca2d2ea9c3d49",
            "value": 1802
          }
        },
        "08366b67115a401eaaf59f0df8160732": {
          "model_module": "@jupyter-widgets/controls",
          "model_name": "HTMLModel",
          "model_module_version": "1.5.0",
          "state": {
            "_dom_classes": [],
            "_model_module": "@jupyter-widgets/controls",
            "_model_module_version": "1.5.0",
            "_model_name": "HTMLModel",
            "_view_count": null,
            "_view_module": "@jupyter-widgets/controls",
            "_view_module_version": "1.5.0",
            "_view_name": "HTMLView",
            "description": "",
            "description_tooltip": null,
            "layout": "IPY_MODEL_acdc9e10925f4a9196b88e97e10d572b",
            "placeholder": "​",
            "style": "IPY_MODEL_bc2ac45c11ae445c87de9be8a51e5336",
            "value": " 1.80k/1.80k [00:00&lt;00:00, 36.8kB/s]"
          }
        },
        "9658b1dd7ef645e693d01f957388b556": {
          "model_module": "@jupyter-widgets/base",
          "model_name": "LayoutModel",
          "model_module_version": "1.2.0",
          "state": {
            "_model_module": "@jupyter-widgets/base",
            "_model_module_version": "1.2.0",
            "_model_name": "LayoutModel",
            "_view_count": null,
            "_view_module": "@jupyter-widgets/base",
            "_view_module_version": "1.2.0",
            "_view_name": "LayoutView",
            "align_content": null,
            "align_items": null,
            "align_self": null,
            "border": null,
            "bottom": null,
            "display": null,
            "flex": null,
            "flex_flow": null,
            "grid_area": null,
            "grid_auto_columns": null,
            "grid_auto_flow": null,
            "grid_auto_rows": null,
            "grid_column": null,
            "grid_gap": null,
            "grid_row": null,
            "grid_template_areas": null,
            "grid_template_columns": null,
            "grid_template_rows": null,
            "height": null,
            "justify_content": null,
            "justify_items": null,
            "left": null,
            "margin": null,
            "max_height": null,
            "max_width": null,
            "min_height": null,
            "min_width": null,
            "object_fit": null,
            "object_position": null,
            "order": null,
            "overflow": null,
            "overflow_x": null,
            "overflow_y": null,
            "padding": null,
            "right": null,
            "top": null,
            "visibility": null,
            "width": null
          }
        },
        "440c295db5334e33a48c2f8992001563": {
          "model_module": "@jupyter-widgets/base",
          "model_name": "LayoutModel",
          "model_module_version": "1.2.0",
          "state": {
            "_model_module": "@jupyter-widgets/base",
            "_model_module_version": "1.2.0",
            "_model_name": "LayoutModel",
            "_view_count": null,
            "_view_module": "@jupyter-widgets/base",
            "_view_module_version": "1.2.0",
            "_view_name": "LayoutView",
            "align_content": null,
            "align_items": null,
            "align_self": null,
            "border": null,
            "bottom": null,
            "display": null,
            "flex": null,
            "flex_flow": null,
            "grid_area": null,
            "grid_auto_columns": null,
            "grid_auto_flow": null,
            "grid_auto_rows": null,
            "grid_column": null,
            "grid_gap": null,
            "grid_row": null,
            "grid_template_areas": null,
            "grid_template_columns": null,
            "grid_template_rows": null,
            "height": null,
            "justify_content": null,
            "justify_items": null,
            "left": null,
            "margin": null,
            "max_height": null,
            "max_width": null,
            "min_height": null,
            "min_width": null,
            "object_fit": null,
            "object_position": null,
            "order": null,
            "overflow": null,
            "overflow_x": null,
            "overflow_y": null,
            "padding": null,
            "right": null,
            "top": null,
            "visibility": null,
            "width": null
          }
        },
        "3b7b1aeddde34b3f9b9f197f8bce40ff": {
          "model_module": "@jupyter-widgets/controls",
          "model_name": "DescriptionStyleModel",
          "model_module_version": "1.5.0",
          "state": {
            "_model_module": "@jupyter-widgets/controls",
            "_model_module_version": "1.5.0",
            "_model_name": "DescriptionStyleModel",
            "_view_count": null,
            "_view_module": "@jupyter-widgets/base",
            "_view_module_version": "1.2.0",
            "_view_name": "StyleView",
            "description_width": ""
          }
        },
        "9f42da27aa3f4a7087aadd764cac1862": {
          "model_module": "@jupyter-widgets/base",
          "model_name": "LayoutModel",
          "model_module_version": "1.2.0",
          "state": {
            "_model_module": "@jupyter-widgets/base",
            "_model_module_version": "1.2.0",
            "_model_name": "LayoutModel",
            "_view_count": null,
            "_view_module": "@jupyter-widgets/base",
            "_view_module_version": "1.2.0",
            "_view_name": "LayoutView",
            "align_content": null,
            "align_items": null,
            "align_self": null,
            "border": null,
            "bottom": null,
            "display": null,
            "flex": null,
            "flex_flow": null,
            "grid_area": null,
            "grid_auto_columns": null,
            "grid_auto_flow": null,
            "grid_auto_rows": null,
            "grid_column": null,
            "grid_gap": null,
            "grid_row": null,
            "grid_template_areas": null,
            "grid_template_columns": null,
            "grid_template_rows": null,
            "height": null,
            "justify_content": null,
            "justify_items": null,
            "left": null,
            "margin": null,
            "max_height": null,
            "max_width": null,
            "min_height": null,
            "min_width": null,
            "object_fit": null,
            "object_position": null,
            "order": null,
            "overflow": null,
            "overflow_x": null,
            "overflow_y": null,
            "padding": null,
            "right": null,
            "top": null,
            "visibility": null,
            "width": null
          }
        },
        "dda6779566f140f99faca2d2ea9c3d49": {
          "model_module": "@jupyter-widgets/controls",
          "model_name": "ProgressStyleModel",
          "model_module_version": "1.5.0",
          "state": {
            "_model_module": "@jupyter-widgets/controls",
            "_model_module_version": "1.5.0",
            "_model_name": "ProgressStyleModel",
            "_view_count": null,
            "_view_module": "@jupyter-widgets/base",
            "_view_module_version": "1.2.0",
            "_view_name": "StyleView",
            "bar_color": null,
            "description_width": ""
          }
        },
        "acdc9e10925f4a9196b88e97e10d572b": {
          "model_module": "@jupyter-widgets/base",
          "model_name": "LayoutModel",
          "model_module_version": "1.2.0",
          "state": {
            "_model_module": "@jupyter-widgets/base",
            "_model_module_version": "1.2.0",
            "_model_name": "LayoutModel",
            "_view_count": null,
            "_view_module": "@jupyter-widgets/base",
            "_view_module_version": "1.2.0",
            "_view_name": "LayoutView",
            "align_content": null,
            "align_items": null,
            "align_self": null,
            "border": null,
            "bottom": null,
            "display": null,
            "flex": null,
            "flex_flow": null,
            "grid_area": null,
            "grid_auto_columns": null,
            "grid_auto_flow": null,
            "grid_auto_rows": null,
            "grid_column": null,
            "grid_gap": null,
            "grid_row": null,
            "grid_template_areas": null,
            "grid_template_columns": null,
            "grid_template_rows": null,
            "height": null,
            "justify_content": null,
            "justify_items": null,
            "left": null,
            "margin": null,
            "max_height": null,
            "max_width": null,
            "min_height": null,
            "min_width": null,
            "object_fit": null,
            "object_position": null,
            "order": null,
            "overflow": null,
            "overflow_x": null,
            "overflow_y": null,
            "padding": null,
            "right": null,
            "top": null,
            "visibility": null,
            "width": null
          }
        },
        "bc2ac45c11ae445c87de9be8a51e5336": {
          "model_module": "@jupyter-widgets/controls",
          "model_name": "DescriptionStyleModel",
          "model_module_version": "1.5.0",
          "state": {
            "_model_module": "@jupyter-widgets/controls",
            "_model_module_version": "1.5.0",
            "_model_name": "DescriptionStyleModel",
            "_view_count": null,
            "_view_module": "@jupyter-widgets/base",
            "_view_module_version": "1.2.0",
            "_view_name": "StyleView",
            "description_width": ""
          }
        },
        "1dacb888c16247e4823526cd2f72cc4a": {
          "model_module": "@jupyter-widgets/controls",
          "model_name": "HBoxModel",
          "model_module_version": "1.5.0",
          "state": {
            "_dom_classes": [],
            "_model_module": "@jupyter-widgets/controls",
            "_model_module_version": "1.5.0",
            "_model_name": "HBoxModel",
            "_view_count": null,
            "_view_module": "@jupyter-widgets/controls",
            "_view_module_version": "1.5.0",
            "_view_name": "HBoxView",
            "box_style": "",
            "children": [
              "IPY_MODEL_bdd69d2e36a24025877c8982405308d7",
              "IPY_MODEL_00821274080f4780b8b2d91294835261",
              "IPY_MODEL_71b724ff53724a0da14715fb2d2a07d0"
            ],
            "layout": "IPY_MODEL_b4b6849ce1454d22833315dd22a3dac8"
          }
        },
        "bdd69d2e36a24025877c8982405308d7": {
          "model_module": "@jupyter-widgets/controls",
          "model_name": "HTMLModel",
          "model_module_version": "1.5.0",
          "state": {
            "_dom_classes": [],
            "_model_module": "@jupyter-widgets/controls",
            "_model_module_version": "1.5.0",
            "_model_name": "HTMLModel",
            "_view_count": null,
            "_view_module": "@jupyter-widgets/controls",
            "_view_module_version": "1.5.0",
            "_view_name": "HTMLView",
            "description": "",
            "description_tooltip": null,
            "layout": "IPY_MODEL_4291f14595c24a5da69befb876df6506",
            "placeholder": "​",
            "style": "IPY_MODEL_1998d7b3236c464db92c78a707d05996",
            "value": "Downloading pytorch_model.bin: 100%"
          }
        },
        "00821274080f4780b8b2d91294835261": {
          "model_module": "@jupyter-widgets/controls",
          "model_name": "FloatProgressModel",
          "model_module_version": "1.5.0",
          "state": {
            "_dom_classes": [],
            "_model_module": "@jupyter-widgets/controls",
            "_model_module_version": "1.5.0",
            "_model_name": "FloatProgressModel",
            "_view_count": null,
            "_view_module": "@jupyter-widgets/controls",
            "_view_module_version": "1.5.0",
            "_view_name": "ProgressView",
            "bar_style": "success",
            "description": "",
            "description_tooltip": null,
            "layout": "IPY_MODEL_501c48c74a204caa9fad00400440f666",
            "max": 1222317369,
            "min": 0,
            "orientation": "horizontal",
            "style": "IPY_MODEL_d791bf996c054686adb1baf7490c2110",
            "value": 1222317369
          }
        },
        "71b724ff53724a0da14715fb2d2a07d0": {
          "model_module": "@jupyter-widgets/controls",
          "model_name": "HTMLModel",
          "model_module_version": "1.5.0",
          "state": {
            "_dom_classes": [],
            "_model_module": "@jupyter-widgets/controls",
            "_model_module_version": "1.5.0",
            "_model_name": "HTMLModel",
            "_view_count": null,
            "_view_module": "@jupyter-widgets/controls",
            "_view_module_version": "1.5.0",
            "_view_name": "HTMLView",
            "description": "",
            "description_tooltip": null,
            "layout": "IPY_MODEL_612d14bece31495eabace40bf3ebcfce",
            "placeholder": "​",
            "style": "IPY_MODEL_0ffe72bf4011476ea09c130d6d31b897",
            "value": " 1.22G/1.22G [00:13&lt;00:00, 86.2MB/s]"
          }
        },
        "b4b6849ce1454d22833315dd22a3dac8": {
          "model_module": "@jupyter-widgets/base",
          "model_name": "LayoutModel",
          "model_module_version": "1.2.0",
          "state": {
            "_model_module": "@jupyter-widgets/base",
            "_model_module_version": "1.2.0",
            "_model_name": "LayoutModel",
            "_view_count": null,
            "_view_module": "@jupyter-widgets/base",
            "_view_module_version": "1.2.0",
            "_view_name": "LayoutView",
            "align_content": null,
            "align_items": null,
            "align_self": null,
            "border": null,
            "bottom": null,
            "display": null,
            "flex": null,
            "flex_flow": null,
            "grid_area": null,
            "grid_auto_columns": null,
            "grid_auto_flow": null,
            "grid_auto_rows": null,
            "grid_column": null,
            "grid_gap": null,
            "grid_row": null,
            "grid_template_areas": null,
            "grid_template_columns": null,
            "grid_template_rows": null,
            "height": null,
            "justify_content": null,
            "justify_items": null,
            "left": null,
            "margin": null,
            "max_height": null,
            "max_width": null,
            "min_height": null,
            "min_width": null,
            "object_fit": null,
            "object_position": null,
            "order": null,
            "overflow": null,
            "overflow_x": null,
            "overflow_y": null,
            "padding": null,
            "right": null,
            "top": null,
            "visibility": null,
            "width": null
          }
        },
        "4291f14595c24a5da69befb876df6506": {
          "model_module": "@jupyter-widgets/base",
          "model_name": "LayoutModel",
          "model_module_version": "1.2.0",
          "state": {
            "_model_module": "@jupyter-widgets/base",
            "_model_module_version": "1.2.0",
            "_model_name": "LayoutModel",
            "_view_count": null,
            "_view_module": "@jupyter-widgets/base",
            "_view_module_version": "1.2.0",
            "_view_name": "LayoutView",
            "align_content": null,
            "align_items": null,
            "align_self": null,
            "border": null,
            "bottom": null,
            "display": null,
            "flex": null,
            "flex_flow": null,
            "grid_area": null,
            "grid_auto_columns": null,
            "grid_auto_flow": null,
            "grid_auto_rows": null,
            "grid_column": null,
            "grid_gap": null,
            "grid_row": null,
            "grid_template_areas": null,
            "grid_template_columns": null,
            "grid_template_rows": null,
            "height": null,
            "justify_content": null,
            "justify_items": null,
            "left": null,
            "margin": null,
            "max_height": null,
            "max_width": null,
            "min_height": null,
            "min_width": null,
            "object_fit": null,
            "object_position": null,
            "order": null,
            "overflow": null,
            "overflow_x": null,
            "overflow_y": null,
            "padding": null,
            "right": null,
            "top": null,
            "visibility": null,
            "width": null
          }
        },
        "1998d7b3236c464db92c78a707d05996": {
          "model_module": "@jupyter-widgets/controls",
          "model_name": "DescriptionStyleModel",
          "model_module_version": "1.5.0",
          "state": {
            "_model_module": "@jupyter-widgets/controls",
            "_model_module_version": "1.5.0",
            "_model_name": "DescriptionStyleModel",
            "_view_count": null,
            "_view_module": "@jupyter-widgets/base",
            "_view_module_version": "1.2.0",
            "_view_name": "StyleView",
            "description_width": ""
          }
        },
        "501c48c74a204caa9fad00400440f666": {
          "model_module": "@jupyter-widgets/base",
          "model_name": "LayoutModel",
          "model_module_version": "1.2.0",
          "state": {
            "_model_module": "@jupyter-widgets/base",
            "_model_module_version": "1.2.0",
            "_model_name": "LayoutModel",
            "_view_count": null,
            "_view_module": "@jupyter-widgets/base",
            "_view_module_version": "1.2.0",
            "_view_name": "LayoutView",
            "align_content": null,
            "align_items": null,
            "align_self": null,
            "border": null,
            "bottom": null,
            "display": null,
            "flex": null,
            "flex_flow": null,
            "grid_area": null,
            "grid_auto_columns": null,
            "grid_auto_flow": null,
            "grid_auto_rows": null,
            "grid_column": null,
            "grid_gap": null,
            "grid_row": null,
            "grid_template_areas": null,
            "grid_template_columns": null,
            "grid_template_rows": null,
            "height": null,
            "justify_content": null,
            "justify_items": null,
            "left": null,
            "margin": null,
            "max_height": null,
            "max_width": null,
            "min_height": null,
            "min_width": null,
            "object_fit": null,
            "object_position": null,
            "order": null,
            "overflow": null,
            "overflow_x": null,
            "overflow_y": null,
            "padding": null,
            "right": null,
            "top": null,
            "visibility": null,
            "width": null
          }
        },
        "d791bf996c054686adb1baf7490c2110": {
          "model_module": "@jupyter-widgets/controls",
          "model_name": "ProgressStyleModel",
          "model_module_version": "1.5.0",
          "state": {
            "_model_module": "@jupyter-widgets/controls",
            "_model_module_version": "1.5.0",
            "_model_name": "ProgressStyleModel",
            "_view_count": null,
            "_view_module": "@jupyter-widgets/base",
            "_view_module_version": "1.2.0",
            "_view_name": "StyleView",
            "bar_color": null,
            "description_width": ""
          }
        },
        "612d14bece31495eabace40bf3ebcfce": {
          "model_module": "@jupyter-widgets/base",
          "model_name": "LayoutModel",
          "model_module_version": "1.2.0",
          "state": {
            "_model_module": "@jupyter-widgets/base",
            "_model_module_version": "1.2.0",
            "_model_name": "LayoutModel",
            "_view_count": null,
            "_view_module": "@jupyter-widgets/base",
            "_view_module_version": "1.2.0",
            "_view_name": "LayoutView",
            "align_content": null,
            "align_items": null,
            "align_self": null,
            "border": null,
            "bottom": null,
            "display": null,
            "flex": null,
            "flex_flow": null,
            "grid_area": null,
            "grid_auto_columns": null,
            "grid_auto_flow": null,
            "grid_auto_rows": null,
            "grid_column": null,
            "grid_gap": null,
            "grid_row": null,
            "grid_template_areas": null,
            "grid_template_columns": null,
            "grid_template_rows": null,
            "height": null,
            "justify_content": null,
            "justify_items": null,
            "left": null,
            "margin": null,
            "max_height": null,
            "max_width": null,
            "min_height": null,
            "min_width": null,
            "object_fit": null,
            "object_position": null,
            "order": null,
            "overflow": null,
            "overflow_x": null,
            "overflow_y": null,
            "padding": null,
            "right": null,
            "top": null,
            "visibility": null,
            "width": null
          }
        },
        "0ffe72bf4011476ea09c130d6d31b897": {
          "model_module": "@jupyter-widgets/controls",
          "model_name": "DescriptionStyleModel",
          "model_module_version": "1.5.0",
          "state": {
            "_model_module": "@jupyter-widgets/controls",
            "_model_module_version": "1.5.0",
            "_model_name": "DescriptionStyleModel",
            "_view_count": null,
            "_view_module": "@jupyter-widgets/base",
            "_view_module_version": "1.2.0",
            "_view_name": "StyleView",
            "description_width": ""
          }
        },
        "4c573fa412e4429a9f19fff9bb027a3b": {
          "model_module": "@jupyter-widgets/controls",
          "model_name": "HBoxModel",
          "model_module_version": "1.5.0",
          "state": {
            "_dom_classes": [],
            "_model_module": "@jupyter-widgets/controls",
            "_model_module_version": "1.5.0",
            "_model_name": "HBoxModel",
            "_view_count": null,
            "_view_module": "@jupyter-widgets/controls",
            "_view_module_version": "1.5.0",
            "_view_name": "HBoxView",
            "box_style": "",
            "children": [
              "IPY_MODEL_2933153b68c94518a3a507ab92742474",
              "IPY_MODEL_ff681e7a8b8643f3b3cc6f1bd796899d",
              "IPY_MODEL_16ce281fd3f94ffa8c23e143f52d2ace"
            ],
            "layout": "IPY_MODEL_4da9a5e5fe2d4c7aa56eec53fa5158e8"
          }
        },
        "2933153b68c94518a3a507ab92742474": {
          "model_module": "@jupyter-widgets/controls",
          "model_name": "HTMLModel",
          "model_module_version": "1.5.0",
          "state": {
            "_dom_classes": [],
            "_model_module": "@jupyter-widgets/controls",
            "_model_module_version": "1.5.0",
            "_model_name": "HTMLModel",
            "_view_count": null,
            "_view_module": "@jupyter-widgets/controls",
            "_view_module_version": "1.5.0",
            "_view_name": "HTMLView",
            "description": "",
            "description_tooltip": null,
            "layout": "IPY_MODEL_8b61f95100dd47c1b3aca55b40141c9c",
            "placeholder": "​",
            "style": "IPY_MODEL_afd82808c1d24926b002c6009e23d150",
            "value": "Downloading (…)okenizer_config.json: 100%"
          }
        },
        "ff681e7a8b8643f3b3cc6f1bd796899d": {
          "model_module": "@jupyter-widgets/controls",
          "model_name": "FloatProgressModel",
          "model_module_version": "1.5.0",
          "state": {
            "_dom_classes": [],
            "_model_module": "@jupyter-widgets/controls",
            "_model_module_version": "1.5.0",
            "_model_name": "FloatProgressModel",
            "_view_count": null,
            "_view_module": "@jupyter-widgets/controls",
            "_view_module_version": "1.5.0",
            "_view_name": "ProgressView",
            "bar_style": "success",
            "description": "",
            "description_tooltip": null,
            "layout": "IPY_MODEL_fa208392941140a4be870d20060a8bd4",
            "max": 26,
            "min": 0,
            "orientation": "horizontal",
            "style": "IPY_MODEL_fbc4cf67153c424b83a9149ca47d7fba",
            "value": 26
          }
        },
        "16ce281fd3f94ffa8c23e143f52d2ace": {
          "model_module": "@jupyter-widgets/controls",
          "model_name": "HTMLModel",
          "model_module_version": "1.5.0",
          "state": {
            "_dom_classes": [],
            "_model_module": "@jupyter-widgets/controls",
            "_model_module_version": "1.5.0",
            "_model_name": "HTMLModel",
            "_view_count": null,
            "_view_module": "@jupyter-widgets/controls",
            "_view_module_version": "1.5.0",
            "_view_name": "HTMLView",
            "description": "",
            "description_tooltip": null,
            "layout": "IPY_MODEL_5b71f5dea6964746902283e4e6053299",
            "placeholder": "​",
            "style": "IPY_MODEL_8870a5684980497582325862c4400136",
            "value": " 26.0/26.0 [00:00&lt;00:00, 788B/s]"
          }
        },
        "4da9a5e5fe2d4c7aa56eec53fa5158e8": {
          "model_module": "@jupyter-widgets/base",
          "model_name": "LayoutModel",
          "model_module_version": "1.2.0",
          "state": {
            "_model_module": "@jupyter-widgets/base",
            "_model_module_version": "1.2.0",
            "_model_name": "LayoutModel",
            "_view_count": null,
            "_view_module": "@jupyter-widgets/base",
            "_view_module_version": "1.2.0",
            "_view_name": "LayoutView",
            "align_content": null,
            "align_items": null,
            "align_self": null,
            "border": null,
            "bottom": null,
            "display": null,
            "flex": null,
            "flex_flow": null,
            "grid_area": null,
            "grid_auto_columns": null,
            "grid_auto_flow": null,
            "grid_auto_rows": null,
            "grid_column": null,
            "grid_gap": null,
            "grid_row": null,
            "grid_template_areas": null,
            "grid_template_columns": null,
            "grid_template_rows": null,
            "height": null,
            "justify_content": null,
            "justify_items": null,
            "left": null,
            "margin": null,
            "max_height": null,
            "max_width": null,
            "min_height": null,
            "min_width": null,
            "object_fit": null,
            "object_position": null,
            "order": null,
            "overflow": null,
            "overflow_x": null,
            "overflow_y": null,
            "padding": null,
            "right": null,
            "top": null,
            "visibility": null,
            "width": null
          }
        },
        "8b61f95100dd47c1b3aca55b40141c9c": {
          "model_module": "@jupyter-widgets/base",
          "model_name": "LayoutModel",
          "model_module_version": "1.2.0",
          "state": {
            "_model_module": "@jupyter-widgets/base",
            "_model_module_version": "1.2.0",
            "_model_name": "LayoutModel",
            "_view_count": null,
            "_view_module": "@jupyter-widgets/base",
            "_view_module_version": "1.2.0",
            "_view_name": "LayoutView",
            "align_content": null,
            "align_items": null,
            "align_self": null,
            "border": null,
            "bottom": null,
            "display": null,
            "flex": null,
            "flex_flow": null,
            "grid_area": null,
            "grid_auto_columns": null,
            "grid_auto_flow": null,
            "grid_auto_rows": null,
            "grid_column": null,
            "grid_gap": null,
            "grid_row": null,
            "grid_template_areas": null,
            "grid_template_columns": null,
            "grid_template_rows": null,
            "height": null,
            "justify_content": null,
            "justify_items": null,
            "left": null,
            "margin": null,
            "max_height": null,
            "max_width": null,
            "min_height": null,
            "min_width": null,
            "object_fit": null,
            "object_position": null,
            "order": null,
            "overflow": null,
            "overflow_x": null,
            "overflow_y": null,
            "padding": null,
            "right": null,
            "top": null,
            "visibility": null,
            "width": null
          }
        },
        "afd82808c1d24926b002c6009e23d150": {
          "model_module": "@jupyter-widgets/controls",
          "model_name": "DescriptionStyleModel",
          "model_module_version": "1.5.0",
          "state": {
            "_model_module": "@jupyter-widgets/controls",
            "_model_module_version": "1.5.0",
            "_model_name": "DescriptionStyleModel",
            "_view_count": null,
            "_view_module": "@jupyter-widgets/base",
            "_view_module_version": "1.2.0",
            "_view_name": "StyleView",
            "description_width": ""
          }
        },
        "fa208392941140a4be870d20060a8bd4": {
          "model_module": "@jupyter-widgets/base",
          "model_name": "LayoutModel",
          "model_module_version": "1.2.0",
          "state": {
            "_model_module": "@jupyter-widgets/base",
            "_model_module_version": "1.2.0",
            "_model_name": "LayoutModel",
            "_view_count": null,
            "_view_module": "@jupyter-widgets/base",
            "_view_module_version": "1.2.0",
            "_view_name": "LayoutView",
            "align_content": null,
            "align_items": null,
            "align_self": null,
            "border": null,
            "bottom": null,
            "display": null,
            "flex": null,
            "flex_flow": null,
            "grid_area": null,
            "grid_auto_columns": null,
            "grid_auto_flow": null,
            "grid_auto_rows": null,
            "grid_column": null,
            "grid_gap": null,
            "grid_row": null,
            "grid_template_areas": null,
            "grid_template_columns": null,
            "grid_template_rows": null,
            "height": null,
            "justify_content": null,
            "justify_items": null,
            "left": null,
            "margin": null,
            "max_height": null,
            "max_width": null,
            "min_height": null,
            "min_width": null,
            "object_fit": null,
            "object_position": null,
            "order": null,
            "overflow": null,
            "overflow_x": null,
            "overflow_y": null,
            "padding": null,
            "right": null,
            "top": null,
            "visibility": null,
            "width": null
          }
        },
        "fbc4cf67153c424b83a9149ca47d7fba": {
          "model_module": "@jupyter-widgets/controls",
          "model_name": "ProgressStyleModel",
          "model_module_version": "1.5.0",
          "state": {
            "_model_module": "@jupyter-widgets/controls",
            "_model_module_version": "1.5.0",
            "_model_name": "ProgressStyleModel",
            "_view_count": null,
            "_view_module": "@jupyter-widgets/base",
            "_view_module_version": "1.2.0",
            "_view_name": "StyleView",
            "bar_color": null,
            "description_width": ""
          }
        },
        "5b71f5dea6964746902283e4e6053299": {
          "model_module": "@jupyter-widgets/base",
          "model_name": "LayoutModel",
          "model_module_version": "1.2.0",
          "state": {
            "_model_module": "@jupyter-widgets/base",
            "_model_module_version": "1.2.0",
            "_model_name": "LayoutModel",
            "_view_count": null,
            "_view_module": "@jupyter-widgets/base",
            "_view_module_version": "1.2.0",
            "_view_name": "LayoutView",
            "align_content": null,
            "align_items": null,
            "align_self": null,
            "border": null,
            "bottom": null,
            "display": null,
            "flex": null,
            "flex_flow": null,
            "grid_area": null,
            "grid_auto_columns": null,
            "grid_auto_flow": null,
            "grid_auto_rows": null,
            "grid_column": null,
            "grid_gap": null,
            "grid_row": null,
            "grid_template_areas": null,
            "grid_template_columns": null,
            "grid_template_rows": null,
            "height": null,
            "justify_content": null,
            "justify_items": null,
            "left": null,
            "margin": null,
            "max_height": null,
            "max_width": null,
            "min_height": null,
            "min_width": null,
            "object_fit": null,
            "object_position": null,
            "order": null,
            "overflow": null,
            "overflow_x": null,
            "overflow_y": null,
            "padding": null,
            "right": null,
            "top": null,
            "visibility": null,
            "width": null
          }
        },
        "8870a5684980497582325862c4400136": {
          "model_module": "@jupyter-widgets/controls",
          "model_name": "DescriptionStyleModel",
          "model_module_version": "1.5.0",
          "state": {
            "_model_module": "@jupyter-widgets/controls",
            "_model_module_version": "1.5.0",
            "_model_name": "DescriptionStyleModel",
            "_view_count": null,
            "_view_module": "@jupyter-widgets/base",
            "_view_module_version": "1.2.0",
            "_view_name": "StyleView",
            "description_width": ""
          }
        },
        "89199684f1f0467499a3c4a27adef705": {
          "model_module": "@jupyter-widgets/controls",
          "model_name": "HBoxModel",
          "model_module_version": "1.5.0",
          "state": {
            "_dom_classes": [],
            "_model_module": "@jupyter-widgets/controls",
            "_model_module_version": "1.5.0",
            "_model_name": "HBoxModel",
            "_view_count": null,
            "_view_module": "@jupyter-widgets/controls",
            "_view_module_version": "1.5.0",
            "_view_name": "HBoxView",
            "box_style": "",
            "children": [
              "IPY_MODEL_03da516bebb5470aa857bfc6462a252a",
              "IPY_MODEL_a0ebab35eaa04344a8c4a2e50a03f0ea",
              "IPY_MODEL_f685d35ac34a4ef0ab2b034bd9c73682"
            ],
            "layout": "IPY_MODEL_a4fa2b202f5e4509be48e22e993bca63"
          }
        },
        "03da516bebb5470aa857bfc6462a252a": {
          "model_module": "@jupyter-widgets/controls",
          "model_name": "HTMLModel",
          "model_module_version": "1.5.0",
          "state": {
            "_dom_classes": [],
            "_model_module": "@jupyter-widgets/controls",
            "_model_module_version": "1.5.0",
            "_model_name": "HTMLModel",
            "_view_count": null,
            "_view_module": "@jupyter-widgets/controls",
            "_view_module_version": "1.5.0",
            "_view_name": "HTMLView",
            "description": "",
            "description_tooltip": null,
            "layout": "IPY_MODEL_a3af7271191e4d77ad48ac792ec8170d",
            "placeholder": "​",
            "style": "IPY_MODEL_b3f89c0a806b4001a95c221a6d1ef7f0",
            "value": "Downloading (…)olve/main/vocab.json: 100%"
          }
        },
        "a0ebab35eaa04344a8c4a2e50a03f0ea": {
          "model_module": "@jupyter-widgets/controls",
          "model_name": "FloatProgressModel",
          "model_module_version": "1.5.0",
          "state": {
            "_dom_classes": [],
            "_model_module": "@jupyter-widgets/controls",
            "_model_module_version": "1.5.0",
            "_model_name": "FloatProgressModel",
            "_view_count": null,
            "_view_module": "@jupyter-widgets/controls",
            "_view_module_version": "1.5.0",
            "_view_name": "ProgressView",
            "bar_style": "success",
            "description": "",
            "description_tooltip": null,
            "layout": "IPY_MODEL_a5b716462a334e39bc9fa5f3686f0dff",
            "max": 898822,
            "min": 0,
            "orientation": "horizontal",
            "style": "IPY_MODEL_c801ce8525924c7db357d65d2cbcb5a2",
            "value": 898822
          }
        },
        "f685d35ac34a4ef0ab2b034bd9c73682": {
          "model_module": "@jupyter-widgets/controls",
          "model_name": "HTMLModel",
          "model_module_version": "1.5.0",
          "state": {
            "_dom_classes": [],
            "_model_module": "@jupyter-widgets/controls",
            "_model_module_version": "1.5.0",
            "_model_name": "HTMLModel",
            "_view_count": null,
            "_view_module": "@jupyter-widgets/controls",
            "_view_module_version": "1.5.0",
            "_view_name": "HTMLView",
            "description": "",
            "description_tooltip": null,
            "layout": "IPY_MODEL_a37240492629436496840a957b3dc7fd",
            "placeholder": "​",
            "style": "IPY_MODEL_90ef5ac8c89d4c0098230634c915d436",
            "value": " 899k/899k [00:00&lt;00:00, 9.13MB/s]"
          }
        },
        "a4fa2b202f5e4509be48e22e993bca63": {
          "model_module": "@jupyter-widgets/base",
          "model_name": "LayoutModel",
          "model_module_version": "1.2.0",
          "state": {
            "_model_module": "@jupyter-widgets/base",
            "_model_module_version": "1.2.0",
            "_model_name": "LayoutModel",
            "_view_count": null,
            "_view_module": "@jupyter-widgets/base",
            "_view_module_version": "1.2.0",
            "_view_name": "LayoutView",
            "align_content": null,
            "align_items": null,
            "align_self": null,
            "border": null,
            "bottom": null,
            "display": null,
            "flex": null,
            "flex_flow": null,
            "grid_area": null,
            "grid_auto_columns": null,
            "grid_auto_flow": null,
            "grid_auto_rows": null,
            "grid_column": null,
            "grid_gap": null,
            "grid_row": null,
            "grid_template_areas": null,
            "grid_template_columns": null,
            "grid_template_rows": null,
            "height": null,
            "justify_content": null,
            "justify_items": null,
            "left": null,
            "margin": null,
            "max_height": null,
            "max_width": null,
            "min_height": null,
            "min_width": null,
            "object_fit": null,
            "object_position": null,
            "order": null,
            "overflow": null,
            "overflow_x": null,
            "overflow_y": null,
            "padding": null,
            "right": null,
            "top": null,
            "visibility": null,
            "width": null
          }
        },
        "a3af7271191e4d77ad48ac792ec8170d": {
          "model_module": "@jupyter-widgets/base",
          "model_name": "LayoutModel",
          "model_module_version": "1.2.0",
          "state": {
            "_model_module": "@jupyter-widgets/base",
            "_model_module_version": "1.2.0",
            "_model_name": "LayoutModel",
            "_view_count": null,
            "_view_module": "@jupyter-widgets/base",
            "_view_module_version": "1.2.0",
            "_view_name": "LayoutView",
            "align_content": null,
            "align_items": null,
            "align_self": null,
            "border": null,
            "bottom": null,
            "display": null,
            "flex": null,
            "flex_flow": null,
            "grid_area": null,
            "grid_auto_columns": null,
            "grid_auto_flow": null,
            "grid_auto_rows": null,
            "grid_column": null,
            "grid_gap": null,
            "grid_row": null,
            "grid_template_areas": null,
            "grid_template_columns": null,
            "grid_template_rows": null,
            "height": null,
            "justify_content": null,
            "justify_items": null,
            "left": null,
            "margin": null,
            "max_height": null,
            "max_width": null,
            "min_height": null,
            "min_width": null,
            "object_fit": null,
            "object_position": null,
            "order": null,
            "overflow": null,
            "overflow_x": null,
            "overflow_y": null,
            "padding": null,
            "right": null,
            "top": null,
            "visibility": null,
            "width": null
          }
        },
        "b3f89c0a806b4001a95c221a6d1ef7f0": {
          "model_module": "@jupyter-widgets/controls",
          "model_name": "DescriptionStyleModel",
          "model_module_version": "1.5.0",
          "state": {
            "_model_module": "@jupyter-widgets/controls",
            "_model_module_version": "1.5.0",
            "_model_name": "DescriptionStyleModel",
            "_view_count": null,
            "_view_module": "@jupyter-widgets/base",
            "_view_module_version": "1.2.0",
            "_view_name": "StyleView",
            "description_width": ""
          }
        },
        "a5b716462a334e39bc9fa5f3686f0dff": {
          "model_module": "@jupyter-widgets/base",
          "model_name": "LayoutModel",
          "model_module_version": "1.2.0",
          "state": {
            "_model_module": "@jupyter-widgets/base",
            "_model_module_version": "1.2.0",
            "_model_name": "LayoutModel",
            "_view_count": null,
            "_view_module": "@jupyter-widgets/base",
            "_view_module_version": "1.2.0",
            "_view_name": "LayoutView",
            "align_content": null,
            "align_items": null,
            "align_self": null,
            "border": null,
            "bottom": null,
            "display": null,
            "flex": null,
            "flex_flow": null,
            "grid_area": null,
            "grid_auto_columns": null,
            "grid_auto_flow": null,
            "grid_auto_rows": null,
            "grid_column": null,
            "grid_gap": null,
            "grid_row": null,
            "grid_template_areas": null,
            "grid_template_columns": null,
            "grid_template_rows": null,
            "height": null,
            "justify_content": null,
            "justify_items": null,
            "left": null,
            "margin": null,
            "max_height": null,
            "max_width": null,
            "min_height": null,
            "min_width": null,
            "object_fit": null,
            "object_position": null,
            "order": null,
            "overflow": null,
            "overflow_x": null,
            "overflow_y": null,
            "padding": null,
            "right": null,
            "top": null,
            "visibility": null,
            "width": null
          }
        },
        "c801ce8525924c7db357d65d2cbcb5a2": {
          "model_module": "@jupyter-widgets/controls",
          "model_name": "ProgressStyleModel",
          "model_module_version": "1.5.0",
          "state": {
            "_model_module": "@jupyter-widgets/controls",
            "_model_module_version": "1.5.0",
            "_model_name": "ProgressStyleModel",
            "_view_count": null,
            "_view_module": "@jupyter-widgets/base",
            "_view_module_version": "1.2.0",
            "_view_name": "StyleView",
            "bar_color": null,
            "description_width": ""
          }
        },
        "a37240492629436496840a957b3dc7fd": {
          "model_module": "@jupyter-widgets/base",
          "model_name": "LayoutModel",
          "model_module_version": "1.2.0",
          "state": {
            "_model_module": "@jupyter-widgets/base",
            "_model_module_version": "1.2.0",
            "_model_name": "LayoutModel",
            "_view_count": null,
            "_view_module": "@jupyter-widgets/base",
            "_view_module_version": "1.2.0",
            "_view_name": "LayoutView",
            "align_content": null,
            "align_items": null,
            "align_self": null,
            "border": null,
            "bottom": null,
            "display": null,
            "flex": null,
            "flex_flow": null,
            "grid_area": null,
            "grid_auto_columns": null,
            "grid_auto_flow": null,
            "grid_auto_rows": null,
            "grid_column": null,
            "grid_gap": null,
            "grid_row": null,
            "grid_template_areas": null,
            "grid_template_columns": null,
            "grid_template_rows": null,
            "height": null,
            "justify_content": null,
            "justify_items": null,
            "left": null,
            "margin": null,
            "max_height": null,
            "max_width": null,
            "min_height": null,
            "min_width": null,
            "object_fit": null,
            "object_position": null,
            "order": null,
            "overflow": null,
            "overflow_x": null,
            "overflow_y": null,
            "padding": null,
            "right": null,
            "top": null,
            "visibility": null,
            "width": null
          }
        },
        "90ef5ac8c89d4c0098230634c915d436": {
          "model_module": "@jupyter-widgets/controls",
          "model_name": "DescriptionStyleModel",
          "model_module_version": "1.5.0",
          "state": {
            "_model_module": "@jupyter-widgets/controls",
            "_model_module_version": "1.5.0",
            "_model_name": "DescriptionStyleModel",
            "_view_count": null,
            "_view_module": "@jupyter-widgets/base",
            "_view_module_version": "1.2.0",
            "_view_name": "StyleView",
            "description_width": ""
          }
        },
        "b57f5e2aae394b64a81f629bf85994fc": {
          "model_module": "@jupyter-widgets/controls",
          "model_name": "HBoxModel",
          "model_module_version": "1.5.0",
          "state": {
            "_dom_classes": [],
            "_model_module": "@jupyter-widgets/controls",
            "_model_module_version": "1.5.0",
            "_model_name": "HBoxModel",
            "_view_count": null,
            "_view_module": "@jupyter-widgets/controls",
            "_view_module_version": "1.5.0",
            "_view_name": "HBoxView",
            "box_style": "",
            "children": [
              "IPY_MODEL_4773ab84348e4db487b35a94bc117712",
              "IPY_MODEL_8a73898503e84ba4bd2e3a7b9914cc7f",
              "IPY_MODEL_82c7bd57f5af4b5e92e563dde769e9c7"
            ],
            "layout": "IPY_MODEL_7075c591792343e7a93b15cece7062a5"
          }
        },
        "4773ab84348e4db487b35a94bc117712": {
          "model_module": "@jupyter-widgets/controls",
          "model_name": "HTMLModel",
          "model_module_version": "1.5.0",
          "state": {
            "_dom_classes": [],
            "_model_module": "@jupyter-widgets/controls",
            "_model_module_version": "1.5.0",
            "_model_name": "HTMLModel",
            "_view_count": null,
            "_view_module": "@jupyter-widgets/controls",
            "_view_module_version": "1.5.0",
            "_view_name": "HTMLView",
            "description": "",
            "description_tooltip": null,
            "layout": "IPY_MODEL_5d50480a7f0c4e108400f667e210eee8",
            "placeholder": "​",
            "style": "IPY_MODEL_572cb77dbd2d40a4907f7c566bff6e72",
            "value": "Downloading (…)olve/main/merges.txt: 100%"
          }
        },
        "8a73898503e84ba4bd2e3a7b9914cc7f": {
          "model_module": "@jupyter-widgets/controls",
          "model_name": "FloatProgressModel",
          "model_module_version": "1.5.0",
          "state": {
            "_dom_classes": [],
            "_model_module": "@jupyter-widgets/controls",
            "_model_module_version": "1.5.0",
            "_model_name": "FloatProgressModel",
            "_view_count": null,
            "_view_module": "@jupyter-widgets/controls",
            "_view_module_version": "1.5.0",
            "_view_name": "ProgressView",
            "bar_style": "success",
            "description": "",
            "description_tooltip": null,
            "layout": "IPY_MODEL_642c5927570e4c7cbd14090249ff0094",
            "max": 456318,
            "min": 0,
            "orientation": "horizontal",
            "style": "IPY_MODEL_66fad061dbf34f47a8bf4e3935e3270b",
            "value": 456318
          }
        },
        "82c7bd57f5af4b5e92e563dde769e9c7": {
          "model_module": "@jupyter-widgets/controls",
          "model_name": "HTMLModel",
          "model_module_version": "1.5.0",
          "state": {
            "_dom_classes": [],
            "_model_module": "@jupyter-widgets/controls",
            "_model_module_version": "1.5.0",
            "_model_name": "HTMLModel",
            "_view_count": null,
            "_view_module": "@jupyter-widgets/controls",
            "_view_module_version": "1.5.0",
            "_view_name": "HTMLView",
            "description": "",
            "description_tooltip": null,
            "layout": "IPY_MODEL_1f7840cb4093477bacc8de215885f03b",
            "placeholder": "​",
            "style": "IPY_MODEL_5bb3e8c643cd486599495b9168927759",
            "value": " 456k/456k [00:00&lt;00:00, 6.45MB/s]"
          }
        },
        "7075c591792343e7a93b15cece7062a5": {
          "model_module": "@jupyter-widgets/base",
          "model_name": "LayoutModel",
          "model_module_version": "1.2.0",
          "state": {
            "_model_module": "@jupyter-widgets/base",
            "_model_module_version": "1.2.0",
            "_model_name": "LayoutModel",
            "_view_count": null,
            "_view_module": "@jupyter-widgets/base",
            "_view_module_version": "1.2.0",
            "_view_name": "LayoutView",
            "align_content": null,
            "align_items": null,
            "align_self": null,
            "border": null,
            "bottom": null,
            "display": null,
            "flex": null,
            "flex_flow": null,
            "grid_area": null,
            "grid_auto_columns": null,
            "grid_auto_flow": null,
            "grid_auto_rows": null,
            "grid_column": null,
            "grid_gap": null,
            "grid_row": null,
            "grid_template_areas": null,
            "grid_template_columns": null,
            "grid_template_rows": null,
            "height": null,
            "justify_content": null,
            "justify_items": null,
            "left": null,
            "margin": null,
            "max_height": null,
            "max_width": null,
            "min_height": null,
            "min_width": null,
            "object_fit": null,
            "object_position": null,
            "order": null,
            "overflow": null,
            "overflow_x": null,
            "overflow_y": null,
            "padding": null,
            "right": null,
            "top": null,
            "visibility": null,
            "width": null
          }
        },
        "5d50480a7f0c4e108400f667e210eee8": {
          "model_module": "@jupyter-widgets/base",
          "model_name": "LayoutModel",
          "model_module_version": "1.2.0",
          "state": {
            "_model_module": "@jupyter-widgets/base",
            "_model_module_version": "1.2.0",
            "_model_name": "LayoutModel",
            "_view_count": null,
            "_view_module": "@jupyter-widgets/base",
            "_view_module_version": "1.2.0",
            "_view_name": "LayoutView",
            "align_content": null,
            "align_items": null,
            "align_self": null,
            "border": null,
            "bottom": null,
            "display": null,
            "flex": null,
            "flex_flow": null,
            "grid_area": null,
            "grid_auto_columns": null,
            "grid_auto_flow": null,
            "grid_auto_rows": null,
            "grid_column": null,
            "grid_gap": null,
            "grid_row": null,
            "grid_template_areas": null,
            "grid_template_columns": null,
            "grid_template_rows": null,
            "height": null,
            "justify_content": null,
            "justify_items": null,
            "left": null,
            "margin": null,
            "max_height": null,
            "max_width": null,
            "min_height": null,
            "min_width": null,
            "object_fit": null,
            "object_position": null,
            "order": null,
            "overflow": null,
            "overflow_x": null,
            "overflow_y": null,
            "padding": null,
            "right": null,
            "top": null,
            "visibility": null,
            "width": null
          }
        },
        "572cb77dbd2d40a4907f7c566bff6e72": {
          "model_module": "@jupyter-widgets/controls",
          "model_name": "DescriptionStyleModel",
          "model_module_version": "1.5.0",
          "state": {
            "_model_module": "@jupyter-widgets/controls",
            "_model_module_version": "1.5.0",
            "_model_name": "DescriptionStyleModel",
            "_view_count": null,
            "_view_module": "@jupyter-widgets/base",
            "_view_module_version": "1.2.0",
            "_view_name": "StyleView",
            "description_width": ""
          }
        },
        "642c5927570e4c7cbd14090249ff0094": {
          "model_module": "@jupyter-widgets/base",
          "model_name": "LayoutModel",
          "model_module_version": "1.2.0",
          "state": {
            "_model_module": "@jupyter-widgets/base",
            "_model_module_version": "1.2.0",
            "_model_name": "LayoutModel",
            "_view_count": null,
            "_view_module": "@jupyter-widgets/base",
            "_view_module_version": "1.2.0",
            "_view_name": "LayoutView",
            "align_content": null,
            "align_items": null,
            "align_self": null,
            "border": null,
            "bottom": null,
            "display": null,
            "flex": null,
            "flex_flow": null,
            "grid_area": null,
            "grid_auto_columns": null,
            "grid_auto_flow": null,
            "grid_auto_rows": null,
            "grid_column": null,
            "grid_gap": null,
            "grid_row": null,
            "grid_template_areas": null,
            "grid_template_columns": null,
            "grid_template_rows": null,
            "height": null,
            "justify_content": null,
            "justify_items": null,
            "left": null,
            "margin": null,
            "max_height": null,
            "max_width": null,
            "min_height": null,
            "min_width": null,
            "object_fit": null,
            "object_position": null,
            "order": null,
            "overflow": null,
            "overflow_x": null,
            "overflow_y": null,
            "padding": null,
            "right": null,
            "top": null,
            "visibility": null,
            "width": null
          }
        },
        "66fad061dbf34f47a8bf4e3935e3270b": {
          "model_module": "@jupyter-widgets/controls",
          "model_name": "ProgressStyleModel",
          "model_module_version": "1.5.0",
          "state": {
            "_model_module": "@jupyter-widgets/controls",
            "_model_module_version": "1.5.0",
            "_model_name": "ProgressStyleModel",
            "_view_count": null,
            "_view_module": "@jupyter-widgets/base",
            "_view_module_version": "1.2.0",
            "_view_name": "StyleView",
            "bar_color": null,
            "description_width": ""
          }
        },
        "1f7840cb4093477bacc8de215885f03b": {
          "model_module": "@jupyter-widgets/base",
          "model_name": "LayoutModel",
          "model_module_version": "1.2.0",
          "state": {
            "_model_module": "@jupyter-widgets/base",
            "_model_module_version": "1.2.0",
            "_model_name": "LayoutModel",
            "_view_count": null,
            "_view_module": "@jupyter-widgets/base",
            "_view_module_version": "1.2.0",
            "_view_name": "LayoutView",
            "align_content": null,
            "align_items": null,
            "align_self": null,
            "border": null,
            "bottom": null,
            "display": null,
            "flex": null,
            "flex_flow": null,
            "grid_area": null,
            "grid_auto_columns": null,
            "grid_auto_flow": null,
            "grid_auto_rows": null,
            "grid_column": null,
            "grid_gap": null,
            "grid_row": null,
            "grid_template_areas": null,
            "grid_template_columns": null,
            "grid_template_rows": null,
            "height": null,
            "justify_content": null,
            "justify_items": null,
            "left": null,
            "margin": null,
            "max_height": null,
            "max_width": null,
            "min_height": null,
            "min_width": null,
            "object_fit": null,
            "object_position": null,
            "order": null,
            "overflow": null,
            "overflow_x": null,
            "overflow_y": null,
            "padding": null,
            "right": null,
            "top": null,
            "visibility": null,
            "width": null
          }
        },
        "5bb3e8c643cd486599495b9168927759": {
          "model_module": "@jupyter-widgets/controls",
          "model_name": "DescriptionStyleModel",
          "model_module_version": "1.5.0",
          "state": {
            "_model_module": "@jupyter-widgets/controls",
            "_model_module_version": "1.5.0",
            "_model_name": "DescriptionStyleModel",
            "_view_count": null,
            "_view_module": "@jupyter-widgets/base",
            "_view_module_version": "1.2.0",
            "_view_name": "StyleView",
            "description_width": ""
          }
        }
      }
    }
  },
  "cells": [
    {
      "cell_type": "markdown",
      "metadata": {
        "id": "view-in-github",
        "colab_type": "text"
      },
      "source": [
        "<a href=\"https://colab.research.google.com/github/Flychuban/Space-Soup/blob/main/TextSummarization.ipynb\" target=\"_parent\"><img src=\"https://colab.research.google.com/assets/colab-badge.svg\" alt=\"Open In Colab\"/></a>"
      ]
    },
    {
      "cell_type": "code",
      "execution_count": 1,
      "metadata": {
        "colab": {
          "base_uri": "https://localhost:8080/"
        },
        "id": "6UhB7Fr7HnAC",
        "outputId": "8423df45-e417-40b2-d121-171b61649e49"
      },
      "outputs": [
        {
          "output_type": "stream",
          "name": "stdout",
          "text": [
            "Collecting transformers\n",
            "  Downloading transformers-4.33.3-py3-none-any.whl (7.6 MB)\n",
            "\u001b[2K     \u001b[90m━━━━━━━━━━━━━━━━━━━━━━━━━━━━━━━━━━━━━━━━\u001b[0m \u001b[32m7.6/7.6 MB\u001b[0m \u001b[31m58.4 MB/s\u001b[0m eta \u001b[36m0:00:00\u001b[0m\n",
            "\u001b[?25hRequirement already satisfied: filelock in /usr/local/lib/python3.10/dist-packages (from transformers) (3.12.2)\n",
            "Collecting huggingface-hub<1.0,>=0.15.1 (from transformers)\n",
            "  Downloading huggingface_hub-0.17.3-py3-none-any.whl (295 kB)\n",
            "\u001b[2K     \u001b[90m━━━━━━━━━━━━━━━━━━━━━━━━━━━━━━━━━━━━━━\u001b[0m \u001b[32m295.0/295.0 kB\u001b[0m \u001b[31m26.6 MB/s\u001b[0m eta \u001b[36m0:00:00\u001b[0m\n",
            "\u001b[?25hRequirement already satisfied: numpy>=1.17 in /usr/local/lib/python3.10/dist-packages (from transformers) (1.23.5)\n",
            "Requirement already satisfied: packaging>=20.0 in /usr/local/lib/python3.10/dist-packages (from transformers) (23.1)\n",
            "Requirement already satisfied: pyyaml>=5.1 in /usr/local/lib/python3.10/dist-packages (from transformers) (6.0.1)\n",
            "Requirement already satisfied: regex!=2019.12.17 in /usr/local/lib/python3.10/dist-packages (from transformers) (2023.6.3)\n",
            "Requirement already satisfied: requests in /usr/local/lib/python3.10/dist-packages (from transformers) (2.31.0)\n",
            "Collecting tokenizers!=0.11.3,<0.14,>=0.11.1 (from transformers)\n",
            "  Downloading tokenizers-0.13.3-cp310-cp310-manylinux_2_17_x86_64.manylinux2014_x86_64.whl (7.8 MB)\n",
            "\u001b[2K     \u001b[90m━━━━━━━━━━━━━━━━━━━━━━━━━━━━━━━━━━━━━━━━\u001b[0m \u001b[32m7.8/7.8 MB\u001b[0m \u001b[31m107.2 MB/s\u001b[0m eta \u001b[36m0:00:00\u001b[0m\n",
            "\u001b[?25hCollecting safetensors>=0.3.1 (from transformers)\n",
            "  Downloading safetensors-0.3.3-cp310-cp310-manylinux_2_17_x86_64.manylinux2014_x86_64.whl (1.3 MB)\n",
            "\u001b[2K     \u001b[90m━━━━━━━━━━━━━━━━━━━━━━━━━━━━━━━━━━━━━━━━\u001b[0m \u001b[32m1.3/1.3 MB\u001b[0m \u001b[31m46.8 MB/s\u001b[0m eta \u001b[36m0:00:00\u001b[0m\n",
            "\u001b[?25hRequirement already satisfied: tqdm>=4.27 in /usr/local/lib/python3.10/dist-packages (from transformers) (4.66.1)\n",
            "Requirement already satisfied: fsspec in /usr/local/lib/python3.10/dist-packages (from huggingface-hub<1.0,>=0.15.1->transformers) (2023.6.0)\n",
            "Requirement already satisfied: typing-extensions>=3.7.4.3 in /usr/local/lib/python3.10/dist-packages (from huggingface-hub<1.0,>=0.15.1->transformers) (4.5.0)\n",
            "Requirement already satisfied: charset-normalizer<4,>=2 in /usr/local/lib/python3.10/dist-packages (from requests->transformers) (3.2.0)\n",
            "Requirement already satisfied: idna<4,>=2.5 in /usr/local/lib/python3.10/dist-packages (from requests->transformers) (3.4)\n",
            "Requirement already satisfied: urllib3<3,>=1.21.1 in /usr/local/lib/python3.10/dist-packages (from requests->transformers) (2.0.4)\n",
            "Requirement already satisfied: certifi>=2017.4.17 in /usr/local/lib/python3.10/dist-packages (from requests->transformers) (2023.7.22)\n",
            "Installing collected packages: tokenizers, safetensors, huggingface-hub, transformers\n",
            "Successfully installed huggingface-hub-0.17.3 safetensors-0.3.3 tokenizers-0.13.3 transformers-4.33.3\n"
          ]
        }
      ],
      "source": [
        "!pip install transformers"
      ]
    },
    {
      "cell_type": "code",
      "source": [
        "import requests\n",
        "from transformers import pipeline\n",
        "from bs4 import BeautifulSoup\n",
        "import re"
      ],
      "metadata": {
        "id": "Rxlz4sKEHxa8"
      },
      "execution_count": 2,
      "outputs": []
    },
    {
      "cell_type": "code",
      "source": [
        "# Load summarization model from HuggingFace\n",
        "summarizer = pipeline(\"summarization\")"
      ],
      "metadata": {
        "colab": {
          "base_uri": "https://localhost:8080/",
          "height": 213,
          "referenced_widgets": [
            "defa10c7da804ba78cade7522c0525ce",
            "340873ee35854559aaf79c7c93ffc6bb",
            "13843553afa5473ea910ab08a1ca07e3",
            "08366b67115a401eaaf59f0df8160732",
            "9658b1dd7ef645e693d01f957388b556",
            "440c295db5334e33a48c2f8992001563",
            "3b7b1aeddde34b3f9b9f197f8bce40ff",
            "9f42da27aa3f4a7087aadd764cac1862",
            "dda6779566f140f99faca2d2ea9c3d49",
            "acdc9e10925f4a9196b88e97e10d572b",
            "bc2ac45c11ae445c87de9be8a51e5336",
            "1dacb888c16247e4823526cd2f72cc4a",
            "bdd69d2e36a24025877c8982405308d7",
            "00821274080f4780b8b2d91294835261",
            "71b724ff53724a0da14715fb2d2a07d0",
            "b4b6849ce1454d22833315dd22a3dac8",
            "4291f14595c24a5da69befb876df6506",
            "1998d7b3236c464db92c78a707d05996",
            "501c48c74a204caa9fad00400440f666",
            "d791bf996c054686adb1baf7490c2110",
            "612d14bece31495eabace40bf3ebcfce",
            "0ffe72bf4011476ea09c130d6d31b897",
            "4c573fa412e4429a9f19fff9bb027a3b",
            "2933153b68c94518a3a507ab92742474",
            "ff681e7a8b8643f3b3cc6f1bd796899d",
            "16ce281fd3f94ffa8c23e143f52d2ace",
            "4da9a5e5fe2d4c7aa56eec53fa5158e8",
            "8b61f95100dd47c1b3aca55b40141c9c",
            "afd82808c1d24926b002c6009e23d150",
            "fa208392941140a4be870d20060a8bd4",
            "fbc4cf67153c424b83a9149ca47d7fba",
            "5b71f5dea6964746902283e4e6053299",
            "8870a5684980497582325862c4400136",
            "89199684f1f0467499a3c4a27adef705",
            "03da516bebb5470aa857bfc6462a252a",
            "a0ebab35eaa04344a8c4a2e50a03f0ea",
            "f685d35ac34a4ef0ab2b034bd9c73682",
            "a4fa2b202f5e4509be48e22e993bca63",
            "a3af7271191e4d77ad48ac792ec8170d",
            "b3f89c0a806b4001a95c221a6d1ef7f0",
            "a5b716462a334e39bc9fa5f3686f0dff",
            "c801ce8525924c7db357d65d2cbcb5a2",
            "a37240492629436496840a957b3dc7fd",
            "90ef5ac8c89d4c0098230634c915d436",
            "b57f5e2aae394b64a81f629bf85994fc",
            "4773ab84348e4db487b35a94bc117712",
            "8a73898503e84ba4bd2e3a7b9914cc7f",
            "82c7bd57f5af4b5e92e563dde769e9c7",
            "7075c591792343e7a93b15cece7062a5",
            "5d50480a7f0c4e108400f667e210eee8",
            "572cb77dbd2d40a4907f7c566bff6e72",
            "642c5927570e4c7cbd14090249ff0094",
            "66fad061dbf34f47a8bf4e3935e3270b",
            "1f7840cb4093477bacc8de215885f03b",
            "5bb3e8c643cd486599495b9168927759"
          ]
        },
        "id": "yQHQuGmjIC2A",
        "outputId": "da1f0395-af5a-4fdc-aa32-c37da30bc0d1"
      },
      "execution_count": 3,
      "outputs": [
        {
          "output_type": "stream",
          "name": "stderr",
          "text": [
            "No model was supplied, defaulted to sshleifer/distilbart-cnn-12-6 and revision a4f8f3e (https://huggingface.co/sshleifer/distilbart-cnn-12-6).\n",
            "Using a pipeline without specifying a model name and revision in production is not recommended.\n"
          ]
        },
        {
          "output_type": "display_data",
          "data": {
            "text/plain": [
              "Downloading (…)lve/main/config.json:   0%|          | 0.00/1.80k [00:00<?, ?B/s]"
            ],
            "application/vnd.jupyter.widget-view+json": {
              "version_major": 2,
              "version_minor": 0,
              "model_id": "defa10c7da804ba78cade7522c0525ce"
            }
          },
          "metadata": {}
        },
        {
          "output_type": "display_data",
          "data": {
            "text/plain": [
              "Downloading pytorch_model.bin:   0%|          | 0.00/1.22G [00:00<?, ?B/s]"
            ],
            "application/vnd.jupyter.widget-view+json": {
              "version_major": 2,
              "version_minor": 0,
              "model_id": "1dacb888c16247e4823526cd2f72cc4a"
            }
          },
          "metadata": {}
        },
        {
          "output_type": "display_data",
          "data": {
            "text/plain": [
              "Downloading (…)okenizer_config.json:   0%|          | 0.00/26.0 [00:00<?, ?B/s]"
            ],
            "application/vnd.jupyter.widget-view+json": {
              "version_major": 2,
              "version_minor": 0,
              "model_id": "4c573fa412e4429a9f19fff9bb027a3b"
            }
          },
          "metadata": {}
        },
        {
          "output_type": "display_data",
          "data": {
            "text/plain": [
              "Downloading (…)olve/main/vocab.json:   0%|          | 0.00/899k [00:00<?, ?B/s]"
            ],
            "application/vnd.jupyter.widget-view+json": {
              "version_major": 2,
              "version_minor": 0,
              "model_id": "89199684f1f0467499a3c4a27adef705"
            }
          },
          "metadata": {}
        },
        {
          "output_type": "display_data",
          "data": {
            "text/plain": [
              "Downloading (…)olve/main/merges.txt:   0%|          | 0.00/456k [00:00<?, ?B/s]"
            ],
            "application/vnd.jupyter.widget-view+json": {
              "version_major": 2,
              "version_minor": 0,
              "model_id": "b57f5e2aae394b64a81f629bf85994fc"
            }
          },
          "metadata": {}
        }
      ]
    },
    {
      "cell_type": "markdown",
      "source": [
        "Get text from web page"
      ],
      "metadata": {
        "id": "Z_KOgPH5IuyL"
      }
    },
    {
      "cell_type": "code",
      "source": [
        "from datetime import datetime\n",
        "def search_urls_space_news():\n",
        "  day = int(datetime.now().day)\n",
        "  month= int(datetime.now().month)\n",
        "  year = int(datetime.now().year)\n",
        "\n",
        "  URL = f\"https://www.google.com/search?q=space.com+latest+news&tbm=nws\"\n",
        "  print(URL)\n",
        "  r = requests.get(URL)\n",
        "  soup = BeautifulSoup(r.text, 'html.parser')\n",
        "  atags = soup.find_all(['a'])\n",
        "  hrefs = [link['href'] for link in atags]\n",
        "  return hrefs\n"
      ],
      "metadata": {
        "id": "h41uwggT4OK7"
      },
      "execution_count": 4,
      "outputs": []
    },
    {
      "cell_type": "code",
      "source": [
        "hrefs = search_urls_space_news()"
      ],
      "metadata": {
        "id": "y2MFVbQ4IuhT",
        "colab": {
          "base_uri": "https://localhost:8080/"
        },
        "outputId": "48a2adc8-7105-4da6-ed57-0f0a8e2cc74c"
      },
      "execution_count": 5,
      "outputs": [
        {
          "output_type": "stream",
          "name": "stdout",
          "text": [
            "https://www.google.com/search?q=space.com+latest+news&tbm=nws\n"
          ]
        }
      ]
    },
    {
      "cell_type": "code",
      "source": [
        "print(hrefs)"
      ],
      "metadata": {
        "colab": {
          "base_uri": "https://localhost:8080/"
        },
        "id": "8NU80p8yWBA8",
        "outputId": "d7f59bea-e956-499b-863f-29ba9105befd"
      },
      "execution_count": 6,
      "outputs": [
        {
          "output_type": "stream",
          "name": "stdout",
          "text": [
            "['/?sa=X&ved=0ahUKEwju8qbilNOBAxWTm2oFHZIyBcAQOwgC', '/search?q=space.com+latest+news&tbm=nws&sca_esv=569753216&ie=UTF-8&gbv=1&sei=e4MYZa7JOJO3qtsPkuWUgAw', '/search?q=space.com+latest+news&sca_esv=569753216&ie=UTF-8&source=lnms&sa=X&ved=0ahUKEwju8qbilNOBAxWTm2oFHZIyBcAQ_AUIBSgA', '/search?q=space.com+latest+news&sca_esv=569753216&ie=UTF-8&tbm=isch&source=lnms&sa=X&ved=0ahUKEwju8qbilNOBAxWTm2oFHZIyBcAQ_AUIBygC', '/search?q=space.com+latest+news&sca_esv=569753216&ie=UTF-8&tbm=vid&source=lnms&sa=X&ved=0ahUKEwju8qbilNOBAxWTm2oFHZIyBcAQ_AUICCgD', 'https://maps.google.com/maps?q=space.com+latest+news&um=1&ie=UTF-8&sa=X&ved=0ahUKEwju8qbilNOBAxWTm2oFHZIyBcAQ_AUICSgE', '/search?q=space.com+latest+news&sca_esv=569753216&ie=UTF-8&tbm=shop&source=lnms&sa=X&ved=0ahUKEwju8qbilNOBAxWTm2oFHZIyBcAQ_AUICigF', '/search?q=space.com+latest+news&sca_esv=569753216&ie=UTF-8&tbm=bks&source=lnms&sa=X&ved=0ahUKEwju8qbilNOBAxWTm2oFHZIyBcAQ_AUICygG', '/advanced_search', '/search?q=space.com+latest+news&sca_esv=569753216&ie=UTF-8&tbm=nws&source=lnt&tbs=qdr:h&sa=X&ved=0ahUKEwju8qbilNOBAxWTm2oFHZIyBcAQpwUIDQ', '/search?q=space.com+latest+news&sca_esv=569753216&ie=UTF-8&tbm=nws&source=lnt&tbs=qdr:d&sa=X&ved=0ahUKEwju8qbilNOBAxWTm2oFHZIyBcAQpwUIDg', '/search?q=space.com+latest+news&sca_esv=569753216&ie=UTF-8&tbm=nws&source=lnt&tbs=qdr:w&sa=X&ved=0ahUKEwju8qbilNOBAxWTm2oFHZIyBcAQpwUIDw', '/search?q=space.com+latest+news&sca_esv=569753216&ie=UTF-8&tbm=nws&source=lnt&tbs=qdr:m&sa=X&ved=0ahUKEwju8qbilNOBAxWTm2oFHZIyBcAQpwUIEA', '/search?q=space.com+latest+news&sca_esv=569753216&ie=UTF-8&tbm=nws&source=lnt&tbs=qdr:y&sa=X&ved=0ahUKEwju8qbilNOBAxWTm2oFHZIyBcAQpwUIEQ', '/search?q=space.com+latest+news&sca_esv=569753216&ie=UTF-8&tbm=nws&source=lnt&tbs=ar:1&sa=X&ved=0ahUKEwju8qbilNOBAxWTm2oFHZIyBcAQpwUIEg', '/search?q=space.com+latest+news&sca_esv=569753216&ie=UTF-8&tbm=nws&source=lnt&tbs=sbd:1&sa=X&ved=0ahUKEwju8qbilNOBAxWTm2oFHZIyBcAQpwUIFA', '/url?q=https://www.space.com/harvest-full-moon-will-illuminate-the-sky-on-september-29&sa=U&ved=2ahUKEwju8qbilNOBAxWTm2oFHZIyBcAQxfQBegQIAxAC&usg=AOvVaw3wmUI4sDuX-ynfDkqlX7-A', '/url?q=https://www.space.com/spacex-launch-psyche-asteroid-mission-one-week&sa=U&ved=2ahUKEwju8qbilNOBAxWTm2oFHZIyBcAQxfQBegQICRAC&usg=AOvVaw1JjhQdyzWl8_xgMK3k8jTs', '/url?q=https://www.space.com/osiris-rex-asteroid-sample-caniser-lid-lifted-photos&sa=U&ved=2ahUKEwju8qbilNOBAxWTm2oFHZIyBcAQxfQBegQIAhAC&usg=AOvVaw09gttVuLjJk-3Kysc3p0cu', '/url?q=https://www.tweaktown.com/news/93488/scientists-gasped-after-they-opened-the-lid-of-nasas-asteroid-sample-capsule/index.html&sa=U&ved=2ahUKEwju8qbilNOBAxWTm2oFHZIyBcAQxfQBegQIBRAC&usg=AOvVaw0E5c44C2dsHjADsaUUUNcY', '/url?q=https://www.space.com/spacex-starlink-launch-group-6-19&sa=U&ved=2ahUKEwju8qbilNOBAxWTm2oFHZIyBcAQxfQBegQICBAC&usg=AOvVaw1QyQUZS2vHXycpqFdH_XTJ', '/url?q=https://www.space.com/historic-donut-black-hole-is-spinning-new-study-finds&sa=U&ved=2ahUKEwju8qbilNOBAxWTm2oFHZIyBcAQxfQBegQIBBAC&usg=AOvVaw3u0GDpDOzcF4xdINNW1yo0', '/url?q=https://www.space.com/mars-rover-perseverance-dust-devil-august-2023&sa=U&ved=2ahUKEwju8qbilNOBAxWTm2oFHZIyBcAQxfQBegQIABAC&usg=AOvVaw2bqwmfK6LbUJ8f0AULJtr8', '/url?q=https://www.space.com/iran-launches-noor-3-imaging-satellite-september-2023&sa=U&ved=2ahUKEwju8qbilNOBAxWTm2oFHZIyBcAQxfQBegQIBxAC&usg=AOvVaw1-GdGHjBFD-8RVcBbmiCeY', '/url?q=https://www.space.com/james-webb-space-telescope-evolved-galaxy-early-universe&sa=U&ved=2ahUKEwju8qbilNOBAxWTm2oFHZIyBcAQxfQBegQIARAC&usg=AOvVaw2YkN8GwwzW6tHDvOa2bOKb', '/url?q=https://www.space.com/gravity-affects-matter-antimatter-similarly&sa=U&ved=2ahUKEwju8qbilNOBAxWTm2oFHZIyBcAQxfQBegQIBhAC&usg=AOvVaw0ZT92Ik7R_kAfYUi25zrui', '/search?q=space.com+latest+news&sca_esv=569753216&ie=UTF-8&tbm=nws&ei=e4MYZa7JOJO3qtsPkuWUgAw&start=10&sa=N', '/url?q=https://support.google.com/websearch%3Fp%3Dws_settings_location%26hl%3Den&opi=89978449&sa=U&ved=0ahUKEwju8qbilNOBAxWTm2oFHZIyBcAQty4IUw&usg=AOvVaw0FspIGd7yOrokksaQEJmFw', '/url?q=https://accounts.google.com/ServiceLogin%3Fcontinue%3Dhttps://www.google.com/search%253Fq%253Dspace.com%252Blatest%252Bnews%2526tbm%253Dnws%26hl%3Den&opi=89978449&sa=U&ved=0ahUKEwju8qbilNOBAxWTm2oFHZIyBcAQxs8CCFQ&usg=AOvVaw3M_5vc-arBj0eUJJCDWh3D', 'https://www.google.com/preferences?hl=en&fg=1&sa=X&ved=0ahUKEwju8qbilNOBAxWTm2oFHZIyBcAQ5fUCCFU', 'https://policies.google.com/privacy?hl=en&fg=1', 'https://policies.google.com/terms?hl=en&fg=1', '/setprefs?hl=en&prev=https://www.google.com/search?q%3Dspace.com%2Blatest%2Bnews%26tbm%3Dnws%26pccc%3D1&sig=0_4yJsoWA3gJx1g98aWe2qltRswyk%3D&cs=2&sa=X&ved=0ahUKEwju8qbilNOBAxWTm2oFHZIyBcAQjcAJCFY']\n"
          ]
        }
      ]
    },
    {
      "cell_type": "code",
      "source": [
        "exclude_list = ['maps', 'policies', 'preferences', 'accounts', 'support']"
      ],
      "metadata": {
        "id": "pNwMlDrpKAmM"
      },
      "execution_count": 7,
      "outputs": []
    },
    {
      "cell_type": "code",
      "source": [
        "def strip_unwanted_urls(urls, exclude_list):\n",
        "    val = []\n",
        "    for url in urls:\n",
        "        if 'https://' in url and not any(exclude_word in url for exclude_word in exclude_list):\n",
        "            res = re.findall(r'(https?://\\S+)', url)[0].split('&')[0]\n",
        "            val.append(res)\n",
        "    return list(set(val))"
      ],
      "metadata": {
        "id": "6-9Wn4jv-wH_"
      },
      "execution_count": 8,
      "outputs": []
    },
    {
      "cell_type": "code",
      "source": [
        "cleaned_urls = strip_unwanted_urls(hrefs, exclude_list)\n",
        "cleaned_urls"
      ],
      "metadata": {
        "colab": {
          "base_uri": "https://localhost:8080/"
        },
        "id": "vB7-BDxp-1jA",
        "outputId": "47afedcd-6df7-4777-f3a9-c6b684f1ae4a"
      },
      "execution_count": 9,
      "outputs": [
        {
          "output_type": "execute_result",
          "data": {
            "text/plain": [
              "['https://www.space.com/gravity-affects-matter-antimatter-similarly',\n",
              " 'https://www.google.com/search?q%3Dspace.com%2Blatest%2Bnews%26tbm%3Dnws%26pccc%3D1',\n",
              " 'https://www.space.com/historic-donut-black-hole-is-spinning-new-study-finds',\n",
              " 'https://www.space.com/spacex-starlink-launch-group-6-19',\n",
              " 'https://www.space.com/osiris-rex-asteroid-sample-caniser-lid-lifted-photos',\n",
              " 'https://www.space.com/mars-rover-perseverance-dust-devil-august-2023',\n",
              " 'https://www.space.com/harvest-full-moon-will-illuminate-the-sky-on-september-29',\n",
              " 'https://www.space.com/spacex-launch-psyche-asteroid-mission-one-week',\n",
              " 'https://www.space.com/james-webb-space-telescope-evolved-galaxy-early-universe',\n",
              " 'https://www.space.com/iran-launches-noor-3-imaging-satellite-september-2023',\n",
              " 'https://www.tweaktown.com/news/93488/scientists-gasped-after-they-opened-the-lid-of-nasas-asteroid-sample-capsule/index.html']"
            ]
          },
          "metadata": {},
          "execution_count": 9
        }
      ]
    },
    {
      "cell_type": "code",
      "source": [
        "def get_text_from_urls(urls):\n",
        "  articles = []\n",
        "  titles = []\n",
        "  for url in urls:\n",
        "    headers = {'User-Agent': 'Mozilla/5.0'}\n",
        "    cookies = {\"CONSENT\": \"YES+cb.20210720-07-p0.en+FX+410\"}\n",
        "    r = requests.get(url, headers=headers, cookies=cookies)\n",
        "    if r.status_code != 200:\n",
        "      continue\n",
        "\n",
        "    soup = BeautifulSoup(r.text, 'html.parser')\n",
        "    paragraphs = soup.find_all(['p'])\n",
        "    text = [paragraph.text for paragraph in paragraphs]\n",
        "    # words = ' '.join(text)\n",
        "    article = ' '.join(text)\n",
        "    article = article.rstrip()\n",
        "\n",
        "    # Minimal number of symbols in article, prevent returning cookies or terms error\n",
        "    if len(article) < 200:\n",
        "      continue\n",
        "\n",
        "    articles.append(article)\n",
        "    url_h1_tags = soup.find_all(['h1'])\n",
        "    url_titles = [title.text.strip() for title in url_h1_tags]\n",
        "    titles.append(url_titles)\n",
        "\n",
        "  return titles, articles"
      ],
      "metadata": {
        "id": "m5lSLQSQA2x_"
      },
      "execution_count": 10,
      "outputs": []
    },
    {
      "cell_type": "code",
      "source": [
        "titles, articles = get_text_from_urls(cleaned_urls)"
      ],
      "metadata": {
        "id": "-mw2wsaTDdYv"
      },
      "execution_count": 11,
      "outputs": []
    },
    {
      "cell_type": "code",
      "source": [
        "articles[1]"
      ],
      "metadata": {
        "colab": {
          "base_uri": "https://localhost:8080/",
          "height": 145
        },
        "id": "x9BByISMDnO3",
        "outputId": "f1e75755-0a9a-4718-bca3-2882c95534eb"
      },
      "execution_count": 12,
      "outputs": [
        {
          "output_type": "execute_result",
          "data": {
            "text/plain": [
              "'When you purchase through links on our site, we may earn an affiliate commission. Here’s how it works. The historic \\'donut\\' black hole M87* is, in fact, spinning. The supermassive black hole M87*, which rose to fame in 2019 when it became the first void to be imaged and revealed a fuzzy orange donut (then later sharpened by AI into a skinny ring), is now confirmed to be spinning. The announcement of this update came on Wednesday (Sept. 27). However, as to how fast M87* is spinning? That\\'s not yet known. For two decades, a network of radio telescopes have been eyeing the black hole, which resides in the heart of the Messier 87 (M87) galaxy about 55 million light-years away from Earth in the constellation Virgo. These instruments have been especially intrigued by a powerful jet of radiation and particles blasting from the black hole\\'s poles, and according to new results, that relativistic jet appears to be swinging like a pendulum on a 11-year cycle. Scientists say this is because of gravitational interactions between the spinning black hole, which is thought to be some 6.5 billion times more massive than the sun, and the disk of material around it, providing \"unequivocal evidence\" for the black hole\\'s spin. \"We are thrilled by this significant finding,\" Cui Yuzhu, who is a researcher at Zhejiang Lab in China and the lead author of the new study, said in a statement. To sniff out the 11-year swing period of the jet, Yuzhu explains the team had to accumulate high-resolution data tracing M87\\'s structure over two decades and conduct a thorough analysis to obtain the key information. Related: Astronomers snap 1st-ever direct image of a black hole blasting out a powerful jet The jet changes its directions by roughly 10 degrees once every 11 years, according to the new study. The results are also consistent with theoretical supercomputer simulations and will help shed light on how black holes form and evolve into the monstrous beasts we see them as all across the universe, scientists say. In 2019, astronomers had spotted wobbling jets escaping from a black hole much closer to us, about 8,000 light-years from Earth. Those jets swung over time periods of just a few minutes, which, to date, marks the most rapid oscillations of this kind observed by astronomers. Comparatively, the latest findings show M87\\'s black hole jets follow a much longer timeframe. However, they are still consistent with theoretical predictions made by Einstein in his landmark theory of general relativity.\\xa0 According to this theory, the spinning black hole is so massive that it pulls the surrounding fabric of space and time inward in what\\'s called frame-dragging. Specifically, the effect comes to light with the team\\'s new study because the spin axis of a black hole is not perfectly aligned with the rotation axis of the surrounding accretion disk from which the black hole sucks stellar material. This triggers the black hole\\'s jets to wobble ever so slightly, which was what was measured in the new study. —\\xa0Milky Way vs M87: Event Horizon Telescope photos show 2 very different monster black holes —\\xa0Astronomers may have discovered the closest black holes to Earth —\\xa0Black holes keep \\'burping up\\' stars they destroyed years earlier, and astronomers don\\'t know why The specific processes that cause black holes to spin are not very well understood. A leading theory suggests smaller black holes form by feeding on star matter through an accretion disk, which causes them to spin rapidly. Over eons, they are thought to collide and eventually merge to form supermassive black holes.\\xa0 These second generation black holes are expected to spin slower compared to their younger counterparts. To really confirm the hypothesis, researchers need to study spin rates of black holes sporting different sizes, and the latest study could be a step in that direction. This research was described in a paper published Wednesday (Sept. 27) in the journal Nature. Join our Space Forums to keep talking space on the latest missions, night sky and more! And if you have a news tip, correction or comment, let us know at: community@space.com. Breaking space news, the latest updates on rocket launches, skywatching events and more! Sharmila is a Seattle-based science journalist. She found her love for astronomy in Carl Sagan\\'s The Pale Blue Dot and has been hooked ever since. She holds an MA in Journalism from Northeastern University and has been a contributing writer for Astronomy Magazine since 2017. Follow her on Twitter at @skuthunur. See green comet Nishimura\\'s tail get whipped away by powerful solar storm as it slingshots around the sun (video) Time-lapse video shows a supernova\\'s aftermath ballooning into space Watch a dust devil swirl across Mars in this video from NASA\\'s Perseverance rover By Brett TingleySeptember 29, 2023 By Andrew JonesSeptember 28, 2023 By Keith CooperSeptember 28, 2023 By Andrew JonesSeptember 28, 2023 By John LoefflerSeptember 28, 2023 By Mike WallSeptember 28, 2023 By John LoefflerSeptember 28, 2023 By Andrew JonesSeptember 28, 2023 By Keith CooperSeptember 28, 2023 By Jamie CarterSeptember 28, 2023 By Elizabeth HowellSeptember 28, 2023 Space is part of Future US Inc, an international media group and leading digital publisher. Visit our corporate site. ©\\nFuture US, Inc. Full 7th Floor, 130 West 42nd Street,\\nNew York,\\nNY 10036.'"
            ],
            "application/vnd.google.colaboratory.intrinsic+json": {
              "type": "string"
            }
          },
          "metadata": {},
          "execution_count": 12
        }
      ]
    },
    {
      "cell_type": "markdown",
      "source": [
        "Split text from the article into chunks"
      ],
      "metadata": {
        "id": "hRBcXsatO6uv"
      }
    },
    {
      "cell_type": "code",
      "source": [
        "sentences = []\n",
        "for i, article in enumerate(articles):\n",
        "  article = article.replace('.', '.<eos>')\n",
        "  article = article.replace('!', '!<eos>')\n",
        "  article = article.replace('?', '?<eos>')\n",
        "  sentences.append(article.split('<eos>'))"
      ],
      "metadata": {
        "id": "slU8XuUEOFRC"
      },
      "execution_count": 13,
      "outputs": []
    },
    {
      "cell_type": "code",
      "source": [
        "max_tokens_chunk = 500\n",
        "chunks = []\n",
        "\n",
        "for i, article_sentences in enumerate(sentences):\n",
        "  chunks.append([])\n",
        "  current_chunk = 0\n",
        "  for sentence in article_sentences:\n",
        "    if len(chunks[i]) == current_chunk + 1:\n",
        "      if len(chunks[i][current_chunk]) + len(sentence.split(' ')) <= max_tokens_chunk:\n",
        "        chunks[i][current_chunk].extend(sentence.split(' '))\n",
        "      else:\n",
        "        current_chunk += 1\n",
        "        chunks[i].append(sentence.split(' '))\n",
        "    else:\n",
        "      print(current_chunk)\n",
        "      chunks[i].append(sentence.split(' '))"
      ],
      "metadata": {
        "id": "tbFferXePJXr",
        "colab": {
          "base_uri": "https://localhost:8080/"
        },
        "outputId": "15d04f0f-796f-4f36-fbe8-c399d5301e0b"
      },
      "execution_count": 14,
      "outputs": [
        {
          "output_type": "stream",
          "name": "stdout",
          "text": [
            "0\n",
            "0\n",
            "0\n",
            "0\n",
            "0\n",
            "0\n",
            "0\n",
            "0\n",
            "0\n",
            "0\n"
          ]
        }
      ]
    },
    {
      "cell_type": "code",
      "source": [
        "joined_chunks = []\n",
        "\n",
        "for i, article_chunks in enumerate(chunks):\n",
        "    article_text = []\n",
        "\n",
        "    for chunk_id in range(len(article_chunks)):\n",
        "        article_text.append(' '.join(article_chunks[chunk_id]))\n",
        "\n",
        "    joined_chunks.append(article_text)"
      ],
      "metadata": {
        "id": "4MhGAWlYT54d"
      },
      "execution_count": 15,
      "outputs": []
    },
    {
      "cell_type": "code",
      "source": [
        "joined_chunks[0][1]"
      ],
      "metadata": {
        "id": "7ksaft-IU0dn",
        "colab": {
          "base_uri": "https://localhost:8080/",
          "height": 145
        },
        "outputId": "2116eda3-d9ca-4dff-937b-3a5eba46d6d3"
      },
      "execution_count": 16,
      "outputs": [
        {
          "output_type": "execute_result",
          "data": {
            "text/plain": [
              "' According to the new study, that conclusively demonstrated that gravity causes the antihydrogen to fall downward.  \"This gives us a powerful experimental knob that allows us, basically, to believe the experiment actually worked because we can prove to ourselves that we can control the experiment in a predictable manner,\" Joel Fajans, a physics professor at UC Berkeley and a co-author of the new study, said in the statement.  The team also found that the gravitational acceleration of antihydrogen was close to that of normal matter, which is 9. 8 meters (32 feet) per second squared.  That result is expected to hold true for other antimatter particles too, researchers say. \\xa0 \"It would be doubly surprising if this was not true (first, that something fell up, and second that there was a difference with antihydrogen),\" Fajans told Space. com in an email.  However, though the latest findings rule out theories that posit antimatter is repelled by gravity, only more precise measurements will tell if there is any difference in the gravitational force on antimatter compared to matter.  Nonetheless, by achieving the first direct observation of gravitational effects on antihydrogen, researchers mark the beginning of detailed and direct pursuit of the gravitational nature of antimatter, which remains puzzlingly scarce in the universe.  That is still an open question.  During the Big Bang, the universe is believed to have been rich with pairs of matter and antimatter particles, with the latter considered matter\\'s mirror as its particles sport the same mass except for an opposite electrical charge.  If matter and antimatter particles come into contact, they wipe out each other in a violent flash that leaves behind pure energy, so matter and antimatter particles are always created and destroyed in pairs. \\xa0 —\\xa0How the antimatter-hunting Alpha Magnetic Spectrometer works (infographic) —\\xa0How much of the universe is dark matter?  —\\xa0Stars made of antimatter could exist in the Milky Way\\xa0 In theory, that means the universe should feature nothing but leftover energy, at least according to the Standard Model of particle physics that outlines our current best understanding of how fundamental particles behave under those four aforementioned forces.  But, that symmetry was broken down sometime during the evolution of the universe such that we clearly see matter dominating the observable universe.  This is simply beyond what the Standard Model can explain.  Thus, the processes that tipped the scales such that so little antimatter was left behind remain yet unknown.  \"Unfortunately since our answers are consistent with general relativity, they do not shine any light on the scarcity of antimatter,\" Fajans told Space. com in an email.  Fajans added that he anticipates the precision of the current experiment can be improved by a factor of 100 in the future.  \"This may lead to something new but of course we have no idea yet if that is to be the case.'"
            ],
            "application/vnd.google.colaboratory.intrinsic+json": {
              "type": "string"
            }
          },
          "metadata": {},
          "execution_count": 16
        }
      ]
    },
    {
      "cell_type": "markdown",
      "source": [
        "Summarize all chunks"
      ],
      "metadata": {
        "id": "fh8o1xD9ke6p"
      }
    },
    {
      "cell_type": "code",
      "source": [
        "def summarize_chunks(chunks):\n",
        "  summarized_texts = []\n",
        "  for article_chunks in chunks:\n",
        "    print(len(article_chunks))\n",
        "    article_text = []\n",
        "    result = summarizer(article_chunks, max_length=120, min_length=30, do_sample=False)\n",
        "    article_text = ' '.join([summ['summary_text'] for summ in result])\n",
        "    summarized_texts.append(article_text)\n",
        "  return summarized_texts"
      ],
      "metadata": {
        "id": "EV02OsMTmPfb"
      },
      "execution_count": 17,
      "outputs": []
    },
    {
      "cell_type": "code",
      "source": [
        "summarized_texts = summarize_chunks(joined_chunks)"
      ],
      "metadata": {
        "id": "zTsWXi5opIvm",
        "colab": {
          "base_uri": "https://localhost:8080/"
        },
        "outputId": "5b053b8f-93c6-4eca-bb9e-f8c5864e5b88"
      },
      "execution_count": 18,
      "outputs": [
        {
          "output_type": "stream",
          "name": "stdout",
          "text": [
            "3\n",
            "2\n",
            "2\n",
            "2\n",
            "2\n",
            "3\n",
            "2\n",
            "3\n"
          ]
        },
        {
          "output_type": "stream",
          "name": "stderr",
          "text": [
            "Your max_length is set to 120, but your input_length is only 24. Since this is a summarization task, where outputs shorter than the input are typically wanted, you might consider decreasing max_length manually, e.g. summarizer('...', max_length=12)\n"
          ]
        },
        {
          "output_type": "stream",
          "name": "stdout",
          "text": [
            "2\n",
            "1\n"
          ]
        }
      ]
    },
    {
      "cell_type": "code",
      "source": [
        "summarized_texts[-1]"
      ],
      "metadata": {
        "id": "4PuFpGPz4pkS",
        "colab": {
          "base_uri": "https://localhost:8080/",
          "height": 72
        },
        "outputId": "277147de-7c5b-45ed-c300-c2bec00d29d0"
      },
      "execution_count": 19,
      "outputs": [
        {
          "output_type": "execute_result",
          "data": {
            "text/plain": [
              "\" OSIRIS-REx landed asteroid samples for the very first time back on Earth this week . The container containing the samples was immediately transported to NASA's Johnson Space Center in Houston, Texas, and has now been cracked open . NASA will reveal the sample to the world via a livestream scheduled for 11 a.m. ET on October 11 .\""
            ],
            "application/vnd.google.colaboratory.intrinsic+json": {
              "type": "string"
            }
          },
          "metadata": {},
          "execution_count": 19
        }
      ]
    },
    {
      "cell_type": "code",
      "source": [
        "merge_phrases = [\"Now, let's shift our focus to: \",\n",
        "\"Moving on to another intriguing development in space exploration:\",\n",
        "\"Switching gears, let's delve into: \",\n",
        "\"Turning our attention to a different aspect of space science: \",\n",
        "\"Next up on our cosmic journey: \",\n",
        "\"Shifting our gaze to a separate celestial event: \",\n",
        "\"Now, let's explore another celestial headline: \",\n",
        "\"Transitioning to a different corner of the universe: \",\n",
        "\"Moving forward, let's discuss: \",\n",
        "\"Steering our spacecraft of knowledge toward: \",\n",
        "\"Now, in a different part of the cosmos: \",\n",
        "\"Switching our telescopes to a new cosmic phenomenon: \",\n",
        "\"Changing our trajectory to focus on: \",\n",
        "\"Stepping into another dimension of space news: \",\n",
        "\"Now, as we orbit to the next topic: \",\n",
        "\"Zooming in on a separate celestial occurrence: \",\n",
        "\"Leaving our previous topic behind, let's explore: \",\n",
        "\"Pivoting to a fresh cosmic revelation: \",\n",
        "\"Our journey through the universe continues with: \",\n",
        "\"Now, let's set our sights on: \"]\n",
        "\n",
        "all_summarized_text = \"\"\n",
        "for i, summarized_text in enumerate(summarized_texts):\n",
        "  all_summarized_text = all_summarized_text + \"... \" + f\"{merge_phrases[i%(len(merge_phrases))]}\" + summarized_text"
      ],
      "metadata": {
        "id": "lu3bra8U4sLj"
      },
      "execution_count": 40,
      "outputs": []
    },
    {
      "cell_type": "code",
      "source": [
        "all_summarized_text"
      ],
      "metadata": {
        "id": "i24pAUPAynwW",
        "colab": {
          "base_uri": "https://localhost:8080/",
          "height": 838
        },
        "outputId": "3ad8ab61-614c-4990-9d4a-2ee6d99e767d"
      },
      "execution_count": 41,
      "outputs": [
        {
          "output_type": "execute_result",
          "data": {
            "text/plain": [
              "'... Now, let\\'s shift our focus to:  An international team of physicists reported a major finding about an elusive form of matter known as antimatter . It appears that antimatter responds to gravity the same way regular matter does . This result marks the first-ever direct observation of free-falling antimatter, in which atoms are made of antiprotons instead of protons and antielectrons .  Antihydrogen\\'s gravitational acceleration is close to that of normal matter, researchers say . The gravitational acceleration of antihydrogen is 9. 8 meters (32 feet) per second squared squared . That result is expected to hold true for other antimatter particles too, UC Berkeley scientists say . Researchers mark the beginning of detailed and direct pursuit of the gravitational nature of antimatter .  The findings were published by the Antihydrogen Laser Physics Apparatus (ALPHA) collaboration at CERN on Wednesday (Sept. 27) in the journal Nature . Most would say it is unlikely, but still worth pursuing .... Moving on to another intriguing development in space exploration: Supermassive black hole M87* is now confirmed to be spinning, according to a new study . A powerful jet of radiation and particles from the black hole\\'s poles appears to be swinging like a pendulum on a 11-year cycle . Scientists say this is because of gravitational interactions between the spinning black hole, which is 6.5 billion times more massive than the sun, and the disk of material around it .  The specific processes that cause black holes to spin are not very well understood . A leading theory suggests smaller black holes form by feeding on star matter through an accretion disk, which causes them to spin rapidly . Over eons, they are thought to collide and eventually merge to form supermassive black holes .... Switching gears, let\\'s delve into:  A SpaceX Falcon 9 rocket launched 22 Starlink satellites from Florida\\'s Space Coast Friday evening . The Falcon 9\\'s first stage returned to Earth for a vertical landing on a SpaceX drone ship at sea . It was the 10th liftoff and landing for this Falcon 9 first stage, according to mission description .  12 Watch a dust devil swirl across Mars in this video from NASA\\'s Perseverance rover . NASA: Watch a video of the dust devil swirling across the planet . Watch a series of images of the Martian dust devil .... Turning our attention to a different aspect of space science:  Scientists at NASA\\'s Johnson Space Center in Houston lifted the OSIRIS-REx asteroid canister\\'s outer lid on Tuesday (Sept. 26) \"Scientists gasped as the lid was lifted,\" NASA\\'s Astromaterials Research and Exploration Science division, which is based at JSC, wrote Tuesday in a post on X . The operation revealed \"dark powder and sand-sized particles on the inside of the lid and base\" The asteroid material landed in Utah on Sunday and made its way to Houston by plane on Monday .  Michael Wall is a Senior Space Writer with Space. com and joined the team in 2010 . He primarily covers exoplanets, spaceflight and military space . His book about the search for alien life, \"Out There,\" was published on Nov. 13, 2018 .... Next up on our cosmic journey:  NASA\\'s Perseverance rover captured video of a dust devil swirling on the western rim of Mars\\' Jezero Crater on Aug. 30, 2023 . The twister was about 2. 5 miles (4 kilometers) from the rover at the time and moving east to west at about 12 mph (19 kph) The dust devil was roughly 200 feet (60 meters) wide and measured at about 1. 2 miles (2 km) in height .  Michael Wall is a Senior Space Writer with Space. com and joined the team in 2010 . He primarily covers exoplanets, spaceflight and military space . His book about the search for alien life, \"Out There,\" was published on Nov. 13, 2018 .... Shifting our gaze to a separate celestial event:  This Friday’s full moon will be a somewhat special one in that it will carry the title of \"Harvest Moon\" The moon will turn full when it reaches a spot in the sky opposite (180-degrees) to the sun . The Harvest Moon is the one that comes closest to the September equinox . This Harvest Moon will also mark the last of four so-called \"supermoons\" in a row .  The ecliptic makes its smallest angle with respect to the horizon for those living in the Northern Hemisphere . For those living near the Arctic Circle, the moon appears to rise about the same time each night during the Harvest Moon\\'s reign . In Melbourne, Australia, for instance, the night-to-night difference amounts to 75 minutes .  Joe Rao serves as an instructor and guest lecturer at New York\\'s Hayden Planetarium . Joe is an 8-time Emmy-nominated meteorologist who served the Putnam Valley region of New York for over 21 years . You can find him on Twitter and YouTube tracking lunar and solar eclipses, meteor showers and more .... Now, let\\'s explore another celestial headline:  The launch window for NASA\\'s Psyche asteroid probe has been extended to Oct. 25 . The mission was originally supposed to launch last year, but it was pushed back after problems were discovered with the spacecraft\\'s flight software . It will be the eighth mission overall for the powerful Falcon Heavy rocket, which debuted in February 2018 .  Michael Wall is a Senior Space Writer with Space.com and joined the team in 2010 . He primarily covers exoplanets, spaceflight and military space, but has been known to dabble in the space art beat . Before becoming a science writer, he worked as a herpetologist and wildlife biologist .... Transitioning to a different corner of the universe:  Astronomers have long thought that newly minted galaxies that began merging together just after the Big Bang, about 13. 7 billion years ago, were too fragile to boast any noticeable structures like spiral arms, bars or rings . The new findings were based on an analysis of 3,956 galaxies, which astronomers say is the biggest sample that has been studied with JWST data .  James Webb Space Telescope could detect life on Earth from across the galaxy, new study suggests . The findings suggest a need for new ideas that explain how galaxies evolved over the past 10 billion years . The research is described in a paper published Sept. 22 in The Astrophysical Journal .  130 West 42nd Street, New York, NY 10036.   Full 7th Floor, 130 W. 42nd St., 130 East Side of Manhattan, NY .... Moving forward, let\\'s discuss:  Iran\\'s Revolutionary Guards, a branch of the nation\\'s armed forces, launched the Noor 3 satellite atop a Qasem rocket on Wednesday . The U.S. Space Force catalogued two objects in a roughly 280-mile-high (450 kilometers) orbit . The spacecraft\\'s two predecessors, Noor 1 and Noor 2, launched in April 2020 and March 2022, respectively .  Michael Wall is a Senior Space Writer with Space. com . He primarily covers exoplanets, spaceflight and military space, but has been known to dabble in the space art beat . His book about the search for alien life, \"Out There,\" was published on Nov. 13, 2018 .... Steering our spacecraft of knowledge toward:  OSIRIS-REx landed asteroid samples for the very first time back on Earth this week . The container containing the samples was immediately transported to NASA\\'s Johnson Space Center in Houston, Texas, and has now been cracked open . NASA will reveal the sample to the world via a livestream scheduled for 11 a.m. ET on October 11 .'"
            ],
            "application/vnd.google.colaboratory.intrinsic+json": {
              "type": "string"
            }
          },
          "metadata": {},
          "execution_count": 41
        }
      ]
    },
    {
      "cell_type": "markdown",
      "source": [
        "Create a news article with all of the summarized texts"
      ],
      "metadata": {
        "id": "tzQkPkQJzXg0"
      }
    },
    {
      "cell_type": "markdown",
      "source": [
        "NLP for news reading"
      ],
      "metadata": {
        "id": "7vk97RU3VI8g"
      }
    },
    {
      "cell_type": "code",
      "source": [
        "!pip install gTTS pydub"
      ],
      "metadata": {
        "colab": {
          "base_uri": "https://localhost:8080/"
        },
        "id": "tyRA-880nx_O",
        "outputId": "49ac01d7-d5c1-4191-b500-73767cbc1afc"
      },
      "execution_count": 25,
      "outputs": [
        {
          "output_type": "stream",
          "name": "stdout",
          "text": [
            "Requirement already satisfied: gTTS in /usr/local/lib/python3.10/dist-packages (2.3.2)\n",
            "Collecting pydub\n",
            "  Downloading pydub-0.25.1-py2.py3-none-any.whl (32 kB)\n",
            "Requirement already satisfied: requests<3,>=2.27 in /usr/local/lib/python3.10/dist-packages (from gTTS) (2.31.0)\n",
            "Requirement already satisfied: click<8.2,>=7.1 in /usr/local/lib/python3.10/dist-packages (from gTTS) (8.1.7)\n",
            "Requirement already satisfied: charset-normalizer<4,>=2 in /usr/local/lib/python3.10/dist-packages (from requests<3,>=2.27->gTTS) (3.2.0)\n",
            "Requirement already satisfied: idna<4,>=2.5 in /usr/local/lib/python3.10/dist-packages (from requests<3,>=2.27->gTTS) (3.4)\n",
            "Requirement already satisfied: urllib3<3,>=1.21.1 in /usr/local/lib/python3.10/dist-packages (from requests<3,>=2.27->gTTS) (2.0.4)\n",
            "Requirement already satisfied: certifi>=2017.4.17 in /usr/local/lib/python3.10/dist-packages (from requests<3,>=2.27->gTTS) (2023.7.22)\n",
            "Installing collected packages: pydub\n",
            "Successfully installed pydub-0.25.1\n"
          ]
        }
      ]
    },
    {
      "cell_type": "code",
      "source": [
        "from gtts import gTTS\n",
        "from pydub import AudioSegment\n",
        "from pydub.effects import speedup\n",
        "\n",
        "\n",
        "tts = gTTS(text=all_summarized_text, lang='en')\n",
        "filename='voice.mp3'\n",
        "tts.save(filename)\n",
        "audio = AudioSegment.from_mp3(filename)\n",
        "new_file = speedup(audio,1.2,150)\n",
        "new_file.export(filename, format=\"mp3\")"
      ],
      "metadata": {
        "id": "XkIX32dUniui",
        "colab": {
          "base_uri": "https://localhost:8080/"
        },
        "outputId": "8dfa3918-d4db-48f3-97bf-0a0cc07f7eb7"
      },
      "execution_count": 42,
      "outputs": [
        {
          "output_type": "execute_result",
          "data": {
            "text/plain": [
              "<_io.BufferedRandom name='voice.mp3'>"
            ]
          },
          "metadata": {},
          "execution_count": 42
        }
      ]
    }
  ]
}