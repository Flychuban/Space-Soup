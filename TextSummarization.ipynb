{
  "nbformat": 4,
  "nbformat_minor": 0,
  "metadata": {
    "colab": {
      "provenance": [],
      "authorship_tag": "ABX9TyMEUgOoLN757LOsSVyLTaAG",
      "include_colab_link": true
    },
    "kernelspec": {
      "name": "python3",
      "display_name": "Python 3"
    },
    "language_info": {
      "name": "python"
    }
  },
  "cells": [
    {
      "cell_type": "markdown",
      "metadata": {
        "id": "view-in-github",
        "colab_type": "text"
      },
      "source": [
        "<a href=\"https://colab.research.google.com/github/Flychuban/Space-Soup/blob/main/TextSummarization.ipynb\" target=\"_parent\"><img src=\"https://colab.research.google.com/assets/colab-badge.svg\" alt=\"Open In Colab\"/></a>"
      ]
    },
    {
      "cell_type": "code",
      "execution_count": null,
      "metadata": {
        "colab": {
          "base_uri": "https://localhost:8080/"
        },
        "id": "6UhB7Fr7HnAC",
        "outputId": "320cf61e-ef39-43b5-9b76-f64af830cda2"
      },
      "outputs": [
        {
          "output_type": "stream",
          "name": "stdout",
          "text": [
            "Requirement already satisfied: transformers in /usr/local/lib/python3.10/dist-packages (4.33.2)\n",
            "Requirement already satisfied: filelock in /usr/local/lib/python3.10/dist-packages (from transformers) (3.12.2)\n",
            "Requirement already satisfied: huggingface-hub<1.0,>=0.15.1 in /usr/local/lib/python3.10/dist-packages (from transformers) (0.17.2)\n",
            "Requirement already satisfied: numpy>=1.17 in /usr/local/lib/python3.10/dist-packages (from transformers) (1.23.5)\n",
            "Requirement already satisfied: packaging>=20.0 in /usr/local/lib/python3.10/dist-packages (from transformers) (23.1)\n",
            "Requirement already satisfied: pyyaml>=5.1 in /usr/local/lib/python3.10/dist-packages (from transformers) (6.0.1)\n",
            "Requirement already satisfied: regex!=2019.12.17 in /usr/local/lib/python3.10/dist-packages (from transformers) (2023.6.3)\n",
            "Requirement already satisfied: requests in /usr/local/lib/python3.10/dist-packages (from transformers) (2.31.0)\n",
            "Requirement already satisfied: tokenizers!=0.11.3,<0.14,>=0.11.1 in /usr/local/lib/python3.10/dist-packages (from transformers) (0.13.3)\n",
            "Requirement already satisfied: safetensors>=0.3.1 in /usr/local/lib/python3.10/dist-packages (from transformers) (0.3.3)\n",
            "Requirement already satisfied: tqdm>=4.27 in /usr/local/lib/python3.10/dist-packages (from transformers) (4.66.1)\n",
            "Requirement already satisfied: fsspec in /usr/local/lib/python3.10/dist-packages (from huggingface-hub<1.0,>=0.15.1->transformers) (2023.6.0)\n",
            "Requirement already satisfied: typing-extensions>=3.7.4.3 in /usr/local/lib/python3.10/dist-packages (from huggingface-hub<1.0,>=0.15.1->transformers) (4.5.0)\n",
            "Requirement already satisfied: charset-normalizer<4,>=2 in /usr/local/lib/python3.10/dist-packages (from requests->transformers) (3.2.0)\n",
            "Requirement already satisfied: idna<4,>=2.5 in /usr/local/lib/python3.10/dist-packages (from requests->transformers) (3.4)\n",
            "Requirement already satisfied: urllib3<3,>=1.21.1 in /usr/local/lib/python3.10/dist-packages (from requests->transformers) (2.0.4)\n",
            "Requirement already satisfied: certifi>=2017.4.17 in /usr/local/lib/python3.10/dist-packages (from requests->transformers) (2023.7.22)\n"
          ]
        }
      ],
      "source": [
        "!pip install transformers"
      ]
    },
    {
      "cell_type": "code",
      "source": [
        "import requests\n",
        "from transformers import pipeline\n",
        "from bs4 import BeautifulSoup\n",
        "import re"
      ],
      "metadata": {
        "id": "Rxlz4sKEHxa8"
      },
      "execution_count": null,
      "outputs": []
    },
    {
      "cell_type": "code",
      "source": [
        "# Load summarization model from HuggingFace\n",
        "summarizer = pipeline(\"summarization\")"
      ],
      "metadata": {
        "colab": {
          "base_uri": "https://localhost:8080/"
        },
        "id": "yQHQuGmjIC2A",
        "outputId": "09adb895-781e-4d19-db52-d6ff8af7294c"
      },
      "execution_count": null,
      "outputs": [
        {
          "output_type": "stream",
          "name": "stderr",
          "text": [
            "No model was supplied, defaulted to sshleifer/distilbart-cnn-12-6 and revision a4f8f3e (https://huggingface.co/sshleifer/distilbart-cnn-12-6).\n",
            "Using a pipeline without specifying a model name and revision in production is not recommended.\n"
          ]
        }
      ]
    },
    {
      "cell_type": "markdown",
      "source": [
        "Get text from web page"
      ],
      "metadata": {
        "id": "Z_KOgPH5IuyL"
      }
    },
    {
      "cell_type": "code",
      "source": [
        "def search_urls_space_news():\n",
        "  URL = \"https://www.google.com/search?q=nasa+news&tbm=nws\"\n",
        "  r = requests.get(URL)\n",
        "  soup = BeautifulSoup(r.text, 'html.parser')\n",
        "  atags = soup.find_all(['a'])\n",
        "  hrefs = [link['href'] for link in atags]\n",
        "  return hrefs\n"
      ],
      "metadata": {
        "id": "h41uwggT4OK7"
      },
      "execution_count": null,
      "outputs": []
    },
    {
      "cell_type": "code",
      "source": [
        "hrefs = search_urls_space_news()"
      ],
      "metadata": {
        "id": "y2MFVbQ4IuhT"
      },
      "execution_count": null,
      "outputs": []
    },
    {
      "cell_type": "code",
      "source": [
        "exclude_list = ['maps', 'policies', 'preferences', 'accounts', 'support']"
      ],
      "metadata": {
        "id": "pNwMlDrpKAmM"
      },
      "execution_count": null,
      "outputs": []
    },
    {
      "cell_type": "code",
      "source": [
        "def strip_unwanted_urls(urls, exclude_list):\n",
        "    val = []\n",
        "    for url in urls:\n",
        "        if 'https://' in url and not any(exclude_word in url for exclude_word in exclude_list):\n",
        "            res = re.findall(r'(https?://\\S+)', url)[0].split('&')[0]\n",
        "            val.append(res)\n",
        "    return list(set(val))"
      ],
      "metadata": {
        "id": "6-9Wn4jv-wH_"
      },
      "execution_count": null,
      "outputs": []
    },
    {
      "cell_type": "code",
      "source": [
        "cleaned_urls = strip_unwanted_urls(hrefs, exclude_list)\n",
        "cleaned_urls"
      ],
      "metadata": {
        "colab": {
          "base_uri": "https://localhost:8080/"
        },
        "id": "vB7-BDxp-1jA",
        "outputId": "d522261f-b280-454d-a1b6-1e692d16f5ad"
      },
      "execution_count": null,
      "outputs": [
        {
          "output_type": "execute_result",
          "data": {
            "text/plain": [
              "['https://www.nasa.gov/press-release/nasa-s-first-asteroid-sample-has-landed-now-secure-in-clean-room',\n",
              " 'https://www.aljazeera.com/gallery/2023/9/25/major-asteroid-sample-brought-to-earth-in-nasa-first',\n",
              " 'https://www.cnn.com/2023/09/25/world/brian-may-osiris-rex-asteroid-sample-bennu-scn-intl-scli/index.html',\n",
              " 'https://www.npr.org/2023/09/24/1201386042/watch-live-nasa-sends-an-asteroid-sample-back-to-earth',\n",
              " 'https://abcnews.go.com/US/nasas-osiris-rex-asteroid-sample-return-mission/story%3Fid%3D103408191',\n",
              " 'https://www.google.com/search?q%3Dnasa%2Bnews%26tbm%3Dnws%26pccc%3D1',\n",
              " 'https://www.nbcnews.com/science/space/first-nasa-returns-asteroid-samples-earth-rcna111474',\n",
              " 'https://www.foxnews.com/us/nasa-reveals-latest-weapon-search-heavens-ufos-aliens',\n",
              " 'https://www.wsj.com/video/watch-nasa-osiris-rex-mission-brings-home-samples-from-asteroid-bennu/E8068163-F481-4346-BEA3-EED27C577BE6.html',\n",
              " 'https://www.space.com/nasa-osiris-rex-success-recovery-asteroid-sample',\n",
              " 'https://www.space.com/perserverance-mars-rover-boulder-field-maneuvers',\n",
              " 'https://www.nytimes.com/2023/09/24/science/nasa-osiris-rex-asteroid-sample-landing.html',\n",
              " 'https://www.pbs.org/newshour/science/watch-live-nasa-holds-news-conference-after-retrieval-of-capsule-from-osiris-rex']"
            ]
          },
          "metadata": {},
          "execution_count": 70
        }
      ]
    },
    {
      "cell_type": "code",
      "source": [
        "def get_text_from_urls(urls):\n",
        "  articles = []\n",
        "  titles = []\n",
        "  for url in urls:\n",
        "    headers = {'User-Agent': 'Mozilla/5.0'}\n",
        "    cookies = {\"CONSENT\": \"YES+cb.20210720-07-p0.en+FX+410\"}\n",
        "    r = requests.get(url, headers=headers, cookies=cookies)\n",
        "    if r.status_code != 200:\n",
        "      continue\n",
        "\n",
        "    soup = BeautifulSoup(r.text, 'html.parser')\n",
        "    paragraphs = soup.find_all(['p'])\n",
        "    text = [paragraph.text for paragraph in paragraphs]\n",
        "    # words = ' '.join(text)\n",
        "    article = ' '.join(text)\n",
        "    article = article.rstrip()\n",
        "\n",
        "    # Minimal number of symbols in article, prevent returning cookies or terms error\n",
        "    if len(article) < 200:\n",
        "      continue\n",
        "\n",
        "    articles.append(article)\n",
        "    url_h1_tags = soup.find_all(['h1'])\n",
        "    url_titles = [title.text.strip() for title in url_h1_tags]\n",
        "    titles.append(url_titles)\n",
        "\n",
        "  return titles, articles"
      ],
      "metadata": {
        "id": "m5lSLQSQA2x_"
      },
      "execution_count": null,
      "outputs": []
    },
    {
      "cell_type": "code",
      "source": [
        "titles, articles = get_text_from_urls(cleaned_urls)"
      ],
      "metadata": {
        "id": "-mw2wsaTDdYv"
      },
      "execution_count": null,
      "outputs": []
    },
    {
      "cell_type": "code",
      "source": [
        "articles[2]"
      ],
      "metadata": {
        "colab": {
          "base_uri": "https://localhost:8080/",
          "height": 656
        },
        "id": "x9BByISMDnO3",
        "outputId": "490a6bd6-4a48-4180-bd6c-42ce3b810452"
      },
      "execution_count": 96,
      "outputs": [
        {
          "output_type": "execute_result",
          "data": {
            "text/plain": [
              "'\\n\\n      Nell Greenfieldboyce\\n    \\n \\n                The sample return capsule from NASA\\'s OSIRIS-REx mission is seen shortly after touching down in the desert at the Department of Defense\\'s Utah Test and Training Range.\\n                \\n                    \\n                    Keegan Barber/NASA\\n                    \\n                \\nhide caption\\n The sample return capsule from NASA\\'s OSIRIS-REx mission is seen shortly after touching down in the desert at the Department of Defense\\'s Utah Test and Training Range. Scientists are exulting over the safe arrival of a canister containing about a cup\\'s worth of asteroid rocks, collected 200 million miles away, that landed in a Utah desert after a 7-year NASA mission sent to retrieve them.  The black pebbles and dirt are older than Earth, and are undisturbed remnants of the solar system\\'s early days of planet formation. As part of an asteroid named Bennu, these rocks traveled unsullied through space for eons.  While bits of asteroids regularly fall to our planet as meteorites, scientists want to study pristine asteroid material, stuff that\\'s uncontaminated by our planet, to understand the early chemistry that might have contributed to the emergence of life.  That\\'s why scientists immediately whisked the returned capsule into a nearby clean room and put it under a cloak of nitrogen gas to protect it from the Earth\\'s atmosphere as it\\'s transported to NASA\\'s Johnson Space Center in Houston.  \\n                This image taken from video provided by NASA TV shows the capsule released by the Osiris-Rex spacecraft being lifted off by a helicopter after landing to Earth in Utah.\\n                \\n                    \\n                    AP\\n                    \\n                \\nhide caption\\n This image taken from video provided by NASA TV shows the capsule released by the Osiris-Rex spacecraft being lifted off by a helicopter after landing to Earth in Utah. Researchers anticipate getting to open up the sealed sample canister there either late Monday or early Tuesday — something they have dreamed of for nearly two decades.   \"Today capped the end of an almost 20-year adventure for me,\" says Dante Lauretta, a planetary scientist at the University of Arizona and the leader of NASA\\'s OSIRIS-REx mission. \"I was fortunate enough to be one of the first people to lay eyes on the capsule, and boy did we stick that landing.\"  He\\'s eager to start analyzing the asteroid rock, to see what surprises it might hold.  \"We think we\\'ve got a lot of sample in that science canister,\" says Lauretta, \"and we can\\'t wait to crack into it.\" NASA\\'s OSIRIS-REx spacecraft launched in 2016 and in 2018 finally reached Bennu, a rubble pile of an asteroid about the size of the Empire State Building. The spacecraft tagged along with the space rock for nearly two years and in 2020 it finally dipped down and briefly touched Bennu to gather a sample.  Scientists weren\\'t sure exactly how much rock the spacecraft collected, and knew they\\'d only find out if its return capsule made it home.  The $1-billion mission culminated in triumph after a nail-biting final 13 minutes on Sunday morning, when the capsule entered the atmosphere at 36 times the speed of sound and fell towards a military training range in a desert near Salt Lake City.  Mission scientists anxiously awaited the deployment of the orange-and-white parachutes that would slow its fall. Without that parachute, the capsule might have crash-landed and broken open.  Lauretta says he was in a helicopter, listening to updates from mission controllers, and mentally preparing himself for the worst if the parachute failed. \"And then we heard \\'main chute detected,\\' and I literally broke into tears,\" he recalls. \"That was the moment I knew we made it home.\" He says he felt pride, awe, gratitude, overwhelming relief, and had to convince himself it wasn\\'t a dream.  \"It\\'s the end of a journey and the beginning of a new one,\" says Lauretta, adding that the laboratory investigation ahead is his focus now.  Mission managers tracked the fall of the capsule with radar and deployed helicopters in order to retrieve it once it safely touched down in the desolate desert.  The capsule, blackened from its fiery reentry through the atmosphere, looked almost like a UFO-shaped charcoal briquette, the size of a mini-fridge. \"It looked perfect. There was no sign of any damage,\" says Lauretta. \"It was like seeing an old friend that you hadn\\'t seen for a long time.\" He said he wanted to give it a hug. \"But I knew it would be all sooty,\" Lauretta jokes. \"It was amazing and emotional. I\\'ve been emotional all day and that was one of the key moments for me.\"  Researchers took environmental samples of the air and dirt around the landing site, just to ensure that if any kind of contamination did occur, they\\'d know what the capsule had been exposed to.  As part of the preparation for getting it ready to travel, workers in a clean room removed the back shell of the heat shield that covered and protected the metal science canister full of extraterrestrial rocks. All of the hardware appeared to be in good condition, says NASA\\'s Eileen Stansbery, adding that it looked much like it did prior to launch, before it traveled over a billion miles through space.   \"It was extremely clean on the inside,\" says Stansbery. \"It was beautiful, clean, an extraordinary experience of seeing that the spacecraft itself must have worked extraordinarily well, that all of the engineering that went in to ensure that the science canister was going to remain clean did their jobs.\"  After it arrives at the NASA center in Houston, the canister will be opened in a special lab designed to allow researchers to study its contents while keeping the material untainted.  The earliest samples to get analyzed will probably be bits of dust that escaped a rock collection device that is locked up inside the canister.  Then researchers will slowly and methodically take apart a collection device that\\'s inside the canister. That\\'s the gizmo that actually touched the surface of the asteroid and holds the rocks.  The final opening of that, revealing the biggest rocks, is expected to come in the first week of October. NASA is planning an event on October 11 in which they will show off their treasure and reveal what\\'s been learned so far.   While Japan previously brought back small amounts of dirt from a different asteroid, the new haul is the most extraterrestrial stuff brought home since the Apollo astronauts returned with moon rocks.  NASA is currently working on another mission to return rocks from Mars, and Lauretta is already dreaming of a sample return mission from a comet.  But first, he\\'s going to pore over the bits of an asteroid that he\\'s devoted so much of his life to obtaining.  \"I have to be patient and I\\'m really exercising patience,\" says Lauretta, who notes that he couldn\\'t just shake the returned capsule like a kid trying to figure out what was inside a wrapped Christmas present. \"We\\'ve got a busy week ahead of us.\"   Sponsor Message Become an NPR sponsor'"
            ],
            "application/vnd.google.colaboratory.intrinsic+json": {
              "type": "string"
            }
          },
          "metadata": {},
          "execution_count": 96
        }
      ]
    },
    {
      "cell_type": "markdown",
      "source": [
        "Split text from the article into chunks"
      ],
      "metadata": {
        "id": "hRBcXsatO6uv"
      }
    },
    {
      "cell_type": "code",
      "source": [
        "sentences = []\n",
        "for i, article in enumerate(articles):\n",
        "  article = article.replace('.', '.<eos>')\n",
        "  article = article.replace('!', '!<eos>')\n",
        "  article = article.replace('?', '?<eos>')\n",
        "  sentences.append(article.split('<eos>'))\n",
        "sentences[-1]"
      ],
      "metadata": {
        "colab": {
          "base_uri": "https://localhost:8080/"
        },
        "id": "slU8XuUEOFRC",
        "outputId": "4b89c761-6935-4a46-a37a-b1a6ae82e824"
      },
      "execution_count": null,
      "outputs": [
        {
          "output_type": "execute_result",
          "data": {
            "text/plain": [
              "['Subscribe to Here’s the Deal, our politics\\n                 newsletter for analysis you won’t find anywhere\\xa0else.',\n",
              " ' Thank you.',\n",
              " ' Please check your inbox to confirm.',\n",
              " ' \\n\\nMarcia Dunn, Associated Press\\n\\n\\n                    Marcia Dunn, Associated Press\\n                \\n Leave your feedback NASA’s first asteroid samples fetched from deep space parachuted into the Utah desert Sunday to cap a seven-year journey.',\n",
              " ' In a flyby of Earth,\\xa0the OSIRIS-REx spacecraft released the sample capsule from 63,000 miles (100,000 kilometers) out.',\n",
              " ' The small capsule landed four hours later on a remote expanse of military land, as the mothership set off after another asteroid.',\n",
              " ' Watch NASA’s post-landing news conference in the player above.',\n",
              " ' “We have touchdown!',\n",
              " '” Mission Recovery Operations announced, immediately repeating the news since the landing occurred three minutes early.',\n",
              " ' Officials later said the orange striped parachute opened four times higher than anticipated — around 20,000 feet (6,100 meters) — basing it on the deceleration rate.',\n",
              " ' To everyone’s relief, the capsule was intact and not breached, keeping its 4.',\n",
              " '5 billion-year-old samples free of contamination.',\n",
              " ' Within two hours of touchdown, the capsule was inside a temporary clean room at the Defense Department’s Utah Test and Training Range, hoisted there by helicopter.',\n",
              " '  The sealed sample canister will be flown on Monday to NASA’s Johnson Space Center in Houston, where it will be opened in a new, specially designed lab.',\n",
              " ' The building already houses the hundreds of pounds (kilograms) of moon rocks gathered by the Apollo astronauts.',\n",
              " ' “We can’t wait to crack into it.',\n",
              " ' For me, the real science is just beginning,” said the mission’s lead scientist, Dante Lauretta of the University of Arizona.',\n",
              " ' He’ll accompany the samples all the way to Texas.',\n",
              " ' Lori Glaze, NASA’s planetary science division director, added: “Those are going to be a treasure for scientific analysis for years and years and years to come.',\n",
              " '” Scientists estimate the capsule holds at least a cup of rubble from the carbon-rich asteroid known as Bennu, but won’t know for sure until the container is opened in a day or two.',\n",
              " ' Some spilled and floated away when the spacecraft scooped up too much material, which jammed the container’s lid during collection three years ago.',\n",
              " ' Japan, the only other country to bring back samples, gathered about a teaspoon during a pair of asteroid missions.',\n",
              " ' The pebbles and dust delivered Sunday represent the biggest haul from beyond the moon.',\n",
              " ' Preserved building blocks from the dawn of our solar system, the samples will help scientists better understand how Earth and life formed, providing “an extraordinary glimpse” of 4.',\n",
              " '5 billion years ago, said NASA Administrator Bill Nelson.',\n",
              " ' OSIRIS-REx, the mothership, rocketed away on the $1 billion mission in 2016.',\n",
              " ' It reached Bennu two years later and, using a long stick vacuum, grabbed rubble from the small roundish space rock in 2020.',\n",
              " ' By the time it returned, the spacecraft had logged 4 billion miles (6.',\n",
              " '2 billion kilometers).',\n",
              " ' WATCH: NASA releases first images from OSIRIS-REx touchdown on asteroid At a news conference several hours later, Lauretta said he broke into tears of joy upon hearing that the capsule’s main parachute had opened.',\n",
              " ' “I knew we had made it home,” he said, so overwhelmed with emotion when he arrived at the scene that he wanted to hug the capsule, sooty but undamaged and not even bent.',\n",
              " ' Flight controllers for spacecraft builder Lockheed Martin stood and applauded the touchdown from their base in Colorado.',\n",
              " ' NASA camera views showed the charred capsule upside down on the sand with its parachute disconnected and strewn nearby, as the recovery team moved in via helicopters.',\n",
              " ' “Boy, did we stick that landing,” Lauretta said.',\n",
              " ' “It didn’t move, it didn’t roll, it didn’t bounce.',\n",
              " ' It just made a tiny little divot in the Utah soil.',\n",
              " '” British astronomer Daniel Brown, who was not involved in the mission, said he expects “great things” from NASA’s largest sample return since the Apollo moon landings more than a half-century ago.',\n",
              " ' With these asteroid samples, “we are edging closer to understanding its early chemical composition, the formation of water and the molecules life is based on,” he added from Nottingham Trent University.',\n",
              " ' One OSIRIS-REx team member was stuck in England, rehearsing for a concert tour.',\n",
              " ' “My heart’s there with you as this precious sample is recovered,” Queen’s lead guitarist Brian May, who’s also an astrophysicist, said in a prerecorded message.',\n",
              " ' “Happy Sample Return Day.',\n",
              " '” Engineers estimate the canister holds 250 grams (8.',\n",
              " '82 ounces) of material from Bennu, plus or minus 100 grams (3.',\n",
              " '53 ounces).',\n",
              " ' Even at the low end, it will easily surpass the minimum requirement of the mission, Lauretta said.',\n",
              " ' It will take a few weeks to get a precise measurement, said NASA’s lead curator Nicole Lunning.',\n",
              " ' NASA plans a public show-and-tell in October.',\n",
              " ' Currently orbiting the sun 50 million miles (81 million kilometers) from Earth, Bennu is about one-third of a mile (one-half of a kilometer) across, roughly the size of the Empire State Building but shaped like a spinning top.',\n",
              " ' It’s believed to be the broken fragment of a much larger asteroid.',\n",
              " ' During a two-year survey, OSIRIS-REx found Bennu to be a chunky rubble pile full of boulders and craters.',\n",
              " ' The surface was so loose that the spacecraft’s vacuum arm sank a foot or two (0.',\n",
              " '5 meters) into the asteroid, sucking up more material than anticipated.',\n",
              " ' These close-up observations may come in handy late next century.',\n",
              " ' Bennu is expected to come dangerously close to Earth in 2182 — possibly close enough to hit.',\n",
              " ' The data gleaned by OSIRIS-REx will help with any asteroid-deflection effort, according to Lauretta.',\n",
              " ' OSIRIS-REx is already chasing after the asteroid Apophis, and will reach it in 2029.',\n",
              " ' This was NASA’s third sample return from a deep-space robotic mission.',\n",
              " ' The Genesis spacecraft dropped off bits of solar wind in 2004, but the samples were compromised when the parachute failed and the capsule slammed into the ground.',\n",
              " ' The Stardust spacecraft successfully delivered comet dust in 2006.',\n",
              " ' NASA’s plans to return samples from Mars are on hold after an independent review board criticized the cost and complexity.',\n",
              " ' The Martian rover Perseverance has spent the past two years collecting core samples for eventual transport to Earth.',\n",
              " ' By Bella Isaacs-Thomas By Associated Press By Bella Isaacs-Thomas By Marcia Dunn, Associated Press By Nsikan Akpan \\n\\nMarcia Dunn, Associated Press\\n\\n\\n                    Marcia Dunn, Associated Press\\n                \\n \\nSupport Provided By:\\nLearn more\\n Subscribe to Here’s the Deal, our politics\\n                 newsletter for analysis you won’t find anywhere\\xa0else.',\n",
              " ' Thank you.',\n",
              " ' Please check your inbox to confirm.',\n",
              " ' © 1996 - 2023 NewsHour Productions LLC.',\n",
              " ' All Rights Reserved.',\n",
              " \" Sections About Stay Connected Subscribe to ‘Here's the Deal,’ our politics newsletter Thank you.\",\n",
              " ' Please check your inbox to confirm.',\n",
              " ' Learn more about Friends of the NewsHour.',\n",
              " ' Support for NewsHour Provided By']"
            ]
          },
          "metadata": {},
          "execution_count": 74
        }
      ]
    },
    {
      "cell_type": "code",
      "source": [
        "max_tokens_chunk = 500\n",
        "chunks = []\n",
        "\n",
        "for i, article_sentences in enumerate(sentences):\n",
        "  chunks.append([])\n",
        "  current_chunk = 0\n",
        "  for sentence in article_sentences:\n",
        "    if len(chunks[i]) == current_chunk + 1:\n",
        "      if len(chunks[i][current_chunk]) + len(sentence.split(' ')) <= max_tokens_chunk:\n",
        "        chunks[i][current_chunk].extend(sentence.split(' '))\n",
        "      else:\n",
        "        current_chunk += 1\n",
        "        chunks[i].append(sentence.split(' '))\n",
        "    else:\n",
        "      print(current_chunk)\n",
        "      chunks[i].append(sentence.split(' '))"
      ],
      "metadata": {
        "colab": {
          "base_uri": "https://localhost:8080/"
        },
        "id": "tbFferXePJXr",
        "outputId": "72341fa6-ba76-459d-ac75-868aad1a26b1"
      },
      "execution_count": null,
      "outputs": [
        {
          "output_type": "stream",
          "name": "stdout",
          "text": [
            "0\n",
            "0\n",
            "0\n",
            "0\n",
            "0\n",
            "0\n",
            "0\n",
            "0\n",
            "0\n",
            "0\n"
          ]
        }
      ]
    },
    {
      "cell_type": "code",
      "source": [
        "joined_chunks = []\n",
        "\n",
        "for i, article_chunks in enumerate(chunks):\n",
        "    article_text = []\n",
        "\n",
        "    for chunk_id in range(len(article_chunks)):\n",
        "        article_text.append(' '.join(article_chunks[chunk_id]))\n",
        "\n",
        "    joined_chunks.append(article_text)"
      ],
      "metadata": {
        "id": "4MhGAWlYT54d"
      },
      "execution_count": null,
      "outputs": []
    },
    {
      "cell_type": "code",
      "source": [
        "joined_chunks[5]"
      ],
      "metadata": {
        "colab": {
          "base_uri": "https://localhost:8080/"
        },
        "id": "7ksaft-IU0dn",
        "outputId": "e1484058-2072-4533-d0c7-3e0b5fbf1dce"
      },
      "execution_count": 93,
      "outputs": [
        {
          "output_type": "execute_result",
          "data": {
            "text/plain": [
              "[\"A space capsule from NASA’s Osiris-REx mission to the asteroid Bennu landed in Utah on Sunday.  The sample of rocks and dust—the largest ever collected from an asteroid—could help scientists better understand our solar system.  Photo: NASA/EPA/Shutterstock The union representing 146,000 auto workers called for a targeted strike after labor negotiations failed to reach a deal.  Here’s how this historic strike could affect the global car industry and what it could cost the U. S.  economy.  Photo: Paul Sancya/Associated Press Journal Editorial Report: The week's best and worst from Kim Strassel, Mene Ukueberuwa and Kyle Peterson.  Images: AP/Getty Images/Zuma Press Composite: Mark Kelly Utah Sen.  Mitt Romney announced he won’t seek re-election Wednesday.  He cited his age and the need for new leaders as reasons for his decision.  Photo: Shawn Thew/Shutterstock First came online shopping, then Prime, followed by AWS.  But when it comes to Amazon’s next big hit, the tech giant continues to fumble.  WSJ reporter Sebastian Herrera joins host Zoe Thomas to discuss the company’s yearslong search for its “fourth pillar. ” Illustration: Mitch Blunt Modelo Especial is now America's top-selling beer, dethroning the longstanding king, Bud Light, which recently has been subject to a culture-war storm.  Here’s how an antitrust lawsuit and savvy marketing helped the Mexican brand grow in the U. S.  Photo: Mario Tama/Getty Images Journal Editorial Report: The President's immigration and asylum problem is getting worse again.  Images: Getty Images Composite: Mark Kelly New Yorkers lose an average of 117 hours a year in traffic according to the MTA.  Now, New York City is turning to congestion tolls to help unclog its roads.  WSJ’s George Downs explores if these tolls actually reduce traffic and whether other U. S.  cities will adopt them.  Illustration: George Downs/The Wall Street Journal Lego ditched plans to make oil-free bricks, saying the new material from recycled bottles would increase carbon emissions.  The toymaker said it remains committed to making Legos from sustainable materials by 2032.  Photo: Jonathan Nackstrand/AFP/Getty Images It can be scary to receive a letter from a debt collector and there’s no shortage of horror stories on the internet about it.  But don’t panic!  You still have options.  Here's what you need to do. \"]"
            ]
          },
          "metadata": {},
          "execution_count": 93
        }
      ]
    },
    {
      "cell_type": "markdown",
      "source": [
        "Summarize all chunks"
      ],
      "metadata": {
        "id": "fh8o1xD9ke6p"
      }
    },
    {
      "cell_type": "code",
      "source": [
        "def summarize_chunks(chunks):\n",
        "  summarized_texts = []\n",
        "  for article_chunks in chunks:\n",
        "    article_text = []\n",
        "    result = summarizer(article_chunks, max_length=120, min_length=30, do_sample=False)\n",
        "    article_text = ' '.join([summ['summary_text'] for summ in result])\n",
        "    summarized_texts.append(article_text)\n",
        "  return summarized_texts"
      ],
      "metadata": {
        "id": "EV02OsMTmPfb"
      },
      "execution_count": null,
      "outputs": []
    },
    {
      "cell_type": "code",
      "source": [
        "summarized_texts = summarize_chunks(joined_chunks)"
      ],
      "metadata": {
        "colab": {
          "base_uri": "https://localhost:8080/"
        },
        "id": "zTsWXi5opIvm",
        "outputId": "8f2d5608-9d85-4751-be16-b1380a7f71dd"
      },
      "execution_count": null,
      "outputs": [
        {
          "output_type": "stream",
          "name": "stderr",
          "text": [
            "Your max_length is set to 120, but your input_length is only 28. Since this is a summarization task, where outputs shorter than the input are typically wanted, you might consider decreasing max_length manually, e.g. summarizer('...', max_length=14)\n",
            "Your max_length is set to 120, but your input_length is only 31. Since this is a summarization task, where outputs shorter than the input are typically wanted, you might consider decreasing max_length manually, e.g. summarizer('...', max_length=15)\n"
          ]
        }
      ]
    },
    {
      "cell_type": "code",
      "source": [
        "summarized_texts[0]"
      ],
      "metadata": {
        "colab": {
          "base_uri": "https://localhost:8080/",
          "height": 54
        },
        "id": "4PuFpGPz4pkS",
        "outputId": "63590a20-02d1-431d-9e24-6cf9d5c85753"
      },
      "execution_count": 98,
      "outputs": [
        {
          "output_type": "execute_result",
          "data": {
            "text/plain": [
              "' OSIRIS-REx probe lands in the desert in the US state of Utah . Scientists have high hopes for the sample, which landed on Sunday, saying it will provide a better understanding of the formation of our solar system and how Earth became habitable . The 6.21-billion-km journey marked the United States’ first sample return mission of its kind .'"
            ],
            "application/vnd.google.colaboratory.intrinsic+json": {
              "type": "string"
            }
          },
          "metadata": {},
          "execution_count": 98
        }
      ]
    },
    {
      "cell_type": "code",
      "source": [],
      "metadata": {
        "id": "lu3bra8U4sLj"
      },
      "execution_count": 86,
      "outputs": []
    }
  ]
}