{
  "nbformat": 4,
  "nbformat_minor": 0,
  "metadata": {
    "colab": {
      "provenance": [],
      "gpuType": "T4",
      "authorship_tag": "ABX9TyP2/jCQ/FAd3aJ4tvTeyFeF",
      "include_colab_link": true
    },
    "kernelspec": {
      "name": "python3",
      "display_name": "Python 3"
    },
    "language_info": {
      "name": "python"
    },
    "accelerator": "GPU"
  },
  "cells": [
    {
      "cell_type": "markdown",
      "metadata": {
        "id": "view-in-github",
        "colab_type": "text"
      },
      "source": [
        "<a href=\"https://colab.research.google.com/github/Flychuban/Space-Soup/blob/main/TextSummarization.ipynb\" target=\"_parent\"><img src=\"https://colab.research.google.com/assets/colab-badge.svg\" alt=\"Open In Colab\"/></a>"
      ]
    },
    {
      "cell_type": "code",
      "execution_count": 1,
      "metadata": {
        "colab": {
          "base_uri": "https://localhost:8080/"
        },
        "id": "6UhB7Fr7HnAC",
        "outputId": "a3753467-7c37-4aae-8614-34ec0ad1280c"
      },
      "outputs": [
        {
          "output_type": "stream",
          "name": "stdout",
          "text": [
            "Requirement already satisfied: transformers in /usr/local/lib/python3.10/dist-packages (4.33.3)\n",
            "Requirement already satisfied: filelock in /usr/local/lib/python3.10/dist-packages (from transformers) (3.12.2)\n",
            "Requirement already satisfied: huggingface-hub<1.0,>=0.15.1 in /usr/local/lib/python3.10/dist-packages (from transformers) (0.17.3)\n",
            "Requirement already satisfied: numpy>=1.17 in /usr/local/lib/python3.10/dist-packages (from transformers) (1.23.5)\n",
            "Requirement already satisfied: packaging>=20.0 in /usr/local/lib/python3.10/dist-packages (from transformers) (23.1)\n",
            "Requirement already satisfied: pyyaml>=5.1 in /usr/local/lib/python3.10/dist-packages (from transformers) (6.0.1)\n",
            "Requirement already satisfied: regex!=2019.12.17 in /usr/local/lib/python3.10/dist-packages (from transformers) (2023.6.3)\n",
            "Requirement already satisfied: requests in /usr/local/lib/python3.10/dist-packages (from transformers) (2.31.0)\n",
            "Requirement already satisfied: tokenizers!=0.11.3,<0.14,>=0.11.1 in /usr/local/lib/python3.10/dist-packages (from transformers) (0.13.3)\n",
            "Requirement already satisfied: safetensors>=0.3.1 in /usr/local/lib/python3.10/dist-packages (from transformers) (0.3.3)\n",
            "Requirement already satisfied: tqdm>=4.27 in /usr/local/lib/python3.10/dist-packages (from transformers) (4.66.1)\n",
            "Requirement already satisfied: fsspec in /usr/local/lib/python3.10/dist-packages (from huggingface-hub<1.0,>=0.15.1->transformers) (2023.6.0)\n",
            "Requirement already satisfied: typing-extensions>=3.7.4.3 in /usr/local/lib/python3.10/dist-packages (from huggingface-hub<1.0,>=0.15.1->transformers) (4.5.0)\n",
            "Requirement already satisfied: charset-normalizer<4,>=2 in /usr/local/lib/python3.10/dist-packages (from requests->transformers) (3.2.0)\n",
            "Requirement already satisfied: idna<4,>=2.5 in /usr/local/lib/python3.10/dist-packages (from requests->transformers) (3.4)\n",
            "Requirement already satisfied: urllib3<3,>=1.21.1 in /usr/local/lib/python3.10/dist-packages (from requests->transformers) (1.26.16)\n",
            "Requirement already satisfied: certifi>=2017.4.17 in /usr/local/lib/python3.10/dist-packages (from requests->transformers) (2023.7.22)\n"
          ]
        }
      ],
      "source": [
        "!pip install transformers"
      ]
    },
    {
      "cell_type": "code",
      "source": [
        "!pip install git+https://github.com/suno-ai/bark.git -q"
      ],
      "metadata": {
        "colab": {
          "base_uri": "https://localhost:8080/"
        },
        "id": "EUZsTRSiDQ1f",
        "outputId": "ab629cff-7ddc-47a4-cebd-bb8dabb32aa3"
      },
      "execution_count": 2,
      "outputs": [
        {
          "output_type": "stream",
          "name": "stdout",
          "text": [
            "  Installing build dependencies ... \u001b[?25l\u001b[?25hdone\n",
            "  Getting requirements to build wheel ... \u001b[?25l\u001b[?25hdone\n",
            "  Installing backend dependencies ... \u001b[?25l\u001b[?25hdone\n",
            "  Preparing metadata (pyproject.toml) ... \u001b[?25l\u001b[?25hdone\n"
          ]
        }
      ]
    },
    {
      "cell_type": "code",
      "source": [
        "import requests\n",
        "from transformers import pipeline\n",
        "from transformers import AutoModelForSeq2SeqLM, AutoTokenizer\n",
        "from bs4 import BeautifulSoup\n",
        "import re"
      ],
      "metadata": {
        "id": "Rxlz4sKEHxa8"
      },
      "execution_count": 3,
      "outputs": []
    },
    {
      "cell_type": "code",
      "source": [
        "# Load summarization model from HuggingFace\n",
        "summarizer = pipeline(\"summarization\")"
      ],
      "metadata": {
        "colab": {
          "base_uri": "https://localhost:8080/"
        },
        "id": "yQHQuGmjIC2A",
        "outputId": "b7bb57ca-a792-4ae7-f7c1-f7588b3cbf97"
      },
      "execution_count": 4,
      "outputs": [
        {
          "output_type": "stream",
          "name": "stderr",
          "text": [
            "No model was supplied, defaulted to sshleifer/distilbart-cnn-12-6 and revision a4f8f3e (https://huggingface.co/sshleifer/distilbart-cnn-12-6).\n",
            "Using a pipeline without specifying a model name and revision in production is not recommended.\n"
          ]
        }
      ]
    },
    {
      "cell_type": "markdown",
      "source": [
        "Get text from web page"
      ],
      "metadata": {
        "id": "Z_KOgPH5IuyL"
      }
    },
    {
      "cell_type": "code",
      "source": [
        "from datetime import datetime\n",
        "def search_urls_space_news():\n",
        "  day = int(datetime.now().day)\n",
        "  month= int(datetime.now().month)\n",
        "  year = int(datetime.now().year)\n",
        "\n",
        "  URL = f\"https://www.google.com/search?q=space.com+latest+news&tbm=nws\"\n",
        "  print(URL)\n",
        "  r = requests.get(URL)\n",
        "  soup = BeautifulSoup(r.text, 'html.parser')\n",
        "  atags = soup.find_all(['a'])\n",
        "  hrefs = [link['href'] for link in atags]\n",
        "  return hrefs\n"
      ],
      "metadata": {
        "id": "h41uwggT4OK7"
      },
      "execution_count": 5,
      "outputs": []
    },
    {
      "cell_type": "code",
      "source": [
        "hrefs = search_urls_space_news()"
      ],
      "metadata": {
        "id": "y2MFVbQ4IuhT",
        "colab": {
          "base_uri": "https://localhost:8080/"
        },
        "outputId": "0d23cdf7-4a41-4a05-ae9a-1487ce7fdf6d"
      },
      "execution_count": 6,
      "outputs": [
        {
          "output_type": "stream",
          "name": "stdout",
          "text": [
            "https://www.google.com/search?q=space.com+latest+news&tbm=nws\n"
          ]
        }
      ]
    },
    {
      "cell_type": "code",
      "source": [
        "print(hrefs)"
      ],
      "metadata": {
        "colab": {
          "base_uri": "https://localhost:8080/"
        },
        "id": "8NU80p8yWBA8",
        "outputId": "2d3cc579-0d22-4b0a-d92d-92f97cc25043"
      },
      "execution_count": 7,
      "outputs": [
        {
          "output_type": "stream",
          "name": "stdout",
          "text": [
            "['/?sa=X&ved=0ahUKEwjerLTh09CBAxUImmoFHWsmBsIQOwgC', '/search?q=space.com+latest+news&tbm=nws&sca_esv=569475139&ie=UTF-8&gbv=1&sei=4jIXZd6zEIi0qtsP68yYkAw', '/search?q=space.com+latest+news&sca_esv=569475139&ie=UTF-8&source=lnms&sa=X&ved=0ahUKEwjerLTh09CBAxUImmoFHWsmBsIQ_AUIBSgA', '/search?q=space.com+latest+news&sca_esv=569475139&ie=UTF-8&tbm=isch&source=lnms&sa=X&ved=0ahUKEwjerLTh09CBAxUImmoFHWsmBsIQ_AUIBygC', '/search?q=space.com+latest+news&sca_esv=569475139&ie=UTF-8&tbm=vid&source=lnms&sa=X&ved=0ahUKEwjerLTh09CBAxUImmoFHWsmBsIQ_AUICCgD', 'https://maps.google.com/maps?q=space.com+latest+news&um=1&ie=UTF-8&sa=X&ved=0ahUKEwjerLTh09CBAxUImmoFHWsmBsIQ_AUICSgE', '/search?q=space.com+latest+news&sca_esv=569475139&ie=UTF-8&tbm=shop&source=lnms&sa=X&ved=0ahUKEwjerLTh09CBAxUImmoFHWsmBsIQ_AUICigF', '/search?q=space.com+latest+news&sca_esv=569475139&ie=UTF-8&tbm=bks&source=lnms&sa=X&ved=0ahUKEwjerLTh09CBAxUImmoFHWsmBsIQ_AUICygG', '/advanced_search', '/search?q=space.com+latest+news&sca_esv=569475139&ie=UTF-8&tbm=nws&source=lnt&tbs=qdr:h&sa=X&ved=0ahUKEwjerLTh09CBAxUImmoFHWsmBsIQpwUIDQ', '/search?q=space.com+latest+news&sca_esv=569475139&ie=UTF-8&tbm=nws&source=lnt&tbs=qdr:d&sa=X&ved=0ahUKEwjerLTh09CBAxUImmoFHWsmBsIQpwUIDg', '/search?q=space.com+latest+news&sca_esv=569475139&ie=UTF-8&tbm=nws&source=lnt&tbs=qdr:w&sa=X&ved=0ahUKEwjerLTh09CBAxUImmoFHWsmBsIQpwUIDw', '/search?q=space.com+latest+news&sca_esv=569475139&ie=UTF-8&tbm=nws&source=lnt&tbs=qdr:m&sa=X&ved=0ahUKEwjerLTh09CBAxUImmoFHWsmBsIQpwUIEA', '/search?q=space.com+latest+news&sca_esv=569475139&ie=UTF-8&tbm=nws&source=lnt&tbs=qdr:y&sa=X&ved=0ahUKEwjerLTh09CBAxUImmoFHWsmBsIQpwUIEQ', '/search?q=space.com+latest+news&sca_esv=569475139&ie=UTF-8&tbm=nws&source=lnt&tbs=ar:1&sa=X&ved=0ahUKEwjerLTh09CBAxUImmoFHWsmBsIQpwUIEg', '/search?q=space.com+latest+news&sca_esv=569475139&ie=UTF-8&tbm=nws&source=lnt&tbs=sbd:1&sa=X&ved=0ahUKEwjerLTh09CBAxUImmoFHWsmBsIQpwUIFA', '/url?q=https://www.space.com/james-webb-space-telescope-evolved-galaxy-early-universe&sa=U&ved=2ahUKEwjerLTh09CBAxUImmoFHWsmBsIQxfQBegQIBRAC&usg=AOvVaw1SfpBnaK_3vVL3rM3Ld6g2', '/url?q=https://www.space.com/news/live/international-space-station-live-updates&sa=U&ved=2ahUKEwjerLTh09CBAxUImmoFHWsmBsIQxfQBegQICRAC&usg=AOvVaw3T04u1TEyReiuhyS7phTEM', '/url?q=https://www.space.com/spacex-launch-psyche-asteroid-mission-one-week&sa=U&ved=2ahUKEwjerLTh09CBAxUImmoFHWsmBsIQxfQBegQIBxAC&usg=AOvVaw0k7_Ov_gjYutKNHEZrZ5bS', '/url?q=https://www.space.com/osiris-rex-asteroid-sample-caniser-lid-lifted-photos&sa=U&ved=2ahUKEwjerLTh09CBAxUImmoFHWsmBsIQxfQBegQIBBAC&usg=AOvVaw1SRLZi8ESbmNxeANJjzoGw', '/url?q=https://www.tweaktown.com/news/93488/scientists-gasped-after-they-opened-the-lid-of-nasas-asteroid-sample-capsule/index.html&sa=U&ved=2ahUKEwjerLTh09CBAxUImmoFHWsmBsIQxfQBegQIAhAC&usg=AOvVaw3yT4UUf2Pkp_RlFxvnmDbK', '/url?q=https://www.space.com/harvest-full-moon-will-illuminate-the-sky-on-september-29&sa=U&ved=2ahUKEwjerLTh09CBAxUImmoFHWsmBsIQxfQBegQICBAC&usg=AOvVaw2bAiWfVeE9IifeuEvKJ95o', '/url?q=https://www.space.com/spacex-starlink-launch-group-6-19&sa=U&ved=2ahUKEwjerLTh09CBAxUImmoFHWsmBsIQxfQBegQIARAC&usg=AOvVaw26v4mNDZtr1urlbfF4BG09', '/url?q=https://www.space.com/iran-launches-noor-3-imaging-satellite-september-2023&sa=U&ved=2ahUKEwjerLTh09CBAxUImmoFHWsmBsIQxfQBegQIBhAC&usg=AOvVaw2yROO758r5X99bdBqxkphO', '/url?q=https://www.space.com/historic-donut-black-hole-is-spinning-new-study-finds&sa=U&ved=2ahUKEwjerLTh09CBAxUImmoFHWsmBsIQxfQBegQIABAC&usg=AOvVaw0iJy6JkaUz8azvFGNXQDzA', '/url?q=https://www.space.com/china-yaogan-spy-satellite-launch-september-2023&sa=U&ved=2ahUKEwjerLTh09CBAxUImmoFHWsmBsIQxfQBegQIAxAC&usg=AOvVaw01FhjIM4NExOwWprwC7Swr', '/search?q=space.com+latest+news&sca_esv=569475139&ie=UTF-8&tbm=nws&ei=4jIXZd6zEIi0qtsP68yYkAw&start=10&sa=N', '/url?q=https://support.google.com/websearch%3Fp%3Dws_settings_location%26hl%3Den&opi=89978449&sa=U&ved=0ahUKEwjerLTh09CBAxUImmoFHWsmBsIQty4IUw&usg=AOvVaw3Ha4iuQo4sq_CXbTLqdo4B', '/url?q=https://accounts.google.com/ServiceLogin%3Fcontinue%3Dhttps://www.google.com/search%253Fq%253Dspace.com%252Blatest%252Bnews%2526tbm%253Dnws%26hl%3Den&opi=89978449&sa=U&ved=0ahUKEwjerLTh09CBAxUImmoFHWsmBsIQxs8CCFQ&usg=AOvVaw0PhxFjpAM1C1OeLQY0GYWl', 'https://www.google.com/preferences?hl=en&fg=1&sa=X&ved=0ahUKEwjerLTh09CBAxUImmoFHWsmBsIQ5fUCCFU', 'https://policies.google.com/privacy?hl=en&fg=1', 'https://policies.google.com/terms?hl=en&fg=1', '/setprefs?hl=en&prev=https://www.google.com/search?q%3Dspace.com%2Blatest%2Bnews%26tbm%3Dnws%26pccc%3D1&sig=0_adKQHopP8z4PYjBBnJB-zYIIf4U%3D&cs=2&sa=X&ved=0ahUKEwjerLTh09CBAxUImmoFHWsmBsIQjcAJCFY']\n"
          ]
        }
      ]
    },
    {
      "cell_type": "code",
      "source": [
        "exclude_list = ['maps', 'policies', 'preferences', 'accounts', 'support']"
      ],
      "metadata": {
        "id": "pNwMlDrpKAmM"
      },
      "execution_count": 8,
      "outputs": []
    },
    {
      "cell_type": "code",
      "source": [
        "def strip_unwanted_urls(urls, exclude_list):\n",
        "    val = []\n",
        "    for url in urls:\n",
        "        if 'https://' in url and not any(exclude_word in url for exclude_word in exclude_list):\n",
        "            res = re.findall(r'(https?://\\S+)', url)[0].split('&')[0]\n",
        "            val.append(res)\n",
        "    return list(set(val))"
      ],
      "metadata": {
        "id": "6-9Wn4jv-wH_"
      },
      "execution_count": 9,
      "outputs": []
    },
    {
      "cell_type": "code",
      "source": [
        "cleaned_urls = strip_unwanted_urls(hrefs, exclude_list)\n",
        "cleaned_urls"
      ],
      "metadata": {
        "colab": {
          "base_uri": "https://localhost:8080/"
        },
        "id": "vB7-BDxp-1jA",
        "outputId": "57b2206e-eba1-4ea9-ab99-5af48a798cf3"
      },
      "execution_count": 10,
      "outputs": [
        {
          "output_type": "execute_result",
          "data": {
            "text/plain": [
              "['https://www.space.com/news/live/international-space-station-live-updates',\n",
              " 'https://www.tweaktown.com/news/93488/scientists-gasped-after-they-opened-the-lid-of-nasas-asteroid-sample-capsule/index.html',\n",
              " 'https://www.space.com/iran-launches-noor-3-imaging-satellite-september-2023',\n",
              " 'https://www.space.com/spacex-starlink-launch-group-6-19',\n",
              " 'https://www.space.com/osiris-rex-asteroid-sample-caniser-lid-lifted-photos',\n",
              " 'https://www.space.com/james-webb-space-telescope-evolved-galaxy-early-universe',\n",
              " 'https://www.space.com/china-yaogan-spy-satellite-launch-september-2023',\n",
              " 'https://www.space.com/harvest-full-moon-will-illuminate-the-sky-on-september-29',\n",
              " 'https://www.google.com/search?q%3Dspace.com%2Blatest%2Bnews%26tbm%3Dnws%26pccc%3D1',\n",
              " 'https://www.space.com/historic-donut-black-hole-is-spinning-new-study-finds',\n",
              " 'https://www.space.com/spacex-launch-psyche-asteroid-mission-one-week']"
            ]
          },
          "metadata": {},
          "execution_count": 10
        }
      ]
    },
    {
      "cell_type": "code",
      "source": [
        "def get_text_from_urls(urls):\n",
        "  articles = []\n",
        "  titles = []\n",
        "  for url in urls:\n",
        "    headers = {'User-Agent': 'Mozilla/5.0'}\n",
        "    cookies = {\"CONSENT\": \"YES+cb.20210720-07-p0.en+FX+410\"}\n",
        "    r = requests.get(url, headers=headers, cookies=cookies)\n",
        "    if r.status_code != 200:\n",
        "      continue\n",
        "\n",
        "    soup = BeautifulSoup(r.text, 'html.parser')\n",
        "    paragraphs = soup.find_all(['p'])\n",
        "    text = [paragraph.text for paragraph in paragraphs]\n",
        "    # words = ' '.join(text)\n",
        "    article = ' '.join(text)\n",
        "    article = article.rstrip()\n",
        "\n",
        "    # Minimal number of symbols in article, prevent returning cookies or terms error\n",
        "    if len(article) < 200:\n",
        "      continue\n",
        "\n",
        "    articles.append(article)\n",
        "    url_h1_tags = soup.find_all(['h1'])\n",
        "    url_titles = [title.text.strip() for title in url_h1_tags]\n",
        "    titles.append(url_titles)\n",
        "\n",
        "  return titles, articles"
      ],
      "metadata": {
        "id": "m5lSLQSQA2x_"
      },
      "execution_count": 11,
      "outputs": []
    },
    {
      "cell_type": "code",
      "source": [
        "titles, articles = get_text_from_urls(cleaned_urls)"
      ],
      "metadata": {
        "id": "-mw2wsaTDdYv"
      },
      "execution_count": 12,
      "outputs": []
    },
    {
      "cell_type": "code",
      "source": [
        "articles[1]"
      ],
      "metadata": {
        "colab": {
          "base_uri": "https://localhost:8080/",
          "height": 291
        },
        "id": "x9BByISMDnO3",
        "outputId": "56856f99-b5fd-406c-d5ff-afff3f5a3195"
      },
      "execution_count": 27,
      "outputs": [
        {
          "output_type": "execute_result",
          "data": {
            "text/plain": [
              "'NASA made history this week when it safely landed asteroid samples for the very first time back on Earth, paving the way for researchers to develop a deeper understanding of these space rocks and the solar system\\'s evolution. NASA\\'s OSIRIS-REx spacecraft delivered the capsule containing samples from the asteroid Bennu to the Utah desert at 10:52 a.m. EDT on September 24, 2023. Notably, Bennu is located approximately 4 billion miles away from Earth, and is the first asteroid sample NASA has ever collected, marking a milestone for the space agency. The container containing the samples was immediately transported to NASA\\'s Johnson Space Center in Houston, Texas, and has now been cracked open. According to a new blog post on NASA\\'s website and posts on the space agency\\'s social media channels, the lid was taken off the canister, and inside was \"dark powder and sand-sized particles on the inside of the lid and base,\" per the NASA Astromaterials X account. The container is expected to carry around 250 grams of asteroid material, which NASA writes on its blog, making Johnson Space Center the home to the \"world\\'s largest collection of astromaterials\". \"Johnson houses the world\\'s largest collection of astromaterials, and curation experts there will perform the intricate disassembly of the Touch and Go Sample Acquisition Mechanism (TAGSAM) to get down to the bulk sample within. These operations are happening in a new laboratory designed specifically for the OSIRIS-REx mission. The aluminum lid was removed inside a glovebox designed to enable working with the large piece of hardware,\" writes NASA \"Johnson houses the world\\'s largest collection of astromaterials, and curation experts there will perform the intricate disassembly of the Touch and Go Sample Acquisition Mechanism (TAGSAM) to get down to the bulk sample within. These operations are happening in a new laboratory designed specifically for the OSIRIS-REx mission. The aluminum lid was removed inside a glovebox designed to enable working with the large piece of hardware,\" writes NASA The space agency will reveal the sample to the world via a livestream scheduled for 11 a.m. ET on October 11. \\nJak Connor\\n Jak joined the TweakTown team in 2017 and has since reviewed 100s of new tech products and kept us informed daily on the latest science, space, and artificial intelligence news. Jak\\'s love for science, space, and technology, and, more specifically, PC gaming, began at 10 years old. It was the day his dad showed him how to play Age of Empires on an old Compaq PC. Ever since that day, Jak fell in love with games and the progression of the technology industry in all its forms. Instead of typical FPS, Jak holds a very special spot in his heart for RTS games. Similar News Related Tags © 1999-2023 Tweak Town Pty Ltd. All Rights Reserved. TweakTown® and its logo are registered trademarks.'"
            ],
            "application/vnd.google.colaboratory.intrinsic+json": {
              "type": "string"
            }
          },
          "metadata": {},
          "execution_count": 27
        }
      ]
    },
    {
      "cell_type": "markdown",
      "source": [
        "Split text from the article into chunks"
      ],
      "metadata": {
        "id": "hRBcXsatO6uv"
      }
    },
    {
      "cell_type": "code",
      "source": [
        "sentences = []\n",
        "for i, article in enumerate(articles):\n",
        "  article = article.replace('.', '.<eos>')\n",
        "  article = article.replace('!', '!<eos>')\n",
        "  article = article.replace('?', '?<eos>')\n",
        "  sentences.append(article.split('<eos>'))"
      ],
      "metadata": {
        "id": "slU8XuUEOFRC",
        "colab": {
          "base_uri": "https://localhost:8080/"
        },
        "outputId": "7cbcf311-5201-4d3d-b15d-ccd760763e57"
      },
      "execution_count": 14,
      "outputs": [
        {
          "output_type": "execute_result",
          "data": {
            "text/plain": [
              "['When you purchase through links on our site, we may earn an affiliate commission.',\n",
              " ' Here’s how it works.',\n",
              " \" The liftoff, the eighth for SpaceX's Falcon Heavy rocket, is scheduled for Oct.\",\n",
              " ' 12.',\n",
              " ' Update for Sept.',\n",
              " ' 29: NASA has announced that Psyche will now launch on Oct.',\n",
              " ' 12.',\n",
              " ' This piece has been updated to reflect the new launch date.',\n",
              " \" We're just two weeks away from the first-ever interplanetary mission for SpaceX's Falcon Heavy rocket.\",\n",
              " \"\\xa0 The Falcon Heavy is scheduled to launch NASA's Psyche spacecraft from the agency's Kennedy Space Center in Florida on Oct.\",\n",
              " ' 12.',\n",
              " ' It will be the eighth mission overall for the powerful SpaceX launcher, which debuted in February 2018, and its first for NASA.',\n",
              " \" Related: NASA's Psyche asteroid probe on track for October launch after 1-year delay The launch window extends through Oct.\",\n",
              " ' 25, and NASA and SpaceX may need the margin given the looming possibility of a government shutdown on Oct.',\n",
              " ' 1.',\n",
              " '\\xa0 If the government does shut down, NASA will likely seek a waiver to proceed with the launch, citing it as an essential operation.',\n",
              " \" But there's no guarantee that waiver will be granted.\",\n",
              " \" A delay wouldn't be the first for Psyche; the mission was originally supposed to launch last year, but it was pushed back after problems were discovered with the spacecraft's flight software.\",\n",
              " ' After it gets off the ground, Psyche will head toward its namesake, a bizarre 170-mile-wide (280 kilometers) metallic object in the main asteroid belt between Mars and Jupiter.',\n",
              " '\\xa0 The spacecraft is scheduled to arrive at its destination in 2029, providing great looks at a very intriguing solar system body.',\n",
              " ' Researchers think Psyche might be the exposed core of a protoplanet, whose rocky outer layers were stripped away by one or more impacts.',\n",
              " ' \"I am so looking forward to seeing those first images,\" Lori Glaze, director of NASA\\'s Planetary Sciences Division, said during a news conference earlier this month.',\n",
              " ' \"They are going to be spectacular, when we finally get to see what this metal asteroid looks like up close.',\n",
              " '\" \\u200a— \\u200aNASA\\'s Psyche asteroid probe on track for October launch after 1-year delay \\u200a—\\u200a Problems with NASA asteroid mission Psyche delay Venus probe\\'s launch to 2031 \\u200a—\\u200a Why NASA is sending a spacecraft to the metal asteroid Psyche The Falcon Heavy is the second-most powerful rocket in operation today, after NASA\\'s Space Launch System (though SpaceX\\'s Starship vehicle will take the crown when it comes online).',\n",
              " ' The Falcon Heavy has launched seven times to date, most recently on July 26.',\n",
              " ' Though the rocket has not yet lofted a NASA payload, it does have multiple U.',\n",
              " 'S.',\n",
              " ' national security missions under its belt.',\n",
              " ' Join our Space Forums to keep talking space on the latest missions, night sky and more!',\n",
              " ' And if you have a news tip, correction or comment, let us know at: community@space.',\n",
              " 'com.',\n",
              " ' Breaking space news, the latest updates on rocket launches, skywatching events and more!',\n",
              " ' Michael Wall is a Senior Space Writer with\\xa0Space.',\n",
              " 'com\\xa0and joined the team in 2010.',\n",
              " '\\xa0He primarily covers exoplanets, spaceflight and military space, but has been known to dabble in the space art beat.',\n",
              " '\\xa0His book about the search for alien life, \"Out There,\" was published on Nov.',\n",
              " ' 13, 2018.',\n",
              " ' Before becoming a science writer, Michael worked as a herpetologist and wildlife biologist.',\n",
              " ' He has a Ph.',\n",
              " 'D.',\n",
              " \" in evolutionary biology from the University of Sydney, Australia, a bachelor's degree from the University of Arizona, and a graduate certificate in science writing from the University of California, Santa Cruz.\",\n",
              " ' To find out what his latest project is, you can follow Michael on Twitter.',\n",
              " ' NASA delays launch of Psyche asteroid mission by 1 week, to Oct.',\n",
              " \" 12 Japan's ispace nabs $55 million NASA moon landing deal, slips 3rd lunar launch to 2026 SpaceX to launch 22 Starlink satellites to orbit from Florida this evening By Andrew JonesSeptember 28, 2023 By Keith CooperSeptember 28, 2023 By Jamie CarterSeptember 28, 2023 By Elizabeth HowellSeptember 28, 2023 By Tereza PultarovaSeptember 28, 2023 By Keith CooperSeptember 28, 2023 By Mike WallSeptember 28, 2023 By Sharmila KuthunurSeptember 27, 2023 By Samantha MathewsonSeptember 27, 2023 By Mike WallSeptember 27, 2023 By Andrew JonesSeptember 27, 2023 Space is part of Future US Inc, an international media group and leading digital publisher.\",\n",
              " ' Visit our corporate site.',\n",
              " ' ©\\nFuture US, Inc.',\n",
              " ' Full 7th Floor, 130 West 42nd Street,\\nNew York,\\nNY 10036.',\n",
              " '']"
            ]
          },
          "metadata": {},
          "execution_count": 14
        }
      ]
    },
    {
      "cell_type": "code",
      "source": [
        "max_tokens_chunk = 500\n",
        "chunks = []\n",
        "\n",
        "for i, article_sentences in enumerate(sentences):\n",
        "  chunks.append([])\n",
        "  current_chunk = 0\n",
        "  for sentence in article_sentences:\n",
        "    if len(chunks[i]) == current_chunk + 1:\n",
        "      if len(chunks[i][current_chunk]) + len(sentence.split(' ')) <= max_tokens_chunk:\n",
        "        chunks[i][current_chunk].extend(sentence.split(' '))\n",
        "      else:\n",
        "        current_chunk += 1\n",
        "        chunks[i].append(sentence.split(' '))\n",
        "    else:\n",
        "      print(current_chunk)\n",
        "      chunks[i].append(sentence.split(' '))"
      ],
      "metadata": {
        "id": "tbFferXePJXr",
        "colab": {
          "base_uri": "https://localhost:8080/"
        },
        "outputId": "c6840748-3808-4787-b08b-89aff009a17b"
      },
      "execution_count": 15,
      "outputs": [
        {
          "output_type": "stream",
          "name": "stdout",
          "text": [
            "0\n",
            "0\n",
            "0\n",
            "0\n",
            "0\n",
            "0\n",
            "0\n",
            "0\n",
            "0\n",
            "0\n"
          ]
        }
      ]
    },
    {
      "cell_type": "code",
      "source": [
        "joined_chunks = []\n",
        "\n",
        "for i, article_chunks in enumerate(chunks):\n",
        "    article_text = []\n",
        "\n",
        "    for chunk_id in range(len(article_chunks)):\n",
        "        article_text.append(' '.join(article_chunks[chunk_id]))\n",
        "\n",
        "    joined_chunks.append(article_text)"
      ],
      "metadata": {
        "id": "4MhGAWlYT54d"
      },
      "execution_count": 16,
      "outputs": []
    },
    {
      "cell_type": "code",
      "source": [
        "joined_chunks[0][1]"
      ],
      "metadata": {
        "id": "7ksaft-IU0dn",
        "colab": {
          "base_uri": "https://localhost:8080/",
          "height": 109
        },
        "outputId": "0d082bb2-4260-4f13-d5f1-8897a21f92fb"
      },
      "execution_count": 17,
      "outputs": [
        {
          "output_type": "execute_result",
          "data": {
            "text/plain": [
              "'\\xa0 The astronauts for Expeditions 69/70: NASA astronaut Jasmin Moghbeli, the second Iranian-American in space; European Space Agency (ESA) astronaut Andreas Mogensen; Japan Aerospace Exploration Agency (JAXA) astronaut Satoshi Furukawa; and Konstantin Borisov of Russia\\'s space agency,\\xa0Roscosmos.  Read more: How to watch SpaceX launch Crew-7 astronauts for NASA early on Aug.  25 with free livestream  An orbiting astronaut found out about Chandrayaan-3\\'s successful landing on the\\xa0moon\\xa0today (Aug.  23) on social media.  It was \"all over the news\" during the lunch break of Sultan Al Neyadi, an\\xa0International Space Station\\xa0astronaut conducting the first long-duration orbital mission for the United Arab Emirates (UAE).  \"It was really big,\" the\\xa0SpaceX\\xa0Crew-6 astronaut told Space. com from orbit during a press conference today.  \"I saw multiple clips of mission control in India . . .  it was really great watching that achievement, and, hopefully, as I\\'ve mentioned, many nations will follow the same footsteps of India. \" Read more: India\\'s historic Chandrayaan-3 moon landing celebrated by ISS astronauts  The\\xa0SpaceX\\xa0Crew-7 astronauts arrived at NASA\\'s\\xa0Kennedy Space Center on Sunday (Aug.  20)\\xa0for their\\xa0International Space Station\\xa0launch.  They will head to space no earlier than Aug.  25, and you can watch the whole thing live here at Space. com, via NASA TV.  On board is Jasmin Moghbeli, the second Iranian-American to reach space on Crew-7, and joining her is a fully international crew: Japan Aerospace Exploration Agency (JAXA) astronaut Satoshi Furukawa, Roscosmos cosmonaut Konstantin Borisov and ESA (European Space Agency) astronaut Andreas Mogensen.  Read more: SpaceX Crew-7 astronauts arrive in Florida ahead of Aug.  25 launch (photos, video)  The Northrop Grumman Cygnus NG-19 spacecraft berthed with the the International Space Station on Friday (Aug.  4), bringing 8,200 pounds (3,700 kg) of experiments and supplies to the orbiting lab after two days in space.  The cargo craft is the last to launch on a Northrop Grumman Antares rocket using a first stage built in Ukraine.  This spacecraft is named after NASA astronaut Laurel Clark,\\xa0who died during the\\xa0Columbia space shuttle disaster\\xa0in 2003.  Read more: Cygnus space freighter arrives at space station with 8,200 pounds of cargo aboard  The humanoid robot Rollin\\' Justin is exploring landscapes like the\\xa0moon\\xa0or\\xa0Mars, driving in Germany under control from orbiting International Space Station astronauts.  Justin most recently worked with NASA astronaut Frank Rubio in July, and is next slated to partner with European Space Agency astronaut Andreas Mogensen after the SpaceX Crew-7 launch on Aug.  17.  \"It\\'s one of the experiments that I\\'m really looking forward to,\" Mogensen said in an individual interview with Space. com on July 25.  Read more: Meet Rollin\\' Justin, the human-like robot that astronauts control from space  European Space Agency Andreas Mogensen captured\\xa0auroras\\xa0when he last stayed on the\\xa0International Space Station\\xa0(ISS) in 2015, and he\\'s aiming to do it again soon.'"
            ],
            "application/vnd.google.colaboratory.intrinsic+json": {
              "type": "string"
            }
          },
          "metadata": {},
          "execution_count": 17
        }
      ]
    },
    {
      "cell_type": "markdown",
      "source": [
        "Summarize all chunks"
      ],
      "metadata": {
        "id": "fh8o1xD9ke6p"
      }
    },
    {
      "cell_type": "code",
      "source": [
        "def summarize_chunks(chunks):\n",
        "  summarized_texts = []\n",
        "  for article_chunks in chunks:\n",
        "    print(len(article_chunks))\n",
        "    article_text = []\n",
        "    result = summarizer(article_chunks, max_length=120, min_length=30, do_sample=False)\n",
        "    article_text = ' '.join([summ['summary_text'] for summ in result])\n",
        "    summarized_texts.append(article_text)\n",
        "  return summarized_texts"
      ],
      "metadata": {
        "id": "EV02OsMTmPfb"
      },
      "execution_count": 18,
      "outputs": []
    },
    {
      "cell_type": "code",
      "source": [
        "summarized_texts = summarize_chunks(joined_chunks)"
      ],
      "metadata": {
        "id": "zTsWXi5opIvm",
        "colab": {
          "base_uri": "https://localhost:8080/"
        },
        "outputId": "0f57360b-9f8e-4c8d-f455-7e0e03d99e56"
      },
      "execution_count": 19,
      "outputs": [
        {
          "output_type": "stream",
          "name": "stdout",
          "text": [
            "35\n",
            "1\n",
            "2\n",
            "2\n",
            "2\n",
            "2\n",
            "2\n",
            "3\n",
            "2\n",
            "2\n"
          ]
        }
      ]
    },
    {
      "cell_type": "code",
      "source": [
        "summarized_texts[-1]"
      ],
      "metadata": {
        "id": "4PuFpGPz4pkS",
        "colab": {
          "base_uri": "https://localhost:8080/",
          "height": 91
        },
        "outputId": "1c1be0db-c0d5-4d2d-a5bb-c82618c7fb34"
      },
      "execution_count": 26,
      "outputs": [
        {
          "output_type": "execute_result",
          "data": {
            "text/plain": [
              "\" The launch window for NASA's Psyche asteroid probe has been extended to Oct. 25 . The mission was originally supposed to launch last year, but it was pushed back after problems were discovered with the spacecraft's flight software . It will be the eighth mission overall for the powerful Falcon Heavy rocket, which debuted in February 2018 .  Michael Wall is a Senior Space Writer with Space.com and joined the team in 2010 . He primarily covers exoplanets, spaceflight and military space, but has been known to dabble in the space art beat . Before becoming a science writer, he worked as a herpetologist and wildlife biologist .\""
            ],
            "application/vnd.google.colaboratory.intrinsic+json": {
              "type": "string"
            }
          },
          "metadata": {},
          "execution_count": 26
        }
      ]
    },
    {
      "cell_type": "code",
      "source": [
        "all_summarized_text = \"\"\n",
        "for summarized_text in summarized_texts:\n",
        "  all_summarized_text += summarized_text"
      ],
      "metadata": {
        "id": "lu3bra8U4sLj"
      },
      "execution_count": 21,
      "outputs": []
    },
    {
      "cell_type": "code",
      "source": [
        "all_summarized_text"
      ],
      "metadata": {
        "id": "i24pAUPAynwW",
        "colab": {
          "base_uri": "https://localhost:8080/",
          "height": 1000
        },
        "outputId": "909c5bda-fba2-4bbc-f184-9457b11a7683"
      },
      "execution_count": 22,
      "outputs": [
        {
          "output_type": "execute_result",
          "data": {
            "text/plain": [
              "' Astronaut Frank Rubio and two Russian cosmonauts are scheduled to return to Earth Wednesday (Sept. 27) after a year in space . SpaceX\\'s Crew-7 astronaut launch to the International Space Station has been pushed back to Saturday (Aug. 26) You can watch all these events live here at Space. com, courtesy of NASA.com .  Astronaut found out about Chandrayaan-3\\'s successful landing on the moon today (Aug. 23) on social media . India\\'s historic historic moon landing celebrated by ISS astronauts . The crew for Expeditions 69/70 will head to the International Space Station no earlier than Aug. 25 . On board is Jasmin Moghbeli, the second Iranian-American to reach space on Crew-7 .  A SpaceX Dragon cargo spacecraft is scheduled to undock from the International Space Station today (June 29) All members of Expedition 69 on the ISS were safe during a brief power outage at NASA Tuesday (July 25) NASA\\'s Mission Control in Houston briefly lost power and is investigating the cause of the 90-minute incident . A swift spacewalk wrapped up earlier today (Thursday, June 15) with all major objectives finished ahead of schedule .  NASA astronauts Steve Bowen and Warren \"Woody\" Hoburg are conducting a spacewalk today (June 9) to install a new upgraded IROSA (International Space Station Roll-Out Solar Array) for the International Space Station (ISS) The pair exited the station\\'s Quest airlock at 9:15 a.m. EDT (1315 UTC) The EVA will last approximately six and a half hours . Russian cosmonauts Sergey Prokopyev and Dmitri Petelin will perform a six-hour spacewalking on Wednesday (May 3), scheduled to begin at  SpaceX\\'s Crew-5 astronaut mission for NASA is scheduled to depart the International Space Station on Saturday (March 11) A SpaceX Dragon capsule carrying the crew-5 roster is expected to undock from the ISS at 2:05 a.m. EST (0705 GMT) on Saturday . You can watch the Dragon\\'s departure live here at Space. com, courtesy of NASA, or directly via the agency . A SpaceX Falcon 9 rocket will officially reattempt launch of the Crew-6 mission Thursday (March 2) at 12:34 a. m. ET (0534 GMT  SpaceX Crew-6 crew of four astronauts will arrive at NASA\\'s Kennedy Space Center today (Feb. 21) and will arrive on Monday (February 27) A SpaceX Falcon 9 rocket will launch Crew--6\\'s Dragon Capsule Endeavour on Monday at 1:45 a. m. EST (0645 GMT) Russia will launch its next Soyuz spacecraft in February after all, after announcing just days before that it would make the liftoff in March . The crew will dock with the Harmony module at the ISS on Friday (March 3)  NASA\\'s Nicole Mann and Koichi Wakata are starting the second spacewalk of 2023 today (Thursday, Feb. 2) The two astronauts have switched their spacesuits to battery power and the station hatch is open . Watch the extravehicular activity live here at Space. com, courtesy of NASA, or directly via the agency .  A coolant leak on a Soyuz MS-22 crew capsule spewed coolant around its docking port on the International Space Station . Russian cosmonaut Anna Kikina is using the space station\\'s European Robotic Arm to inspect the Soyuz spacecraft . Flight controllers with Russia\\'s Roscosmos and NASA are weighing options on what to do with Soyuz . SpaceX-delivered science is being unloaded right now in space .  SpaceX Crew-4 splashed down successfully near Jacksonville, Florida at 4:55 p.m. EDT (2055 GMT) The crew of four remains on track for splashdown near Jacksonville . Saudi astronauts will fly to the International Space Station on private Axiom Space mission . Expedition 67 commander Samantha Cristoforetti had a cosplay strategy in orbit .  SpaceX\\'s Crew-4 successfully finished a normal \"prop waste\" burn on the journey home to get rid of excess propellant ahead of re-entry . Nominal splashdown is expected later today around 4:55 p. m. EDT (2055 GMT) NASA has not yet disclosed if the splashdown time will change, except to say there is a one-hour window for undocking and the timing now falls in the middle of that window .  Crew-4\\'s Dragon capsule is scheduled to undock from the International Space Station at 7:05 p.m. EDT (2305 GMT) Wednesday (Oct. 11) Crew-5 astronauts are scheduled to arrive at the ISS on Thursday night . The current ISS commander will hand the reins of the orbiting lab over to Russian cosmonaut Sergey Prokopyev during a change-of-command ceremony .  Crew-5 may launch as soon as Oct. 3 on a historic mission to the International Space Station . The mission is scheduled to launch from Pad 39A at Kennedy Space Center (KSC) in Florida . Hurricane Ian, which may be \\'catastrophic\\' to Florida, has delayed the launch; the new target date is uncertain . The crew had a swift trip to orbit, taking just two orbits and three hours to reach their destination .  NASA is concluding coverage of an International Space Station (ISS) spacewalk that saw a robotic arm and a big boom being manipulated in orbit . NASA said Wednesday (Sept. 14) that it has asked private industry for proposals for two new private missions to the ISS . The Houston-based company Axiom Space sent three paying customers and a retired NASA spaceflyer to ISS earlier this year .  NASA Television is broadcasting the spacewalk, which started this morning at 9:25 a. m. EDT (1325 GMT) Expedition 67 commander Oleg Artemyev and flight engineer Denis Matveev are far ahead of schedule and working on get-ahead tasks . Both cosmonauts reported they were feeling great when asked by Russian mission control in Moscow, during a short break before orbital sunrise .  Expedition 67 commander Oleg Artemyev and flight engineer Denis Matveev exited Poisk module at 9:25 a.m. EDT (1325 GMT) The duo are configuring the European Robotic Arm . They have removed an external control panel on the arm and are now working on bundling insulation . This excursion comes after a spacewalk was cut short in August due to a power issue .  Former NASA chief says Congress needs to do more to have commercial space stations ready in time . Jim Bridenstine says Congress is moving too slowly on approving replacements to the International Space Station . Russia is now saying it will pull out of the ISS after 2024 to focus on building a Russian-owned space station . A solar storm generated auroras within view of the International space station crew .  Russian cosmonaut Oleg Artemyev and crewmate Denis Matveev working on the station\\'s new European Robotic Arm . Space suit experienced an unexpected voltage fluctuation about three hours in the spacewalk . Russian flight controllers ordered Artemye back inside the Poisk airlock to plug his suit into station\\'s power system . Matvee will not complete the robotic arm prep work due to it being cut short .  Russian cosmonauts Oleg Artemyev and Denis Matveev began their spacewalk at 9:53 a.m. EDT (1353 GMT) They are now waiting for the arm to be maneuvered into the correct configuration to install a second elbow camera . The cameras will be useful to allow for correct depth perception of the arm, needed to maneuver objects safely in the harsh lighting conditions of space .  SpaceX and the passengers of Crew-5 say they are confident NASA\\'s rigorous safety requirements will be met . The Falcon 9 booster sustained slight damage after colliding with a bridge during transport . SpaceX is working through analysis \"to assure that that stage would be ready to go, and absolutely safe to fly the crew as we do for every mission,\" said Benjamin Reed, SpaceX\\'s senior director of the human spaceflight program . A new solicitation notice by NASA, not finalized, includes this request among other changes for private astronaut missions .  The official end to the Russian-segment spacewalk was at 5:55 p.m. EDT (2155 GMT) Samantha Cristoforetti and Oleg Artemyev spent 7 hours, 5 minutes working outside the International Space Station . A piece of space debris that may come into conjunction, or come nearby, may come near the orbiting complex \"well after\" the space station is concluded, a NASA spokesperson said in a live update .  Soyuz MS-19 spacecraft carrying NASA astronaut Mark Vande Hei and Russian cosmonauts Anton Shkaplerov and Pyotr Dubrov landed safely on the steppes of Kazakhstan at 7:28 a.m. EDT (1128 GMT) Samantha Cristoforetti will make history as the first European female female spacewalker . Oleg Artemyev will embark on his third spacewalk on the Russian segment of the ISS .  The Soyuz MS-19 spacecraft carrying a crew of three has deployed its main parachute and is safely descending back to Earth . The crew capsule will deploy a main parachute to slow its descent to the Earth\\'s surface in Kazakhstan . Landing remains on schedule for 7:28 am ET (1128 GMT) landing on the steppes of Kazakhstan .  The Soyuz MS-19 spacecraft undocked from the International Space Station on time at 3:21 a.m. EDT (0721 GMT) You can watch the undocking live on Space.com\\'s homepage, courtesy of NASA TV . Three Russian cosmonauts will undock from the space station today at about 5:30 p. m. ET (2130 GMT) A Soyuz spacecraft carrying the trio will land at 7:28 a. m . ET (1128 GMT)  Northrop Grumman\\'s Cygnus NG-17 cargo ship is officially in orbit and chasing the International Space Station on a 2-day rendezvous track . SpaceX\\'s Dragon CRS-24 cargo ship has successfully undocked itself . Russia\\'s Progress 80 cargo resupply ship, which launched on Monday (Feb. 14), will arrive early Thursday (02.06 a.m. EST) You can watch the docking live in the window above, courtesy of NASA TV, or directly via NASA\\'s website .  NASA\\'s live webcast for today\\'s SpaceX Dragon CRS-24 undocking at the International Space Station is underway . The command to undock will be sent by SpaceX at 10:35 a. m. EST (1540 GMT) If all goes well, Dragon will perform two short departure burns and ultimately return to Earth on Monday afternoon at 4:05 p.m. ET (2105 GMT)  SpaceX\\'s Dragon CRS-24 cargo ship will dock with the International Space Station at 3:41 a. m. EST (0841 GMT) You can watch its approach and docking live in the NASA TV video feed at the top of this page . Two Russian cosmonauts will take a spacewalk to outfit the orbiting lab\\'s new Prichal module .  SpaceX\\'s Dragon CRS-24 cargo ship has successfully opened its nose cone to uncover its docking port . The spacecraft, which has visited the space station before, is scheduled to dock at the orbiting laboratory on Wednesday, Dec. 22, at 4:30 a. m. EST (0930 GMT) The mission will deliver about 6,500 pounds of supplies and experiment gear to the International Space Station .  Japanese billionaire Yusaku Maezawa, his videographer Yozo Hirano and Russian cosmonaut Alexander Misurkin have exited the Soyuz capsule . Soyuz landed upright and did not tip over after the impact, which could help speed up the recovery process . NASA TV commentator Brandi Dean said there is \"no reason to suspect that anything is wrong\" Soyuz MS-20 has successfully completed a deorbit burn after firing its engines for 4 minutes and 39 seconds .  Japanese billionaire space tourist Yusaku Maezawa, his video producer Yozo Hirano and Russian cosmonaut Alexander Misurkin will return to Earth tonight . The Soyuz MS-20 spacecraft is scheduled to undock at 6:50 p. m.  EST (2350 GMT) and land in Kazakhstan at 10:13 p.m. EST (0313 GMT) You can watch it live now in the NASA TV video feed at the top of the page .  Japanese billionaire Yusaku Maezawa, video producer Yozo Hirano and Russian cosmonaut Alexander Misurkin have climbed out of their Sokol launch pressure suits and are preparing to enter the International Space Station . The Soyuz MS-20 crew are conducting final leak checks between their Soyuz and the space station before opening the hatches between their two spacecraft . NASA is broadcasting live views of today\\'s hatch opening ceremony, which you can watch in the video feed at the top of this page .  Russia\\'s Progress 79 cargo ship has successfully docked at the International Space Station . The spacecraft is carrying more than 5,600 pounds of supplies and gear -- 2.8 tons in all -- for the station\\'s seven-astronaut crew . NASA will be hosting a news conference at 2 p.m. ET (1900 GMT) tomorrow (Nov. 29) to discuss the upcoming spacewalk .  The uncrewed Russian cargo ship Progress 79, which launched into orbit late Wednesday (Oct. 27), is due to dock at the International Space Station tonight . The ship will link up to the station\\'s Russian-built Zvezda service module at 9:34 p. m. EDT (0134 GMT) NASA\\'s live webcast of the rendezvous will begin at 8:45 p.m. (0045 GMT) You can watch the events live in the window at the top of this page . NASA and SpaceX will also conduct a launch readiness review press conference for the  Russian actress Yulia Peresild and producer Klim Shipenko landed with cosmonaut Oleg Novitskiy Sunday (Oct. 17) at 12:35 a. m. EDT (0435 GMT) on the steppe of Kazakhstan . NASA TV\\'s live coverage of the deorbit burn and landing will resume tonight at 11:15 p.m. ET (0315 GMT) You can watch a live webcast of the docking in the window above . Lightning storms, auroras and city lights glow across planet Earth in new timelapse video .  The Soyuz MS-19 spacecraft carrying a Russian actress and her producer/director has successfully docked at the International Space Station . It linked up with a port on the station\\'s Rassvet module at 8:22 a.m. EDT (1222 GMT) Hatches between the space station and their Soyuz M-19 are due to be opened at 10:05 a. m. EDT . You can watch the hatch opening and a welcome ceremony live in the NASA TV video feed at the top of this page .  The Soyuz MS-19 spacecraft will dock its Russian film crew and cosmonaut commander at the International Space Station at 8:12 a. m. EDT (1212 GMT) NASA\\'s live coverage will resume at 9:30 a.m. ET (1330 GMT) A Russian actress and her producer-director are on set at the space station for 12 days of movie making . NASA\\'s webcast for today\\'s Soyuz docking has begun . OSIRIS-REx landed asteroid samples for the very first time back on Earth this week . The container containing the samples was immediately transported to NASA\\'s Johnson Space Center in Houston, Texas, and has now been cracked open . NASA will reveal the sample to the world via a livestream scheduled for 11 a.m. ET on October 11 . Iran\\'s Revolutionary Guards, a branch of the nation\\'s armed forces, launched the Noor 3 satellite atop a Qasem rocket on Wednesday . The U.S. Space Force catalogued two objects in a roughly 280-mile-high (450 kilometers) orbit . The spacecraft\\'s two predecessors, Noor 1 and Noor 2, launched in April 2020 and March 2022, respectively .  Michael Wall is a Senior Space Writer with Space. com . He primarily covers exoplanets, spaceflight and military space, but has been known to dabble in the space art beat . His book about the search for alien life, \"Out There,\" was published on Nov. 13, 2018 . A SpaceX Falcon 9 rocket will launch 22 Starlink satellites from Florida\\'s Space Coast this evening (Sept. 29) The Falcon 9 is scheduled to lift off from Cape Canaveral Space Force Station at 6:49 p. m. EDT (2249 GMT) It will be the 10th liftoff and landing for this Falcon 9 first stage . The company\\'s rocket-reuse record is 17 flights .  Photos of Stoke Space\\'s \\'Hopper\\' reusuable rocket test are just amazing . NASA delays launch of Psyche asteroid mission by 1 week, to Oct. 31 . Scientists at NASA\\'s Johnson Space Center in Houston lifted the OSIRIS-REx asteroid canister\\'s outer lid on Tuesday (Sept. 26) \"Scientists gasped as the lid was lifted,\" NASA\\'s Astromaterials Research and Exploration Science division, which is based at JSC, wrote Tuesday in a post on X . The operation revealed \"dark powder and sand-sized particles on the inside of the lid and base\" The asteroid material landed in Utah on Sunday and made its way to Houston by plane on Monday .  Michael Wall is a Senior Space Writer with Space. com and joined the team in 2010 . He primarily covers exoplanets, spaceflight and military space . His book about the search for alien life, \"Out There,\" was published on Nov. 13, 2018 . Astronomers have long thought that newly minted galaxies that began merging together just after the Big Bang, about 13. 7 billion years ago, were too fragile to boast any noticeable structures like spiral arms, bars or rings . The new findings were based on an analysis of 3,956 galaxies, which astronomers say is the biggest sample that has been studied with JWST data .  James Webb Space Telescope could detect life on Earth from across the galaxy, new study suggests . The findings suggest a need for new ideas that explain how galaxies evolved over the past 10 billion years . The research is described in a paper published Sept. 22 in The Astrophysical Journal . China has launched another new Yaogan reconnaissance satellite . A Long March 4C rocket lifted off from Jiuquan Satellite Launch Center in the Gobi Desert . The launch was China\\'s 45th of 2023 . It follows the launch of the third Yaogan satellite earlier this month .  September 28, 2023 is 20 years since the birth of the Tiangong space station . This month is the 20th anniversary of the first manned mission to the moon . This Friday’s full moon will be a somewhat special one in that it will carry the title of \"Harvest Moon\" The moon will turn full when it reaches a spot in the sky opposite (180-degrees) to the sun . The Harvest Moon is the one that comes closest to the September equinox . This Harvest Moon will also mark the last of four so-called \"supermoons\" in a row .  The ecliptic makes its smallest angle with respect to the horizon for those living in the Northern Hemisphere . For those living near the Arctic Circle, the moon appears to rise about the same time each night during the Harvest Moon\\'s reign . In Melbourne, Australia, for instance, the night-to-night difference amounts to 75 minutes .  Joe Rao serves as an instructor and guest lecturer at New York\\'s Hayden Planetarium . Joe is an 8-time Emmy-nominated meteorologist who served the Putnam Valley region of New York for over 21 years . You can find him on Twitter and YouTube tracking lunar and solar eclipses, meteor showers and more . Supermassive black hole M87* is now confirmed to be spinning, according to a new study . A powerful jet of radiation and particles from the black hole\\'s poles appears to be swinging like a pendulum on a 11-year cycle . Scientists say this is because of gravitational interactions between the spinning black hole, which is 6.5 billion times more massive than the sun, and the disk of material around it .  The specific processes that cause black holes to spin are not very well understood . A leading theory suggests smaller black holes form by feeding on star matter through an accretion disk, which causes them to spin rapidly . Over eons, they are thought to collide and eventually merge to form supermassive black holes . The launch window for NASA\\'s Psyche asteroid probe has been extended to Oct. 25 . The mission was originally supposed to launch last year, but it was pushed back after problems were discovered with the spacecraft\\'s flight software . It will be the eighth mission overall for the powerful Falcon Heavy rocket, which debuted in February 2018 .  Michael Wall is a Senior Space Writer with Space.com and joined the team in 2010 . He primarily covers exoplanets, spaceflight and military space, but has been known to dabble in the space art beat . Before becoming a science writer, he worked as a herpetologist and wildlife biologist .'"
            ],
            "application/vnd.google.colaboratory.intrinsic+json": {
              "type": "string"
            }
          },
          "metadata": {},
          "execution_count": 22
        }
      ]
    },
    {
      "cell_type": "markdown",
      "source": [
        "Create a news article with all of the summarized texts"
      ],
      "metadata": {
        "id": "tzQkPkQJzXg0"
      }
    },
    {
      "cell_type": "code",
      "source": [
        "# model = AutoModelForSeq2SeqLM.from_pretrained(\"google/flan-t5-large\")\n",
        "# tokenizer = AutoTokenizer.from_pretrained(\"google/flan-t5-large\")"
      ],
      "metadata": {
        "id": "1BpRhOvrypXU"
      },
      "execution_count": null,
      "outputs": []
    },
    {
      "cell_type": "code",
      "source": [
        "# summarized_texts"
      ],
      "metadata": {
        "id": "HvRA4m1785SL"
      },
      "execution_count": null,
      "outputs": []
    },
    {
      "cell_type": "code",
      "source": [
        "# def make_news_summary(all_chunks):\n",
        "#   summary_space_news = \"\"\n",
        "#   for chunk in all_chunks:\n",
        "#     inputs = tokenizer(f\"Make this text like it will be used in space news report: {chunk}\", return_tensors='pt', truncation=True, padding=True)\n",
        "#     outputs = model.generate(**inputs, max_length=512, min_length=len(inputs['input_ids'][0]), temperature=0.25)\n",
        "\n",
        "#     # Convert the generated output tensor to a string\n",
        "#     summary_text = tokenizer.decode(outputs[0], skip_special_tokens=True, max_length=512)\n",
        "#     print(outputs)\n",
        "#     summary_space_news += summary_text + '\\n'\n",
        "#   return summary_space_news"
      ],
      "metadata": {
        "id": "T84WsoMMzzQB"
      },
      "execution_count": null,
      "outputs": []
    },
    {
      "cell_type": "code",
      "source": [
        "# summary_space_news = make_news_summary(summarized_texts)"
      ],
      "metadata": {
        "id": "Le8On5H70-1l"
      },
      "execution_count": null,
      "outputs": []
    },
    {
      "cell_type": "code",
      "source": [
        "#summary_space_news"
      ],
      "metadata": {
        "id": "448mtWMS78NI"
      },
      "execution_count": null,
      "outputs": []
    },
    {
      "cell_type": "markdown",
      "source": [
        "NLP for news reading"
      ],
      "metadata": {
        "id": "7vk97RU3VI8g"
      }
    },
    {
      "cell_type": "code",
      "source": [
        "!pip install gTTS"
      ],
      "metadata": {
        "colab": {
          "base_uri": "https://localhost:8080/"
        },
        "id": "tyRA-880nx_O",
        "outputId": "2884179e-bf43-4ab0-986f-ba113d3d2bdb"
      },
      "execution_count": 23,
      "outputs": [
        {
          "output_type": "stream",
          "name": "stdout",
          "text": [
            "Collecting gTTS\n",
            "  Downloading gTTS-2.3.2-py3-none-any.whl (28 kB)\n",
            "Requirement already satisfied: requests<3,>=2.27 in /usr/local/lib/python3.10/dist-packages (from gTTS) (2.31.0)\n",
            "Requirement already satisfied: click<8.2,>=7.1 in /usr/local/lib/python3.10/dist-packages (from gTTS) (8.1.7)\n",
            "Requirement already satisfied: charset-normalizer<4,>=2 in /usr/local/lib/python3.10/dist-packages (from requests<3,>=2.27->gTTS) (3.2.0)\n",
            "Requirement already satisfied: idna<4,>=2.5 in /usr/local/lib/python3.10/dist-packages (from requests<3,>=2.27->gTTS) (3.4)\n",
            "Requirement already satisfied: urllib3<3,>=1.21.1 in /usr/local/lib/python3.10/dist-packages (from requests<3,>=2.27->gTTS) (1.26.16)\n",
            "Requirement already satisfied: certifi>=2017.4.17 in /usr/local/lib/python3.10/dist-packages (from requests<3,>=2.27->gTTS) (2023.7.22)\n",
            "Installing collected packages: gTTS\n",
            "Successfully installed gTTS-2.3.2\n"
          ]
        }
      ]
    },
    {
      "cell_type": "code",
      "source": [
        "from gtts import gTTS\n",
        "tts = gTTS(text=all_summarized_text, lang='en')\n",
        "filename='voice.mp3'\n",
        "tts.save(filename)"
      ],
      "metadata": {
        "id": "XkIX32dUniui"
      },
      "execution_count": 24,
      "outputs": []
    }
  ]
}