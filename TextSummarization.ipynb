{
  "nbformat": 4,
  "nbformat_minor": 0,
  "metadata": {
    "colab": {
      "provenance": [],
      "authorship_tag": "ABX9TyPoOuuovg+Bir1Wo8Kp0s5g",
      "include_colab_link": true
    },
    "kernelspec": {
      "name": "python3",
      "display_name": "Python 3"
    },
    "language_info": {
      "name": "python"
    },
    "widgets": {
      "application/vnd.jupyter.widget-state+json": {
        "788f6eb3beb949a4aaf4eef63c56ecb4": {
          "model_module": "@jupyter-widgets/controls",
          "model_name": "HBoxModel",
          "model_module_version": "1.5.0",
          "state": {
            "_dom_classes": [],
            "_model_module": "@jupyter-widgets/controls",
            "_model_module_version": "1.5.0",
            "_model_name": "HBoxModel",
            "_view_count": null,
            "_view_module": "@jupyter-widgets/controls",
            "_view_module_version": "1.5.0",
            "_view_name": "HBoxView",
            "box_style": "",
            "children": [
              "IPY_MODEL_0546fd5693f74a29a5ece1c6461121be",
              "IPY_MODEL_c7299d35ac1744deab5dbfcde44bdd40",
              "IPY_MODEL_4aa218b9ae234ec2b511a1a3a18bc469"
            ],
            "layout": "IPY_MODEL_d76d870b3cb341388a2dbf2aeb35c61b"
          }
        },
        "0546fd5693f74a29a5ece1c6461121be": {
          "model_module": "@jupyter-widgets/controls",
          "model_name": "HTMLModel",
          "model_module_version": "1.5.0",
          "state": {
            "_dom_classes": [],
            "_model_module": "@jupyter-widgets/controls",
            "_model_module_version": "1.5.0",
            "_model_name": "HTMLModel",
            "_view_count": null,
            "_view_module": "@jupyter-widgets/controls",
            "_view_module_version": "1.5.0",
            "_view_name": "HTMLView",
            "description": "",
            "description_tooltip": null,
            "layout": "IPY_MODEL_93916a33615d49eb9af1aaf1f33bdb27",
            "placeholder": "​",
            "style": "IPY_MODEL_393fee53e0b74e4898676f0bf18ca94f",
            "value": "Downloading (…)lve/main/config.json: 100%"
          }
        },
        "c7299d35ac1744deab5dbfcde44bdd40": {
          "model_module": "@jupyter-widgets/controls",
          "model_name": "FloatProgressModel",
          "model_module_version": "1.5.0",
          "state": {
            "_dom_classes": [],
            "_model_module": "@jupyter-widgets/controls",
            "_model_module_version": "1.5.0",
            "_model_name": "FloatProgressModel",
            "_view_count": null,
            "_view_module": "@jupyter-widgets/controls",
            "_view_module_version": "1.5.0",
            "_view_name": "ProgressView",
            "bar_style": "success",
            "description": "",
            "description_tooltip": null,
            "layout": "IPY_MODEL_40d64e0939424f699b455092e37c2195",
            "max": 1802,
            "min": 0,
            "orientation": "horizontal",
            "style": "IPY_MODEL_56b0dd7436a944b2b675162711b2f0a0",
            "value": 1802
          }
        },
        "4aa218b9ae234ec2b511a1a3a18bc469": {
          "model_module": "@jupyter-widgets/controls",
          "model_name": "HTMLModel",
          "model_module_version": "1.5.0",
          "state": {
            "_dom_classes": [],
            "_model_module": "@jupyter-widgets/controls",
            "_model_module_version": "1.5.0",
            "_model_name": "HTMLModel",
            "_view_count": null,
            "_view_module": "@jupyter-widgets/controls",
            "_view_module_version": "1.5.0",
            "_view_name": "HTMLView",
            "description": "",
            "description_tooltip": null,
            "layout": "IPY_MODEL_59e2a9ac8116454b86b9734afd1c6fbb",
            "placeholder": "​",
            "style": "IPY_MODEL_072d1b419678418989088dd5eb12659c",
            "value": " 1.80k/1.80k [00:00&lt;00:00, 26.5kB/s]"
          }
        },
        "d76d870b3cb341388a2dbf2aeb35c61b": {
          "model_module": "@jupyter-widgets/base",
          "model_name": "LayoutModel",
          "model_module_version": "1.2.0",
          "state": {
            "_model_module": "@jupyter-widgets/base",
            "_model_module_version": "1.2.0",
            "_model_name": "LayoutModel",
            "_view_count": null,
            "_view_module": "@jupyter-widgets/base",
            "_view_module_version": "1.2.0",
            "_view_name": "LayoutView",
            "align_content": null,
            "align_items": null,
            "align_self": null,
            "border": null,
            "bottom": null,
            "display": null,
            "flex": null,
            "flex_flow": null,
            "grid_area": null,
            "grid_auto_columns": null,
            "grid_auto_flow": null,
            "grid_auto_rows": null,
            "grid_column": null,
            "grid_gap": null,
            "grid_row": null,
            "grid_template_areas": null,
            "grid_template_columns": null,
            "grid_template_rows": null,
            "height": null,
            "justify_content": null,
            "justify_items": null,
            "left": null,
            "margin": null,
            "max_height": null,
            "max_width": null,
            "min_height": null,
            "min_width": null,
            "object_fit": null,
            "object_position": null,
            "order": null,
            "overflow": null,
            "overflow_x": null,
            "overflow_y": null,
            "padding": null,
            "right": null,
            "top": null,
            "visibility": null,
            "width": null
          }
        },
        "93916a33615d49eb9af1aaf1f33bdb27": {
          "model_module": "@jupyter-widgets/base",
          "model_name": "LayoutModel",
          "model_module_version": "1.2.0",
          "state": {
            "_model_module": "@jupyter-widgets/base",
            "_model_module_version": "1.2.0",
            "_model_name": "LayoutModel",
            "_view_count": null,
            "_view_module": "@jupyter-widgets/base",
            "_view_module_version": "1.2.0",
            "_view_name": "LayoutView",
            "align_content": null,
            "align_items": null,
            "align_self": null,
            "border": null,
            "bottom": null,
            "display": null,
            "flex": null,
            "flex_flow": null,
            "grid_area": null,
            "grid_auto_columns": null,
            "grid_auto_flow": null,
            "grid_auto_rows": null,
            "grid_column": null,
            "grid_gap": null,
            "grid_row": null,
            "grid_template_areas": null,
            "grid_template_columns": null,
            "grid_template_rows": null,
            "height": null,
            "justify_content": null,
            "justify_items": null,
            "left": null,
            "margin": null,
            "max_height": null,
            "max_width": null,
            "min_height": null,
            "min_width": null,
            "object_fit": null,
            "object_position": null,
            "order": null,
            "overflow": null,
            "overflow_x": null,
            "overflow_y": null,
            "padding": null,
            "right": null,
            "top": null,
            "visibility": null,
            "width": null
          }
        },
        "393fee53e0b74e4898676f0bf18ca94f": {
          "model_module": "@jupyter-widgets/controls",
          "model_name": "DescriptionStyleModel",
          "model_module_version": "1.5.0",
          "state": {
            "_model_module": "@jupyter-widgets/controls",
            "_model_module_version": "1.5.0",
            "_model_name": "DescriptionStyleModel",
            "_view_count": null,
            "_view_module": "@jupyter-widgets/base",
            "_view_module_version": "1.2.0",
            "_view_name": "StyleView",
            "description_width": ""
          }
        },
        "40d64e0939424f699b455092e37c2195": {
          "model_module": "@jupyter-widgets/base",
          "model_name": "LayoutModel",
          "model_module_version": "1.2.0",
          "state": {
            "_model_module": "@jupyter-widgets/base",
            "_model_module_version": "1.2.0",
            "_model_name": "LayoutModel",
            "_view_count": null,
            "_view_module": "@jupyter-widgets/base",
            "_view_module_version": "1.2.0",
            "_view_name": "LayoutView",
            "align_content": null,
            "align_items": null,
            "align_self": null,
            "border": null,
            "bottom": null,
            "display": null,
            "flex": null,
            "flex_flow": null,
            "grid_area": null,
            "grid_auto_columns": null,
            "grid_auto_flow": null,
            "grid_auto_rows": null,
            "grid_column": null,
            "grid_gap": null,
            "grid_row": null,
            "grid_template_areas": null,
            "grid_template_columns": null,
            "grid_template_rows": null,
            "height": null,
            "justify_content": null,
            "justify_items": null,
            "left": null,
            "margin": null,
            "max_height": null,
            "max_width": null,
            "min_height": null,
            "min_width": null,
            "object_fit": null,
            "object_position": null,
            "order": null,
            "overflow": null,
            "overflow_x": null,
            "overflow_y": null,
            "padding": null,
            "right": null,
            "top": null,
            "visibility": null,
            "width": null
          }
        },
        "56b0dd7436a944b2b675162711b2f0a0": {
          "model_module": "@jupyter-widgets/controls",
          "model_name": "ProgressStyleModel",
          "model_module_version": "1.5.0",
          "state": {
            "_model_module": "@jupyter-widgets/controls",
            "_model_module_version": "1.5.0",
            "_model_name": "ProgressStyleModel",
            "_view_count": null,
            "_view_module": "@jupyter-widgets/base",
            "_view_module_version": "1.2.0",
            "_view_name": "StyleView",
            "bar_color": null,
            "description_width": ""
          }
        },
        "59e2a9ac8116454b86b9734afd1c6fbb": {
          "model_module": "@jupyter-widgets/base",
          "model_name": "LayoutModel",
          "model_module_version": "1.2.0",
          "state": {
            "_model_module": "@jupyter-widgets/base",
            "_model_module_version": "1.2.0",
            "_model_name": "LayoutModel",
            "_view_count": null,
            "_view_module": "@jupyter-widgets/base",
            "_view_module_version": "1.2.0",
            "_view_name": "LayoutView",
            "align_content": null,
            "align_items": null,
            "align_self": null,
            "border": null,
            "bottom": null,
            "display": null,
            "flex": null,
            "flex_flow": null,
            "grid_area": null,
            "grid_auto_columns": null,
            "grid_auto_flow": null,
            "grid_auto_rows": null,
            "grid_column": null,
            "grid_gap": null,
            "grid_row": null,
            "grid_template_areas": null,
            "grid_template_columns": null,
            "grid_template_rows": null,
            "height": null,
            "justify_content": null,
            "justify_items": null,
            "left": null,
            "margin": null,
            "max_height": null,
            "max_width": null,
            "min_height": null,
            "min_width": null,
            "object_fit": null,
            "object_position": null,
            "order": null,
            "overflow": null,
            "overflow_x": null,
            "overflow_y": null,
            "padding": null,
            "right": null,
            "top": null,
            "visibility": null,
            "width": null
          }
        },
        "072d1b419678418989088dd5eb12659c": {
          "model_module": "@jupyter-widgets/controls",
          "model_name": "DescriptionStyleModel",
          "model_module_version": "1.5.0",
          "state": {
            "_model_module": "@jupyter-widgets/controls",
            "_model_module_version": "1.5.0",
            "_model_name": "DescriptionStyleModel",
            "_view_count": null,
            "_view_module": "@jupyter-widgets/base",
            "_view_module_version": "1.2.0",
            "_view_name": "StyleView",
            "description_width": ""
          }
        },
        "401c315bea3641d4acc8d0240b0f74ca": {
          "model_module": "@jupyter-widgets/controls",
          "model_name": "HBoxModel",
          "model_module_version": "1.5.0",
          "state": {
            "_dom_classes": [],
            "_model_module": "@jupyter-widgets/controls",
            "_model_module_version": "1.5.0",
            "_model_name": "HBoxModel",
            "_view_count": null,
            "_view_module": "@jupyter-widgets/controls",
            "_view_module_version": "1.5.0",
            "_view_name": "HBoxView",
            "box_style": "",
            "children": [
              "IPY_MODEL_94c14b4714014160b10455a3115bf862",
              "IPY_MODEL_2d3c2db15c4744348b6fa9bcd051eb00",
              "IPY_MODEL_c3c1764278fe4a3d82c08ebd63c9f53e"
            ],
            "layout": "IPY_MODEL_cf03229007a24e0aad07ebeda8681dd7"
          }
        },
        "94c14b4714014160b10455a3115bf862": {
          "model_module": "@jupyter-widgets/controls",
          "model_name": "HTMLModel",
          "model_module_version": "1.5.0",
          "state": {
            "_dom_classes": [],
            "_model_module": "@jupyter-widgets/controls",
            "_model_module_version": "1.5.0",
            "_model_name": "HTMLModel",
            "_view_count": null,
            "_view_module": "@jupyter-widgets/controls",
            "_view_module_version": "1.5.0",
            "_view_name": "HTMLView",
            "description": "",
            "description_tooltip": null,
            "layout": "IPY_MODEL_95fb50d2758349cd9cd05005e7b21d7c",
            "placeholder": "​",
            "style": "IPY_MODEL_38203dad43cf4bee99109c76d0e5b38b",
            "value": "Downloading pytorch_model.bin: 100%"
          }
        },
        "2d3c2db15c4744348b6fa9bcd051eb00": {
          "model_module": "@jupyter-widgets/controls",
          "model_name": "FloatProgressModel",
          "model_module_version": "1.5.0",
          "state": {
            "_dom_classes": [],
            "_model_module": "@jupyter-widgets/controls",
            "_model_module_version": "1.5.0",
            "_model_name": "FloatProgressModel",
            "_view_count": null,
            "_view_module": "@jupyter-widgets/controls",
            "_view_module_version": "1.5.0",
            "_view_name": "ProgressView",
            "bar_style": "success",
            "description": "",
            "description_tooltip": null,
            "layout": "IPY_MODEL_951d8af9182e49afa7fc9659637b8f43",
            "max": 1222317369,
            "min": 0,
            "orientation": "horizontal",
            "style": "IPY_MODEL_0aa6a027b43441708df20193b5f927db",
            "value": 1222317369
          }
        },
        "c3c1764278fe4a3d82c08ebd63c9f53e": {
          "model_module": "@jupyter-widgets/controls",
          "model_name": "HTMLModel",
          "model_module_version": "1.5.0",
          "state": {
            "_dom_classes": [],
            "_model_module": "@jupyter-widgets/controls",
            "_model_module_version": "1.5.0",
            "_model_name": "HTMLModel",
            "_view_count": null,
            "_view_module": "@jupyter-widgets/controls",
            "_view_module_version": "1.5.0",
            "_view_name": "HTMLView",
            "description": "",
            "description_tooltip": null,
            "layout": "IPY_MODEL_55088aadcc7c451da515ac5aab95c1ca",
            "placeholder": "​",
            "style": "IPY_MODEL_4816d93a466b4420aac0f4f8ff38148d",
            "value": " 1.22G/1.22G [00:13&lt;00:00, 80.0MB/s]"
          }
        },
        "cf03229007a24e0aad07ebeda8681dd7": {
          "model_module": "@jupyter-widgets/base",
          "model_name": "LayoutModel",
          "model_module_version": "1.2.0",
          "state": {
            "_model_module": "@jupyter-widgets/base",
            "_model_module_version": "1.2.0",
            "_model_name": "LayoutModel",
            "_view_count": null,
            "_view_module": "@jupyter-widgets/base",
            "_view_module_version": "1.2.0",
            "_view_name": "LayoutView",
            "align_content": null,
            "align_items": null,
            "align_self": null,
            "border": null,
            "bottom": null,
            "display": null,
            "flex": null,
            "flex_flow": null,
            "grid_area": null,
            "grid_auto_columns": null,
            "grid_auto_flow": null,
            "grid_auto_rows": null,
            "grid_column": null,
            "grid_gap": null,
            "grid_row": null,
            "grid_template_areas": null,
            "grid_template_columns": null,
            "grid_template_rows": null,
            "height": null,
            "justify_content": null,
            "justify_items": null,
            "left": null,
            "margin": null,
            "max_height": null,
            "max_width": null,
            "min_height": null,
            "min_width": null,
            "object_fit": null,
            "object_position": null,
            "order": null,
            "overflow": null,
            "overflow_x": null,
            "overflow_y": null,
            "padding": null,
            "right": null,
            "top": null,
            "visibility": null,
            "width": null
          }
        },
        "95fb50d2758349cd9cd05005e7b21d7c": {
          "model_module": "@jupyter-widgets/base",
          "model_name": "LayoutModel",
          "model_module_version": "1.2.0",
          "state": {
            "_model_module": "@jupyter-widgets/base",
            "_model_module_version": "1.2.0",
            "_model_name": "LayoutModel",
            "_view_count": null,
            "_view_module": "@jupyter-widgets/base",
            "_view_module_version": "1.2.0",
            "_view_name": "LayoutView",
            "align_content": null,
            "align_items": null,
            "align_self": null,
            "border": null,
            "bottom": null,
            "display": null,
            "flex": null,
            "flex_flow": null,
            "grid_area": null,
            "grid_auto_columns": null,
            "grid_auto_flow": null,
            "grid_auto_rows": null,
            "grid_column": null,
            "grid_gap": null,
            "grid_row": null,
            "grid_template_areas": null,
            "grid_template_columns": null,
            "grid_template_rows": null,
            "height": null,
            "justify_content": null,
            "justify_items": null,
            "left": null,
            "margin": null,
            "max_height": null,
            "max_width": null,
            "min_height": null,
            "min_width": null,
            "object_fit": null,
            "object_position": null,
            "order": null,
            "overflow": null,
            "overflow_x": null,
            "overflow_y": null,
            "padding": null,
            "right": null,
            "top": null,
            "visibility": null,
            "width": null
          }
        },
        "38203dad43cf4bee99109c76d0e5b38b": {
          "model_module": "@jupyter-widgets/controls",
          "model_name": "DescriptionStyleModel",
          "model_module_version": "1.5.0",
          "state": {
            "_model_module": "@jupyter-widgets/controls",
            "_model_module_version": "1.5.0",
            "_model_name": "DescriptionStyleModel",
            "_view_count": null,
            "_view_module": "@jupyter-widgets/base",
            "_view_module_version": "1.2.0",
            "_view_name": "StyleView",
            "description_width": ""
          }
        },
        "951d8af9182e49afa7fc9659637b8f43": {
          "model_module": "@jupyter-widgets/base",
          "model_name": "LayoutModel",
          "model_module_version": "1.2.0",
          "state": {
            "_model_module": "@jupyter-widgets/base",
            "_model_module_version": "1.2.0",
            "_model_name": "LayoutModel",
            "_view_count": null,
            "_view_module": "@jupyter-widgets/base",
            "_view_module_version": "1.2.0",
            "_view_name": "LayoutView",
            "align_content": null,
            "align_items": null,
            "align_self": null,
            "border": null,
            "bottom": null,
            "display": null,
            "flex": null,
            "flex_flow": null,
            "grid_area": null,
            "grid_auto_columns": null,
            "grid_auto_flow": null,
            "grid_auto_rows": null,
            "grid_column": null,
            "grid_gap": null,
            "grid_row": null,
            "grid_template_areas": null,
            "grid_template_columns": null,
            "grid_template_rows": null,
            "height": null,
            "justify_content": null,
            "justify_items": null,
            "left": null,
            "margin": null,
            "max_height": null,
            "max_width": null,
            "min_height": null,
            "min_width": null,
            "object_fit": null,
            "object_position": null,
            "order": null,
            "overflow": null,
            "overflow_x": null,
            "overflow_y": null,
            "padding": null,
            "right": null,
            "top": null,
            "visibility": null,
            "width": null
          }
        },
        "0aa6a027b43441708df20193b5f927db": {
          "model_module": "@jupyter-widgets/controls",
          "model_name": "ProgressStyleModel",
          "model_module_version": "1.5.0",
          "state": {
            "_model_module": "@jupyter-widgets/controls",
            "_model_module_version": "1.5.0",
            "_model_name": "ProgressStyleModel",
            "_view_count": null,
            "_view_module": "@jupyter-widgets/base",
            "_view_module_version": "1.2.0",
            "_view_name": "StyleView",
            "bar_color": null,
            "description_width": ""
          }
        },
        "55088aadcc7c451da515ac5aab95c1ca": {
          "model_module": "@jupyter-widgets/base",
          "model_name": "LayoutModel",
          "model_module_version": "1.2.0",
          "state": {
            "_model_module": "@jupyter-widgets/base",
            "_model_module_version": "1.2.0",
            "_model_name": "LayoutModel",
            "_view_count": null,
            "_view_module": "@jupyter-widgets/base",
            "_view_module_version": "1.2.0",
            "_view_name": "LayoutView",
            "align_content": null,
            "align_items": null,
            "align_self": null,
            "border": null,
            "bottom": null,
            "display": null,
            "flex": null,
            "flex_flow": null,
            "grid_area": null,
            "grid_auto_columns": null,
            "grid_auto_flow": null,
            "grid_auto_rows": null,
            "grid_column": null,
            "grid_gap": null,
            "grid_row": null,
            "grid_template_areas": null,
            "grid_template_columns": null,
            "grid_template_rows": null,
            "height": null,
            "justify_content": null,
            "justify_items": null,
            "left": null,
            "margin": null,
            "max_height": null,
            "max_width": null,
            "min_height": null,
            "min_width": null,
            "object_fit": null,
            "object_position": null,
            "order": null,
            "overflow": null,
            "overflow_x": null,
            "overflow_y": null,
            "padding": null,
            "right": null,
            "top": null,
            "visibility": null,
            "width": null
          }
        },
        "4816d93a466b4420aac0f4f8ff38148d": {
          "model_module": "@jupyter-widgets/controls",
          "model_name": "DescriptionStyleModel",
          "model_module_version": "1.5.0",
          "state": {
            "_model_module": "@jupyter-widgets/controls",
            "_model_module_version": "1.5.0",
            "_model_name": "DescriptionStyleModel",
            "_view_count": null,
            "_view_module": "@jupyter-widgets/base",
            "_view_module_version": "1.2.0",
            "_view_name": "StyleView",
            "description_width": ""
          }
        },
        "3f6f0a2663ba437bbd6cbdeb7b754568": {
          "model_module": "@jupyter-widgets/controls",
          "model_name": "HBoxModel",
          "model_module_version": "1.5.0",
          "state": {
            "_dom_classes": [],
            "_model_module": "@jupyter-widgets/controls",
            "_model_module_version": "1.5.0",
            "_model_name": "HBoxModel",
            "_view_count": null,
            "_view_module": "@jupyter-widgets/controls",
            "_view_module_version": "1.5.0",
            "_view_name": "HBoxView",
            "box_style": "",
            "children": [
              "IPY_MODEL_c20de62392a2499796a0da22b46bbb9d",
              "IPY_MODEL_48419f9543cb49d0b982edf70d8fa984",
              "IPY_MODEL_723490d0f2664017b0d4af6c38b6a7c0"
            ],
            "layout": "IPY_MODEL_bf26682176a640f493fc5a4f4cf26c53"
          }
        },
        "c20de62392a2499796a0da22b46bbb9d": {
          "model_module": "@jupyter-widgets/controls",
          "model_name": "HTMLModel",
          "model_module_version": "1.5.0",
          "state": {
            "_dom_classes": [],
            "_model_module": "@jupyter-widgets/controls",
            "_model_module_version": "1.5.0",
            "_model_name": "HTMLModel",
            "_view_count": null,
            "_view_module": "@jupyter-widgets/controls",
            "_view_module_version": "1.5.0",
            "_view_name": "HTMLView",
            "description": "",
            "description_tooltip": null,
            "layout": "IPY_MODEL_230b4315527a4ae2b2d0c93ac209e795",
            "placeholder": "​",
            "style": "IPY_MODEL_291aa01f2bcd4a91be1ab7673f31b05f",
            "value": "Downloading (…)okenizer_config.json: 100%"
          }
        },
        "48419f9543cb49d0b982edf70d8fa984": {
          "model_module": "@jupyter-widgets/controls",
          "model_name": "FloatProgressModel",
          "model_module_version": "1.5.0",
          "state": {
            "_dom_classes": [],
            "_model_module": "@jupyter-widgets/controls",
            "_model_module_version": "1.5.0",
            "_model_name": "FloatProgressModel",
            "_view_count": null,
            "_view_module": "@jupyter-widgets/controls",
            "_view_module_version": "1.5.0",
            "_view_name": "ProgressView",
            "bar_style": "success",
            "description": "",
            "description_tooltip": null,
            "layout": "IPY_MODEL_577aada2f93f4fac8bd149e5509f0492",
            "max": 26,
            "min": 0,
            "orientation": "horizontal",
            "style": "IPY_MODEL_60867dcb01f540258585744fabc9dce8",
            "value": 26
          }
        },
        "723490d0f2664017b0d4af6c38b6a7c0": {
          "model_module": "@jupyter-widgets/controls",
          "model_name": "HTMLModel",
          "model_module_version": "1.5.0",
          "state": {
            "_dom_classes": [],
            "_model_module": "@jupyter-widgets/controls",
            "_model_module_version": "1.5.0",
            "_model_name": "HTMLModel",
            "_view_count": null,
            "_view_module": "@jupyter-widgets/controls",
            "_view_module_version": "1.5.0",
            "_view_name": "HTMLView",
            "description": "",
            "description_tooltip": null,
            "layout": "IPY_MODEL_22f137f42b124a4b8064329cb960b521",
            "placeholder": "​",
            "style": "IPY_MODEL_0e0c3942258444119afb418ec259bccc",
            "value": " 26.0/26.0 [00:00&lt;00:00, 843B/s]"
          }
        },
        "bf26682176a640f493fc5a4f4cf26c53": {
          "model_module": "@jupyter-widgets/base",
          "model_name": "LayoutModel",
          "model_module_version": "1.2.0",
          "state": {
            "_model_module": "@jupyter-widgets/base",
            "_model_module_version": "1.2.0",
            "_model_name": "LayoutModel",
            "_view_count": null,
            "_view_module": "@jupyter-widgets/base",
            "_view_module_version": "1.2.0",
            "_view_name": "LayoutView",
            "align_content": null,
            "align_items": null,
            "align_self": null,
            "border": null,
            "bottom": null,
            "display": null,
            "flex": null,
            "flex_flow": null,
            "grid_area": null,
            "grid_auto_columns": null,
            "grid_auto_flow": null,
            "grid_auto_rows": null,
            "grid_column": null,
            "grid_gap": null,
            "grid_row": null,
            "grid_template_areas": null,
            "grid_template_columns": null,
            "grid_template_rows": null,
            "height": null,
            "justify_content": null,
            "justify_items": null,
            "left": null,
            "margin": null,
            "max_height": null,
            "max_width": null,
            "min_height": null,
            "min_width": null,
            "object_fit": null,
            "object_position": null,
            "order": null,
            "overflow": null,
            "overflow_x": null,
            "overflow_y": null,
            "padding": null,
            "right": null,
            "top": null,
            "visibility": null,
            "width": null
          }
        },
        "230b4315527a4ae2b2d0c93ac209e795": {
          "model_module": "@jupyter-widgets/base",
          "model_name": "LayoutModel",
          "model_module_version": "1.2.0",
          "state": {
            "_model_module": "@jupyter-widgets/base",
            "_model_module_version": "1.2.0",
            "_model_name": "LayoutModel",
            "_view_count": null,
            "_view_module": "@jupyter-widgets/base",
            "_view_module_version": "1.2.0",
            "_view_name": "LayoutView",
            "align_content": null,
            "align_items": null,
            "align_self": null,
            "border": null,
            "bottom": null,
            "display": null,
            "flex": null,
            "flex_flow": null,
            "grid_area": null,
            "grid_auto_columns": null,
            "grid_auto_flow": null,
            "grid_auto_rows": null,
            "grid_column": null,
            "grid_gap": null,
            "grid_row": null,
            "grid_template_areas": null,
            "grid_template_columns": null,
            "grid_template_rows": null,
            "height": null,
            "justify_content": null,
            "justify_items": null,
            "left": null,
            "margin": null,
            "max_height": null,
            "max_width": null,
            "min_height": null,
            "min_width": null,
            "object_fit": null,
            "object_position": null,
            "order": null,
            "overflow": null,
            "overflow_x": null,
            "overflow_y": null,
            "padding": null,
            "right": null,
            "top": null,
            "visibility": null,
            "width": null
          }
        },
        "291aa01f2bcd4a91be1ab7673f31b05f": {
          "model_module": "@jupyter-widgets/controls",
          "model_name": "DescriptionStyleModel",
          "model_module_version": "1.5.0",
          "state": {
            "_model_module": "@jupyter-widgets/controls",
            "_model_module_version": "1.5.0",
            "_model_name": "DescriptionStyleModel",
            "_view_count": null,
            "_view_module": "@jupyter-widgets/base",
            "_view_module_version": "1.2.0",
            "_view_name": "StyleView",
            "description_width": ""
          }
        },
        "577aada2f93f4fac8bd149e5509f0492": {
          "model_module": "@jupyter-widgets/base",
          "model_name": "LayoutModel",
          "model_module_version": "1.2.0",
          "state": {
            "_model_module": "@jupyter-widgets/base",
            "_model_module_version": "1.2.0",
            "_model_name": "LayoutModel",
            "_view_count": null,
            "_view_module": "@jupyter-widgets/base",
            "_view_module_version": "1.2.0",
            "_view_name": "LayoutView",
            "align_content": null,
            "align_items": null,
            "align_self": null,
            "border": null,
            "bottom": null,
            "display": null,
            "flex": null,
            "flex_flow": null,
            "grid_area": null,
            "grid_auto_columns": null,
            "grid_auto_flow": null,
            "grid_auto_rows": null,
            "grid_column": null,
            "grid_gap": null,
            "grid_row": null,
            "grid_template_areas": null,
            "grid_template_columns": null,
            "grid_template_rows": null,
            "height": null,
            "justify_content": null,
            "justify_items": null,
            "left": null,
            "margin": null,
            "max_height": null,
            "max_width": null,
            "min_height": null,
            "min_width": null,
            "object_fit": null,
            "object_position": null,
            "order": null,
            "overflow": null,
            "overflow_x": null,
            "overflow_y": null,
            "padding": null,
            "right": null,
            "top": null,
            "visibility": null,
            "width": null
          }
        },
        "60867dcb01f540258585744fabc9dce8": {
          "model_module": "@jupyter-widgets/controls",
          "model_name": "ProgressStyleModel",
          "model_module_version": "1.5.0",
          "state": {
            "_model_module": "@jupyter-widgets/controls",
            "_model_module_version": "1.5.0",
            "_model_name": "ProgressStyleModel",
            "_view_count": null,
            "_view_module": "@jupyter-widgets/base",
            "_view_module_version": "1.2.0",
            "_view_name": "StyleView",
            "bar_color": null,
            "description_width": ""
          }
        },
        "22f137f42b124a4b8064329cb960b521": {
          "model_module": "@jupyter-widgets/base",
          "model_name": "LayoutModel",
          "model_module_version": "1.2.0",
          "state": {
            "_model_module": "@jupyter-widgets/base",
            "_model_module_version": "1.2.0",
            "_model_name": "LayoutModel",
            "_view_count": null,
            "_view_module": "@jupyter-widgets/base",
            "_view_module_version": "1.2.0",
            "_view_name": "LayoutView",
            "align_content": null,
            "align_items": null,
            "align_self": null,
            "border": null,
            "bottom": null,
            "display": null,
            "flex": null,
            "flex_flow": null,
            "grid_area": null,
            "grid_auto_columns": null,
            "grid_auto_flow": null,
            "grid_auto_rows": null,
            "grid_column": null,
            "grid_gap": null,
            "grid_row": null,
            "grid_template_areas": null,
            "grid_template_columns": null,
            "grid_template_rows": null,
            "height": null,
            "justify_content": null,
            "justify_items": null,
            "left": null,
            "margin": null,
            "max_height": null,
            "max_width": null,
            "min_height": null,
            "min_width": null,
            "object_fit": null,
            "object_position": null,
            "order": null,
            "overflow": null,
            "overflow_x": null,
            "overflow_y": null,
            "padding": null,
            "right": null,
            "top": null,
            "visibility": null,
            "width": null
          }
        },
        "0e0c3942258444119afb418ec259bccc": {
          "model_module": "@jupyter-widgets/controls",
          "model_name": "DescriptionStyleModel",
          "model_module_version": "1.5.0",
          "state": {
            "_model_module": "@jupyter-widgets/controls",
            "_model_module_version": "1.5.0",
            "_model_name": "DescriptionStyleModel",
            "_view_count": null,
            "_view_module": "@jupyter-widgets/base",
            "_view_module_version": "1.2.0",
            "_view_name": "StyleView",
            "description_width": ""
          }
        },
        "e4b72937a0e2462eb0348352940907ee": {
          "model_module": "@jupyter-widgets/controls",
          "model_name": "HBoxModel",
          "model_module_version": "1.5.0",
          "state": {
            "_dom_classes": [],
            "_model_module": "@jupyter-widgets/controls",
            "_model_module_version": "1.5.0",
            "_model_name": "HBoxModel",
            "_view_count": null,
            "_view_module": "@jupyter-widgets/controls",
            "_view_module_version": "1.5.0",
            "_view_name": "HBoxView",
            "box_style": "",
            "children": [
              "IPY_MODEL_1cde88689afa47b6bfbf743260c172ae",
              "IPY_MODEL_1b50be8b27224b858543493cb4719bee",
              "IPY_MODEL_c0d550a71b2e41f6a7fefd96cb791041"
            ],
            "layout": "IPY_MODEL_7324869ca8ff41a4845a4da85440a73d"
          }
        },
        "1cde88689afa47b6bfbf743260c172ae": {
          "model_module": "@jupyter-widgets/controls",
          "model_name": "HTMLModel",
          "model_module_version": "1.5.0",
          "state": {
            "_dom_classes": [],
            "_model_module": "@jupyter-widgets/controls",
            "_model_module_version": "1.5.0",
            "_model_name": "HTMLModel",
            "_view_count": null,
            "_view_module": "@jupyter-widgets/controls",
            "_view_module_version": "1.5.0",
            "_view_name": "HTMLView",
            "description": "",
            "description_tooltip": null,
            "layout": "IPY_MODEL_bbddc800fee342528cb1b1a175c73eaf",
            "placeholder": "​",
            "style": "IPY_MODEL_232d30183ede4a6a92ef2050577f9607",
            "value": "Downloading (…)olve/main/vocab.json: 100%"
          }
        },
        "1b50be8b27224b858543493cb4719bee": {
          "model_module": "@jupyter-widgets/controls",
          "model_name": "FloatProgressModel",
          "model_module_version": "1.5.0",
          "state": {
            "_dom_classes": [],
            "_model_module": "@jupyter-widgets/controls",
            "_model_module_version": "1.5.0",
            "_model_name": "FloatProgressModel",
            "_view_count": null,
            "_view_module": "@jupyter-widgets/controls",
            "_view_module_version": "1.5.0",
            "_view_name": "ProgressView",
            "bar_style": "success",
            "description": "",
            "description_tooltip": null,
            "layout": "IPY_MODEL_0b46ff900af94496a8533e6425b2dd10",
            "max": 898822,
            "min": 0,
            "orientation": "horizontal",
            "style": "IPY_MODEL_92629d9060354bfcb27c9b7a674271e6",
            "value": 898822
          }
        },
        "c0d550a71b2e41f6a7fefd96cb791041": {
          "model_module": "@jupyter-widgets/controls",
          "model_name": "HTMLModel",
          "model_module_version": "1.5.0",
          "state": {
            "_dom_classes": [],
            "_model_module": "@jupyter-widgets/controls",
            "_model_module_version": "1.5.0",
            "_model_name": "HTMLModel",
            "_view_count": null,
            "_view_module": "@jupyter-widgets/controls",
            "_view_module_version": "1.5.0",
            "_view_name": "HTMLView",
            "description": "",
            "description_tooltip": null,
            "layout": "IPY_MODEL_f1f7f8c7fe2b499c8eaea97e59f8d52b",
            "placeholder": "​",
            "style": "IPY_MODEL_c8d3901b30d94179bbdb380a5ebccd85",
            "value": " 899k/899k [00:00&lt;00:00, 5.51MB/s]"
          }
        },
        "7324869ca8ff41a4845a4da85440a73d": {
          "model_module": "@jupyter-widgets/base",
          "model_name": "LayoutModel",
          "model_module_version": "1.2.0",
          "state": {
            "_model_module": "@jupyter-widgets/base",
            "_model_module_version": "1.2.0",
            "_model_name": "LayoutModel",
            "_view_count": null,
            "_view_module": "@jupyter-widgets/base",
            "_view_module_version": "1.2.0",
            "_view_name": "LayoutView",
            "align_content": null,
            "align_items": null,
            "align_self": null,
            "border": null,
            "bottom": null,
            "display": null,
            "flex": null,
            "flex_flow": null,
            "grid_area": null,
            "grid_auto_columns": null,
            "grid_auto_flow": null,
            "grid_auto_rows": null,
            "grid_column": null,
            "grid_gap": null,
            "grid_row": null,
            "grid_template_areas": null,
            "grid_template_columns": null,
            "grid_template_rows": null,
            "height": null,
            "justify_content": null,
            "justify_items": null,
            "left": null,
            "margin": null,
            "max_height": null,
            "max_width": null,
            "min_height": null,
            "min_width": null,
            "object_fit": null,
            "object_position": null,
            "order": null,
            "overflow": null,
            "overflow_x": null,
            "overflow_y": null,
            "padding": null,
            "right": null,
            "top": null,
            "visibility": null,
            "width": null
          }
        },
        "bbddc800fee342528cb1b1a175c73eaf": {
          "model_module": "@jupyter-widgets/base",
          "model_name": "LayoutModel",
          "model_module_version": "1.2.0",
          "state": {
            "_model_module": "@jupyter-widgets/base",
            "_model_module_version": "1.2.0",
            "_model_name": "LayoutModel",
            "_view_count": null,
            "_view_module": "@jupyter-widgets/base",
            "_view_module_version": "1.2.0",
            "_view_name": "LayoutView",
            "align_content": null,
            "align_items": null,
            "align_self": null,
            "border": null,
            "bottom": null,
            "display": null,
            "flex": null,
            "flex_flow": null,
            "grid_area": null,
            "grid_auto_columns": null,
            "grid_auto_flow": null,
            "grid_auto_rows": null,
            "grid_column": null,
            "grid_gap": null,
            "grid_row": null,
            "grid_template_areas": null,
            "grid_template_columns": null,
            "grid_template_rows": null,
            "height": null,
            "justify_content": null,
            "justify_items": null,
            "left": null,
            "margin": null,
            "max_height": null,
            "max_width": null,
            "min_height": null,
            "min_width": null,
            "object_fit": null,
            "object_position": null,
            "order": null,
            "overflow": null,
            "overflow_x": null,
            "overflow_y": null,
            "padding": null,
            "right": null,
            "top": null,
            "visibility": null,
            "width": null
          }
        },
        "232d30183ede4a6a92ef2050577f9607": {
          "model_module": "@jupyter-widgets/controls",
          "model_name": "DescriptionStyleModel",
          "model_module_version": "1.5.0",
          "state": {
            "_model_module": "@jupyter-widgets/controls",
            "_model_module_version": "1.5.0",
            "_model_name": "DescriptionStyleModel",
            "_view_count": null,
            "_view_module": "@jupyter-widgets/base",
            "_view_module_version": "1.2.0",
            "_view_name": "StyleView",
            "description_width": ""
          }
        },
        "0b46ff900af94496a8533e6425b2dd10": {
          "model_module": "@jupyter-widgets/base",
          "model_name": "LayoutModel",
          "model_module_version": "1.2.0",
          "state": {
            "_model_module": "@jupyter-widgets/base",
            "_model_module_version": "1.2.0",
            "_model_name": "LayoutModel",
            "_view_count": null,
            "_view_module": "@jupyter-widgets/base",
            "_view_module_version": "1.2.0",
            "_view_name": "LayoutView",
            "align_content": null,
            "align_items": null,
            "align_self": null,
            "border": null,
            "bottom": null,
            "display": null,
            "flex": null,
            "flex_flow": null,
            "grid_area": null,
            "grid_auto_columns": null,
            "grid_auto_flow": null,
            "grid_auto_rows": null,
            "grid_column": null,
            "grid_gap": null,
            "grid_row": null,
            "grid_template_areas": null,
            "grid_template_columns": null,
            "grid_template_rows": null,
            "height": null,
            "justify_content": null,
            "justify_items": null,
            "left": null,
            "margin": null,
            "max_height": null,
            "max_width": null,
            "min_height": null,
            "min_width": null,
            "object_fit": null,
            "object_position": null,
            "order": null,
            "overflow": null,
            "overflow_x": null,
            "overflow_y": null,
            "padding": null,
            "right": null,
            "top": null,
            "visibility": null,
            "width": null
          }
        },
        "92629d9060354bfcb27c9b7a674271e6": {
          "model_module": "@jupyter-widgets/controls",
          "model_name": "ProgressStyleModel",
          "model_module_version": "1.5.0",
          "state": {
            "_model_module": "@jupyter-widgets/controls",
            "_model_module_version": "1.5.0",
            "_model_name": "ProgressStyleModel",
            "_view_count": null,
            "_view_module": "@jupyter-widgets/base",
            "_view_module_version": "1.2.0",
            "_view_name": "StyleView",
            "bar_color": null,
            "description_width": ""
          }
        },
        "f1f7f8c7fe2b499c8eaea97e59f8d52b": {
          "model_module": "@jupyter-widgets/base",
          "model_name": "LayoutModel",
          "model_module_version": "1.2.0",
          "state": {
            "_model_module": "@jupyter-widgets/base",
            "_model_module_version": "1.2.0",
            "_model_name": "LayoutModel",
            "_view_count": null,
            "_view_module": "@jupyter-widgets/base",
            "_view_module_version": "1.2.0",
            "_view_name": "LayoutView",
            "align_content": null,
            "align_items": null,
            "align_self": null,
            "border": null,
            "bottom": null,
            "display": null,
            "flex": null,
            "flex_flow": null,
            "grid_area": null,
            "grid_auto_columns": null,
            "grid_auto_flow": null,
            "grid_auto_rows": null,
            "grid_column": null,
            "grid_gap": null,
            "grid_row": null,
            "grid_template_areas": null,
            "grid_template_columns": null,
            "grid_template_rows": null,
            "height": null,
            "justify_content": null,
            "justify_items": null,
            "left": null,
            "margin": null,
            "max_height": null,
            "max_width": null,
            "min_height": null,
            "min_width": null,
            "object_fit": null,
            "object_position": null,
            "order": null,
            "overflow": null,
            "overflow_x": null,
            "overflow_y": null,
            "padding": null,
            "right": null,
            "top": null,
            "visibility": null,
            "width": null
          }
        },
        "c8d3901b30d94179bbdb380a5ebccd85": {
          "model_module": "@jupyter-widgets/controls",
          "model_name": "DescriptionStyleModel",
          "model_module_version": "1.5.0",
          "state": {
            "_model_module": "@jupyter-widgets/controls",
            "_model_module_version": "1.5.0",
            "_model_name": "DescriptionStyleModel",
            "_view_count": null,
            "_view_module": "@jupyter-widgets/base",
            "_view_module_version": "1.2.0",
            "_view_name": "StyleView",
            "description_width": ""
          }
        },
        "a3cb2dce78da4b10871bc8919fb8d3af": {
          "model_module": "@jupyter-widgets/controls",
          "model_name": "HBoxModel",
          "model_module_version": "1.5.0",
          "state": {
            "_dom_classes": [],
            "_model_module": "@jupyter-widgets/controls",
            "_model_module_version": "1.5.0",
            "_model_name": "HBoxModel",
            "_view_count": null,
            "_view_module": "@jupyter-widgets/controls",
            "_view_module_version": "1.5.0",
            "_view_name": "HBoxView",
            "box_style": "",
            "children": [
              "IPY_MODEL_d32338019a7f4cbe941d03db7a32f0c0",
              "IPY_MODEL_3cc7fba96d214ac4b3ed3a0cfc662c7e",
              "IPY_MODEL_70ac6b6c6bfa4568bff091814b355948"
            ],
            "layout": "IPY_MODEL_a92caa02cea144c2a7b845b417058a2d"
          }
        },
        "d32338019a7f4cbe941d03db7a32f0c0": {
          "model_module": "@jupyter-widgets/controls",
          "model_name": "HTMLModel",
          "model_module_version": "1.5.0",
          "state": {
            "_dom_classes": [],
            "_model_module": "@jupyter-widgets/controls",
            "_model_module_version": "1.5.0",
            "_model_name": "HTMLModel",
            "_view_count": null,
            "_view_module": "@jupyter-widgets/controls",
            "_view_module_version": "1.5.0",
            "_view_name": "HTMLView",
            "description": "",
            "description_tooltip": null,
            "layout": "IPY_MODEL_f2588bb3f15f4d13be824fff147249b4",
            "placeholder": "​",
            "style": "IPY_MODEL_495057a4a45c4b70a80f59054e98cf86",
            "value": "Downloading (…)olve/main/merges.txt: 100%"
          }
        },
        "3cc7fba96d214ac4b3ed3a0cfc662c7e": {
          "model_module": "@jupyter-widgets/controls",
          "model_name": "FloatProgressModel",
          "model_module_version": "1.5.0",
          "state": {
            "_dom_classes": [],
            "_model_module": "@jupyter-widgets/controls",
            "_model_module_version": "1.5.0",
            "_model_name": "FloatProgressModel",
            "_view_count": null,
            "_view_module": "@jupyter-widgets/controls",
            "_view_module_version": "1.5.0",
            "_view_name": "ProgressView",
            "bar_style": "success",
            "description": "",
            "description_tooltip": null,
            "layout": "IPY_MODEL_7403664be6bf412aa9564ea5b5277a08",
            "max": 456318,
            "min": 0,
            "orientation": "horizontal",
            "style": "IPY_MODEL_cdf35516993d440fb8e0c207cbeb64b1",
            "value": 456318
          }
        },
        "70ac6b6c6bfa4568bff091814b355948": {
          "model_module": "@jupyter-widgets/controls",
          "model_name": "HTMLModel",
          "model_module_version": "1.5.0",
          "state": {
            "_dom_classes": [],
            "_model_module": "@jupyter-widgets/controls",
            "_model_module_version": "1.5.0",
            "_model_name": "HTMLModel",
            "_view_count": null,
            "_view_module": "@jupyter-widgets/controls",
            "_view_module_version": "1.5.0",
            "_view_name": "HTMLView",
            "description": "",
            "description_tooltip": null,
            "layout": "IPY_MODEL_450de319510b43deb9642a13ebd3328c",
            "placeholder": "​",
            "style": "IPY_MODEL_4d6b72c16a354c2db3529c05f7517233",
            "value": " 456k/456k [00:00&lt;00:00, 15.3MB/s]"
          }
        },
        "a92caa02cea144c2a7b845b417058a2d": {
          "model_module": "@jupyter-widgets/base",
          "model_name": "LayoutModel",
          "model_module_version": "1.2.0",
          "state": {
            "_model_module": "@jupyter-widgets/base",
            "_model_module_version": "1.2.0",
            "_model_name": "LayoutModel",
            "_view_count": null,
            "_view_module": "@jupyter-widgets/base",
            "_view_module_version": "1.2.0",
            "_view_name": "LayoutView",
            "align_content": null,
            "align_items": null,
            "align_self": null,
            "border": null,
            "bottom": null,
            "display": null,
            "flex": null,
            "flex_flow": null,
            "grid_area": null,
            "grid_auto_columns": null,
            "grid_auto_flow": null,
            "grid_auto_rows": null,
            "grid_column": null,
            "grid_gap": null,
            "grid_row": null,
            "grid_template_areas": null,
            "grid_template_columns": null,
            "grid_template_rows": null,
            "height": null,
            "justify_content": null,
            "justify_items": null,
            "left": null,
            "margin": null,
            "max_height": null,
            "max_width": null,
            "min_height": null,
            "min_width": null,
            "object_fit": null,
            "object_position": null,
            "order": null,
            "overflow": null,
            "overflow_x": null,
            "overflow_y": null,
            "padding": null,
            "right": null,
            "top": null,
            "visibility": null,
            "width": null
          }
        },
        "f2588bb3f15f4d13be824fff147249b4": {
          "model_module": "@jupyter-widgets/base",
          "model_name": "LayoutModel",
          "model_module_version": "1.2.0",
          "state": {
            "_model_module": "@jupyter-widgets/base",
            "_model_module_version": "1.2.0",
            "_model_name": "LayoutModel",
            "_view_count": null,
            "_view_module": "@jupyter-widgets/base",
            "_view_module_version": "1.2.0",
            "_view_name": "LayoutView",
            "align_content": null,
            "align_items": null,
            "align_self": null,
            "border": null,
            "bottom": null,
            "display": null,
            "flex": null,
            "flex_flow": null,
            "grid_area": null,
            "grid_auto_columns": null,
            "grid_auto_flow": null,
            "grid_auto_rows": null,
            "grid_column": null,
            "grid_gap": null,
            "grid_row": null,
            "grid_template_areas": null,
            "grid_template_columns": null,
            "grid_template_rows": null,
            "height": null,
            "justify_content": null,
            "justify_items": null,
            "left": null,
            "margin": null,
            "max_height": null,
            "max_width": null,
            "min_height": null,
            "min_width": null,
            "object_fit": null,
            "object_position": null,
            "order": null,
            "overflow": null,
            "overflow_x": null,
            "overflow_y": null,
            "padding": null,
            "right": null,
            "top": null,
            "visibility": null,
            "width": null
          }
        },
        "495057a4a45c4b70a80f59054e98cf86": {
          "model_module": "@jupyter-widgets/controls",
          "model_name": "DescriptionStyleModel",
          "model_module_version": "1.5.0",
          "state": {
            "_model_module": "@jupyter-widgets/controls",
            "_model_module_version": "1.5.0",
            "_model_name": "DescriptionStyleModel",
            "_view_count": null,
            "_view_module": "@jupyter-widgets/base",
            "_view_module_version": "1.2.0",
            "_view_name": "StyleView",
            "description_width": ""
          }
        },
        "7403664be6bf412aa9564ea5b5277a08": {
          "model_module": "@jupyter-widgets/base",
          "model_name": "LayoutModel",
          "model_module_version": "1.2.0",
          "state": {
            "_model_module": "@jupyter-widgets/base",
            "_model_module_version": "1.2.0",
            "_model_name": "LayoutModel",
            "_view_count": null,
            "_view_module": "@jupyter-widgets/base",
            "_view_module_version": "1.2.0",
            "_view_name": "LayoutView",
            "align_content": null,
            "align_items": null,
            "align_self": null,
            "border": null,
            "bottom": null,
            "display": null,
            "flex": null,
            "flex_flow": null,
            "grid_area": null,
            "grid_auto_columns": null,
            "grid_auto_flow": null,
            "grid_auto_rows": null,
            "grid_column": null,
            "grid_gap": null,
            "grid_row": null,
            "grid_template_areas": null,
            "grid_template_columns": null,
            "grid_template_rows": null,
            "height": null,
            "justify_content": null,
            "justify_items": null,
            "left": null,
            "margin": null,
            "max_height": null,
            "max_width": null,
            "min_height": null,
            "min_width": null,
            "object_fit": null,
            "object_position": null,
            "order": null,
            "overflow": null,
            "overflow_x": null,
            "overflow_y": null,
            "padding": null,
            "right": null,
            "top": null,
            "visibility": null,
            "width": null
          }
        },
        "cdf35516993d440fb8e0c207cbeb64b1": {
          "model_module": "@jupyter-widgets/controls",
          "model_name": "ProgressStyleModel",
          "model_module_version": "1.5.0",
          "state": {
            "_model_module": "@jupyter-widgets/controls",
            "_model_module_version": "1.5.0",
            "_model_name": "ProgressStyleModel",
            "_view_count": null,
            "_view_module": "@jupyter-widgets/base",
            "_view_module_version": "1.2.0",
            "_view_name": "StyleView",
            "bar_color": null,
            "description_width": ""
          }
        },
        "450de319510b43deb9642a13ebd3328c": {
          "model_module": "@jupyter-widgets/base",
          "model_name": "LayoutModel",
          "model_module_version": "1.2.0",
          "state": {
            "_model_module": "@jupyter-widgets/base",
            "_model_module_version": "1.2.0",
            "_model_name": "LayoutModel",
            "_view_count": null,
            "_view_module": "@jupyter-widgets/base",
            "_view_module_version": "1.2.0",
            "_view_name": "LayoutView",
            "align_content": null,
            "align_items": null,
            "align_self": null,
            "border": null,
            "bottom": null,
            "display": null,
            "flex": null,
            "flex_flow": null,
            "grid_area": null,
            "grid_auto_columns": null,
            "grid_auto_flow": null,
            "grid_auto_rows": null,
            "grid_column": null,
            "grid_gap": null,
            "grid_row": null,
            "grid_template_areas": null,
            "grid_template_columns": null,
            "grid_template_rows": null,
            "height": null,
            "justify_content": null,
            "justify_items": null,
            "left": null,
            "margin": null,
            "max_height": null,
            "max_width": null,
            "min_height": null,
            "min_width": null,
            "object_fit": null,
            "object_position": null,
            "order": null,
            "overflow": null,
            "overflow_x": null,
            "overflow_y": null,
            "padding": null,
            "right": null,
            "top": null,
            "visibility": null,
            "width": null
          }
        },
        "4d6b72c16a354c2db3529c05f7517233": {
          "model_module": "@jupyter-widgets/controls",
          "model_name": "DescriptionStyleModel",
          "model_module_version": "1.5.0",
          "state": {
            "_model_module": "@jupyter-widgets/controls",
            "_model_module_version": "1.5.0",
            "_model_name": "DescriptionStyleModel",
            "_view_count": null,
            "_view_module": "@jupyter-widgets/base",
            "_view_module_version": "1.2.0",
            "_view_name": "StyleView",
            "description_width": ""
          }
        }
      }
    }
  },
  "cells": [
    {
      "cell_type": "markdown",
      "metadata": {
        "id": "view-in-github",
        "colab_type": "text"
      },
      "source": [
        "<a href=\"https://colab.research.google.com/github/Flychuban/Space-Soup/blob/main/TextSummarization.ipynb\" target=\"_parent\"><img src=\"https://colab.research.google.com/assets/colab-badge.svg\" alt=\"Open In Colab\"/></a>"
      ]
    },
    {
      "cell_type": "code",
      "execution_count": 1,
      "metadata": {
        "colab": {
          "base_uri": "https://localhost:8080/"
        },
        "id": "6UhB7Fr7HnAC",
        "outputId": "e9afefc1-4e1e-42dd-da3e-cbfb3675d7f8"
      },
      "outputs": [
        {
          "output_type": "stream",
          "name": "stdout",
          "text": [
            "Collecting transformers\n",
            "  Downloading transformers-4.33.2-py3-none-any.whl (7.6 MB)\n",
            "\u001b[2K     \u001b[90m━━━━━━━━━━━━━━━━━━━━━━━━━━━━━━━━━━━━━━━━\u001b[0m \u001b[32m7.6/7.6 MB\u001b[0m \u001b[31m49.7 MB/s\u001b[0m eta \u001b[36m0:00:00\u001b[0m\n",
            "\u001b[?25hRequirement already satisfied: filelock in /usr/local/lib/python3.10/dist-packages (from transformers) (3.12.2)\n",
            "Collecting huggingface-hub<1.0,>=0.15.1 (from transformers)\n",
            "  Downloading huggingface_hub-0.17.3-py3-none-any.whl (295 kB)\n",
            "\u001b[2K     \u001b[90m━━━━━━━━━━━━━━━━━━━━━━━━━━━━━━━━━━━━━━\u001b[0m \u001b[32m295.0/295.0 kB\u001b[0m \u001b[31m29.5 MB/s\u001b[0m eta \u001b[36m0:00:00\u001b[0m\n",
            "\u001b[?25hRequirement already satisfied: numpy>=1.17 in /usr/local/lib/python3.10/dist-packages (from transformers) (1.23.5)\n",
            "Requirement already satisfied: packaging>=20.0 in /usr/local/lib/python3.10/dist-packages (from transformers) (23.1)\n",
            "Requirement already satisfied: pyyaml>=5.1 in /usr/local/lib/python3.10/dist-packages (from transformers) (6.0.1)\n",
            "Requirement already satisfied: regex!=2019.12.17 in /usr/local/lib/python3.10/dist-packages (from transformers) (2023.6.3)\n",
            "Requirement already satisfied: requests in /usr/local/lib/python3.10/dist-packages (from transformers) (2.31.0)\n",
            "Collecting tokenizers!=0.11.3,<0.14,>=0.11.1 (from transformers)\n",
            "  Downloading tokenizers-0.13.3-cp310-cp310-manylinux_2_17_x86_64.manylinux2014_x86_64.whl (7.8 MB)\n",
            "\u001b[2K     \u001b[90m━━━━━━━━━━━━━━━━━━━━━━━━━━━━━━━━━━━━━━━━\u001b[0m \u001b[32m7.8/7.8 MB\u001b[0m \u001b[31m81.1 MB/s\u001b[0m eta \u001b[36m0:00:00\u001b[0m\n",
            "\u001b[?25hCollecting safetensors>=0.3.1 (from transformers)\n",
            "  Downloading safetensors-0.3.3-cp310-cp310-manylinux_2_17_x86_64.manylinux2014_x86_64.whl (1.3 MB)\n",
            "\u001b[2K     \u001b[90m━━━━━━━━━━━━━━━━━━━━━━━━━━━━━━━━━━━━━━━━\u001b[0m \u001b[32m1.3/1.3 MB\u001b[0m \u001b[31m73.2 MB/s\u001b[0m eta \u001b[36m0:00:00\u001b[0m\n",
            "\u001b[?25hRequirement already satisfied: tqdm>=4.27 in /usr/local/lib/python3.10/dist-packages (from transformers) (4.66.1)\n",
            "Requirement already satisfied: fsspec in /usr/local/lib/python3.10/dist-packages (from huggingface-hub<1.0,>=0.15.1->transformers) (2023.6.0)\n",
            "Requirement already satisfied: typing-extensions>=3.7.4.3 in /usr/local/lib/python3.10/dist-packages (from huggingface-hub<1.0,>=0.15.1->transformers) (4.5.0)\n",
            "Requirement already satisfied: charset-normalizer<4,>=2 in /usr/local/lib/python3.10/dist-packages (from requests->transformers) (3.2.0)\n",
            "Requirement already satisfied: idna<4,>=2.5 in /usr/local/lib/python3.10/dist-packages (from requests->transformers) (3.4)\n",
            "Requirement already satisfied: urllib3<3,>=1.21.1 in /usr/local/lib/python3.10/dist-packages (from requests->transformers) (2.0.4)\n",
            "Requirement already satisfied: certifi>=2017.4.17 in /usr/local/lib/python3.10/dist-packages (from requests->transformers) (2023.7.22)\n",
            "Installing collected packages: tokenizers, safetensors, huggingface-hub, transformers\n",
            "Successfully installed huggingface-hub-0.17.3 safetensors-0.3.3 tokenizers-0.13.3 transformers-4.33.2\n"
          ]
        }
      ],
      "source": [
        "!pip install transformers"
      ]
    },
    {
      "cell_type": "code",
      "source": [
        "import requests\n",
        "from transformers import pipeline\n",
        "from bs4 import BeautifulSoup\n",
        "import re"
      ],
      "metadata": {
        "id": "Rxlz4sKEHxa8"
      },
      "execution_count": 2,
      "outputs": []
    },
    {
      "cell_type": "code",
      "source": [
        "# Load summarization model from HuggingFace\n",
        "summarizer = pipeline(\"summarization\")"
      ],
      "metadata": {
        "colab": {
          "base_uri": "https://localhost:8080/",
          "height": 213,
          "referenced_widgets": [
            "788f6eb3beb949a4aaf4eef63c56ecb4",
            "0546fd5693f74a29a5ece1c6461121be",
            "c7299d35ac1744deab5dbfcde44bdd40",
            "4aa218b9ae234ec2b511a1a3a18bc469",
            "d76d870b3cb341388a2dbf2aeb35c61b",
            "93916a33615d49eb9af1aaf1f33bdb27",
            "393fee53e0b74e4898676f0bf18ca94f",
            "40d64e0939424f699b455092e37c2195",
            "56b0dd7436a944b2b675162711b2f0a0",
            "59e2a9ac8116454b86b9734afd1c6fbb",
            "072d1b419678418989088dd5eb12659c",
            "401c315bea3641d4acc8d0240b0f74ca",
            "94c14b4714014160b10455a3115bf862",
            "2d3c2db15c4744348b6fa9bcd051eb00",
            "c3c1764278fe4a3d82c08ebd63c9f53e",
            "cf03229007a24e0aad07ebeda8681dd7",
            "95fb50d2758349cd9cd05005e7b21d7c",
            "38203dad43cf4bee99109c76d0e5b38b",
            "951d8af9182e49afa7fc9659637b8f43",
            "0aa6a027b43441708df20193b5f927db",
            "55088aadcc7c451da515ac5aab95c1ca",
            "4816d93a466b4420aac0f4f8ff38148d",
            "3f6f0a2663ba437bbd6cbdeb7b754568",
            "c20de62392a2499796a0da22b46bbb9d",
            "48419f9543cb49d0b982edf70d8fa984",
            "723490d0f2664017b0d4af6c38b6a7c0",
            "bf26682176a640f493fc5a4f4cf26c53",
            "230b4315527a4ae2b2d0c93ac209e795",
            "291aa01f2bcd4a91be1ab7673f31b05f",
            "577aada2f93f4fac8bd149e5509f0492",
            "60867dcb01f540258585744fabc9dce8",
            "22f137f42b124a4b8064329cb960b521",
            "0e0c3942258444119afb418ec259bccc",
            "e4b72937a0e2462eb0348352940907ee",
            "1cde88689afa47b6bfbf743260c172ae",
            "1b50be8b27224b858543493cb4719bee",
            "c0d550a71b2e41f6a7fefd96cb791041",
            "7324869ca8ff41a4845a4da85440a73d",
            "bbddc800fee342528cb1b1a175c73eaf",
            "232d30183ede4a6a92ef2050577f9607",
            "0b46ff900af94496a8533e6425b2dd10",
            "92629d9060354bfcb27c9b7a674271e6",
            "f1f7f8c7fe2b499c8eaea97e59f8d52b",
            "c8d3901b30d94179bbdb380a5ebccd85",
            "a3cb2dce78da4b10871bc8919fb8d3af",
            "d32338019a7f4cbe941d03db7a32f0c0",
            "3cc7fba96d214ac4b3ed3a0cfc662c7e",
            "70ac6b6c6bfa4568bff091814b355948",
            "a92caa02cea144c2a7b845b417058a2d",
            "f2588bb3f15f4d13be824fff147249b4",
            "495057a4a45c4b70a80f59054e98cf86",
            "7403664be6bf412aa9564ea5b5277a08",
            "cdf35516993d440fb8e0c207cbeb64b1",
            "450de319510b43deb9642a13ebd3328c",
            "4d6b72c16a354c2db3529c05f7517233"
          ]
        },
        "id": "yQHQuGmjIC2A",
        "outputId": "5e9f4722-01e5-40d2-b7d0-4a4fac6e4c75"
      },
      "execution_count": 3,
      "outputs": [
        {
          "output_type": "stream",
          "name": "stderr",
          "text": [
            "No model was supplied, defaulted to sshleifer/distilbart-cnn-12-6 and revision a4f8f3e (https://huggingface.co/sshleifer/distilbart-cnn-12-6).\n",
            "Using a pipeline without specifying a model name and revision in production is not recommended.\n"
          ]
        },
        {
          "output_type": "display_data",
          "data": {
            "text/plain": [
              "Downloading (…)lve/main/config.json:   0%|          | 0.00/1.80k [00:00<?, ?B/s]"
            ],
            "application/vnd.jupyter.widget-view+json": {
              "version_major": 2,
              "version_minor": 0,
              "model_id": "788f6eb3beb949a4aaf4eef63c56ecb4"
            }
          },
          "metadata": {}
        },
        {
          "output_type": "display_data",
          "data": {
            "text/plain": [
              "Downloading pytorch_model.bin:   0%|          | 0.00/1.22G [00:00<?, ?B/s]"
            ],
            "application/vnd.jupyter.widget-view+json": {
              "version_major": 2,
              "version_minor": 0,
              "model_id": "401c315bea3641d4acc8d0240b0f74ca"
            }
          },
          "metadata": {}
        },
        {
          "output_type": "display_data",
          "data": {
            "text/plain": [
              "Downloading (…)okenizer_config.json:   0%|          | 0.00/26.0 [00:00<?, ?B/s]"
            ],
            "application/vnd.jupyter.widget-view+json": {
              "version_major": 2,
              "version_minor": 0,
              "model_id": "3f6f0a2663ba437bbd6cbdeb7b754568"
            }
          },
          "metadata": {}
        },
        {
          "output_type": "display_data",
          "data": {
            "text/plain": [
              "Downloading (…)olve/main/vocab.json:   0%|          | 0.00/899k [00:00<?, ?B/s]"
            ],
            "application/vnd.jupyter.widget-view+json": {
              "version_major": 2,
              "version_minor": 0,
              "model_id": "e4b72937a0e2462eb0348352940907ee"
            }
          },
          "metadata": {}
        },
        {
          "output_type": "display_data",
          "data": {
            "text/plain": [
              "Downloading (…)olve/main/merges.txt:   0%|          | 0.00/456k [00:00<?, ?B/s]"
            ],
            "application/vnd.jupyter.widget-view+json": {
              "version_major": 2,
              "version_minor": 0,
              "model_id": "a3cb2dce78da4b10871bc8919fb8d3af"
            }
          },
          "metadata": {}
        }
      ]
    },
    {
      "cell_type": "markdown",
      "source": [
        "Get text from web page"
      ],
      "metadata": {
        "id": "Z_KOgPH5IuyL"
      }
    },
    {
      "cell_type": "code",
      "source": [
        "def search_urls_space_news():\n",
        "  #URL = \"https://www.google.com/search?q=nasa+news&tbm=nws\"\n",
        "  URL = \"https://www.google.com/search?sca_esv=568425080&rlz=1C1CHZN_enBG975BG975&sxsrf=AM9HkKmWvQEyiFIWj11sb6Ld6OCoRQ9Kaw:1695711800085&q=space.com+latest+articles&tbm=nws&source=lnms&sa=X&ved=2ahUKEwi_y_Db2seBAxXkRvEDHZ0BDmIQ0pQJegQIDBAB&biw=1536&bih=747&dpr=1.25\"\n",
        "  r = requests.get(URL)\n",
        "  soup = BeautifulSoup(r.text, 'html.parser')\n",
        "  atags = soup.find_all(['a'])\n",
        "  hrefs = [link['href'] for link in atags]\n",
        "  return hrefs\n"
      ],
      "metadata": {
        "id": "h41uwggT4OK7"
      },
      "execution_count": 4,
      "outputs": []
    },
    {
      "cell_type": "code",
      "source": [
        "hrefs = search_urls_space_news()"
      ],
      "metadata": {
        "id": "y2MFVbQ4IuhT"
      },
      "execution_count": 5,
      "outputs": []
    },
    {
      "cell_type": "code",
      "source": [
        "exclude_list = ['maps', 'policies', 'preferences', 'accounts', 'support']"
      ],
      "metadata": {
        "id": "pNwMlDrpKAmM"
      },
      "execution_count": 6,
      "outputs": []
    },
    {
      "cell_type": "code",
      "source": [
        "def strip_unwanted_urls(urls, exclude_list):\n",
        "    val = []\n",
        "    for url in urls:\n",
        "        if 'https://' in url and not any(exclude_word in url for exclude_word in exclude_list):\n",
        "            res = re.findall(r'(https?://\\S+)', url)[0].split('&')[0]\n",
        "            val.append(res)\n",
        "    return list(set(val))"
      ],
      "metadata": {
        "id": "6-9Wn4jv-wH_"
      },
      "execution_count": 7,
      "outputs": []
    },
    {
      "cell_type": "code",
      "source": [
        "cleaned_urls = strip_unwanted_urls(hrefs, exclude_list)\n",
        "cleaned_urls"
      ],
      "metadata": {
        "colab": {
          "base_uri": "https://localhost:8080/"
        },
        "id": "vB7-BDxp-1jA",
        "outputId": "39ef226c-6a5c-479e-a462-26c6d255e993"
      },
      "execution_count": 8,
      "outputs": [
        {
          "output_type": "execute_result",
          "data": {
            "text/plain": [
              "['https://www.biospace.com/article/releases/galmed-announces-allowance-of-new-patent-for-aramchol-for-the-treatment-of-pulmonary-and-dermal-fibrosis/',\n",
              " 'https://www.space.com/autumnal-equinox-fall-begins-september-2023',\n",
              " 'https://www.space.com/nasa-may-have-unknowingly-found-and-killed-alien-life-on-mars-50-years-ago-scientist-claims',\n",
              " 'https://www.space.com/spacex-crew-6-astronauts-international-space-station-farewell',\n",
              " 'https://www.space.com/comet-nishimura-green-comet-expert-astronomer-explains',\n",
              " 'https://www.space.com/japan-slim-moon-lander-mission-launch-preview',\n",
              " 'https://www.space.com/nasa-new-horizons-budget-uncertainty',\n",
              " 'https://www.space.com/european-space-agency-freedom-of-information',\n",
              " 'https://www.google.com/search?sca_esv%3D568425080%26rlz%3D1C1CHZN_enBG975BG975%26sxsrf%3DAM9HkKmWvQEyiFIWj11sb6Ld6OCoRQ9Kaw:1695711800085%26q%3Dspace.com%2Blatest%2Barticles%26tbm%3Dnws%26source%3Dlnms%26sa%3DX%26ved%3D2ahUKEwi_y_Db2seBAxXkRvEDHZ0BDmIQ0pQJegQIDBAB%26biw%3D1536%26bih%3D747%26dpr%3D1.25%26pccc%3D1',\n",
              " 'https://www.space.com/spacex-starlink-launch-group-7-3',\n",
              " 'https://www.space.com/nasa-citizen-scientists-april-2024-total-solar-eclipse']"
            ]
          },
          "metadata": {},
          "execution_count": 8
        }
      ]
    },
    {
      "cell_type": "code",
      "source": [
        "def get_text_from_urls(urls):\n",
        "  articles = []\n",
        "  titles = []\n",
        "  for url in urls:\n",
        "    headers = {'User-Agent': 'Mozilla/5.0'}\n",
        "    cookies = {\"CONSENT\": \"YES+cb.20210720-07-p0.en+FX+410\"}\n",
        "    r = requests.get(url, headers=headers, cookies=cookies)\n",
        "    if r.status_code != 200:\n",
        "      continue\n",
        "\n",
        "    soup = BeautifulSoup(r.text, 'html.parser')\n",
        "    paragraphs = soup.find_all(['p'])\n",
        "    text = [paragraph.text for paragraph in paragraphs]\n",
        "    # words = ' '.join(text)\n",
        "    article = ' '.join(text)\n",
        "    article = article.rstrip()\n",
        "\n",
        "    # Minimal number of symbols in article, prevent returning cookies or terms error\n",
        "    if len(article) < 200:\n",
        "      continue\n",
        "\n",
        "    articles.append(article)\n",
        "    url_h1_tags = soup.find_all(['h1'])\n",
        "    url_titles = [title.text.strip() for title in url_h1_tags]\n",
        "    titles.append(url_titles)\n",
        "\n",
        "  return titles, articles"
      ],
      "metadata": {
        "id": "m5lSLQSQA2x_"
      },
      "execution_count": 9,
      "outputs": []
    },
    {
      "cell_type": "code",
      "source": [
        "titles, articles = get_text_from_urls(cleaned_urls)"
      ],
      "metadata": {
        "id": "-mw2wsaTDdYv"
      },
      "execution_count": 10,
      "outputs": []
    },
    {
      "cell_type": "code",
      "source": [
        "articles[0]"
      ],
      "metadata": {
        "colab": {
          "base_uri": "https://localhost:8080/",
          "height": 145
        },
        "id": "x9BByISMDnO3",
        "outputId": "f78db78c-4f32-4e36-8c66-ebf5b0059de0"
      },
      "execution_count": 11,
      "outputs": [
        {
          "output_type": "execute_result",
          "data": {
            "text/plain": [
              "'Skip to main content \\nPublished: Sep 26, 2023\\n\\n TEL AVIV, Israel, Sept. 26, 2023 /PRNewswire/ --\\xa0Galmed Pharmaceuticals Ltd. (Nasdaq: GLMD) (\"Galmed\" or the \"Company\"), a clinical-stage biopharmaceutical company for liver, metabolic and fibrotic diseases announced today the allowance of a Japanese patent related to treatment of pulmonary and dermal fibrosis. A similar patent was already granted in Mexico. The approval of the patent in the US and the rest of the world is pending. With this latest patent, Galmed is strengthening and extending the patent protection of its lead compound, Aramchol, until November 2037. \\xa0 \\xa0 Previously, Galmed reported results showing significant anti-fibrotic effects of Aramchol in a pre-clinical model of lung fibrosis. Treatment with Aramchol resulted in statistically significant fibrosis improvement in a validated bleomycin model of lung fibrosis (IPF), comparable to Pirfenidone which is the gold standard treatment. Findings were seen across all important indicators for the severity of fibrosis including hydroxyproline (a marker for collagen deposition in the fibrotic tissue) P< 0.05, Ashcroft score P < 0.005, % CPA (Percentage Collagen Proportionate Area of the lung) P < 0.001, and immunohistochemistry (type I collagen and a SMA) P < 0.005 for both staining. Allen Baharaff, CEO and President of Galmed Pharmaceuticals, commented: \"Fibrosis is a common complication of chronic inflammation and can affect all organs and tissues. To date, only limited anti-fibrotic drugs are approved or are in development, most of which have restricting side effects. These patents reinforce the value of Aramchol Meglumine as a potential treatment for a wide range of unaddressed fibrotic indications beyond our initial focus of the liver and bile duct.\" About Idiopathic pulmonary fibrosis (IPF) Idiopathic pulmonary fibrosis (IPF) is a severe, chronic, progressive, fibrotic interstitial disease of unknown etiology, which remains an unmet need despite approved treatments which are limited by side effects. Bleomycin, an anti-neoplastic agent that causes lung fibrosis in human patients, has been used extensively in rodent models to mimic IPF and serves as the standard agent for induction of experimental pulmonary fibrosis in animals. Bleomycin reproduces typical features of the human disease. About Galmed Pharmaceuticals Ltd. We are a clinical stage biopharmaceutical company focused on the development of Aramchol for liver and fibro-inflammatory diseases. We have focused almost exclusively on developing Aramchol for the treatment of NASH and are currently developing Aramchol for PSC and exploring the feasibility of developing Aramchol for other fibro-inflammatory indications outside of liver disease. We are also collaborating with the Hebrew University in the development of Amilo-5MER, a 5 amino acid synthetic peptide. Forward-Looking Statements: Forward-looking statements relate to anticipated or expected events, activities, trends or results as of the date they are made. Because forward-looking statements relate to matters that have not yet occurred, these statements are inherently subject to risks and uncertainties that could cause our actual results to differ materially from any future results expressed or implied by the forward-looking statements. Many factors could cause our actual activities or results to differ materially from the activities and results anticipated in forward-looking statements, including, but not limited to, our ability to identify, evaluate and complete any strategic alternative that yields value for our shareholders; the timing and cost of our any pre-clinical or clinical trial, for our product candidates; completion and receiving favorable results of any pre-clinical or clinical trial; regulatory action with respect to Aramchol or any other product candidate by the U.S. Food and Drug Administration, or the FDA, or the European Medicines Authority, or EMA, including but not limited to acceptance of an application for marketing authorization, review and approval of such application, and, if approved, the scope of the approved indication and labeling; the commercial launch and future sales of Aramchol and any future product candidates; our ability to comply with all applicable post-market regulatory requirements for Aramchol or any other product candidate in the countries in which we seek to market the product; our ability to achieve favorable pricing for Aramchol or any other product candidate; our expectations regarding the commercial market for non-alcoholic steato-hepatitis, or NASH, in patients or any other targeted indication; third-party payor reimbursement for Aramchol or any other product candidate; our estimates regarding anticipated capital requirements and our needs for additional financing; market adoption of Aramchol or any other product candidate by physicians and patients; the timing, cost or other aspects of the commercial launch of Aramchol or any other product candidate; our ability to obtain and maintain adequate protection of our intellectual property; the possibility that we may face third-party claims of intellectual property infringement; our ability to manufacture our product candidates in commercial quantities, at an adequate quality or at an acceptable cost; our ability to establish adequate sales, marketing and distribution channels; intense competition in our industry, with competitors having substantially greater financial, technological, research and development, regulatory and clinical, manufacturing, marketing and sales, distribution and personnel resources than we do; the development and approval of the use of Aramchol or any other product candidate for additional indications or in combination therapy; our ability to maintain the listing of our ordinary share on The Nasdaq Capital Market; and our expectations regarding licensing, acquisitions and strategic operations. We believe these forward-looking statements are reasonable; however, these statements are only current predictions and are subject to known and unknown risks, uncertainties and other factors that may cause our or our industry\\'s actual results, levels of activity, performance or achievements to be materially different from those anticipated by the forward-looking statements. We discuss many of these risks in our Annual Report on Form 20-F for the year ended December 31, 2022 filed with the SEC on March 29, 2023 in greater detail under the heading \"Risk Factors.\" Given these uncertainties, you should not rely upon forward-looking statements as predictions of future events. All forward-looking statements attributable to us or persons acting on our behalf speak only as of the date hereof and are expressly qualified in their entirety by the cautionary statements included in this report. We undertake no obligations to update or revise forward-looking statements to reflect events or circumstances that arise after the date made or to reflect the occurrence of unanticipated events. In evaluating forward-looking statements, you should consider these risks and uncertainties. Logo - https://mma.prnewswire.com/media/1713483/Galmed_Pharmaceuticals_Logo.jpg  View original content:https://www.prnewswire.com/news-releases/galmed-announces-allowance-of-new-patent-for-aramchol-for-the-treatment-of-pulmonary-and-dermal-fibrosis-301938861.html SOURCE Galmed Pharmaceuticals Ltd. Back to news Back to top © 1985 - 2023 BioSpace.com. All rights reserved. Powered by Madgex Job Board Software'"
            ],
            "application/vnd.google.colaboratory.intrinsic+json": {
              "type": "string"
            }
          },
          "metadata": {},
          "execution_count": 11
        }
      ]
    },
    {
      "cell_type": "markdown",
      "source": [
        "Split text from the article into chunks"
      ],
      "metadata": {
        "id": "hRBcXsatO6uv"
      }
    },
    {
      "cell_type": "code",
      "source": [
        "sentences = []\n",
        "for i, article in enumerate(articles):\n",
        "  article = article.replace('.', '.<eos>')\n",
        "  article = article.replace('!', '!<eos>')\n",
        "  article = article.replace('?', '?<eos>')\n",
        "  sentences.append(article.split('<eos>'))\n",
        "sentences[-1]"
      ],
      "metadata": {
        "colab": {
          "base_uri": "https://localhost:8080/"
        },
        "id": "slU8XuUEOFRC",
        "outputId": "839f0b00-1085-4189-f1e1-ffd27ccb81a1"
      },
      "execution_count": 12,
      "outputs": [
        {
          "output_type": "execute_result",
          "data": {
            "text/plain": [
              "['When you purchase through links on our site, we may earn an affiliate commission.',\n",
              " ' Here’s how it works.',\n",
              " \" If you're in the path of totality, you can contribute to research about the sun.\",\n",
              " ' Observers who plan to watch the total solar eclipse in April next year can use a new NASA-funded app to record valuable data about the sun, the space agency announced last week.',\n",
              " ' Using the free app, SunSketcher 2024, citizen scientists can help advance heliophysics research by clicking as many images of the sun just before and after the solar eclipse.',\n",
              " \" Those images will help in recording images of a bright, broken ring of sunlight known as Baily's Beads, which shine through mountains and valleys on the edge of the moon just before and after eclipses.\",\n",
              " ' \"There are so many ways to participate in NASA science, especially as we enter the Heliophysics Big Year,\" space physicist Elizabeth MacDonald, the heliophysics citizen science lead at NASA, said in a statement.',\n",
              " ' \"We\\'re so excited to watch these and our many other projects come to life.',\n",
              " '\" Related: Total solar eclipse 2024: Everything you need to know SunSketcher 2024 is being developed by a team of students and professors at Western Kentucky University (WKU), and is the newest of five projects to receive funding from NASA this year to collect science data from the next total solar eclipse.',\n",
              " ' \"Our goal is to get a bunch of people — millions of people, hopefully — in the path of the eclipse, to use our app and get a few pictures of the sun as the eclipse happens and as the eclipse ends,\" Starr May, a computer science major at WKU working on SunSketcher 2024, said in a different statement.',\n",
              " ' The SunSketcher 2024 app is an improvised version of an app used for a similar purpose during a total solar eclipse in August 2017, scientists say.',\n",
              " \" The new app will use GPS coordinates of smartphones to track precisely when the Baily’s Beads phenomenon will begin and end locally across the path of totality, which is where the moon's shadow will fall on Earth during the eclipse.\",\n",
              " '\\xa0 This reference article by NASA outlines the time totality begins in 12 U.',\n",
              " 'S.',\n",
              " ' states that are in the path of totality for the April 2024 eclipse: Oklahoma, Arkansas, Missouri, Illinois, Kentucky, Indiana, Ohio, Pennsylvania, New York, Vermont, New Hampshire, and Maine.',\n",
              " ' Pictures from all observations will ultimately be combined into an hour-long \"megamovie\" to better understand the sun\\'s shape by using the moon as a reference.',\n",
              " ' Specifically, the observations will reveal how much the sun deviates from being a perfect sphere, scientists say.',\n",
              " ' \"This information will lead to an improved understanding of the flows in the solar interior, and is also key to testing gravitational theories,\" NASA representatives wrote in last week\\'s statement.',\n",
              " ' — When is the next solar eclipse?',\n",
              " \" — NASA will study the Great North American Solar Eclipse of 2024 with these 5 experiments — This epic NASA map shows where to see US solar eclipses in 2023 and 2024 (photos) Other citizen science projects being funded by the space agency include an experiment to study the structure of the solar wind and the corona, which is the outermost part of the sun's atmosphere and has long puzzled scientists by being at least a thousand times hotter than the surface of the sun.\",\n",
              " ' NASA has also planned a second megamovie to record the thin layer underneath the corona known as the chromosphere.',\n",
              " ' The megamovie will be the end result of an image processing competition for volunteer photographers and data analysts, with a goal to unveil jets of plasma in images captured during the 2024 eclipse.',\n",
              " ' The sun is steadily growing more active as it nears its predicted peak in activity in 2025, so the eclipse in April next year will likely capture more activity on the sun compared to the 2017 total solar eclipse.',\n",
              " ' Join our Space Forums to keep talking space on the latest missions, night sky and more!',\n",
              " ' And if you have a news tip, correction or comment, let us know at: community@space.',\n",
              " 'com.',\n",
              " ' Breaking space news, the latest updates on rocket launches, skywatching events and more!',\n",
              " ' Sharmila is a Seattle-based science journalist.',\n",
              " \" She found her love for astronomy in Carl Sagan's The Pale Blue Dot and has been hooked ever since.\",\n",
              " ' She holds an MA in Journalism from Northeastern University and has been a contributing writer for Astronomy Magazine since 2017.',\n",
              " ' Follow her on Twitter at @skuthunur.',\n",
              " \" Sky Map stargazing app review Watch NASA's OSIRIS-REx asteroid probe approach Earth in this free telescope video NASA's OSIRIS-REx capsule just landed with samples of asteroid Bennu.\",\n",
              " ' Next stop: Texas By Tereza PultarovaSeptember 23, 2023 By Mike WallSeptember 23, 2023 By Charles Q.',\n",
              " ' ChoiSeptember 23, 2023 By Sharmila KuthunurSeptember 23, 2023 By Samantha MathewsonSeptember 22, 2023 By Brett TingleySeptember 22, 2023 By Tereza PultarovaSeptember 22, 2023 By Harry BakerSeptember 22, 2023 By Harry BakerSeptember 22, 2023 By Harry BakerSeptember 22, 2023 By Elizabeth HowellSeptember 22, 2023 Space is part of Future US Inc, an international media group and leading digital publisher.',\n",
              " ' Visit our corporate site.',\n",
              " ' ©\\nFuture US, Inc.',\n",
              " ' Full 7th Floor, 130 West 42nd Street,\\nNew York,\\nNY 10036.',\n",
              " '']"
            ]
          },
          "metadata": {},
          "execution_count": 12
        }
      ]
    },
    {
      "cell_type": "code",
      "source": [
        "max_tokens_chunk = 500\n",
        "chunks = []\n",
        "\n",
        "for i, article_sentences in enumerate(sentences):\n",
        "  chunks.append([])\n",
        "  current_chunk = 0\n",
        "  for sentence in article_sentences:\n",
        "    if len(chunks[i]) == current_chunk + 1:\n",
        "      if len(chunks[i][current_chunk]) + len(sentence.split(' ')) <= max_tokens_chunk:\n",
        "        chunks[i][current_chunk].extend(sentence.split(' '))\n",
        "      else:\n",
        "        current_chunk += 1\n",
        "        chunks[i].append(sentence.split(' '))\n",
        "    else:\n",
        "      print(current_chunk)\n",
        "      chunks[i].append(sentence.split(' '))"
      ],
      "metadata": {
        "colab": {
          "base_uri": "https://localhost:8080/"
        },
        "id": "tbFferXePJXr",
        "outputId": "a26fe711-33c2-49e1-8a5a-80853051cab5"
      },
      "execution_count": 13,
      "outputs": [
        {
          "output_type": "stream",
          "name": "stdout",
          "text": [
            "0\n",
            "0\n",
            "0\n",
            "0\n",
            "0\n",
            "0\n",
            "0\n",
            "0\n",
            "0\n",
            "0\n"
          ]
        }
      ]
    },
    {
      "cell_type": "code",
      "source": [
        "joined_chunks = []\n",
        "\n",
        "for i, article_chunks in enumerate(chunks):\n",
        "    article_text = []\n",
        "\n",
        "    for chunk_id in range(len(article_chunks)):\n",
        "        article_text.append(' '.join(article_chunks[chunk_id]))\n",
        "\n",
        "    joined_chunks.append(article_text)"
      ],
      "metadata": {
        "id": "4MhGAWlYT54d"
      },
      "execution_count": 14,
      "outputs": []
    },
    {
      "cell_type": "code",
      "source": [
        "joined_chunks[0][1]"
      ],
      "metadata": {
        "colab": {
          "base_uri": "https://localhost:8080/",
          "height": 145
        },
        "id": "7ksaft-IU0dn",
        "outputId": "6503cbc7-1797-426c-f9a1-020502fa6041"
      },
      "execution_count": 15,
      "outputs": [
        {
          "output_type": "execute_result",
          "data": {
            "text/plain": [
              "\" Because forward-looking statements relate to matters that have not yet occurred, these statements are inherently subject to risks and uncertainties that could cause our actual results to differ materially from any future results expressed or implied by the forward-looking statements.  Many factors could cause our actual activities or results to differ materially from the activities and results anticipated in forward-looking statements, including, but not limited to, our ability to identify, evaluate and complete any strategic alternative that yields value for our shareholders; the timing and cost of our any pre-clinical or clinical trial, for our product candidates; completion and receiving favorable results of any pre-clinical or clinical trial; regulatory action with respect to Aramchol or any other product candidate by the U. S.  Food and Drug Administration, or the FDA, or the European Medicines Authority, or EMA, including but not limited to acceptance of an application for marketing authorization, review and approval of such application, and, if approved, the scope of the approved indication and labeling; the commercial launch and future sales of Aramchol and any future product candidates; our ability to comply with all applicable post-market regulatory requirements for Aramchol or any other product candidate in the countries in which we seek to market the product; our ability to achieve favorable pricing for Aramchol or any other product candidate; our expectations regarding the commercial market for non-alcoholic steato-hepatitis, or NASH, in patients or any other targeted indication; third-party payor reimbursement for Aramchol or any other product candidate; our estimates regarding anticipated capital requirements and our needs for additional financing; market adoption of Aramchol or any other product candidate by physicians and patients; the timing, cost or other aspects of the commercial launch of Aramchol or any other product candidate; our ability to obtain and maintain adequate protection of our intellectual property; the possibility that we may face third-party claims of intellectual property infringement; our ability to manufacture our product candidates in commercial quantities, at an adequate quality or at an acceptable cost; our ability to establish adequate sales, marketing and distribution channels; intense competition in our industry, with competitors having substantially greater financial, technological, research and development, regulatory and clinical, manufacturing, marketing and sales, distribution and personnel resources than we do; the development and approval of the use of Aramchol or any other product candidate for additional indications or in combination therapy; our ability to maintain the listing of our ordinary share on The Nasdaq Capital Market; and our expectations regarding licensing, acquisitions and strategic operations.  We believe these forward-looking statements are reasonable; however, these statements are only current predictions and are subject to known and unknown risks, uncertainties and other factors that may cause our or our industry's actual results, levels of activity, performance or achievements to be materially different from those anticipated by the forward-looking statements.\""
            ],
            "application/vnd.google.colaboratory.intrinsic+json": {
              "type": "string"
            }
          },
          "metadata": {},
          "execution_count": 15
        }
      ]
    },
    {
      "cell_type": "markdown",
      "source": [
        "Summarize all chunks"
      ],
      "metadata": {
        "id": "fh8o1xD9ke6p"
      }
    },
    {
      "cell_type": "code",
      "source": [
        "def summarize_chunks(chunks):\n",
        "  summarized_texts = []\n",
        "  for article_chunks in chunks:\n",
        "    print(len(article_chunks))\n",
        "    article_text = []\n",
        "    result = summarizer(article_chunks, max_length=120, min_length=30, do_sample=False)\n",
        "    article_text = ' '.join([summ['summary_text'] for summ in result])\n",
        "    summarized_texts.append(article_text)\n",
        "  return summarized_texts"
      ],
      "metadata": {
        "id": "EV02OsMTmPfb"
      },
      "execution_count": 16,
      "outputs": []
    },
    {
      "cell_type": "code",
      "source": [
        "summarized_texts = summarize_chunks(joined_chunks)"
      ],
      "metadata": {
        "colab": {
          "base_uri": "https://localhost:8080/"
        },
        "id": "zTsWXi5opIvm",
        "outputId": "d931dd1a-2fd3-44dd-90b2-21db86ae7300"
      },
      "execution_count": 17,
      "outputs": [
        {
          "output_type": "stream",
          "name": "stdout",
          "text": [
            "3\n",
            "3\n",
            "3\n",
            "2\n",
            "3\n",
            "3\n",
            "3\n",
            "4\n",
            "2\n",
            "2\n"
          ]
        }
      ]
    },
    {
      "cell_type": "code",
      "source": [
        "summarized_texts[4]"
      ],
      "metadata": {
        "colab": {
          "base_uri": "https://localhost:8080/",
          "height": 127
        },
        "id": "4PuFpGPz4pkS",
        "outputId": "0a576844-f319-4b5a-8842-712eafe10fbd"
      },
      "execution_count": 18,
      "outputs": [
        {
          "output_type": "execute_result",
          "data": {
            "text/plain": [
              "\" Japanese astronomer Hideo Nishimura discovered the comet on Aug. 12 . Nishimura's path will keep it close to the sun in the sky as observed from Earth . While it’s definitely bright enough to be visible to the naked eye in dark skies, at best it will hug the horizon just after sunset .  Comet Nishimura is expected to be very active around perihelion (its closest point to the sun) The best chance to see it from Australia comes in the week of Sept. 20 to 27, when the comet's head will set around one hour after the sun . Nishimura will be farthest from the sun in the evening sky on Sept. 23 .  C/2023 A3 (Tsuchinshan-ATLAS) was discovered at the start of this year . Over the next 12 months it will continue to fall sunward, coming closest to the sun in late September 2024 . If it behaves as expected it could be a spectacular sight – but just remember: comets are like cats!\""
            ],
            "application/vnd.google.colaboratory.intrinsic+json": {
              "type": "string"
            }
          },
          "metadata": {},
          "execution_count": 18
        }
      ]
    },
    {
      "cell_type": "code",
      "source": [
        "all_summarized_text = \"\"\n",
        "for summarized_text in summarized_texts:\n",
        "  all_summarized_text += summarized_text"
      ],
      "metadata": {
        "id": "lu3bra8U4sLj"
      },
      "execution_count": 19,
      "outputs": []
    },
    {
      "cell_type": "code",
      "source": [
        "all_summarized_text"
      ],
      "metadata": {
        "colab": {
          "base_uri": "https://localhost:8080/",
          "height": 1000
        },
        "id": "i24pAUPAynwW",
        "outputId": "24e3700b-3436-40b5-a7a6-28a796aea598"
      },
      "execution_count": 20,
      "outputs": [
        {
          "output_type": "execute_result",
          "data": {
            "text/plain": [
              "' The approval of the patent in the US and the rest of the world is pending . Previously, Galmed reported results showing significant anti-fibrotic effects of Aramchol in a pre-clinical model of lung fibrosis .  Many factors could cause our actual activities or results to differ from the activities and results anticipated in forward-looking statements . The timing and cost of our any pre-clinical or clinical trial, for our product candidates, among other factors, could include the timing, cost or other aspects of the commercial launch of Aramchol or any other product candidate .  You should not rely upon forward-looking statements as predictions of future events . We discuss many of these risks in our Annual Report on Form 20-F for the year ended December 31, 2022 filed with the SEC on March 29, 2023 . Autumn officially begins at 2:50 a.m. EDT on Saturday (Sept. 23) The sun is currently migrating south, having spent the previous six months shining directly on the northern half of our planet . At the official start time of autumn, the sun would appear directly overhead from a ship in the Laccadive Sea, positioned on the equator, near Addu City in the Maldives .  At the North Pole, the sun currently is tracing out a 360-degree circle around the entire sky . At the moment of this year\\'s autumnal equinox, it should theoretically disappear completely from view . But twilight illuminates the sky to some extent whenever the sun\\'s upper rim is less than 18 degrees below the horizon .  At the North Pole, the duration of 24-hour darkness lasts almost 11 weeks, not six months . Joe Rao is an 8-time Emmy-nominated meteorologist who served the Putnam Valley region of New York for over 21 years . Watch NASA\\'s OSIRIS-REx asteroid probe approach Earth in free telescope video . A German astrobiologist says NASA\\'s Viking landers may have inadvertently killed life-forms on Mars . Dirk Schulze-Makuch says the experiments may have \"overwhelmed\" these potential microbes . Other experts are split on whether the new claims are a far-fetched fantasy or an intriguing possible explanation .  In 2007, NASA\\'s Phoenix lander found traces of perchlorate, a chemical that\\'s used in fireworks, road flares and explosives, on Mars . In 2018, another group of researchers proposed that when soil samples were heated up, an unexpected chemical reaction could have burned and killed any microbes living in the samples .  A group claims that this could also explain some of the puzzling results from the Viking landers . However, as McKay suggested, scientists who continue to chip away at the landers\\' results are wasting their efforts . Crew-6 is scheduled to splash down early Sunday (Sept. 3), but that may shift due to effects of Hurricane Idalia . The crew has spent more than six months aboard the International Space Station . \"Hopefully we\\'re leaving the space station just a little bit better than we found it,\" NASA astronaut Stephen Bowen said . NASA officials said in a blog post that they are monitoring the possible impacts of hurricane Idelia on these activities .  Elizabeth Howell (she/her), Ph. D. , is a staff writer in the spaceflight channel since 2022 covering diversity, education and gaming . She was contributing writer for Space. com for 10 years before joining full-time . Her latest book, \"Why Am I Taller?\", is co-written with astronaut Dave Williams . Japanese astronomer Hideo Nishimura discovered the comet on Aug. 12 . Nishimura\\'s path will keep it close to the sun in the sky as observed from Earth . While it’s definitely bright enough to be visible to the naked eye in dark skies, at best it will hug the horizon just after sunset .  Comet Nishimura is expected to be very active around perihelion (its closest point to the sun) The best chance to see it from Australia comes in the week of Sept. 20 to 27, when the comet\\'s head will set around one hour after the sun . Nishimura will be farthest from the sun in the evening sky on Sept. 23 .  C/2023 A3 (Tsuchinshan-ATLAS) was discovered at the start of this year . Over the next 12 months it will continue to fall sunward, coming closest to the sun in late September 2024 . If it behaves as expected it could be a spectacular sight – but just remember: comets are like cats! Japan will launch its Smart Lander for Investigating Moon (SLIM) mission on Wednesday at 7:42 p.m. EDT (2342 GMT; 8:42 a. m. ET) The mission plan calls for a landing no more than 328 feet (100 m) from a target inside the moon\\'s Shioli Crater . The launch has been delayed multiple times by bad weather, most recently on Aug. 28 .  A Japanese astronaut will go to NASA\\'s planned Gateway moon-orbiting space station . Joe Biden and Fumio Kishida have a \"shared ambition\" to put a Japanese astronaut on the moon . The first expected landing in the NASA program is Artemis 3, no earlier than 2025 or 2026 .  OSIRIS-REx asteroid mission just had the greatest day ever . Next stop: Texas . \\'I literally broke into tears\\': the scientist leading NASA\\'s epic asteroid mission . NASA\\'s New Horizons spacecraft has hurtled at unprecedented speed through the solar system for 17 years . It flew past Pluto in July 2015, returned the first close-up images of the planet and its moon . In 2019, the probe reconnoitered the Kuiper Belt Object (KBO) Arrokoth . The principal investigator of the mission is not happy about the situation .  New Horizons\\' next adventure was in the Kuiper Belt, the region beyond Neptune\\'s orbit . Stern\\'s team targeted the KBO 486958 Arrokoth, which turned out to be another golden opportunity . New Horizons should be able to continue until at least the middle of the 21st century, Stern said .  NASA\\'s New Horizons probe has a nearly $1 billion spacecraft and modern suite of instruments at stake . Groups like the National Space Society and others have placed a petition, to be forwarded to NASA and Congress, on Change.org . Prominent voices supporting the continuation of the mission as currently implemented include famed rock musician and astrophysicist Sir Brian May . The European Space Agency (ESA) is not obliged to comply with any Freedom of Information law . The organization, founded in 1975, is governed by its Convention, a 130-page document that outlines its governing structure and privileges its staff members and representatives enjoy . ESA is not subject to the legal framework of any country that may have a stake in ESA .  The European Space Agency has declined to share information about testing of Europe\\'s new Ariane 6 rocket . Ars Technica\\'s Senior Space Editor Eric Berger sparked a discussion on X, formerly known as Twitter . Unlike NASA or the EU, ESA has no FOIA mechanism in place . NASA may refuse to disclose documents that it considers protected, the agency says .  Most U.N.-funded bodies and intergovernmental agencies don\\'t have an independently enforceable Freedom of Information framework in place . Access to information held by public bodies is enshrined in Article 19 of the Universal Declaration of Human Rights . But ESA\\'s response suggests that the European equivalent of NASA is nowhere near ready to take such a step .  The ESA Convention contains additional obstacles that make it nearly impossible for journalists to obtain ESA documents that have not been officially sanctioned for public release . There is clearly no requesting access to emails and text messages of ESA bigwigs anytime soon . In its response to Space. com\\'s request, ESA\\'s spokesperson said the convention contains \"provisions [for] waivers of immunity and a cooperation precept\" A SpaceX Falcon 9 rocket launched from California early Monday morning (Sept. 25) carrying 21 Starlink satellites to orbit . The launch was streamed live via SpaceX\\'s account on X (formerly Twitter) The Falcon 9\\'s first stage returned to Earth safely, landing on a SpaceX drone ship at sea about 8. 5 minutes after launch .  Space is part of Future US Inc, an international media group and leading digital publisher . Learn the true stories of NASA\\'s 1st women astronauts in new book \\'The Six\\' SpaceX flight-proven rocket hardware to go on display at Smithsonian . SunSketcher 2024 is a new NASA-funded app to record valuable data about the sun . Citizen scientists can help advance heliophysics research by clicking as many images of the sun just before and after the solar eclipse . The app will use GPS coordinates of smartphones to track precisely when the Baily\\'s Beads phenomenon will begin and end locally across the path of totality .  Other citizen science projects being funded by the space agency include an experiment to study the structure of the solar wind and the corona . A second megamovie will be the end result of an image processing competition for volunteer photographers and data analysts . The sun is steadily growing more active as it nears its predicted peak in activity in 2025 .'"
            ],
            "application/vnd.google.colaboratory.intrinsic+json": {
              "type": "string"
            }
          },
          "metadata": {},
          "execution_count": 20
        }
      ]
    },
    {
      "cell_type": "code",
      "source": [],
      "metadata": {
        "id": "1BpRhOvrypXU"
      },
      "execution_count": null,
      "outputs": []
    }
  ]
}